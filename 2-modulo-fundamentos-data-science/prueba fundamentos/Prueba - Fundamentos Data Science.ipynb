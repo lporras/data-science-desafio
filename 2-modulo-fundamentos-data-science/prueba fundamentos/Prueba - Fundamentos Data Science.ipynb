{
 "cells": [
  {
   "cell_type": "markdown",
   "metadata": {},
   "source": [
    "<img style=\"margin: 0 auto;\" src=\"https://desafiolatam.com/assets/home/logo-academia-bla-790873cdf66b0e681dfbe640ace8a602f5330bec301c409744c358330e823ae3.png\">"
   ]
  },
  {
   "cell_type": "code",
   "execution_count": 39,
   "metadata": {},
   "outputs": [],
   "source": [
    "#Importar librerias\n",
    "\n",
    "import pandas as pd\n",
    "import numpy as np\n",
    "import seaborn as sns\n",
    "import scipy.stats as stats\n",
    "import missingno\n",
    "\n",
    "#Ignorar Avisos\n",
    "import warnings\n",
    "warnings.filterwarnings(\"ignore\")"
   ]
  },
  {
   "cell_type": "markdown",
   "metadata": {},
   "source": [
    "### Objetivo\n",
    "* Implementar los contenidos aprendidos a lo largo de las 8 unidades para resolver dos problemas de carácter obligatorio.\n",
    "* Se deben desarrollar dos desafíos aplicando lo aprendido en el módulo Fundamentos de DataScience.\n",
    "* Ambos desafíos presentarán un enunciado a solucionar, así como una descripción de los datosdisponibles a utilizar.\n",
    "* Cada una de las respuestas deben considerar los requerimientos mínimos y buenas prácticasdetalladas a continuación.\n",
    "\n",
    "### Consideraciones Generales\n",
    "La prueba debe desarrollarse en consideración a los siguientes puntos:\n",
    "* Una sección llamada Preliminares donde se realiza la descripción del problema y objetivos, asícomo explicar cómo implementarán su solución (debe considerar qué criterios de optimización ymétricas de desempeño).\n",
    "* Una sección llamada Aspectos computacionales donde se describirán las librerías y módulos a implementar, así como las funciones generadas y su objetivo.\n",
    "* Una sección llamada Descripción donde se generará un análisis descriptivo considerando el tipo de variables (desde el punto de vista estadístico así como computacional). Esta sección debe considerar medidas univariadas/ frecuencias, datos perdidos y gráficos distributivos sobre las variables a analizar. A partir de ésta se debe clarificar la estrategia de preprocesamiento (datos perdidos, recodificaciones).\n",
    "* Una sección llamada Modelación descriptiva, que buscará definir cuáles son los principales determinantes del objeto de estudio. En base a esta sección se podrá construír o depurar el modelo predictivo.\n",
    "* Una sección llamada Modelación predictiva, donde se implementará una solución analítica que aumente las métricas de desempeño. Se solicitan por lo menos 3 modelos predictivos, donde deberán reportar las principales métricas. Cada modelo predictivo debe tener una reseña sobre el por qué se diseño de esa forma.\n",
    "\n",
    "### Hito 1: Sesión Presencial 1, Unidad 7\n",
    "Completar el punto de Preliminares, así como Aspectos computacionales.\n",
    "* Elementos a considerar en éste hito:\n",
    "    * Los dos enunciados deben estar clarificados, considerando el tipo de problema a resolver (regresión o clasificación). Para cada uno de los enunciados y su problema identificado, se debe justificar el uso de métricas para medir el desempeño del problema. (3 puntos)\n",
    "    * Se debe considerar el uso de las librerías asociadas para la ingesta, preprocesamiento, visualización y modelación, así como métricas de evaluación. (1 punto)\n",
    "    * Se debe detallar y considerar el proceso de preprocesamiento y recodificación de datos. (1punto)\n",
    "* Entregable: Dos notebooks (uno por enunciado) con todos los puntos detallados."
   ]
  },
  {
   "cell_type": "markdown",
   "metadata": {},
   "source": [
    "### Desafío 1: Determinantes del ingreso\n",
    "#### Enunciado\n",
    "Usted trabaja para un  organismo no  gubernamental que está interesado en  las  dinámicas socioeconómicas que determinan la desigualdad de ingreso y la erradicación de la pobreza extrema,enmarcado dentro de los objetivos del desarrollo del nuevo milenio del Programa de las NacionesUnidas para el  Desarrollo. Le  encomiendan el  desarrollo de  un  modelo predictivo  sobre la probabilidad que un individuo presente salarios por sobre o bajo los 50.000 dólares anuales, en basea una serie de atributos sociodemográficos.\n",
    "#### Aspectos adicionales a considerar\n",
    "* La base de datos contiene los valores perdidos como '?'. Deberá transformarlos para poder trabajar de forma adecuada.\n"
   ]
  },
  {
   "cell_type": "code",
   "execution_count": 53,
   "metadata": {},
   "outputs": [
    {
     "data": {
      "text/html": [
       "<div>\n",
       "<style scoped>\n",
       "    .dataframe tbody tr th:only-of-type {\n",
       "        vertical-align: middle;\n",
       "    }\n",
       "\n",
       "    .dataframe tbody tr th {\n",
       "        vertical-align: top;\n",
       "    }\n",
       "\n",
       "    .dataframe thead th {\n",
       "        text-align: right;\n",
       "    }\n",
       "</style>\n",
       "<table border=\"1\" class=\"dataframe\">\n",
       "  <thead>\n",
       "    <tr style=\"text-align: right;\">\n",
       "      <th></th>\n",
       "      <th>age</th>\n",
       "      <th>workclass</th>\n",
       "      <th>fnlwgt</th>\n",
       "      <th>education</th>\n",
       "      <th>educational-num</th>\n",
       "      <th>marital-status</th>\n",
       "      <th>occupation</th>\n",
       "      <th>relationship</th>\n",
       "      <th>race</th>\n",
       "      <th>gender</th>\n",
       "      <th>capital-gain</th>\n",
       "      <th>capital-loss</th>\n",
       "      <th>hours-per-week</th>\n",
       "      <th>native-country</th>\n",
       "      <th>income</th>\n",
       "    </tr>\n",
       "  </thead>\n",
       "  <tbody>\n",
       "    <tr>\n",
       "      <th>0</th>\n",
       "      <td>25</td>\n",
       "      <td>Private</td>\n",
       "      <td>226802</td>\n",
       "      <td>11th</td>\n",
       "      <td>7</td>\n",
       "      <td>Never-married</td>\n",
       "      <td>Machine-op-inspct</td>\n",
       "      <td>Own-child</td>\n",
       "      <td>Black</td>\n",
       "      <td>Male</td>\n",
       "      <td>0</td>\n",
       "      <td>0</td>\n",
       "      <td>40</td>\n",
       "      <td>United-States</td>\n",
       "      <td>&lt;=50K</td>\n",
       "    </tr>\n",
       "    <tr>\n",
       "      <th>1</th>\n",
       "      <td>38</td>\n",
       "      <td>Private</td>\n",
       "      <td>89814</td>\n",
       "      <td>HS-grad</td>\n",
       "      <td>9</td>\n",
       "      <td>Married-civ-spouse</td>\n",
       "      <td>Farming-fishing</td>\n",
       "      <td>Husband</td>\n",
       "      <td>White</td>\n",
       "      <td>Male</td>\n",
       "      <td>0</td>\n",
       "      <td>0</td>\n",
       "      <td>50</td>\n",
       "      <td>United-States</td>\n",
       "      <td>&lt;=50K</td>\n",
       "    </tr>\n",
       "    <tr>\n",
       "      <th>2</th>\n",
       "      <td>28</td>\n",
       "      <td>Local-gov</td>\n",
       "      <td>336951</td>\n",
       "      <td>Assoc-acdm</td>\n",
       "      <td>12</td>\n",
       "      <td>Married-civ-spouse</td>\n",
       "      <td>Protective-serv</td>\n",
       "      <td>Husband</td>\n",
       "      <td>White</td>\n",
       "      <td>Male</td>\n",
       "      <td>0</td>\n",
       "      <td>0</td>\n",
       "      <td>40</td>\n",
       "      <td>United-States</td>\n",
       "      <td>&gt;50K</td>\n",
       "    </tr>\n",
       "    <tr>\n",
       "      <th>3</th>\n",
       "      <td>44</td>\n",
       "      <td>Private</td>\n",
       "      <td>160323</td>\n",
       "      <td>Some-college</td>\n",
       "      <td>10</td>\n",
       "      <td>Married-civ-spouse</td>\n",
       "      <td>Machine-op-inspct</td>\n",
       "      <td>Husband</td>\n",
       "      <td>Black</td>\n",
       "      <td>Male</td>\n",
       "      <td>7688</td>\n",
       "      <td>0</td>\n",
       "      <td>40</td>\n",
       "      <td>United-States</td>\n",
       "      <td>&gt;50K</td>\n",
       "    </tr>\n",
       "    <tr>\n",
       "      <th>4</th>\n",
       "      <td>18</td>\n",
       "      <td>?</td>\n",
       "      <td>103497</td>\n",
       "      <td>Some-college</td>\n",
       "      <td>10</td>\n",
       "      <td>Never-married</td>\n",
       "      <td>?</td>\n",
       "      <td>Own-child</td>\n",
       "      <td>White</td>\n",
       "      <td>Female</td>\n",
       "      <td>0</td>\n",
       "      <td>0</td>\n",
       "      <td>30</td>\n",
       "      <td>United-States</td>\n",
       "      <td>&lt;=50K</td>\n",
       "    </tr>\n",
       "  </tbody>\n",
       "</table>\n",
       "</div>"
      ],
      "text/plain": [
       "   age  workclass  fnlwgt     education  educational-num      marital-status  \\\n",
       "0   25    Private  226802          11th                7       Never-married   \n",
       "1   38    Private   89814       HS-grad                9  Married-civ-spouse   \n",
       "2   28  Local-gov  336951    Assoc-acdm               12  Married-civ-spouse   \n",
       "3   44    Private  160323  Some-college               10  Married-civ-spouse   \n",
       "4   18          ?  103497  Some-college               10       Never-married   \n",
       "\n",
       "          occupation relationship   race  gender  capital-gain  capital-loss  \\\n",
       "0  Machine-op-inspct    Own-child  Black    Male             0             0   \n",
       "1    Farming-fishing      Husband  White    Male             0             0   \n",
       "2    Protective-serv      Husband  White    Male             0             0   \n",
       "3  Machine-op-inspct      Husband  Black    Male          7688             0   \n",
       "4                  ?    Own-child  White  Female             0             0   \n",
       "\n",
       "   hours-per-week native-country income  \n",
       "0              40  United-States  <=50K  \n",
       "1              50  United-States  <=50K  \n",
       "2              40  United-States   >50K  \n",
       "3              40  United-States   >50K  \n",
       "4              30  United-States  <=50K  "
      ]
     },
     "execution_count": 53,
     "metadata": {},
     "output_type": "execute_result"
    }
   ],
   "source": [
    "df = pd.read_csv('income-db.csv')\n",
    "df.head()"
   ]
  },
  {
   "cell_type": "code",
   "execution_count": 124,
   "metadata": {},
   "outputs": [
    {
     "name": "stdout",
     "output_type": "stream",
     "text": [
      "(48842, 15)\n"
     ]
    }
   ],
   "source": [
    "print(df.shape)"
   ]
  },
  {
   "cell_type": "code",
   "execution_count": 125,
   "metadata": {},
   "outputs": [],
   "source": [
    "df_subset = df.replace('?', np.nan)"
   ]
  },
  {
   "cell_type": "code",
   "execution_count": 126,
   "metadata": {},
   "outputs": [
    {
     "name": "stdout",
     "output_type": "stream",
     "text": [
      "<class 'pandas.core.frame.DataFrame'>\n",
      "RangeIndex: 48842 entries, 0 to 48841\n",
      "Data columns (total 15 columns):\n",
      "age                48842 non-null int64\n",
      "workclass          46043 non-null object\n",
      "fnlwgt             48842 non-null int64\n",
      "education          48842 non-null object\n",
      "educational-num    48842 non-null int64\n",
      "marital-status     48842 non-null object\n",
      "occupation         46033 non-null object\n",
      "relationship       48842 non-null object\n",
      "race               48842 non-null object\n",
      "gender             48842 non-null object\n",
      "capital-gain       48842 non-null int64\n",
      "capital-loss       48842 non-null int64\n",
      "hours-per-week     48842 non-null int64\n",
      "native-country     47985 non-null object\n",
      "income             48842 non-null object\n",
      "dtypes: int64(6), object(9)\n",
      "memory usage: 5.6+ MB\n"
     ]
    }
   ],
   "source": [
    "df_subset.info()"
   ]
  },
  {
   "cell_type": "markdown",
   "metadata": {},
   "source": [
    "Segun lo reportado por el método Info del DataFrame, las columnas `workclass`, `occupation`, y `native-country`\n",
    "tienen valores N/A"
   ]
  },
  {
   "cell_type": "code",
   "execution_count": 127,
   "metadata": {},
   "outputs": [
    {
     "data": {
      "text/plain": [
       "<matplotlib.axes._subplots.AxesSubplot at 0x1a32aaa390>"
      ]
     },
     "execution_count": 127,
     "metadata": {},
     "output_type": "execute_result"
    },
    {
     "data": {
      "image/png": "[encoded data removed]",
      "text/plain": [
       "<Figure size 1800x720 with 2 Axes>"
      ]
     },
     "metadata": {
      "needs_background": "light"
     },
     "output_type": "display_data"
    }
   ],
   "source": [
    "missingno.matrix(df_subset)"
   ]
  },
  {
   "cell_type": "code",
   "execution_count": 128,
   "metadata": {},
   "outputs": [
    {
     "name": "stdout",
     "output_type": "stream",
     "text": [
      "El porcentaje de datos perdidos de la variable Workclass es: 5.73%\n"
     ]
    }
   ],
   "source": [
    "non_nan_workclass_rows = len(df_subset[df_subset['workclass'].isna()])\n",
    "total_rows = len(df_subset)\n",
    "print(f\"El porcentaje de datos perdidos de la variable Workclass es: {round(non_nan_workclass_rows/total_rows * 100, 2)}%\")"
   ]
  },
  {
   "cell_type": "code",
   "execution_count": 129,
   "metadata": {},
   "outputs": [
    {
     "name": "stdout",
     "output_type": "stream",
     "text": [
      "El porcentaje de datos perdidos de la variable Occupation es: 5.75%\n"
     ]
    }
   ],
   "source": [
    "non_nan_occupation_rows = len(df_subset[df_subset['occupation'].isna()])\n",
    "print(f\"El porcentaje de datos perdidos de la variable Occupation es: {round(non_nan_occupation_rows/total_rows * 100, 2)}%\")"
   ]
  },
  {
   "cell_type": "code",
   "execution_count": 130,
   "metadata": {},
   "outputs": [
    {
     "name": "stdout",
     "output_type": "stream",
     "text": [
      "El porcentaje de datos perdidos de la variable Native Country es: 1.75%\n"
     ]
    }
   ],
   "source": [
    "non_nan_native_country_rows = len(df_subset[df_subset['native-country'].isna()])\n",
    "print(f\"El porcentaje de datos perdidos de la variable Native Country es: {round(non_nan_native_country_rows/total_rows * 100, 2)}%\")"
   ]
  },
  {
   "cell_type": "code",
   "execution_count": 131,
   "metadata": {},
   "outputs": [
    {
     "name": "stdout",
     "output_type": "stream",
     "text": [
      "El porcentaje de datos perdidos si eliminamos todos los N/A es de: 92.59%\n"
     ]
    }
   ],
   "source": [
    "dropped_df = df_subset.dropna()\n",
    "print(f\"El porcentaje de datos perdidos si eliminamos todos los N/A es de: {round(len(dropped_df)/len(df_subset)*100, 2)}%\")"
   ]
  },
  {
   "cell_type": "markdown",
   "metadata": {},
   "source": [
    "#####  Como los datos perdidos representan un poco más del 7% de la muestra consideramos que eliminarlos seria un error, por lo que optamos por dejarlos como valores nulos para despues poder seguir usando la serie aunque esta tenga un valor nulo que puede ser dropeado"
   ]
  },
  {
   "cell_type": "markdown",
   "metadata": {},
   "source": [
    "* Desde la organización le sugieren que debe recodificar las siguientes variables acorde a las siguientes nomenclaturas:\n",
    "    * occupation debe recodificarse como collars siguiendo una nomenclatura similar a:\n",
    "        * white-collar $\\leftarrow$ Prof-specialty, Exec-managerial, Adm-clerical, Sales,Tech-support.\n",
    "        * blue-collar $\\leftarrow$ Craft-repair, Machine-op-inspct, Transport-moving,Handlers-cleaners, Farming-fishing, Protective-serv, Priv-house-serv.\n",
    "        * others $\\leftarrow$ Other-service, Armed-Forces.\n",
    "    * workclass debe recodificarse como workclass_recod siguiendo una nomenclatura similar a:\n",
    "        * federal-gov $\\leftarrow$ Federal-gov.\n",
    "        * state-level-gov $\\leftarrow$ State-gov, Local-gov.\n",
    "        * self-employed $\\leftarrow$ Self-emp-inc, Self-emp-not-inc\n",
    "        * unemployed $\\leftarrow$ Never-worked, Without-pay.\n",
    "    * education debe recodificarse como educ_recod siguiendo una nomenclatura similar a:\n",
    "        * preschool$\\leftarrow$ Preschool\n",
    "        * elementary-school$\\leftarrow$ 1st-4th, 5th-6th\n",
    "        * high-school$\\leftarrow$ 7th-8th, 9th, 10th,11th, 12th, HS-grad\n",
    "        * college$\\leftarrow$ Assoc-voc, Assoc-acdm, Some-college\n",
    "        * university$\\leftarrow$ Bachelors, Masters, Prof-school, Doctorate\n",
    "    * marital-status  debe recodificarse como civstatus  siguiendo una  nomenclaturasimilar a:\n",
    "        * married$\\leftarrow$ Married-civ-spouse, Married-spouse-absent, Married-AF-spouse\n",
    "        * divorced$\\leftarrow$ Divorced\n",
    "        * separated$\\leftarrow$ Separated\n",
    "        * widowed$\\leftarrow$ Widowed\n",
    "    * native-country debe recodificarse como region donde cada país debe asignarse a uno de los 5 continentes\n",
    "    * income debe recodificarse de forma binaria."
   ]
  },
  {
   "cell_type": "markdown",
   "metadata": {},
   "source": [
    "### Recodificacion de Occupation:"
   ]
  },
  {
   "cell_type": "code",
   "execution_count": 132,
   "metadata": {},
   "outputs": [
    {
     "data": {
      "text/plain": [
       "Prof-specialty       6172\n",
       "Craft-repair         6112\n",
       "Exec-managerial      6086\n",
       "Adm-clerical         5611\n",
       "Sales                5504\n",
       "Other-service        4923\n",
       "Machine-op-inspct    3022\n",
       "Transport-moving     2355\n",
       "Handlers-cleaners    2072\n",
       "Farming-fishing      1490\n",
       "Tech-support         1446\n",
       "Protective-serv       983\n",
       "Priv-house-serv       242\n",
       "Armed-Forces           15\n",
       "Name: occupation, dtype: int64"
      ]
     },
     "execution_count": 132,
     "metadata": {},
     "output_type": "execute_result"
    }
   ],
   "source": [
    "df_subset['occupation'].value_counts()"
   ]
  },
  {
   "cell_type": "code",
   "execution_count": 133,
   "metadata": {},
   "outputs": [],
   "source": [
    "df_subset['occupation'] = df_subset['occupation'].replace([\n",
    "    #white-collar\n",
    "    'Prof-specialty', 'Exec-managerial', 'Adm-clerical','Sales','Tech-support',\n",
    "    #blue-collar\n",
    "    'Craft-repair','Machine-op-inspct','Transport-moving','Handlers-cleaners', 'Farming-fishing','Protective-serv','Priv-house-serv',\n",
    "    #others\n",
    "    'Other-service', 'Armed-Forces'\n",
    "],\n",
    "[   #white-collar\n",
    "    'white-collar','white-collar','white-collar','white-collar', 'white-collar',\n",
    "    #blue-collar\n",
    "    'blue-collar', 'blue-collar', 'blue-collar','blue-collar', 'blue-collar', 'blue-collar', 'blue-collar',\n",
    "    #others\n",
    "    'others', 'others'\n",
    "])"
   ]
  },
  {
   "cell_type": "code",
   "execution_count": 134,
   "metadata": {},
   "outputs": [
    {
     "data": {
      "text/plain": [
       "white-collar    24819\n",
       "blue-collar     16276\n",
       "others           4938\n",
       "Name: occupation, dtype: int64"
      ]
     },
     "execution_count": 134,
     "metadata": {},
     "output_type": "execute_result"
    }
   ],
   "source": [
    "df_subset['occupation'].value_counts()"
   ]
  },
  {
   "cell_type": "markdown",
   "metadata": {},
   "source": [
    "### Recodificacion de Workclass:"
   ]
  },
  {
   "cell_type": "code",
   "execution_count": 135,
   "metadata": {},
   "outputs": [
    {
     "data": {
      "text/plain": [
       "Private             33906\n",
       "Self-emp-not-inc     3862\n",
       "Local-gov            3136\n",
       "State-gov            1981\n",
       "Self-emp-inc         1695\n",
       "Federal-gov          1432\n",
       "Without-pay            21\n",
       "Never-worked           10\n",
       "Name: workclass, dtype: int64"
      ]
     },
     "execution_count": 135,
     "metadata": {},
     "output_type": "execute_result"
    }
   ],
   "source": [
    "df_subset['workclass'].value_counts()"
   ]
  },
  {
   "cell_type": "code",
   "execution_count": 136,
   "metadata": {},
   "outputs": [],
   "source": [
    "df_subset['workclass'] = df_subset['workclass'].replace([\n",
    "    'Federal-gov',\n",
    "    'State-gov', 'Local-gov',\n",
    "    'Self-emp-inc', 'Self-emp-not-inc',\n",
    "    'Never-worked', 'Without-pay'\n",
    "],\n",
    "[\n",
    "    'federal-gov','state-level-gov', 'state-level-gov',\n",
    "    'self-employed', 'self-employed', 'unemployed', 'unemployed'\n",
    "])"
   ]
  },
  {
   "cell_type": "code",
   "execution_count": 137,
   "metadata": {},
   "outputs": [
    {
     "data": {
      "text/plain": [
       "Private            33906\n",
       "self-employed       5557\n",
       "state-level-gov     5117\n",
       "federal-gov         1432\n",
       "unemployed            31\n",
       "Name: workclass, dtype: int64"
      ]
     },
     "execution_count": 137,
     "metadata": {},
     "output_type": "execute_result"
    }
   ],
   "source": [
    "df_subset['workclass'].value_counts()"
   ]
  },
  {
   "cell_type": "markdown",
   "metadata": {},
   "source": [
    "### Recodificacion de Education:"
   ]
  },
  {
   "cell_type": "code",
   "execution_count": 138,
   "metadata": {},
   "outputs": [
    {
     "data": {
      "text/plain": [
       "HS-grad         15784\n",
       "Some-college    10878\n",
       "Bachelors        8025\n",
       "Masters          2657\n",
       "Assoc-voc        2061\n",
       "11th             1812\n",
       "Assoc-acdm       1601\n",
       "10th             1389\n",
       "7th-8th           955\n",
       "Prof-school       834\n",
       "9th               756\n",
       "12th              657\n",
       "Doctorate         594\n",
       "5th-6th           509\n",
       "1st-4th           247\n",
       "Preschool          83\n",
       "Name: education, dtype: int64"
      ]
     },
     "execution_count": 138,
     "metadata": {},
     "output_type": "execute_result"
    }
   ],
   "source": [
    "df_subset['education'].value_counts()"
   ]
  },
  {
   "cell_type": "code",
   "execution_count": 139,
   "metadata": {},
   "outputs": [],
   "source": [
    "df_subset['education'] = df_subset['education'].replace([\n",
    "    'Preschool',\n",
    "    '1st-4th', '5th-6th',\n",
    "    '7th-8th', '9th', '10th','11th', '12th', 'HS-grad',\n",
    "    'Assoc-voc', 'Assoc-acdm', 'Some-college',\n",
    "    'Bachelors', 'Masters', 'Prof-school', 'Doctorate'\n",
    "],\n",
    "[\n",
    "    'preschool', \n",
    "    'elementary-school', 'elementary-school',\n",
    "    'high-school', 'high-school', 'high-school','high-school', 'high-school', 'high-school',\n",
    "    'college', 'college', 'college',\n",
    "    'university', 'university', 'university', 'university'\n",
    "])"
   ]
  },
  {
   "cell_type": "code",
   "execution_count": 140,
   "metadata": {},
   "outputs": [
    {
     "data": {
      "text/plain": [
       "high-school          21353\n",
       "college              14540\n",
       "university           12110\n",
       "elementary-school      756\n",
       "preschool               83\n",
       "Name: education, dtype: int64"
      ]
     },
     "execution_count": 140,
     "metadata": {},
     "output_type": "execute_result"
    }
   ],
   "source": [
    "df_subset['education'].value_counts()"
   ]
  },
  {
   "cell_type": "markdown",
   "metadata": {},
   "source": [
    "### Recodificacion de Marital Status:"
   ]
  },
  {
   "cell_type": "code",
   "execution_count": 141,
   "metadata": {},
   "outputs": [
    {
     "data": {
      "text/plain": [
       "Married-civ-spouse       22379\n",
       "Never-married            16117\n",
       "Divorced                  6633\n",
       "Separated                 1530\n",
       "Widowed                   1518\n",
       "Married-spouse-absent      628\n",
       "Married-AF-spouse           37\n",
       "Name: marital-status, dtype: int64"
      ]
     },
     "execution_count": 141,
     "metadata": {},
     "output_type": "execute_result"
    }
   ],
   "source": [
    "df_subset['marital-status'].value_counts()"
   ]
  },
  {
   "cell_type": "code",
   "execution_count": 142,
   "metadata": {},
   "outputs": [],
   "source": [
    "df_subset['marital-status'] = df_subset['marital-status'].replace([\n",
    "    'Married-civ-spouse', 'Married-spouse-absent', 'Married-AF-spouse',\n",
    "    'Divorced',\n",
    "    'Separated',\n",
    "    'Widowed'\n",
    "],\n",
    "[\n",
    "    'married','married', 'married',\n",
    "    'divorced',\n",
    "    'separated',\n",
    "    'widowed'\n",
    "])"
   ]
  },
  {
   "cell_type": "code",
   "execution_count": 143,
   "metadata": {},
   "outputs": [
    {
     "data": {
      "text/plain": [
       "married          23044\n",
       "Never-married    16117\n",
       "divorced          6633\n",
       "separated         1530\n",
       "widowed           1518\n",
       "Name: marital-status, dtype: int64"
      ]
     },
     "execution_count": 143,
     "metadata": {},
     "output_type": "execute_result"
    }
   ],
   "source": [
    "df_subset['marital-status'].value_counts()"
   ]
  },
  {
   "cell_type": "markdown",
   "metadata": {},
   "source": [
    "### Recodificacion de Native Country:"
   ]
  },
  {
   "cell_type": "code",
   "execution_count": 144,
   "metadata": {},
   "outputs": [
    {
     "data": {
      "text/plain": [
       "United-States                 43832\n",
       "Mexico                          951\n",
       "Philippines                     295\n",
       "Germany                         206\n",
       "Puerto-Rico                     184\n",
       "Canada                          182\n",
       "El-Salvador                     155\n",
       "India                           151\n",
       "Cuba                            138\n",
       "England                         127\n",
       "China                           122\n",
       "South                           115\n",
       "Jamaica                         106\n",
       "Italy                           105\n",
       "Dominican-Republic              103\n",
       "Japan                            92\n",
       "Guatemala                        88\n",
       "Poland                           87\n",
       "Vietnam                          86\n",
       "Columbia                         85\n",
       "Haiti                            75\n",
       "Portugal                         67\n",
       "Taiwan                           65\n",
       "Iran                             59\n",
       "Greece                           49\n",
       "Nicaragua                        49\n",
       "Peru                             46\n",
       "Ecuador                          45\n",
       "France                           38\n",
       "Ireland                          37\n",
       "Thailand                         30\n",
       "Hong                             30\n",
       "Cambodia                         28\n",
       "Trinadad&Tobago                  27\n",
       "Outlying-US(Guam-USVI-etc)       23\n",
       "Laos                             23\n",
       "Yugoslavia                       23\n",
       "Scotland                         21\n",
       "Honduras                         20\n",
       "Hungary                          19\n",
       "Holand-Netherlands                1\n",
       "Name: native-country, dtype: int64"
      ]
     },
     "execution_count": 144,
     "metadata": {},
     "output_type": "execute_result"
    }
   ],
   "source": [
    "df_subset['native-country'].value_counts()"
   ]
  },
  {
   "cell_type": "code",
   "execution_count": 145,
   "metadata": {},
   "outputs": [],
   "source": [
    "df_subset['native-country'] = df_subset['native-country'].replace ([\n",
    "    'United-States', 'Peru', 'Guatemala', 'Mexico','Dominican-Republic',\n",
    "    'El-Salvador', 'Puerto-Rico', 'Columbia', 'Cuba', 'Canada',\n",
    "    'Nicaragua', 'Honduras','Jamaica','Ecuador', 'Haiti','Trinadad&Tobago',\n",
    "    'Outlying-US(Guam-USVI-etc)',\n",
    "    #europa\n",
    "    'Ireland', 'Germany','Poland', 'England', 'Italy', 'Portugal',\n",
    "    'Scotland', 'Yugoslavia', 'Hungary', 'Greece', 'France', 'Holand-Netherlands',\n",
    "    #asia\n",
    "    'Philippines', 'Thailand', 'Vietnam',\n",
    "    'South', 'Japan', 'India', 'Cambodia', 'Laos', 'Taiwan', 'China',\n",
    "    'Iran', 'Hong', 'Philippines'\n",
    "],\n",
    "[\n",
    "    'america', 'america','america', 'america', 'america',\n",
    "    'america', 'america', 'america', 'america', 'america',\n",
    "    'america','america','america','america', 'america', 'america',\n",
    "    'america',\n",
    "    #europa\n",
    "    'europa', 'europa', 'europa', 'europa', 'europa', 'europa',\n",
    "    'europa', 'europa', 'europa', 'europa', 'europa', 'europa',\n",
    "    #asia\n",
    "    'asia', 'asia', 'asia',\n",
    "    'asia', 'asia', 'asia', 'asia', 'asia', 'asia', 'asia',\n",
    "    'asia', 'asia', 'asia'\n",
    "])"
   ]
  },
  {
   "cell_type": "code",
   "execution_count": 146,
   "metadata": {},
   "outputs": [
    {
     "data": {
      "text/plain": [
       "america    46109\n",
       "asia        1096\n",
       "europa       780\n",
       "Name: native-country, dtype: int64"
      ]
     },
     "execution_count": 146,
     "metadata": {},
     "output_type": "execute_result"
    }
   ],
   "source": [
    "df_subset['native-country'].value_counts()"
   ]
  },
  {
   "cell_type": "markdown",
   "metadata": {},
   "source": [
    "### Recodificacion de Income:"
   ]
  },
  {
   "cell_type": "code",
   "execution_count": 147,
   "metadata": {},
   "outputs": [
    {
     "data": {
      "text/plain": [
       "<=50K    37155\n",
       ">50K     11687\n",
       "Name: income, dtype: int64"
      ]
     },
     "execution_count": 147,
     "metadata": {},
     "output_type": "execute_result"
    }
   ],
   "source": [
    "df_subset['income'].value_counts()"
   ]
  },
  {
   "cell_type": "code",
   "execution_count": 148,
   "metadata": {},
   "outputs": [],
   "source": [
    "df_subset['income'] = np.where(df_subset['income'] == '>50K', 1, 0)"
   ]
  },
  {
   "cell_type": "code",
   "execution_count": 149,
   "metadata": {},
   "outputs": [
    {
     "data": {
      "text/plain": [
       "0    37155\n",
       "1    11687\n",
       "Name: income, dtype: int64"
      ]
     },
     "execution_count": 149,
     "metadata": {},
     "output_type": "execute_result"
    }
   ],
   "source": [
    "df_subset['income'].value_counts()"
   ]
  },
  {
   "cell_type": "markdown",
   "metadata": {},
   "source": [
    "## Renombrando las columnas:"
   ]
  },
  {
   "cell_type": "code",
   "execution_count": 150,
   "metadata": {},
   "outputs": [
    {
     "data": {
      "text/plain": [
       "Index(['age', 'workclass', 'fnlwgt', 'education', 'educational-num',\n",
       "       'marital-status', 'occupation', 'relationship', 'race', 'gender',\n",
       "       'capital-gain', 'capital-loss', 'hours-per-week', 'native-country',\n",
       "       'income'],\n",
       "      dtype='object')"
      ]
     },
     "execution_count": 150,
     "metadata": {},
     "output_type": "execute_result"
    }
   ],
   "source": [
    "df_subset.columns"
   ]
  },
  {
   "cell_type": "code",
   "execution_count": 151,
   "metadata": {},
   "outputs": [
    {
     "data": {
      "text/plain": [
       "Index(['age', 'workclass_recod', 'fnlwgt', 'educ_recod', 'educational-num',\n",
       "       'civstatus', 'collars', 'relationship', 'race', 'gender',\n",
       "       'capital-gain', 'capital-loss', 'hours-per-week', 'region', 'income'],\n",
       "      dtype='object')"
      ]
     },
     "execution_count": 151,
     "metadata": {},
     "output_type": "execute_result"
    }
   ],
   "source": [
    "df_subset.columns = [\n",
    "    'age', 'workclass_recod', 'fnlwgt', 'educ_recod', 'educational-num',\n",
    "    'civstatus', 'collars', 'relationship', 'race', 'gender',\n",
    "    'capital-gain', 'capital-loss', 'hours-per-week', 'region',\n",
    "    'income'\n",
    "]\n",
    "df_subset.columns"
   ]
  },
  {
   "cell_type": "code",
   "execution_count": 152,
   "metadata": {},
   "outputs": [
    {
     "data": {
      "text/html": [
       "<div>\n",
       "<style scoped>\n",
       "    .dataframe tbody tr th:only-of-type {\n",
       "        vertical-align: middle;\n",
       "    }\n",
       "\n",
       "    .dataframe tbody tr th {\n",
       "        vertical-align: top;\n",
       "    }\n",
       "\n",
       "    .dataframe thead th {\n",
       "        text-align: right;\n",
       "    }\n",
       "</style>\n",
       "<table border=\"1\" class=\"dataframe\">\n",
       "  <thead>\n",
       "    <tr style=\"text-align: right;\">\n",
       "      <th></th>\n",
       "      <th>age</th>\n",
       "      <th>workclass_recod</th>\n",
       "      <th>fnlwgt</th>\n",
       "      <th>educ_recod</th>\n",
       "      <th>educational-num</th>\n",
       "      <th>civstatus</th>\n",
       "      <th>collars</th>\n",
       "      <th>relationship</th>\n",
       "      <th>race</th>\n",
       "      <th>gender</th>\n",
       "      <th>capital-gain</th>\n",
       "      <th>capital-loss</th>\n",
       "      <th>hours-per-week</th>\n",
       "      <th>region</th>\n",
       "      <th>income</th>\n",
       "    </tr>\n",
       "  </thead>\n",
       "  <tbody>\n",
       "    <tr>\n",
       "      <th>12840</th>\n",
       "      <td>42</td>\n",
       "      <td>Private</td>\n",
       "      <td>179533</td>\n",
       "      <td>high-school</td>\n",
       "      <td>9</td>\n",
       "      <td>married</td>\n",
       "      <td>blue-collar</td>\n",
       "      <td>Husband</td>\n",
       "      <td>White</td>\n",
       "      <td>Male</td>\n",
       "      <td>0</td>\n",
       "      <td>0</td>\n",
       "      <td>40</td>\n",
       "      <td>america</td>\n",
       "      <td>1</td>\n",
       "    </tr>\n",
       "    <tr>\n",
       "      <th>14371</th>\n",
       "      <td>51</td>\n",
       "      <td>state-level-gov</td>\n",
       "      <td>68684</td>\n",
       "      <td>high-school</td>\n",
       "      <td>4</td>\n",
       "      <td>married</td>\n",
       "      <td>blue-collar</td>\n",
       "      <td>Husband</td>\n",
       "      <td>White</td>\n",
       "      <td>Male</td>\n",
       "      <td>0</td>\n",
       "      <td>0</td>\n",
       "      <td>40</td>\n",
       "      <td>america</td>\n",
       "      <td>0</td>\n",
       "    </tr>\n",
       "    <tr>\n",
       "      <th>46088</th>\n",
       "      <td>19</td>\n",
       "      <td>NaN</td>\n",
       "      <td>28455</td>\n",
       "      <td>college</td>\n",
       "      <td>10</td>\n",
       "      <td>Never-married</td>\n",
       "      <td>NaN</td>\n",
       "      <td>Own-child</td>\n",
       "      <td>White</td>\n",
       "      <td>Female</td>\n",
       "      <td>0</td>\n",
       "      <td>0</td>\n",
       "      <td>40</td>\n",
       "      <td>america</td>\n",
       "      <td>0</td>\n",
       "    </tr>\n",
       "    <tr>\n",
       "      <th>36756</th>\n",
       "      <td>19</td>\n",
       "      <td>Private</td>\n",
       "      <td>274830</td>\n",
       "      <td>high-school</td>\n",
       "      <td>9</td>\n",
       "      <td>Never-married</td>\n",
       "      <td>others</td>\n",
       "      <td>Own-child</td>\n",
       "      <td>White</td>\n",
       "      <td>Female</td>\n",
       "      <td>0</td>\n",
       "      <td>0</td>\n",
       "      <td>15</td>\n",
       "      <td>america</td>\n",
       "      <td>0</td>\n",
       "    </tr>\n",
       "    <tr>\n",
       "      <th>27937</th>\n",
       "      <td>69</td>\n",
       "      <td>Private</td>\n",
       "      <td>140176</td>\n",
       "      <td>high-school</td>\n",
       "      <td>9</td>\n",
       "      <td>married</td>\n",
       "      <td>white-collar</td>\n",
       "      <td>Husband</td>\n",
       "      <td>White</td>\n",
       "      <td>Male</td>\n",
       "      <td>0</td>\n",
       "      <td>0</td>\n",
       "      <td>24</td>\n",
       "      <td>america</td>\n",
       "      <td>0</td>\n",
       "    </tr>\n",
       "  </tbody>\n",
       "</table>\n",
       "</div>"
      ],
      "text/plain": [
       "       age  workclass_recod  fnlwgt   educ_recod  educational-num  \\\n",
       "12840   42          Private  179533  high-school                9   \n",
       "14371   51  state-level-gov   68684  high-school                4   \n",
       "46088   19              NaN   28455      college               10   \n",
       "36756   19          Private  274830  high-school                9   \n",
       "27937   69          Private  140176  high-school                9   \n",
       "\n",
       "           civstatus       collars relationship   race  gender  capital-gain  \\\n",
       "12840        married   blue-collar      Husband  White    Male             0   \n",
       "14371        married   blue-collar      Husband  White    Male             0   \n",
       "46088  Never-married           NaN    Own-child  White  Female             0   \n",
       "36756  Never-married        others    Own-child  White  Female             0   \n",
       "27937        married  white-collar      Husband  White    Male             0   \n",
       "\n",
       "       capital-loss  hours-per-week   region  income  \n",
       "12840             0              40  america       1  \n",
       "14371             0              40  america       0  \n",
       "46088             0              40  america       0  \n",
       "36756             0              15  america       0  \n",
       "27937             0              24  america       0  "
      ]
     },
     "execution_count": 152,
     "metadata": {},
     "output_type": "execute_result"
    }
   ],
   "source": [
    "df_subset.sample(5)"
   ]
  },
  {
   "cell_type": "markdown",
   "metadata": {},
   "source": [
    "### Desafío 2: Rendimiento escolar\n",
    "#### Enunciado\n",
    "Lo contactan de una escuela Portuguesa para generar un modelo que identifique aquellos alumnos\n",
    "que presentan un bajo desempeño académico, medido en el promedio final del año escolar. Para ello\n",
    "le envían un archivo con registros sociodemográficos y conductuales de los alumnos dos escuelas\n",
    "para perfilar a los estudiantes.\n",
    "De manera adicional la psicopedagoga sugiere inspeccionar una batería de preguntas asociadas a\n",
    "aspectos ambientales del alumno (de famrel a health ) y ver si éstas se pueden abstraer en\n",
    "categorías latentes.\n",
    "### Aspectos adicionales a considerar\n",
    "* La base de datos presenta una serie de anomalías. En la escuela no tienen buenas prácticas sobre cómo ingresar datos, por lo que existen datos perdidos que están registrados bajo tres categorías: nulidade, sem validade, zero. De manera adicional, hay 3 variables numéricas que se registraron como strings, cuya interpretación en pandas devuelve una estructura de datos genérica. Finalmente, la base está con un encoding distinto al normal y los delimitadores son distintos.\n",
    "<br>\n",
    "* Para simplficar el análisis y su posterior inclusión en un modelo predictivo, se sugiere recodificar las variables binarias como 0 y 1. Se recomienda seguir en criterio de asignarle 1 a aquellas categorías minoritarias.\n",
    "<br>\n",
    "* El procedimiento también debe aplicarse para aquelas variables nominales con más de 2 categorías siguiendo la misma lógica.\n",
    "<br>\n",
    "* En la parte de modelación descriptiva, se deben generar modelos saturados por cada una de las notas registradas en G1 , G2 y G3.\n",
    "<br>\n",
    "* Para la parte de modelación predictiva, se debe generar un modelo para predecir las notas en G3 ."
   ]
  },
  {
   "cell_type": "code",
   "execution_count": 154,
   "metadata": {},
   "outputs": [
    {
     "data": {
      "text/html": [
       "<div>\n",
       "<style scoped>\n",
       "    .dataframe tbody tr th:only-of-type {\n",
       "        vertical-align: middle;\n",
       "    }\n",
       "\n",
       "    .dataframe tbody tr th {\n",
       "        vertical-align: top;\n",
       "    }\n",
       "\n",
       "    .dataframe thead th {\n",
       "        text-align: right;\n",
       "    }\n",
       "</style>\n",
       "<table border=\"1\" class=\"dataframe\">\n",
       "  <thead>\n",
       "    <tr style=\"text-align: right;\">\n",
       "      <th></th>\n",
       "      <th>Unnamed: 0</th>\n",
       "      <th>school</th>\n",
       "      <th>sex</th>\n",
       "      <th>age</th>\n",
       "      <th>address</th>\n",
       "      <th>famsize</th>\n",
       "      <th>Pstatus</th>\n",
       "      <th>Medu</th>\n",
       "      <th>Fedu</th>\n",
       "      <th>Mjob</th>\n",
       "      <th>...</th>\n",
       "      <th>famrel</th>\n",
       "      <th>freetime</th>\n",
       "      <th>goout</th>\n",
       "      <th>Dalc</th>\n",
       "      <th>Walc</th>\n",
       "      <th>health</th>\n",
       "      <th>absences</th>\n",
       "      <th>G1</th>\n",
       "      <th>G2</th>\n",
       "      <th>G3</th>\n",
       "    </tr>\n",
       "  </thead>\n",
       "  <tbody>\n",
       "    <tr>\n",
       "      <th>0</th>\n",
       "      <td>0</td>\n",
       "      <td>GP</td>\n",
       "      <td>F</td>\n",
       "      <td>nulidade</td>\n",
       "      <td>U</td>\n",
       "      <td>GT3</td>\n",
       "      <td>A</td>\n",
       "      <td>4</td>\n",
       "      <td>4</td>\n",
       "      <td>at_home</td>\n",
       "      <td>...</td>\n",
       "      <td>4</td>\n",
       "      <td>3</td>\n",
       "      <td>\"4\"</td>\n",
       "      <td>1</td>\n",
       "      <td>1</td>\n",
       "      <td>\"3\"</td>\n",
       "      <td>6</td>\n",
       "      <td>5</td>\n",
       "      <td>6</td>\n",
       "      <td>6</td>\n",
       "    </tr>\n",
       "    <tr>\n",
       "      <th>1</th>\n",
       "      <td>1</td>\n",
       "      <td>GP</td>\n",
       "      <td>F</td>\n",
       "      <td>\"17\"</td>\n",
       "      <td>U</td>\n",
       "      <td>GT3</td>\n",
       "      <td>T</td>\n",
       "      <td>1</td>\n",
       "      <td>1</td>\n",
       "      <td>at_home</td>\n",
       "      <td>...</td>\n",
       "      <td>5</td>\n",
       "      <td>3</td>\n",
       "      <td>\"3\"</td>\n",
       "      <td>1</td>\n",
       "      <td>1</td>\n",
       "      <td>\"3\"</td>\n",
       "      <td>4</td>\n",
       "      <td>5</td>\n",
       "      <td>5</td>\n",
       "      <td>6</td>\n",
       "    </tr>\n",
       "    <tr>\n",
       "      <th>2</th>\n",
       "      <td>2</td>\n",
       "      <td>GP</td>\n",
       "      <td>F</td>\n",
       "      <td>\"15\"</td>\n",
       "      <td>U</td>\n",
       "      <td>LE3</td>\n",
       "      <td>T</td>\n",
       "      <td>1</td>\n",
       "      <td>1</td>\n",
       "      <td>at_home</td>\n",
       "      <td>...</td>\n",
       "      <td>4</td>\n",
       "      <td>3</td>\n",
       "      <td>\"2\"</td>\n",
       "      <td>2</td>\n",
       "      <td>3</td>\n",
       "      <td>\"3\"</td>\n",
       "      <td>10</td>\n",
       "      <td>zero</td>\n",
       "      <td>8</td>\n",
       "      <td>10</td>\n",
       "    </tr>\n",
       "    <tr>\n",
       "      <th>3</th>\n",
       "      <td>3</td>\n",
       "      <td>GP</td>\n",
       "      <td>F</td>\n",
       "      <td>\"15\"</td>\n",
       "      <td>U</td>\n",
       "      <td>GT3</td>\n",
       "      <td>T</td>\n",
       "      <td>4</td>\n",
       "      <td>2</td>\n",
       "      <td>health</td>\n",
       "      <td>...</td>\n",
       "      <td>3</td>\n",
       "      <td>2</td>\n",
       "      <td>\"2\"</td>\n",
       "      <td>1</td>\n",
       "      <td>1</td>\n",
       "      <td>\"5\"</td>\n",
       "      <td>2</td>\n",
       "      <td>15</td>\n",
       "      <td>14</td>\n",
       "      <td>15</td>\n",
       "    </tr>\n",
       "    <tr>\n",
       "      <th>4</th>\n",
       "      <td>4</td>\n",
       "      <td>GP</td>\n",
       "      <td>F</td>\n",
       "      <td>sem validade</td>\n",
       "      <td>U</td>\n",
       "      <td>GT3</td>\n",
       "      <td>T</td>\n",
       "      <td>3</td>\n",
       "      <td>3</td>\n",
       "      <td>other</td>\n",
       "      <td>...</td>\n",
       "      <td>4</td>\n",
       "      <td>3</td>\n",
       "      <td>\"2\"</td>\n",
       "      <td>1</td>\n",
       "      <td>2</td>\n",
       "      <td>\"5\"</td>\n",
       "      <td>4</td>\n",
       "      <td>6</td>\n",
       "      <td>10</td>\n",
       "      <td>10</td>\n",
       "    </tr>\n",
       "  </tbody>\n",
       "</table>\n",
       "<p>5 rows × 34 columns</p>\n",
       "</div>"
      ],
      "text/plain": [
       "   Unnamed: 0 school sex           age address famsize Pstatus Medu Fedu  \\\n",
       "0           0     GP   F      nulidade       U     GT3       A    4    4   \n",
       "1           1     GP   F          \"17\"       U     GT3       T    1    1   \n",
       "2           2     GP   F          \"15\"       U     LE3       T    1    1   \n",
       "3           3     GP   F          \"15\"       U     GT3       T    4    2   \n",
       "4           4     GP   F  sem validade       U     GT3       T    3    3   \n",
       "\n",
       "      Mjob  ... famrel freetime goout Dalc Walc health absences    G1  G2  G3  \n",
       "0  at_home  ...      4        3   \"4\"    1    1    \"3\"        6     5   6   6  \n",
       "1  at_home  ...      5        3   \"3\"    1    1    \"3\"        4     5   5   6  \n",
       "2  at_home  ...      4        3   \"2\"    2    3    \"3\"       10  zero   8  10  \n",
       "3   health  ...      3        2   \"2\"    1    1    \"5\"        2    15  14  15  \n",
       "4    other  ...      4        3   \"2\"    1    2    \"5\"        4     6  10  10  \n",
       "\n",
       "[5 rows x 34 columns]"
      ]
     },
     "execution_count": 154,
     "metadata": {},
     "output_type": "execute_result"
    }
   ],
   "source": [
    "#cargamos el dataframe y lo asignamos al valor 'df_student'\n",
    "df_student = pd.read_csv('students.csv', sep='|', encoding='iso-8859-1') #con el argumento sep separamos las celdas de la base de dato\n",
    "df_student.head()"
   ]
  },
  {
   "cell_type": "markdown",
   "metadata": {},
   "source": [
    "Primero dropeamos la columna `Unnamed: 0`"
   ]
  },
  {
   "cell_type": "code",
   "execution_count": 156,
   "metadata": {},
   "outputs": [
    {
     "data": {
      "text/html": [
       "<div>\n",
       "<style scoped>\n",
       "    .dataframe tbody tr th:only-of-type {\n",
       "        vertical-align: middle;\n",
       "    }\n",
       "\n",
       "    .dataframe tbody tr th {\n",
       "        vertical-align: top;\n",
       "    }\n",
       "\n",
       "    .dataframe thead th {\n",
       "        text-align: right;\n",
       "    }\n",
       "</style>\n",
       "<table border=\"1\" class=\"dataframe\">\n",
       "  <thead>\n",
       "    <tr style=\"text-align: right;\">\n",
       "      <th></th>\n",
       "      <th>school</th>\n",
       "      <th>sex</th>\n",
       "      <th>age</th>\n",
       "      <th>address</th>\n",
       "      <th>famsize</th>\n",
       "      <th>Pstatus</th>\n",
       "      <th>Medu</th>\n",
       "      <th>Fedu</th>\n",
       "      <th>Mjob</th>\n",
       "      <th>Fjob</th>\n",
       "      <th>...</th>\n",
       "      <th>famrel</th>\n",
       "      <th>freetime</th>\n",
       "      <th>goout</th>\n",
       "      <th>Dalc</th>\n",
       "      <th>Walc</th>\n",
       "      <th>health</th>\n",
       "      <th>absences</th>\n",
       "      <th>G1</th>\n",
       "      <th>G2</th>\n",
       "      <th>G3</th>\n",
       "    </tr>\n",
       "  </thead>\n",
       "  <tbody>\n",
       "    <tr>\n",
       "      <th>0</th>\n",
       "      <td>GP</td>\n",
       "      <td>F</td>\n",
       "      <td>nulidade</td>\n",
       "      <td>U</td>\n",
       "      <td>GT3</td>\n",
       "      <td>A</td>\n",
       "      <td>4</td>\n",
       "      <td>4</td>\n",
       "      <td>at_home</td>\n",
       "      <td>teacher</td>\n",
       "      <td>...</td>\n",
       "      <td>4</td>\n",
       "      <td>3</td>\n",
       "      <td>\"4\"</td>\n",
       "      <td>1</td>\n",
       "      <td>1</td>\n",
       "      <td>\"3\"</td>\n",
       "      <td>6</td>\n",
       "      <td>5</td>\n",
       "      <td>6</td>\n",
       "      <td>6</td>\n",
       "    </tr>\n",
       "    <tr>\n",
       "      <th>1</th>\n",
       "      <td>GP</td>\n",
       "      <td>F</td>\n",
       "      <td>\"17\"</td>\n",
       "      <td>U</td>\n",
       "      <td>GT3</td>\n",
       "      <td>T</td>\n",
       "      <td>1</td>\n",
       "      <td>1</td>\n",
       "      <td>at_home</td>\n",
       "      <td>other</td>\n",
       "      <td>...</td>\n",
       "      <td>5</td>\n",
       "      <td>3</td>\n",
       "      <td>\"3\"</td>\n",
       "      <td>1</td>\n",
       "      <td>1</td>\n",
       "      <td>\"3\"</td>\n",
       "      <td>4</td>\n",
       "      <td>5</td>\n",
       "      <td>5</td>\n",
       "      <td>6</td>\n",
       "    </tr>\n",
       "    <tr>\n",
       "      <th>2</th>\n",
       "      <td>GP</td>\n",
       "      <td>F</td>\n",
       "      <td>\"15\"</td>\n",
       "      <td>U</td>\n",
       "      <td>LE3</td>\n",
       "      <td>T</td>\n",
       "      <td>1</td>\n",
       "      <td>1</td>\n",
       "      <td>at_home</td>\n",
       "      <td>other</td>\n",
       "      <td>...</td>\n",
       "      <td>4</td>\n",
       "      <td>3</td>\n",
       "      <td>\"2\"</td>\n",
       "      <td>2</td>\n",
       "      <td>3</td>\n",
       "      <td>\"3\"</td>\n",
       "      <td>10</td>\n",
       "      <td>zero</td>\n",
       "      <td>8</td>\n",
       "      <td>10</td>\n",
       "    </tr>\n",
       "    <tr>\n",
       "      <th>3</th>\n",
       "      <td>GP</td>\n",
       "      <td>F</td>\n",
       "      <td>\"15\"</td>\n",
       "      <td>U</td>\n",
       "      <td>GT3</td>\n",
       "      <td>T</td>\n",
       "      <td>4</td>\n",
       "      <td>2</td>\n",
       "      <td>health</td>\n",
       "      <td>services</td>\n",
       "      <td>...</td>\n",
       "      <td>3</td>\n",
       "      <td>2</td>\n",
       "      <td>\"2\"</td>\n",
       "      <td>1</td>\n",
       "      <td>1</td>\n",
       "      <td>\"5\"</td>\n",
       "      <td>2</td>\n",
       "      <td>15</td>\n",
       "      <td>14</td>\n",
       "      <td>15</td>\n",
       "    </tr>\n",
       "    <tr>\n",
       "      <th>4</th>\n",
       "      <td>GP</td>\n",
       "      <td>F</td>\n",
       "      <td>sem validade</td>\n",
       "      <td>U</td>\n",
       "      <td>GT3</td>\n",
       "      <td>T</td>\n",
       "      <td>3</td>\n",
       "      <td>3</td>\n",
       "      <td>other</td>\n",
       "      <td>other</td>\n",
       "      <td>...</td>\n",
       "      <td>4</td>\n",
       "      <td>3</td>\n",
       "      <td>\"2\"</td>\n",
       "      <td>1</td>\n",
       "      <td>2</td>\n",
       "      <td>\"5\"</td>\n",
       "      <td>4</td>\n",
       "      <td>6</td>\n",
       "      <td>10</td>\n",
       "      <td>10</td>\n",
       "    </tr>\n",
       "  </tbody>\n",
       "</table>\n",
       "<p>5 rows × 33 columns</p>\n",
       "</div>"
      ],
      "text/plain": [
       "  school sex           age address famsize Pstatus Medu Fedu     Mjob  \\\n",
       "0     GP   F      nulidade       U     GT3       A    4    4  at_home   \n",
       "1     GP   F          \"17\"       U     GT3       T    1    1  at_home   \n",
       "2     GP   F          \"15\"       U     LE3       T    1    1  at_home   \n",
       "3     GP   F          \"15\"       U     GT3       T    4    2   health   \n",
       "4     GP   F  sem validade       U     GT3       T    3    3    other   \n",
       "\n",
       "       Fjob  ... famrel freetime goout Dalc Walc health absences    G1  G2  G3  \n",
       "0   teacher  ...      4        3   \"4\"    1    1    \"3\"        6     5   6   6  \n",
       "1     other  ...      5        3   \"3\"    1    1    \"3\"        4     5   5   6  \n",
       "2     other  ...      4        3   \"2\"    2    3    \"3\"       10  zero   8  10  \n",
       "3  services  ...      3        2   \"2\"    1    1    \"5\"        2    15  14  15  \n",
       "4     other  ...      4        3   \"2\"    1    2    \"5\"        4     6  10  10  \n",
       "\n",
       "[5 rows x 33 columns]"
      ]
     },
     "execution_count": 156,
     "metadata": {},
     "output_type": "execute_result"
    }
   ],
   "source": [
    "df_desafio2 = df_student.drop(columns = 'Unnamed: 0', axis = 1)\n",
    "df_desafio2.head(5)"
   ]
  },
  {
   "cell_type": "markdown",
   "metadata": {},
   "source": [
    "Reemplazamos todos los datos mal ingresados (`nulidade`, `sem validade`, `zero`) por `NaN`"
   ]
  },
  {
   "cell_type": "code",
   "execution_count": 158,
   "metadata": {},
   "outputs": [
    {
     "data": {
      "text/html": [
       "<div>\n",
       "<style scoped>\n",
       "    .dataframe tbody tr th:only-of-type {\n",
       "        vertical-align: middle;\n",
       "    }\n",
       "\n",
       "    .dataframe tbody tr th {\n",
       "        vertical-align: top;\n",
       "    }\n",
       "\n",
       "    .dataframe thead th {\n",
       "        text-align: right;\n",
       "    }\n",
       "</style>\n",
       "<table border=\"1\" class=\"dataframe\">\n",
       "  <thead>\n",
       "    <tr style=\"text-align: right;\">\n",
       "      <th></th>\n",
       "      <th>school</th>\n",
       "      <th>sex</th>\n",
       "      <th>age</th>\n",
       "      <th>address</th>\n",
       "      <th>famsize</th>\n",
       "      <th>Pstatus</th>\n",
       "      <th>Medu</th>\n",
       "      <th>Fedu</th>\n",
       "      <th>Mjob</th>\n",
       "      <th>Fjob</th>\n",
       "      <th>...</th>\n",
       "      <th>famrel</th>\n",
       "      <th>freetime</th>\n",
       "      <th>goout</th>\n",
       "      <th>Dalc</th>\n",
       "      <th>Walc</th>\n",
       "      <th>health</th>\n",
       "      <th>absences</th>\n",
       "      <th>G1</th>\n",
       "      <th>G2</th>\n",
       "      <th>G3</th>\n",
       "    </tr>\n",
       "  </thead>\n",
       "  <tbody>\n",
       "    <tr>\n",
       "      <th>0</th>\n",
       "      <td>GP</td>\n",
       "      <td>F</td>\n",
       "      <td>NaN</td>\n",
       "      <td>U</td>\n",
       "      <td>GT3</td>\n",
       "      <td>A</td>\n",
       "      <td>4</td>\n",
       "      <td>4</td>\n",
       "      <td>at_home</td>\n",
       "      <td>teacher</td>\n",
       "      <td>...</td>\n",
       "      <td>4</td>\n",
       "      <td>3</td>\n",
       "      <td>\"4\"</td>\n",
       "      <td>1</td>\n",
       "      <td>1</td>\n",
       "      <td>\"3\"</td>\n",
       "      <td>6</td>\n",
       "      <td>5</td>\n",
       "      <td>6</td>\n",
       "      <td>6</td>\n",
       "    </tr>\n",
       "    <tr>\n",
       "      <th>1</th>\n",
       "      <td>GP</td>\n",
       "      <td>F</td>\n",
       "      <td>\"17\"</td>\n",
       "      <td>U</td>\n",
       "      <td>GT3</td>\n",
       "      <td>T</td>\n",
       "      <td>1</td>\n",
       "      <td>1</td>\n",
       "      <td>at_home</td>\n",
       "      <td>other</td>\n",
       "      <td>...</td>\n",
       "      <td>5</td>\n",
       "      <td>3</td>\n",
       "      <td>\"3\"</td>\n",
       "      <td>1</td>\n",
       "      <td>1</td>\n",
       "      <td>\"3\"</td>\n",
       "      <td>4</td>\n",
       "      <td>5</td>\n",
       "      <td>5</td>\n",
       "      <td>6</td>\n",
       "    </tr>\n",
       "    <tr>\n",
       "      <th>2</th>\n",
       "      <td>GP</td>\n",
       "      <td>F</td>\n",
       "      <td>\"15\"</td>\n",
       "      <td>U</td>\n",
       "      <td>LE3</td>\n",
       "      <td>T</td>\n",
       "      <td>1</td>\n",
       "      <td>1</td>\n",
       "      <td>at_home</td>\n",
       "      <td>other</td>\n",
       "      <td>...</td>\n",
       "      <td>4</td>\n",
       "      <td>3</td>\n",
       "      <td>\"2\"</td>\n",
       "      <td>2</td>\n",
       "      <td>3</td>\n",
       "      <td>\"3\"</td>\n",
       "      <td>10</td>\n",
       "      <td>NaN</td>\n",
       "      <td>8</td>\n",
       "      <td>10</td>\n",
       "    </tr>\n",
       "    <tr>\n",
       "      <th>3</th>\n",
       "      <td>GP</td>\n",
       "      <td>F</td>\n",
       "      <td>\"15\"</td>\n",
       "      <td>U</td>\n",
       "      <td>GT3</td>\n",
       "      <td>T</td>\n",
       "      <td>4</td>\n",
       "      <td>2</td>\n",
       "      <td>health</td>\n",
       "      <td>services</td>\n",
       "      <td>...</td>\n",
       "      <td>3</td>\n",
       "      <td>2</td>\n",
       "      <td>\"2\"</td>\n",
       "      <td>1</td>\n",
       "      <td>1</td>\n",
       "      <td>\"5\"</td>\n",
       "      <td>2</td>\n",
       "      <td>15</td>\n",
       "      <td>14</td>\n",
       "      <td>15</td>\n",
       "    </tr>\n",
       "    <tr>\n",
       "      <th>4</th>\n",
       "      <td>GP</td>\n",
       "      <td>F</td>\n",
       "      <td>NaN</td>\n",
       "      <td>U</td>\n",
       "      <td>GT3</td>\n",
       "      <td>T</td>\n",
       "      <td>3</td>\n",
       "      <td>3</td>\n",
       "      <td>other</td>\n",
       "      <td>other</td>\n",
       "      <td>...</td>\n",
       "      <td>4</td>\n",
       "      <td>3</td>\n",
       "      <td>\"2\"</td>\n",
       "      <td>1</td>\n",
       "      <td>2</td>\n",
       "      <td>\"5\"</td>\n",
       "      <td>4</td>\n",
       "      <td>6</td>\n",
       "      <td>10</td>\n",
       "      <td>10</td>\n",
       "    </tr>\n",
       "  </tbody>\n",
       "</table>\n",
       "<p>5 rows × 33 columns</p>\n",
       "</div>"
      ],
      "text/plain": [
       "  school sex   age address famsize Pstatus Medu Fedu     Mjob      Fjob  ...  \\\n",
       "0     GP   F   NaN       U     GT3       A    4    4  at_home   teacher  ...   \n",
       "1     GP   F  \"17\"       U     GT3       T    1    1  at_home     other  ...   \n",
       "2     GP   F  \"15\"       U     LE3       T    1    1  at_home     other  ...   \n",
       "3     GP   F  \"15\"       U     GT3       T    4    2   health  services  ...   \n",
       "4     GP   F   NaN       U     GT3       T    3    3    other     other  ...   \n",
       "\n",
       "  famrel freetime goout Dalc Walc health absences   G1  G2  G3  \n",
       "0      4        3   \"4\"    1    1    \"3\"        6    5   6   6  \n",
       "1      5        3   \"3\"    1    1    \"3\"        4    5   5   6  \n",
       "2      4        3   \"2\"    2    3    \"3\"       10  NaN   8  10  \n",
       "3      3        2   \"2\"    1    1    \"5\"        2   15  14  15  \n",
       "4      4        3   \"2\"    1    2    \"5\"        4    6  10  10  \n",
       "\n",
       "[5 rows x 33 columns]"
      ]
     },
     "execution_count": 158,
     "metadata": {},
     "output_type": "execute_result"
    }
   ],
   "source": [
    "df_desafio2 = df_desafio2.replace('nulidade', np.nan)\n",
    "df_desafio2 = df_desafio2.replace('sem validade', np.nan)\n",
    "df_desafio2 = df_desafio2.replace('zero',np.nan)\n",
    "df_desafio2.head()"
   ]
  },
  {
   "cell_type": "markdown",
   "metadata": {},
   "source": [
    "Reemplazamos los valores `string-numericos` a `Float`"
   ]
  },
  {
   "cell_type": "code",
   "execution_count": 159,
   "metadata": {},
   "outputs": [
    {
     "name": "stdout",
     "output_type": "stream",
     "text": [
      "<class 'pandas.core.frame.DataFrame'>\n",
      "RangeIndex: 395 entries, 0 to 394\n",
      "Data columns (total 33 columns):\n",
      "school        390 non-null object\n",
      "sex           392 non-null object\n",
      "age           391 non-null object\n",
      "address       393 non-null object\n",
      "famsize       391 non-null object\n",
      "Pstatus       389 non-null object\n",
      "Medu          392 non-null object\n",
      "Fedu          390 non-null object\n",
      "Mjob          389 non-null object\n",
      "Fjob          395 non-null object\n",
      "reason        391 non-null object\n",
      "guardian      391 non-null object\n",
      "traveltime    392 non-null object\n",
      "studytime     390 non-null object\n",
      "failures      390 non-null object\n",
      "schoolsup     387 non-null object\n",
      "famsup        390 non-null object\n",
      "paid          394 non-null object\n",
      "activities    390 non-null object\n",
      "nursery       389 non-null object\n",
      "higher        389 non-null object\n",
      "internet      392 non-null object\n",
      "romantic      393 non-null object\n",
      "famrel        390 non-null object\n",
      "freetime      393 non-null object\n",
      "goout         390 non-null object\n",
      "Dalc          392 non-null object\n",
      "Walc          390 non-null object\n",
      "health        391 non-null object\n",
      "absences      391 non-null object\n",
      "G1            391 non-null object\n",
      "G2            395 non-null int64\n",
      "G3            392 non-null object\n",
      "dtypes: int64(1), object(32)\n",
      "memory usage: 101.9+ KB\n"
     ]
    }
   ],
   "source": [
    "df_desafio2.info()"
   ]
  },
  {
   "cell_type": "code",
   "execution_count": 172,
   "metadata": {},
   "outputs": [
    {
     "data": {
      "text/plain": [
       "<matplotlib.axes._subplots.AxesSubplot at 0x1a36444940>"
      ]
     },
     "execution_count": 172,
     "metadata": {},
     "output_type": "execute_result"
    },
    {
     "data": {
      "image/png": "[encoded data removed]",
      "text/plain": [
       "<Figure size 1800x720 with 2 Axes>"
      ]
     },
     "metadata": {
      "needs_background": "light"
     },
     "output_type": "display_data"
    }
   ],
   "source": [
    "missingno.matrix(df_desafio2)"
   ]
  },
  {
   "cell_type": "code",
   "execution_count": 173,
   "metadata": {},
   "outputs": [],
   "source": [
    "df_desafio2_dropped = df_desafio2.dropna()"
   ]
  },
  {
   "cell_type": "code",
   "execution_count": 174,
   "metadata": {},
   "outputs": [
    {
     "name": "stdout",
     "output_type": "stream",
     "text": [
      "El porcentaje de datos perdidos si eliminamos todos los N/A es de: 71.9%\n"
     ]
    }
   ],
   "source": [
    "print(f\"El porcentaje de datos perdidos si eliminamos todos los N/A es de: {round(len(df_desafio2_dropped)/len(df_desafio2)*100, 2)}%\")"
   ]
  },
  {
   "cell_type": "markdown",
   "metadata": {},
   "source": [
    "Recodificando columna `age` de `String` a `Float`:"
   ]
  },
  {
   "cell_type": "code",
   "execution_count": 176,
   "metadata": {},
   "outputs": [
    {
     "data": {
      "text/plain": [
       "16    101\n",
       "17     98\n",
       "15     82\n",
       "18     81\n",
       "19     24\n",
       "20      3\n",
       "22      1\n",
       "21      1\n",
       "Name: age, dtype: int64"
      ]
     },
     "execution_count": 176,
     "metadata": {},
     "output_type": "execute_result"
    }
   ],
   "source": [
    "df_desafio2['age'].value_counts()"
   ]
  },
  {
   "cell_type": "code",
   "execution_count": 177,
   "metadata": {},
   "outputs": [
    {
     "data": {
      "text/plain": [
       "16    101\n",
       "17     98\n",
       "15     82\n",
       "18     81\n",
       "19     24\n",
       "20      3\n",
       "22      1\n",
       "21      1\n",
       "Name: age, dtype: int64"
      ]
     },
     "execution_count": 177,
     "metadata": {},
     "output_type": "execute_result"
    }
   ],
   "source": [
    "df_desafio2['age'] = df_desafio2['age'].str.replace('\\\"','')\n",
    "df_desafio2['age'].value_counts()"
   ]
  },
  {
   "cell_type": "code",
   "execution_count": 190,
   "metadata": {},
   "outputs": [],
   "source": [
    "df_desafio2['age'] = df_desafio2['age'].astype('float')"
   ]
  },
  {
   "cell_type": "markdown",
   "metadata": {},
   "source": [
    "Recodificando columna `absences` de `String` a `Float`:"
   ]
  },
  {
   "cell_type": "code",
   "execution_count": 191,
   "metadata": {},
   "outputs": [
    {
     "data": {
      "text/plain": [
       "0.0     113\n",
       "2.0      64\n",
       "4.0      53\n",
       "6.0      31\n",
       "8.0      22\n",
       "10.0     17\n",
       "14.0     12\n",
       "12.0     11\n",
       "3.0       8\n",
       "16.0      7\n",
       "7.0       7\n",
       "5.0       5\n",
       "18.0      5\n",
       "20.0      4\n",
       "NaN       4\n",
       "1.0       3\n",
       "9.0       3\n",
       "22.0      3\n",
       "15.0      3\n",
       "13.0      3\n",
       "11.0      3\n",
       "25.0      1\n",
       "17.0      1\n",
       "54.0      1\n",
       "26.0      1\n",
       "56.0      1\n",
       "23.0      1\n",
       "28.0      1\n",
       "21.0      1\n",
       "75.0      1\n",
       "30.0      1\n",
       "19.0      1\n",
       "38.0      1\n",
       "40.0      1\n",
       "24.0      1\n",
       "Name: absences, dtype: int64"
      ]
     },
     "execution_count": 191,
     "metadata": {},
     "output_type": "execute_result"
    }
   ],
   "source": [
    "df_desafio2['absences'].value_counts(dropna=False)"
   ]
  },
  {
   "cell_type": "code",
   "execution_count": 193,
   "metadata": {},
   "outputs": [
    {
     "name": "stdout",
     "output_type": "stream",
     "text": [
      "<class 'pandas.core.frame.DataFrame'>\n",
      "RangeIndex: 395 entries, 0 to 394\n",
      "Data columns (total 33 columns):\n",
      "school        390 non-null object\n",
      "sex           392 non-null object\n",
      "age           391 non-null float64\n",
      "address       393 non-null object\n",
      "famsize       391 non-null object\n",
      "Pstatus       389 non-null object\n",
      "Medu          392 non-null object\n",
      "Fedu          390 non-null object\n",
      "Mjob          389 non-null object\n",
      "Fjob          395 non-null object\n",
      "reason        391 non-null object\n",
      "guardian      391 non-null object\n",
      "traveltime    392 non-null object\n",
      "studytime     390 non-null object\n",
      "failures      390 non-null object\n",
      "schoolsup     387 non-null object\n",
      "famsup        390 non-null object\n",
      "paid          394 non-null object\n",
      "activities    390 non-null object\n",
      "nursery       389 non-null object\n",
      "higher        389 non-null object\n",
      "internet      392 non-null object\n",
      "romantic      393 non-null object\n",
      "famrel        390 non-null object\n",
      "freetime      393 non-null object\n",
      "goout         390 non-null object\n",
      "Dalc          392 non-null object\n",
      "Walc          390 non-null object\n",
      "health        391 non-null object\n",
      "absences      391 non-null float64\n",
      "G1            391 non-null object\n",
      "G2            395 non-null int64\n",
      "G3            392 non-null object\n",
      "dtypes: float64(2), int64(1), object(30)\n",
      "memory usage: 101.9+ KB\n"
     ]
    }
   ],
   "source": [
    "df_desafio2['absences'] = df_desafio2['absences'].astype('float')\n",
    "df_desafio2.info()"
   ]
  },
  {
   "cell_type": "markdown",
   "metadata": {},
   "source": [
    "Recodificando columna `G1` de `String` a `Float`:"
   ]
  },
  {
   "cell_type": "code",
   "execution_count": 195,
   "metadata": {},
   "outputs": [
    {
     "data": {
      "text/plain": [
       "10     50\n",
       "8      41\n",
       "11     38\n",
       "7      36\n",
       "12     35\n",
       "13     33\n",
       "9      31\n",
       "14     30\n",
       "15     24\n",
       "6      23\n",
       "16     22\n",
       "18      8\n",
       "17      8\n",
       "5       7\n",
       "NaN     4\n",
       "19      3\n",
       "4       1\n",
       "3       1\n",
       "Name: G1, dtype: int64"
      ]
     },
     "execution_count": 195,
     "metadata": {},
     "output_type": "execute_result"
    }
   ],
   "source": [
    "df_desafio2['G1'].value_counts(dropna=False)"
   ]
  },
  {
   "cell_type": "code",
   "execution_count": 196,
   "metadata": {},
   "outputs": [
    {
     "name": "stdout",
     "output_type": "stream",
     "text": [
      "<class 'pandas.core.frame.DataFrame'>\n",
      "RangeIndex: 395 entries, 0 to 394\n",
      "Data columns (total 33 columns):\n",
      "school        390 non-null object\n",
      "sex           392 non-null object\n",
      "age           391 non-null float64\n",
      "address       393 non-null object\n",
      "famsize       391 non-null object\n",
      "Pstatus       389 non-null object\n",
      "Medu          392 non-null object\n",
      "Fedu          390 non-null object\n",
      "Mjob          389 non-null object\n",
      "Fjob          395 non-null object\n",
      "reason        391 non-null object\n",
      "guardian      391 non-null object\n",
      "traveltime    392 non-null object\n",
      "studytime     390 non-null object\n",
      "failures      390 non-null object\n",
      "schoolsup     387 non-null object\n",
      "famsup        390 non-null object\n",
      "paid          394 non-null object\n",
      "activities    390 non-null object\n",
      "nursery       389 non-null object\n",
      "higher        389 non-null object\n",
      "internet      392 non-null object\n",
      "romantic      393 non-null object\n",
      "famrel        390 non-null object\n",
      "freetime      393 non-null object\n",
      "goout         390 non-null object\n",
      "Dalc          392 non-null object\n",
      "Walc          390 non-null object\n",
      "health        391 non-null object\n",
      "absences      391 non-null float64\n",
      "G1            391 non-null float64\n",
      "G2            395 non-null int64\n",
      "G3            392 non-null object\n",
      "dtypes: float64(3), int64(1), object(29)\n",
      "memory usage: 101.9+ KB\n"
     ]
    }
   ],
   "source": [
    "df_desafio2['G1'] = df_desafio2['G1'].astype('float')\n",
    "df_desafio2.info()"
   ]
  },
  {
   "cell_type": "markdown",
   "metadata": {},
   "source": [
    "Recodificando columna `G2` de `Int` a `Float`:"
   ]
  },
  {
   "cell_type": "code",
   "execution_count": 198,
   "metadata": {},
   "outputs": [
    {
     "name": "stdout",
     "output_type": "stream",
     "text": [
      "<class 'pandas.core.frame.DataFrame'>\n",
      "RangeIndex: 395 entries, 0 to 394\n",
      "Data columns (total 33 columns):\n",
      "school        390 non-null object\n",
      "sex           392 non-null object\n",
      "age           391 non-null float64\n",
      "address       393 non-null object\n",
      "famsize       391 non-null object\n",
      "Pstatus       389 non-null object\n",
      "Medu          392 non-null object\n",
      "Fedu          390 non-null object\n",
      "Mjob          389 non-null object\n",
      "Fjob          395 non-null object\n",
      "reason        391 non-null object\n",
      "guardian      391 non-null object\n",
      "traveltime    392 non-null object\n",
      "studytime     390 non-null object\n",
      "failures      390 non-null object\n",
      "schoolsup     387 non-null object\n",
      "famsup        390 non-null object\n",
      "paid          394 non-null object\n",
      "activities    390 non-null object\n",
      "nursery       389 non-null object\n",
      "higher        389 non-null object\n",
      "internet      392 non-null object\n",
      "romantic      393 non-null object\n",
      "famrel        390 non-null object\n",
      "freetime      393 non-null object\n",
      "goout         390 non-null object\n",
      "Dalc          392 non-null object\n",
      "Walc          390 non-null object\n",
      "health        391 non-null object\n",
      "absences      391 non-null float64\n",
      "G1            391 non-null float64\n",
      "G2            395 non-null float64\n",
      "G3            392 non-null object\n",
      "dtypes: float64(4), object(29)\n",
      "memory usage: 101.9+ KB\n"
     ]
    }
   ],
   "source": [
    "df_desafio2['G2'] = df_desafio2['G2'].astype('float')\n",
    "df_desafio2.info()"
   ]
  },
  {
   "cell_type": "markdown",
   "metadata": {},
   "source": [
    "Recodificando columna `G3` de `String` a `Float`:"
   ]
  },
  {
   "cell_type": "code",
   "execution_count": 199,
   "metadata": {},
   "outputs": [
    {
     "name": "stdout",
     "output_type": "stream",
     "text": [
      "<class 'pandas.core.frame.DataFrame'>\n",
      "RangeIndex: 395 entries, 0 to 394\n",
      "Data columns (total 33 columns):\n",
      "school        390 non-null object\n",
      "sex           392 non-null object\n",
      "age           391 non-null float64\n",
      "address       393 non-null object\n",
      "famsize       391 non-null object\n",
      "Pstatus       389 non-null object\n",
      "Medu          392 non-null object\n",
      "Fedu          390 non-null object\n",
      "Mjob          389 non-null object\n",
      "Fjob          395 non-null object\n",
      "reason        391 non-null object\n",
      "guardian      391 non-null object\n",
      "traveltime    392 non-null object\n",
      "studytime     390 non-null object\n",
      "failures      390 non-null object\n",
      "schoolsup     387 non-null object\n",
      "famsup        390 non-null object\n",
      "paid          394 non-null object\n",
      "activities    390 non-null object\n",
      "nursery       389 non-null object\n",
      "higher        389 non-null object\n",
      "internet      392 non-null object\n",
      "romantic      393 non-null object\n",
      "famrel        390 non-null object\n",
      "freetime      393 non-null object\n",
      "goout         390 non-null object\n",
      "Dalc          392 non-null object\n",
      "Walc          390 non-null object\n",
      "health        391 non-null object\n",
      "absences      391 non-null float64\n",
      "G1            391 non-null float64\n",
      "G2            395 non-null float64\n",
      "G3            392 non-null float64\n",
      "dtypes: float64(5), object(28)\n",
      "memory usage: 101.9+ KB\n"
     ]
    }
   ],
   "source": [
    "df_desafio2['G3'] = df_desafio2['G3'].astype('float')\n",
    "df_desafio2.info()"
   ]
  },
  {
   "cell_type": "markdown",
   "metadata": {},
   "source": [
    "* Para simplficar el análisis y su posterior inclusión en un modelo predictivo, se sugiere recodificarlas variables binarias como 0 y 1. Se recomienda seguir en criterio de asignarle 1 a aquellas categorías minoritarias."
   ]
  },
  {
   "cell_type": "markdown",
   "metadata": {},
   "source": [
    "Reemplazamos las variables  binarias ('school', 'sex', 'address', 'famsize', 'Pstatus', 'schoolsup', 'famsup', 'paid', 'activities', 'nursery', 'higher', 'internet', 'romantic')"
   ]
  },
  {
   "cell_type": "code",
   "execution_count": 214,
   "metadata": {},
   "outputs": [
    {
     "name": "stdout",
     "output_type": "stream",
     "text": [
      "GP    345\n",
      "MS     45\n",
      "Name: school, dtype: int64\n",
      "345\n",
      "GP\n"
     ]
    },
    {
     "data": {
      "text/plain": [
       "0    345\n",
       "1     50\n",
       "Name: b_school, dtype: int64"
      ]
     },
     "execution_count": 214,
     "metadata": {},
     "output_type": "execute_result"
    }
   ],
   "source": [
    "print(df_desafio2['school'].value_counts())\n",
    "school_value_counts = df_desafio2['school'].value_counts()\n",
    "max_schools_count = school_value_counts.max()\n",
    "print(max_schools_count)\n",
    "mayor_school = school_value_counts[school_value_counts == max_school].index[0]\n",
    "print(mayor_school)\n",
    "df_desafio2['b_school'] = np.where(df_desafio2['school'] == mayor_school, 0, 1)\n",
    "df_desafio2['b_school'].value_counts()"
   ]
  },
  {
   "cell_type": "markdown",
   "metadata": {},
   "source": [
    "## TODO: Definir funcion para binarizar columnas"
   ]
  },
  {
   "cell_type": "markdown",
   "metadata": {},
   "source": [
    "# POR REVISAR"
   ]
  },
  {
   "cell_type": "code",
   "execution_count": 31,
   "metadata": {},
   "outputs": [
    {
     "data": {
      "text/html": [
       "<div>\n",
       "<style scoped>\n",
       "    .dataframe tbody tr th:only-of-type {\n",
       "        vertical-align: middle;\n",
       "    }\n",
       "\n",
       "    .dataframe tbody tr th {\n",
       "        vertical-align: top;\n",
       "    }\n",
       "\n",
       "    .dataframe thead th {\n",
       "        text-align: right;\n",
       "    }\n",
       "</style>\n",
       "<table border=\"1\" class=\"dataframe\">\n",
       "  <thead>\n",
       "    <tr style=\"text-align: right;\">\n",
       "      <th></th>\n",
       "      <th>school</th>\n",
       "      <th>sex</th>\n",
       "      <th>age</th>\n",
       "      <th>address</th>\n",
       "      <th>famsize</th>\n",
       "      <th>Pstatus</th>\n",
       "      <th>Medu</th>\n",
       "      <th>Fedu</th>\n",
       "      <th>Mjob</th>\n",
       "      <th>Fjob</th>\n",
       "      <th>...</th>\n",
       "      <th>b_famsize</th>\n",
       "      <th>b_Pstatus</th>\n",
       "      <th>b_schoolsup</th>\n",
       "      <th>b_famsup</th>\n",
       "      <th>b_paid</th>\n",
       "      <th>b_activities</th>\n",
       "      <th>b_nursery</th>\n",
       "      <th>b_higher</th>\n",
       "      <th>b_internet</th>\n",
       "      <th>b_romantic</th>\n",
       "    </tr>\n",
       "  </thead>\n",
       "  <tbody>\n",
       "    <tr>\n",
       "      <th>390</th>\n",
       "      <td>MS</td>\n",
       "      <td>M</td>\n",
       "      <td>\"20\"</td>\n",
       "      <td>U</td>\n",
       "      <td>LE3</td>\n",
       "      <td>A</td>\n",
       "      <td>2</td>\n",
       "      <td>2</td>\n",
       "      <td>services</td>\n",
       "      <td>services</td>\n",
       "      <td>...</td>\n",
       "      <td>1</td>\n",
       "      <td>1</td>\n",
       "      <td>0</td>\n",
       "      <td>0</td>\n",
       "      <td>1</td>\n",
       "      <td>1</td>\n",
       "      <td>0</td>\n",
       "      <td>0</td>\n",
       "      <td>1</td>\n",
       "      <td>0</td>\n",
       "    </tr>\n",
       "    <tr>\n",
       "      <th>342</th>\n",
       "      <td>GP</td>\n",
       "      <td>M</td>\n",
       "      <td>\"18\"</td>\n",
       "      <td>U</td>\n",
       "      <td>LE3</td>\n",
       "      <td>T</td>\n",
       "      <td>3</td>\n",
       "      <td>4</td>\n",
       "      <td>services</td>\n",
       "      <td>other</td>\n",
       "      <td>...</td>\n",
       "      <td>1</td>\n",
       "      <td>0</td>\n",
       "      <td>0</td>\n",
       "      <td>1</td>\n",
       "      <td>0</td>\n",
       "      <td>0</td>\n",
       "      <td>0</td>\n",
       "      <td>0</td>\n",
       "      <td>0</td>\n",
       "      <td>1</td>\n",
       "    </tr>\n",
       "    <tr>\n",
       "      <th>198</th>\n",
       "      <td>GP</td>\n",
       "      <td>F</td>\n",
       "      <td>\"17\"</td>\n",
       "      <td>U</td>\n",
       "      <td>GT3</td>\n",
       "      <td>T</td>\n",
       "      <td>4</td>\n",
       "      <td>4</td>\n",
       "      <td>services</td>\n",
       "      <td>teacher</td>\n",
       "      <td>...</td>\n",
       "      <td>0</td>\n",
       "      <td>0</td>\n",
       "      <td>0</td>\n",
       "      <td>0</td>\n",
       "      <td>0</td>\n",
       "      <td>1</td>\n",
       "      <td>0</td>\n",
       "      <td>0</td>\n",
       "      <td>0</td>\n",
       "      <td>0</td>\n",
       "    </tr>\n",
       "    <tr>\n",
       "      <th>173</th>\n",
       "      <td>GP</td>\n",
       "      <td>F</td>\n",
       "      <td>\"16\"</td>\n",
       "      <td>U</td>\n",
       "      <td>GT3</td>\n",
       "      <td>T</td>\n",
       "      <td>1</td>\n",
       "      <td>3</td>\n",
       "      <td>at_home</td>\n",
       "      <td>services</td>\n",
       "      <td>...</td>\n",
       "      <td>0</td>\n",
       "      <td>0</td>\n",
       "      <td>0</td>\n",
       "      <td>1</td>\n",
       "      <td>0</td>\n",
       "      <td>0</td>\n",
       "      <td>1</td>\n",
       "      <td>0</td>\n",
       "      <td>0</td>\n",
       "      <td>1</td>\n",
       "    </tr>\n",
       "    <tr>\n",
       "      <th>135</th>\n",
       "      <td>GP</td>\n",
       "      <td>F</td>\n",
       "      <td>\"15\"</td>\n",
       "      <td>U</td>\n",
       "      <td>GT3</td>\n",
       "      <td>T</td>\n",
       "      <td>4</td>\n",
       "      <td>4</td>\n",
       "      <td>services</td>\n",
       "      <td>at_home</td>\n",
       "      <td>...</td>\n",
       "      <td>0</td>\n",
       "      <td>0</td>\n",
       "      <td>0</td>\n",
       "      <td>0</td>\n",
       "      <td>0</td>\n",
       "      <td>0</td>\n",
       "      <td>0</td>\n",
       "      <td>0</td>\n",
       "      <td>0</td>\n",
       "      <td>1</td>\n",
       "    </tr>\n",
       "  </tbody>\n",
       "</table>\n",
       "<p>5 rows × 46 columns</p>\n",
       "</div>"
      ],
      "text/plain": [
       "    school sex   age address famsize Pstatus Medu Fedu      Mjob      Fjob  \\\n",
       "390     MS   M  \"20\"       U     LE3       A    2    2  services  services   \n",
       "342     GP   M  \"18\"       U     LE3       T    3    4  services     other   \n",
       "198     GP   F  \"17\"       U     GT3       T    4    4  services   teacher   \n",
       "173     GP   F  \"16\"       U     GT3       T    1    3   at_home  services   \n",
       "135     GP   F  \"15\"       U     GT3       T    4    4  services   at_home   \n",
       "\n",
       "     ... b_famsize b_Pstatus b_schoolsup b_famsup b_paid b_activities  \\\n",
       "390  ...         1         1           0        0      1            1   \n",
       "342  ...         1         0           0        1      0            0   \n",
       "198  ...         0         0           0        0      0            1   \n",
       "173  ...         0         0           0        1      0            0   \n",
       "135  ...         0         0           0        0      0            0   \n",
       "\n",
       "    b_nursery b_higher b_internet b_romantic  \n",
       "390         0        0          1          0  \n",
       "342         0        0          0          1  \n",
       "198         0        0          0          0  \n",
       "173         1        0          0          1  \n",
       "135         0        0          0          1  \n",
       "\n",
       "[5 rows x 46 columns]"
      ]
     },
     "execution_count": 31,
     "metadata": {},
     "output_type": "execute_result"
    }
   ],
   "source": [
    "\n",
    "#siguiendo la recomendación del criterio de asignar 1 a las categorías minoritarias\n",
    "df_desafio2['b_school'] = np.where(df_desafio2['school'] == 'MS', 1, 0)\n",
    "df_desafio2['b_sex'] = np.where(df_desafio2['sex'] == 'M', 1, 0)\n",
    "df_desafio2['b_address'] = np.where(df_desafio2['address'] == 'R', 1, 0)\n",
    "df_desafio2['b_famsize'] = np.where(df_desafio2['famsize'] == 'LE3', 1, 0)\n",
    "df_desafio2['b_Pstatus'] = np.where(df_desafio2['Pstatus'] == 'A', 1, 0)\n",
    "df_desafio2['b_schoolsup'] = np.where(df_desafio2['schoolsup'] == 'yes', 1, 0)\n",
    "df_desafio2['b_famsup'] = np.where(df_desafio2['famsup'] == 'no', 1, 0)\n",
    "df_desafio2['b_paid'] = np.where(df_desafio2['paid'] == 'yes', 1, 0)\n",
    "df_desafio2['b_activities'] = np.where(df_desafio2['activities'] == 'no', 1, 0)\n",
    "df_desafio2['b_nursery'] = np.where(df_desafio2['nursery'] == 'no', 1, 0)\n",
    "df_desafio2['b_higher'] = np.where(df_desafio2['higher'] == 'no', 1, 0)\n",
    "df_desafio2['b_internet'] = np.where(df_desafio2['internet'] == 'no', 1, 0)\n",
    "df_desafio2['b_romantic'] = np.where(df_desafio2['romantic'] == 'yes', 1, 0)\n",
    "\n",
    "#observamos el resultado\n",
    "df_desafio2.sample(5)"
   ]
  },
  {
   "cell_type": "markdown",
   "metadata": {},
   "source": [
    "* El procedimiento también debe aplicarse para aquelas variables nominales con más de 2 categorías siguiendo la misma lógica."
   ]
  },
  {
   "cell_type": "code",
   "execution_count": 32,
   "metadata": {},
   "outputs": [
    {
     "data": {
      "text/html": [
       "<div>\n",
       "<style scoped>\n",
       "    .dataframe tbody tr th:only-of-type {\n",
       "        vertical-align: middle;\n",
       "    }\n",
       "\n",
       "    .dataframe tbody tr th {\n",
       "        vertical-align: top;\n",
       "    }\n",
       "\n",
       "    .dataframe thead th {\n",
       "        text-align: right;\n",
       "    }\n",
       "</style>\n",
       "<table border=\"1\" class=\"dataframe\">\n",
       "  <thead>\n",
       "    <tr style=\"text-align: right;\">\n",
       "      <th></th>\n",
       "      <th>school</th>\n",
       "      <th>sex</th>\n",
       "      <th>age</th>\n",
       "      <th>address</th>\n",
       "      <th>famsize</th>\n",
       "      <th>Pstatus</th>\n",
       "      <th>Medu</th>\n",
       "      <th>Fedu</th>\n",
       "      <th>Mjob</th>\n",
       "      <th>Fjob</th>\n",
       "      <th>...</th>\n",
       "      <th>b_paid</th>\n",
       "      <th>b_activities</th>\n",
       "      <th>b_nursery</th>\n",
       "      <th>b_higher</th>\n",
       "      <th>b_internet</th>\n",
       "      <th>b_romantic</th>\n",
       "      <th>d_Mjob</th>\n",
       "      <th>d_Fjob</th>\n",
       "      <th>d_reason</th>\n",
       "      <th>d_guardian</th>\n",
       "    </tr>\n",
       "  </thead>\n",
       "  <tbody>\n",
       "    <tr>\n",
       "      <th>45</th>\n",
       "      <td>GP</td>\n",
       "      <td>F</td>\n",
       "      <td>\"15\"</td>\n",
       "      <td>U</td>\n",
       "      <td>LE3</td>\n",
       "      <td>A</td>\n",
       "      <td>4</td>\n",
       "      <td>3</td>\n",
       "      <td>other</td>\n",
       "      <td>other</td>\n",
       "      <td>...</td>\n",
       "      <td>1</td>\n",
       "      <td>0</td>\n",
       "      <td>0</td>\n",
       "      <td>0</td>\n",
       "      <td>0</td>\n",
       "      <td>1</td>\n",
       "      <td>0</td>\n",
       "      <td>0</td>\n",
       "      <td>0</td>\n",
       "      <td>0</td>\n",
       "    </tr>\n",
       "    <tr>\n",
       "      <th>289</th>\n",
       "      <td>GP</td>\n",
       "      <td>M</td>\n",
       "      <td>\"18\"</td>\n",
       "      <td>U</td>\n",
       "      <td>LE3</td>\n",
       "      <td>A</td>\n",
       "      <td>4</td>\n",
       "      <td>NaN</td>\n",
       "      <td>teacher</td>\n",
       "      <td>teacher</td>\n",
       "      <td>...</td>\n",
       "      <td>1</td>\n",
       "      <td>0</td>\n",
       "      <td>0</td>\n",
       "      <td>0</td>\n",
       "      <td>0</td>\n",
       "      <td>0</td>\n",
       "      <td>3</td>\n",
       "      <td>2</td>\n",
       "      <td>2</td>\n",
       "      <td>0</td>\n",
       "    </tr>\n",
       "    <tr>\n",
       "      <th>355</th>\n",
       "      <td>MS</td>\n",
       "      <td>F</td>\n",
       "      <td>\"18\"</td>\n",
       "      <td>U</td>\n",
       "      <td>GT3</td>\n",
       "      <td>T</td>\n",
       "      <td>3</td>\n",
       "      <td>3</td>\n",
       "      <td>services</td>\n",
       "      <td>services</td>\n",
       "      <td>...</td>\n",
       "      <td>0</td>\n",
       "      <td>1</td>\n",
       "      <td>0</td>\n",
       "      <td>0</td>\n",
       "      <td>1</td>\n",
       "      <td>1</td>\n",
       "      <td>1</td>\n",
       "      <td>1</td>\n",
       "      <td>0</td>\n",
       "      <td>1</td>\n",
       "    </tr>\n",
       "    <tr>\n",
       "      <th>53</th>\n",
       "      <td>GP</td>\n",
       "      <td>F</td>\n",
       "      <td>\"15\"</td>\n",
       "      <td>U</td>\n",
       "      <td>GT3</td>\n",
       "      <td>T</td>\n",
       "      <td>4</td>\n",
       "      <td>4</td>\n",
       "      <td>services</td>\n",
       "      <td>services</td>\n",
       "      <td>...</td>\n",
       "      <td>1</td>\n",
       "      <td>1</td>\n",
       "      <td>0</td>\n",
       "      <td>0</td>\n",
       "      <td>0</td>\n",
       "      <td>0</td>\n",
       "      <td>1</td>\n",
       "      <td>1</td>\n",
       "      <td>0</td>\n",
       "      <td>0</td>\n",
       "    </tr>\n",
       "    <tr>\n",
       "      <th>67</th>\n",
       "      <td>GP</td>\n",
       "      <td>F</td>\n",
       "      <td>\"16\"</td>\n",
       "      <td>U</td>\n",
       "      <td>GT3</td>\n",
       "      <td>T</td>\n",
       "      <td>3</td>\n",
       "      <td>1</td>\n",
       "      <td>services</td>\n",
       "      <td>other</td>\n",
       "      <td>...</td>\n",
       "      <td>1</td>\n",
       "      <td>1</td>\n",
       "      <td>0</td>\n",
       "      <td>0</td>\n",
       "      <td>0</td>\n",
       "      <td>0</td>\n",
       "      <td>1</td>\n",
       "      <td>0</td>\n",
       "      <td>0</td>\n",
       "      <td>0</td>\n",
       "    </tr>\n",
       "  </tbody>\n",
       "</table>\n",
       "<p>5 rows × 50 columns</p>\n",
       "</div>"
      ],
      "text/plain": [
       "    school sex   age address famsize Pstatus Medu Fedu      Mjob      Fjob  \\\n",
       "45      GP   F  \"15\"       U     LE3       A    4    3     other     other   \n",
       "289     GP   M  \"18\"       U     LE3       A    4  NaN   teacher   teacher   \n",
       "355     MS   F  \"18\"       U     GT3       T    3    3  services  services   \n",
       "53      GP   F  \"15\"       U     GT3       T    4    4  services  services   \n",
       "67      GP   F  \"16\"       U     GT3       T    3    1  services     other   \n",
       "\n",
       "     ... b_paid b_activities b_nursery b_higher b_internet b_romantic d_Mjob  \\\n",
       "45   ...      1            0         0        0          0          1      0   \n",
       "289  ...      1            0         0        0          0          0      3   \n",
       "355  ...      0            1         0        0          1          1      1   \n",
       "53   ...      1            1         0        0          0          0      1   \n",
       "67   ...      1            1         0        0          0          0      1   \n",
       "\n",
       "    d_Fjob d_reason d_guardian  \n",
       "45       0        0          0  \n",
       "289      2        2          0  \n",
       "355      1        0          1  \n",
       "53       1        0          0  \n",
       "67       0        0          0  \n",
       "\n",
       "[5 rows x 50 columns]"
      ]
     },
     "execution_count": 32,
     "metadata": {},
     "output_type": "execute_result"
    }
   ],
   "source": [
    "#reemplazamos las variables categoricas('Mjob', 'Fjob', 'reason', 'guardian')\n",
    "#siguiendo la recomendación los valores más altos son los que tienen una menor frecuencia\n",
    "#los valores 'Nan' son reemplazados por el número 9\n",
    "df_desafio2['d_Mjob'] = df_desafio2['Mjob'].replace(['other', 'services', 'at_home', 'teacher', 'health', 'Nan'],\n",
    "                                                  [0, 1, 2, 3, 4, 9])\n",
    "df_desafio2['d_Fjob'] = df_desafio2['Fjob'].replace(['other', 'services', 'teacher', 'at_home', 'health'],\n",
    "                                                    [0, 1, 2, 3, 4])\n",
    "df_desafio2['d_reason'] = df_desafio2['reason'].replace(['course', 'home', 'reputation', 'other', 'Nan'], \n",
    "                                                        [0, 1, 2, 3, 9])\n",
    "df_desafio2['d_guardian'] = df_desafio2['guardian'].replace(['mother', 'father', 'other', 'Nan'],\n",
    "                                                            [0, 1, 2, 9])\n",
    "df_desafio2.sample(5)"
   ]
  },
  {
   "cell_type": "code",
   "execution_count": 33,
   "metadata": {},
   "outputs": [
    {
     "data": {
      "text/plain": [
       "0    270\n",
       "1     89\n",
       "2     32\n",
       "Name: d_guardian, dtype: int64"
      ]
     },
     "execution_count": 33,
     "metadata": {},
     "output_type": "execute_result"
    }
   ],
   "source": [
    "df_desafio2['d_guardian'].value_counts()"
   ]
  },
  {
   "cell_type": "code",
   "execution_count": 34,
   "metadata": {},
   "outputs": [
    {
     "data": {
      "text/plain": [
       "0"
      ]
     },
     "execution_count": 34,
     "metadata": {},
     "output_type": "execute_result"
    }
   ],
   "source": [
    "df_desafio2['Fjob'].isna().sum()"
   ]
  },
  {
   "cell_type": "code",
   "execution_count": null,
   "metadata": {},
   "outputs": [],
   "source": []
  }
 ],
 "metadata": {
  "kernelspec": {
   "display_name": "Python 3",
   "language": "python",
   "name": "python3"
  },
  "language_info": {
   "codemirror_mode": {
    "name": "ipython",
    "version": 3
   },
   "file_extension": ".py",
   "mimetype": "text/x-python",
   "name": "python",
   "nbconvert_exporter": "python",
   "pygments_lexer": "ipython3",
   "version": "3.7.3"
  }
 },
 "nbformat": 4,
 "nbformat_minor": 2
}
