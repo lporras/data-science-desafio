{
 "cells": [
  {
   "cell_type": "markdown",
   "metadata": {},
   "source": [
    "# <center> Ayudantía Data Science - Fundamentos de Data Science\n",
    "-----------\n",
    "\n",
    "### Wilson Mejías Caballero"
   ]
  },
  {
   "cell_type": "code",
   "execution_count": 1,
   "metadata": {},
   "outputs": [],
   "source": [
    "#Importación de librerias \n",
    "\n",
    "import pandas as pd\n",
    "import numpy as np\n",
    "import scipy as scy\n",
    "import matplotlib.pyplot as plt\n",
    "import seaborn as sns\n",
    "import warnings\n",
    "warnings.filterwarnings(\"ignore\")\n",
    "plt.style.use('ggplot')"
   ]
  },
  {
   "cell_type": "markdown",
   "metadata": {},
   "source": [
    "### Accidentes de Transito y clima\n",
    "\n",
    "Para esta actividad deberá utilizar la base de datos “BD_Actividad2.txt” la cual contiene datos ficticios de variables registradas para días de tormenta. El objetivo de esta actividad es poder trabajar con distintos tipos de variables y determinar el nivel de asociación que existe entre estas, mediante índices de correlación. Una vez definidas las variables con mayor parentesco, se realizará un modelo lineal con estas.\n",
    "\n",
    "Listado de Variables:\n",
    "\n",
    "* temperatura: Temperatura media (°C) registrada durante día controlado\n",
    "* precipitación: Precipitación total (mm) registrada durante día controlado\n",
    "* velocidad_viento: Velocidad media (km/hra) registrada durante día controlado\n",
    "* Caudal: Caudadl medio (m3/seg) del curso de agua de la avinda principal durante día controlado\n",
    "* N_accidentes: Número de aacidentes registrados durante día controlado"
   ]
  },
  {
   "cell_type": "code",
   "execution_count": 2,
   "metadata": {},
   "outputs": [],
   "source": [
    "#Importación de base de datos\n",
    "\n",
    "df1=pd.read_table(\"BD_Actividad2.txt\", decimal=\",\", encoding=\"latin-1\")"
   ]
  },
  {
   "cell_type": "code",
   "execution_count": 3,
   "metadata": {},
   "outputs": [
    {
     "data": {
      "text/html": [
       "<div>\n",
       "<style scoped>\n",
       "    .dataframe tbody tr th:only-of-type {\n",
       "        vertical-align: middle;\n",
       "    }\n",
       "\n",
       "    .dataframe tbody tr th {\n",
       "        vertical-align: top;\n",
       "    }\n",
       "\n",
       "    .dataframe thead th {\n",
       "        text-align: right;\n",
       "    }\n",
       "</style>\n",
       "<table border=\"1\" class=\"dataframe\">\n",
       "  <thead>\n",
       "    <tr style=\"text-align: right;\">\n",
       "      <th></th>\n",
       "      <th>temperatura</th>\n",
       "      <th>precipitación</th>\n",
       "      <th>velocidad_viento</th>\n",
       "      <th>Caudal</th>\n",
       "      <th>N_de_accidentes</th>\n",
       "    </tr>\n",
       "  </thead>\n",
       "  <tbody>\n",
       "    <tr>\n",
       "      <th>0</th>\n",
       "      <td>11</td>\n",
       "      <td>17</td>\n",
       "      <td>28</td>\n",
       "      <td>21.33</td>\n",
       "      <td>1</td>\n",
       "    </tr>\n",
       "    <tr>\n",
       "      <th>1</th>\n",
       "      <td>7</td>\n",
       "      <td>6</td>\n",
       "      <td>8</td>\n",
       "      <td>14.00</td>\n",
       "      <td>1</td>\n",
       "    </tr>\n",
       "    <tr>\n",
       "      <th>2</th>\n",
       "      <td>16</td>\n",
       "      <td>33</td>\n",
       "      <td>30</td>\n",
       "      <td>32.00</td>\n",
       "      <td>8</td>\n",
       "    </tr>\n",
       "    <tr>\n",
       "      <th>3</th>\n",
       "      <td>28</td>\n",
       "      <td>0</td>\n",
       "      <td>9</td>\n",
       "      <td>10.00</td>\n",
       "      <td>2</td>\n",
       "    </tr>\n",
       "    <tr>\n",
       "      <th>4</th>\n",
       "      <td>11</td>\n",
       "      <td>21</td>\n",
       "      <td>9</td>\n",
       "      <td>24.00</td>\n",
       "      <td>8</td>\n",
       "    </tr>\n",
       "  </tbody>\n",
       "</table>\n",
       "</div>"
      ],
      "text/plain": [
       "   temperatura  precipitación  velocidad_viento  Caudal  N_de_accidentes\n",
       "0           11             17                28   21.33                1\n",
       "1            7              6                 8   14.00                1\n",
       "2           16             33                30   32.00                8\n",
       "3           28              0                 9   10.00                2\n",
       "4           11             21                 9   24.00                8"
      ]
     },
     "execution_count": 3,
     "metadata": {},
     "output_type": "execute_result"
    }
   ],
   "source": [
    "df1.head()"
   ]
  },
  {
   "cell_type": "code",
   "execution_count": 4,
   "metadata": {},
   "outputs": [
    {
     "data": {
      "text/plain": [
       "(29, 5)"
      ]
     },
     "execution_count": 4,
     "metadata": {},
     "output_type": "execute_result"
    }
   ],
   "source": [
    "df1.shape"
   ]
  },
  {
   "cell_type": "code",
   "execution_count": 5,
   "metadata": {},
   "outputs": [
    {
     "data": {
      "text/html": [
       "<div>\n",
       "<style scoped>\n",
       "    .dataframe tbody tr th:only-of-type {\n",
       "        vertical-align: middle;\n",
       "    }\n",
       "\n",
       "    .dataframe tbody tr th {\n",
       "        vertical-align: top;\n",
       "    }\n",
       "\n",
       "    .dataframe thead th {\n",
       "        text-align: right;\n",
       "    }\n",
       "</style>\n",
       "<table border=\"1\" class=\"dataframe\">\n",
       "  <thead>\n",
       "    <tr style=\"text-align: right;\">\n",
       "      <th></th>\n",
       "      <th>temperatura</th>\n",
       "      <th>precipitación</th>\n",
       "      <th>velocidad_viento</th>\n",
       "      <th>Caudal</th>\n",
       "      <th>N_de_accidentes</th>\n",
       "    </tr>\n",
       "  </thead>\n",
       "  <tbody>\n",
       "    <tr>\n",
       "      <th>count</th>\n",
       "      <td>29.000000</td>\n",
       "      <td>29.000000</td>\n",
       "      <td>29.000000</td>\n",
       "      <td>29.000000</td>\n",
       "      <td>29.000000</td>\n",
       "    </tr>\n",
       "    <tr>\n",
       "      <th>mean</th>\n",
       "      <td>17.689655</td>\n",
       "      <td>12.034483</td>\n",
       "      <td>16.551724</td>\n",
       "      <td>16.916207</td>\n",
       "      <td>4.931034</td>\n",
       "    </tr>\n",
       "    <tr>\n",
       "      <th>std</th>\n",
       "      <td>7.649012</td>\n",
       "      <td>18.605842</td>\n",
       "      <td>7.716338</td>\n",
       "      <td>9.124622</td>\n",
       "      <td>3.069796</td>\n",
       "    </tr>\n",
       "    <tr>\n",
       "      <th>min</th>\n",
       "      <td>3.000000</td>\n",
       "      <td>0.000000</td>\n",
       "      <td>8.000000</td>\n",
       "      <td>10.000000</td>\n",
       "      <td>1.000000</td>\n",
       "    </tr>\n",
       "    <tr>\n",
       "      <th>25%</th>\n",
       "      <td>11.000000</td>\n",
       "      <td>2.000000</td>\n",
       "      <td>10.000000</td>\n",
       "      <td>12.000000</td>\n",
       "      <td>2.000000</td>\n",
       "    </tr>\n",
       "    <tr>\n",
       "      <th>50%</th>\n",
       "      <td>20.000000</td>\n",
       "      <td>4.000000</td>\n",
       "      <td>15.000000</td>\n",
       "      <td>12.670000</td>\n",
       "      <td>5.000000</td>\n",
       "    </tr>\n",
       "    <tr>\n",
       "      <th>75%</th>\n",
       "      <td>23.000000</td>\n",
       "      <td>13.000000</td>\n",
       "      <td>22.000000</td>\n",
       "      <td>19.330000</td>\n",
       "      <td>8.000000</td>\n",
       "    </tr>\n",
       "    <tr>\n",
       "      <th>max</th>\n",
       "      <td>28.000000</td>\n",
       "      <td>69.000000</td>\n",
       "      <td>30.000000</td>\n",
       "      <td>51.330000</td>\n",
       "      <td>10.000000</td>\n",
       "    </tr>\n",
       "  </tbody>\n",
       "</table>\n",
       "</div>"
      ],
      "text/plain": [
       "       temperatura  precipitación  velocidad_viento     Caudal  \\\n",
       "count    29.000000      29.000000         29.000000  29.000000   \n",
       "mean     17.689655      12.034483         16.551724  16.916207   \n",
       "std       7.649012      18.605842          7.716338   9.124622   \n",
       "min       3.000000       0.000000          8.000000  10.000000   \n",
       "25%      11.000000       2.000000         10.000000  12.000000   \n",
       "50%      20.000000       4.000000         15.000000  12.670000   \n",
       "75%      23.000000      13.000000         22.000000  19.330000   \n",
       "max      28.000000      69.000000         30.000000  51.330000   \n",
       "\n",
       "       N_de_accidentes  \n",
       "count        29.000000  \n",
       "mean          4.931034  \n",
       "std           3.069796  \n",
       "min           1.000000  \n",
       "25%           2.000000  \n",
       "50%           5.000000  \n",
       "75%           8.000000  \n",
       "max          10.000000  "
      ]
     },
     "execution_count": 5,
     "metadata": {},
     "output_type": "execute_result"
    }
   ],
   "source": [
    "#Analisis preliminar de las variabless\n",
    "\n",
    "df1.describe()"
   ]
  },
  {
   "cell_type": "code",
   "execution_count": 6,
   "metadata": {},
   "outputs": [],
   "source": [
    "#Función para graficar variables en un Data Frame\n",
    "\n",
    "def explor (df):\n",
    "    for n, i in enumerate(df):\n",
    "        plt.subplot((len(list(df.columns))/3)+1,3,n+1)\n",
    "        if df[i].dtypes ==float:\n",
    "            sns.distplot(df[i])\n",
    "            plt.title(i)\n",
    "            plt.xlabel(\"\")\n",
    "        elif df[i].dtypes ==\"object\":\n",
    "            sns.countplot(df[i])\n",
    "            plt.title(i)\n",
    "            plt.xlabel(\"\")\n",
    "        else:\n",
    "            sns.distplot(df[i],kde=False)\n",
    "            plt.title(i)\n",
    "            plt.xlabel(\"\")\n",
    "    plt.tight_layout()"
   ]
  },
  {
   "cell_type": "code",
   "execution_count": 7,
   "metadata": {},
   "outputs": [
    {
     "data": {
      "image/png": "[encoded data removed]",
      "text/plain": [
       "<Figure size 720x432 with 5 Axes>"
      ]
     },
     "metadata": {
      "needs_background": "light"
     },
     "output_type": "display_data"
    }
   ],
   "source": [
    "#Graficar Variables\n",
    "\n",
    "plt.rcParams['figure.figsize'] = (10, 6)\n",
    "explor(df1)"
   ]
  },
  {
   "cell_type": "code",
   "execution_count": 8,
   "metadata": {},
   "outputs": [
    {
     "data": {
      "text/plain": [
       "<matplotlib.axes._subplots.AxesSubplot at 0x1a16425d30>"
      ]
     },
     "execution_count": 8,
     "metadata": {},
     "output_type": "execute_result"
    },
    {
     "data": {
      "image/png": "[encoded data removed]",
      "text/plain": [
       "<Figure size 720x432 with 2 Axes>"
      ]
     },
     "metadata": {
      "needs_background": "light"
     },
     "output_type": "display_data"
    }
   ],
   "source": [
    "#Nivel de Asoción entre variables\n",
    "\n",
    "sns.heatmap(df1.corr( method='pearson'), annot=True, cmap=\"Blues\")"
   ]
  },
  {
   "cell_type": "markdown",
   "metadata": {},
   "source": [
    "Al parecer la relación más importante para el número de accidentes, sería la cantidad de precipitación que cae durante el día. "
   ]
  },
  {
   "cell_type": "code",
   "execution_count": 9,
   "metadata": {},
   "outputs": [
    {
     "data": {
      "text/plain": [
       "<matplotlib.axes._subplots.AxesSubplot at 0x1a16514e10>"
      ]
     },
     "execution_count": 9,
     "metadata": {},
     "output_type": "execute_result"
    },
    {
     "data": {
      "image/png": "[encoded data removed]",
      "text/plain": [
       "<Figure size 720x432 with 2 Axes>"
      ]
     },
     "metadata": {
      "needs_background": "light"
     },
     "output_type": "display_data"
    }
   ],
   "source": [
    "sns.heatmap(df1.corr( method='spearman'), annot=True, cmap=\"Blues\")"
   ]
  },
  {
   "cell_type": "markdown",
   "metadata": {},
   "source": [
    "Al parecer la relación entre el número de accidentes y la precipitación sería del tipo lineal, ya que el valor de la correlación de pearson de ajusta de mejor manera que el de spearman"
   ]
  },
  {
   "cell_type": "code",
   "execution_count": 10,
   "metadata": {},
   "outputs": [
    {
     "data": {
      "text/plain": [
       "<matplotlib.axes._subplots.AxesSubplot at 0x1a165ff048>"
      ]
     },
     "execution_count": 10,
     "metadata": {},
     "output_type": "execute_result"
    },
    {
     "data": {
      "image/png": "[encoded data removed]",
      "text/plain": [
       "<Figure size 720x432 with 1 Axes>"
      ]
     },
     "metadata": {
      "needs_background": "light"
     },
     "output_type": "display_data"
    }
   ],
   "source": [
    "#Grafico de Dispersión entre variables\n",
    "\n",
    "sns.regplot(y=\"N_de_accidentes\",x= \"precipitación\", data=df1)"
   ]
  },
  {
   "cell_type": "markdown",
   "metadata": {},
   "source": [
    "Se aprecia una cierta relación lineal, pero los puntos aún tienen mucha dispersión."
   ]
  },
  {
   "cell_type": "code",
   "execution_count": 11,
   "metadata": {},
   "outputs": [
    {
     "data": {
      "text/plain": [
       "<matplotlib.axes._subplots.AxesSubplot at 0x1a16676860>"
      ]
     },
     "execution_count": 11,
     "metadata": {},
     "output_type": "execute_result"
    },
    {
     "data": {
      "image/png": "[encoded data removed]",
      "text/plain": [
       "<Figure size 720x432 with 1 Axes>"
      ]
     },
     "metadata": {
      "needs_background": "light"
     },
     "output_type": "display_data"
    }
   ],
   "source": [
    "sns.regplot(y=\"N_de_accidentes\",x= \"precipitación\", data=df1,lowess=True)"
   ]
  },
  {
   "cell_type": "markdown",
   "metadata": {},
   "source": [
    "Tampoco se aprecia una relación que sea no lineal enre las variables"
   ]
  },
  {
   "cell_type": "code",
   "execution_count": 12,
   "metadata": {},
   "outputs": [
    {
     "data": {
      "text/plain": [
       "(0.3064364237751781, 0.105923343045782)"
      ]
     },
     "execution_count": 12,
     "metadata": {},
     "output_type": "execute_result"
    }
   ],
   "source": [
    "#Significacia de la correlación\n",
    "\n",
    "from scipy.stats.stats import pearsonr\n",
    "pearsonr(df1[\"precipitación\"], df1[\"N_de_accidentes\"])\n"
   ]
  },
  {
   "cell_type": "markdown",
   "metadata": {},
   "source": [
    "# Crecimiento de plantas \n",
    "\n",
    "Para esta actividad deberá utilizar la base de datos “BD_Actividad3.csv” la cual contiene datos ficticios de crecimiento de plantas. El Objetivo de esta actividad es verificar las diferencias exixtentes entre los sitios y ttratamientos. variables:\n",
    "\n",
    "* Crecimiento_altura: Crecimiento en altura (cm) de plantas al momento de ser evaluadas \n",
    "* Crecimiento_diametro: Crecimiento en diametro (mm) de plantas al momento de ser evaluadas\n",
    "* Tratamiento: Tipo de Fertilizante aplicado a la planta\n",
    "* Zona: Sitio en donde esta creciendo la plata\n",
    "\n"
   ]
  },
  {
   "cell_type": "code",
   "execution_count": 13,
   "metadata": {},
   "outputs": [],
   "source": [
    "df2=pd.read_csv(\"BD _Actividad3.csv\")"
   ]
  },
  {
   "cell_type": "code",
   "execution_count": 14,
   "metadata": {},
   "outputs": [
    {
     "data": {
      "text/html": [
       "<div>\n",
       "<style scoped>\n",
       "    .dataframe tbody tr th:only-of-type {\n",
       "        vertical-align: middle;\n",
       "    }\n",
       "\n",
       "    .dataframe tbody tr th {\n",
       "        vertical-align: top;\n",
       "    }\n",
       "\n",
       "    .dataframe thead th {\n",
       "        text-align: right;\n",
       "    }\n",
       "</style>\n",
       "<table border=\"1\" class=\"dataframe\">\n",
       "  <thead>\n",
       "    <tr style=\"text-align: right;\">\n",
       "      <th></th>\n",
       "      <th>Crecimiento_altura;Crecimiento_diametro;Tratamiento;Zona</th>\n",
       "    </tr>\n",
       "  </thead>\n",
       "  <tbody>\n",
       "    <tr>\n",
       "      <th>0</th>\n",
       "      <td>34;39;Tr1;Z1</td>\n",
       "    </tr>\n",
       "    <tr>\n",
       "      <th>1</th>\n",
       "      <td>29;50;Tr1;Z1</td>\n",
       "    </tr>\n",
       "    <tr>\n",
       "      <th>2</th>\n",
       "      <td>33;56;Tr1;Z1</td>\n",
       "    </tr>\n",
       "    <tr>\n",
       "      <th>3</th>\n",
       "      <td>28;48;Tr1;Z1</td>\n",
       "    </tr>\n",
       "    <tr>\n",
       "      <th>4</th>\n",
       "      <td>39;34;Tr1;Z1</td>\n",
       "    </tr>\n",
       "  </tbody>\n",
       "</table>\n",
       "</div>"
      ],
      "text/plain": [
       "  Crecimiento_altura;Crecimiento_diametro;Tratamiento;Zona\n",
       "0                                       34;39;Tr1;Z1      \n",
       "1                                       29;50;Tr1;Z1      \n",
       "2                                       33;56;Tr1;Z1      \n",
       "3                                       28;48;Tr1;Z1      \n",
       "4                                       39;34;Tr1;Z1      "
      ]
     },
     "execution_count": 14,
     "metadata": {},
     "output_type": "execute_result"
    }
   ],
   "source": [
    "df2.head()"
   ]
  },
  {
   "cell_type": "code",
   "execution_count": 15,
   "metadata": {},
   "outputs": [],
   "source": [
    "#Corregir problema del separador\n",
    "\n",
    "df2=pd.read_csv(\"BD _Actividad3.csv\", sep=\";\")"
   ]
  },
  {
   "cell_type": "code",
   "execution_count": 16,
   "metadata": {},
   "outputs": [
    {
     "data": {
      "text/html": [
       "<div>\n",
       "<style scoped>\n",
       "    .dataframe tbody tr th:only-of-type {\n",
       "        vertical-align: middle;\n",
       "    }\n",
       "\n",
       "    .dataframe tbody tr th {\n",
       "        vertical-align: top;\n",
       "    }\n",
       "\n",
       "    .dataframe thead th {\n",
       "        text-align: right;\n",
       "    }\n",
       "</style>\n",
       "<table border=\"1\" class=\"dataframe\">\n",
       "  <thead>\n",
       "    <tr style=\"text-align: right;\">\n",
       "      <th></th>\n",
       "      <th>Crecimiento_altura</th>\n",
       "      <th>Crecimiento_diametro</th>\n",
       "      <th>Tratamiento</th>\n",
       "      <th>Zona</th>\n",
       "    </tr>\n",
       "  </thead>\n",
       "  <tbody>\n",
       "    <tr>\n",
       "      <th>0</th>\n",
       "      <td>34</td>\n",
       "      <td>39</td>\n",
       "      <td>Tr1</td>\n",
       "      <td>Z1</td>\n",
       "    </tr>\n",
       "    <tr>\n",
       "      <th>1</th>\n",
       "      <td>29</td>\n",
       "      <td>50</td>\n",
       "      <td>Tr1</td>\n",
       "      <td>Z1</td>\n",
       "    </tr>\n",
       "    <tr>\n",
       "      <th>2</th>\n",
       "      <td>33</td>\n",
       "      <td>56</td>\n",
       "      <td>Tr1</td>\n",
       "      <td>Z1</td>\n",
       "    </tr>\n",
       "    <tr>\n",
       "      <th>3</th>\n",
       "      <td>28</td>\n",
       "      <td>48</td>\n",
       "      <td>Tr1</td>\n",
       "      <td>Z1</td>\n",
       "    </tr>\n",
       "    <tr>\n",
       "      <th>4</th>\n",
       "      <td>39</td>\n",
       "      <td>34</td>\n",
       "      <td>Tr1</td>\n",
       "      <td>Z1</td>\n",
       "    </tr>\n",
       "  </tbody>\n",
       "</table>\n",
       "</div>"
      ],
      "text/plain": [
       "   Crecimiento_altura  Crecimiento_diametro Tratamiento Zona\n",
       "0                  34                    39         Tr1   Z1\n",
       "1                  29                    50         Tr1   Z1\n",
       "2                  33                    56         Tr1   Z1\n",
       "3                  28                    48         Tr1   Z1\n",
       "4                  39                    34         Tr1   Z1"
      ]
     },
     "execution_count": 16,
     "metadata": {},
     "output_type": "execute_result"
    }
   ],
   "source": [
    "df2.head()"
   ]
  },
  {
   "cell_type": "code",
   "execution_count": 17,
   "metadata": {},
   "outputs": [
    {
     "data": {
      "text/plain": [
       "(45, 4)"
      ]
     },
     "execution_count": 17,
     "metadata": {},
     "output_type": "execute_result"
    }
   ],
   "source": [
    "df2.shape"
   ]
  },
  {
   "cell_type": "code",
   "execution_count": 18,
   "metadata": {},
   "outputs": [
    {
     "data": {
      "image/png": "[encoded data removed]",
      "text/plain": [
       "<Figure size 720x432 with 4 Axes>"
      ]
     },
     "metadata": {
      "needs_background": "light"
     },
     "output_type": "display_data"
    }
   ],
   "source": [
    "explor(df2)"
   ]
  },
  {
   "cell_type": "code",
   "execution_count": 19,
   "metadata": {},
   "outputs": [],
   "source": [
    "#Realizamos graficos pla ver diferencias entre valores\n",
    "\n",
    "def df_boxplot (df):\n",
    "    \n",
    "    categorica=[]\n",
    "    numerica=[]\n",
    "    \n",
    "    for n, i in enumerate(df):\n",
    "        if (df[i].dtypes ==\"object\"):\n",
    "            categorica.append(i)\n",
    "        else:\n",
    "            numerica.append(i)\n",
    "    print(\"Las variables numericas son {}\".format(numerica))\n",
    "    print(\"Las variables cateroricas son {}\".format(categorica))    \n",
    "    \n",
    "    n=1\n",
    "    for i in categorica:\n",
    "        for j in numerica:\n",
    "            plt.subplot((len(list(df.columns))/3)+1,3,n)\n",
    "            ax=sns.boxplot(x=i, y=j ,data=df)\n",
    "            n+=1\n",
    "    plt.tight_layout()"
   ]
  },
  {
   "cell_type": "code",
   "execution_count": 20,
   "metadata": {},
   "outputs": [
    {
     "name": "stdout",
     "output_type": "stream",
     "text": [
      "Las variables numericas son ['Crecimiento_altura', 'Crecimiento_diametro']\n",
      "Las variables cateroricas son ['Tratamiento', 'Zona']\n"
     ]
    },
    {
     "data": {
      "image/png": "[encoded data removed]",
      "text/plain": [
       "<Figure size 720x432 with 4 Axes>"
      ]
     },
     "metadata": {
      "needs_background": "light"
     },
     "output_type": "display_data"
    }
   ],
   "source": [
    "df_boxplot(df2)"
   ]
  },
  {
   "cell_type": "markdown",
   "metadata": {},
   "source": [
    "Se pueden apreciar diferencias entre el crecimiento en altura de los diferentes tratamiento y el crecimiento en diametro de las distintas zonas."
   ]
  },
  {
   "cell_type": "code",
   "execution_count": 21,
   "metadata": {},
   "outputs": [],
   "source": [
    "#Realizar ANOVA\n",
    "\n",
    "import statsmodels.api as sm\n",
    "from statsmodels.formula.api import ols"
   ]
  },
  {
   "attachments": {
    "image.png": {
     "image/png": "[encoded data removed]"
    }
   },
   "cell_type": "markdown",
   "metadata": {},
   "source": [
    "#### En ANOVA se plantean las siguientes hipotesis\n",
    "\n",
    "\n",
    "![image.png](attachment:image.png)\n",
    "\n"
   ]
  },
  {
   "cell_type": "code",
   "execution_count": 22,
   "metadata": {},
   "outputs": [
    {
     "data": {
      "text/html": [
       "<table class=\"simpletable\">\n",
       "<caption>OLS Regression Results</caption>\n",
       "<tr>\n",
       "  <th>Dep. Variable:</th>    <td>Crecimiento_altura</td> <th>  R-squared:         </th> <td>   0.900</td>\n",
       "</tr>\n",
       "<tr>\n",
       "  <th>Model:</th>                    <td>OLS</td>        <th>  Adj. R-squared:    </th> <td>   0.895</td>\n",
       "</tr>\n",
       "<tr>\n",
       "  <th>Method:</th>              <td>Least Squares</td>   <th>  F-statistic:       </th> <td>   188.2</td>\n",
       "</tr>\n",
       "<tr>\n",
       "  <th>Date:</th>              <td>Tue, 13 Aug 2019</td>  <th>  Prob (F-statistic):</th> <td>1.08e-21</td>\n",
       "</tr>\n",
       "<tr>\n",
       "  <th>Time:</th>                  <td>20:53:58</td>      <th>  Log-Likelihood:    </th> <td> -135.97</td>\n",
       "</tr>\n",
       "<tr>\n",
       "  <th>No. Observations:</th>       <td>    45</td>       <th>  AIC:               </th> <td>   277.9</td>\n",
       "</tr>\n",
       "<tr>\n",
       "  <th>Df Residuals:</th>           <td>    42</td>       <th>  BIC:               </th> <td>   283.4</td>\n",
       "</tr>\n",
       "<tr>\n",
       "  <th>Df Model:</th>               <td>     2</td>       <th>                     </th>     <td> </td>   \n",
       "</tr>\n",
       "<tr>\n",
       "  <th>Covariance Type:</th>       <td>nonrobust</td>     <th>                     </th>     <td> </td>   \n",
       "</tr>\n",
       "</table>\n",
       "<table class=\"simpletable\">\n",
       "<tr>\n",
       "           <td></td>             <th>coef</th>     <th>std err</th>      <th>t</th>      <th>P>|t|</th>  <th>[0.025</th>    <th>0.975]</th>  \n",
       "</tr>\n",
       "<tr>\n",
       "  <th>Intercept</th>          <td>   30.3333</td> <td>    1.327</td> <td>   22.856</td> <td> 0.000</td> <td>   27.655</td> <td>   33.012</td>\n",
       "</tr>\n",
       "<tr>\n",
       "  <th>Tratamiento[T.Tr2]</th> <td>  -17.4000</td> <td>    1.877</td> <td>   -9.271</td> <td> 0.000</td> <td>  -21.188</td> <td>  -13.612</td>\n",
       "</tr>\n",
       "<tr>\n",
       "  <th>Tratamiento[T.Tr3]</th> <td>   19.0000</td> <td>    1.877</td> <td>   10.123</td> <td> 0.000</td> <td>   15.212</td> <td>   22.788</td>\n",
       "</tr>\n",
       "</table>\n",
       "<table class=\"simpletable\">\n",
       "<tr>\n",
       "  <th>Omnibus:</th>       <td> 7.451</td> <th>  Durbin-Watson:     </th> <td>   2.021</td>\n",
       "</tr>\n",
       "<tr>\n",
       "  <th>Prob(Omnibus):</th> <td> 0.024</td> <th>  Jarque-Bera (JB):  </th> <td>   7.406</td>\n",
       "</tr>\n",
       "<tr>\n",
       "  <th>Skew:</th>          <td>-0.605</td> <th>  Prob(JB):          </th> <td>  0.0246</td>\n",
       "</tr>\n",
       "<tr>\n",
       "  <th>Kurtosis:</th>      <td> 4.577</td> <th>  Cond. No.          </th> <td>    3.73</td>\n",
       "</tr>\n",
       "</table><br/><br/>Warnings:<br/>[1] Standard Errors assume that the covariance matrix of the errors is correctly specified."
      ],
      "text/plain": [
       "<class 'statsmodels.iolib.summary.Summary'>\n",
       "\"\"\"\n",
       "                            OLS Regression Results                            \n",
       "==============================================================================\n",
       "Dep. Variable:     Crecimiento_altura   R-squared:                       0.900\n",
       "Model:                            OLS   Adj. R-squared:                  0.895\n",
       "Method:                 Least Squares   F-statistic:                     188.2\n",
       "Date:                Tue, 13 Aug 2019   Prob (F-statistic):           1.08e-21\n",
       "Time:                        20:53:58   Log-Likelihood:                -135.97\n",
       "No. Observations:                  45   AIC:                             277.9\n",
       "Df Residuals:                      42   BIC:                             283.4\n",
       "Df Model:                           2                                         \n",
       "Covariance Type:            nonrobust                                         \n",
       "======================================================================================\n",
       "                         coef    std err          t      P>|t|      [0.025      0.975]\n",
       "--------------------------------------------------------------------------------------\n",
       "Intercept             30.3333      1.327     22.856      0.000      27.655      33.012\n",
       "Tratamiento[T.Tr2]   -17.4000      1.877     -9.271      0.000     -21.188     -13.612\n",
       "Tratamiento[T.Tr3]    19.0000      1.877     10.123      0.000      15.212      22.788\n",
       "==============================================================================\n",
       "Omnibus:                        7.451   Durbin-Watson:                   2.021\n",
       "Prob(Omnibus):                  0.024   Jarque-Bera (JB):                7.406\n",
       "Skew:                          -0.605   Prob(JB):                       0.0246\n",
       "Kurtosis:                       4.577   Cond. No.                         3.73\n",
       "==============================================================================\n",
       "\n",
       "Warnings:\n",
       "[1] Standard Errors assume that the covariance matrix of the errors is correctly specified.\n",
       "\"\"\""
      ]
     },
     "execution_count": 22,
     "metadata": {},
     "output_type": "execute_result"
    }
   ],
   "source": [
    "model = ols('Crecimiento_altura ~ Tratamiento', data=df2).fit()\n",
    "model.summary()\n"
   ]
  },
  {
   "cell_type": "markdown",
   "metadata": {},
   "source": [
    "#### Los coeficientes de de los tratamiento 2 y  tratamiento3 son menores que 0.05, por lo que se asume que existe un efecto significativo sobre el crecimiento en altura"
   ]
  },
  {
   "cell_type": "code",
   "execution_count": 23,
   "metadata": {},
   "outputs": [
    {
     "data": {
      "text/html": [
       "<table class=\"simpletable\">\n",
       "<caption>OLS Regression Results</caption>\n",
       "<tr>\n",
       "  <th>Dep. Variable:</th>    <td>Crecimiento_diametro</td> <th>  R-squared:         </th> <td>   0.578</td>\n",
       "</tr>\n",
       "<tr>\n",
       "  <th>Model:</th>                     <td>OLS</td>         <th>  Adj. R-squared:    </th> <td>   0.558</td>\n",
       "</tr>\n",
       "<tr>\n",
       "  <th>Method:</th>               <td>Least Squares</td>    <th>  F-statistic:       </th> <td>   28.74</td>\n",
       "</tr>\n",
       "<tr>\n",
       "  <th>Date:</th>               <td>Tue, 13 Aug 2019</td>   <th>  Prob (F-statistic):</th> <td>1.37e-08</td>\n",
       "</tr>\n",
       "<tr>\n",
       "  <th>Time:</th>                   <td>20:53:58</td>       <th>  Log-Likelihood:    </th> <td> -165.31</td>\n",
       "</tr>\n",
       "<tr>\n",
       "  <th>No. Observations:</th>        <td>    45</td>        <th>  AIC:               </th> <td>   336.6</td>\n",
       "</tr>\n",
       "<tr>\n",
       "  <th>Df Residuals:</th>            <td>    42</td>        <th>  BIC:               </th> <td>   342.0</td>\n",
       "</tr>\n",
       "<tr>\n",
       "  <th>Df Model:</th>                <td>     2</td>        <th>                     </th>     <td> </td>   \n",
       "</tr>\n",
       "<tr>\n",
       "  <th>Covariance Type:</th>        <td>nonrobust</td>      <th>                     </th>     <td> </td>   \n",
       "</tr>\n",
       "</table>\n",
       "<table class=\"simpletable\">\n",
       "<tr>\n",
       "       <td></td>         <th>coef</th>     <th>std err</th>      <th>t</th>      <th>P>|t|</th>  <th>[0.025</th>    <th>0.975]</th>  \n",
       "</tr>\n",
       "<tr>\n",
       "  <th>Intercept</th>  <td>   48.3333</td> <td>    2.547</td> <td>   18.975</td> <td> 0.000</td> <td>   43.193</td> <td>   53.474</td>\n",
       "</tr>\n",
       "<tr>\n",
       "  <th>Zona[T.Z2]</th> <td>  -27.2667</td> <td>    3.602</td> <td>   -7.569</td> <td> 0.000</td> <td>  -34.536</td> <td>  -19.997</td>\n",
       "</tr>\n",
       "<tr>\n",
       "  <th>Zona[T.Z3]</th> <td>  -15.0000</td> <td>    3.602</td> <td>   -4.164</td> <td> 0.000</td> <td>  -22.270</td> <td>   -7.730</td>\n",
       "</tr>\n",
       "</table>\n",
       "<table class=\"simpletable\">\n",
       "<tr>\n",
       "  <th>Omnibus:</th>       <td> 1.953</td> <th>  Durbin-Watson:     </th> <td>   1.663</td>\n",
       "</tr>\n",
       "<tr>\n",
       "  <th>Prob(Omnibus):</th> <td> 0.377</td> <th>  Jarque-Bera (JB):  </th> <td>   1.430</td>\n",
       "</tr>\n",
       "<tr>\n",
       "  <th>Skew:</th>          <td> 0.436</td> <th>  Prob(JB):          </th> <td>   0.489</td>\n",
       "</tr>\n",
       "<tr>\n",
       "  <th>Kurtosis:</th>      <td> 3.038</td> <th>  Cond. No.          </th> <td>    3.73</td>\n",
       "</tr>\n",
       "</table><br/><br/>Warnings:<br/>[1] Standard Errors assume that the covariance matrix of the errors is correctly specified."
      ],
      "text/plain": [
       "<class 'statsmodels.iolib.summary.Summary'>\n",
       "\"\"\"\n",
       "                             OLS Regression Results                             \n",
       "================================================================================\n",
       "Dep. Variable:     Crecimiento_diametro   R-squared:                       0.578\n",
       "Model:                              OLS   Adj. R-squared:                  0.558\n",
       "Method:                   Least Squares   F-statistic:                     28.74\n",
       "Date:                  Tue, 13 Aug 2019   Prob (F-statistic):           1.37e-08\n",
       "Time:                          20:53:58   Log-Likelihood:                -165.31\n",
       "No. Observations:                    45   AIC:                             336.6\n",
       "Df Residuals:                        42   BIC:                             342.0\n",
       "Df Model:                             2                                         \n",
       "Covariance Type:              nonrobust                                         \n",
       "==============================================================================\n",
       "                 coef    std err          t      P>|t|      [0.025      0.975]\n",
       "------------------------------------------------------------------------------\n",
       "Intercept     48.3333      2.547     18.975      0.000      43.193      53.474\n",
       "Zona[T.Z2]   -27.2667      3.602     -7.569      0.000     -34.536     -19.997\n",
       "Zona[T.Z3]   -15.0000      3.602     -4.164      0.000     -22.270      -7.730\n",
       "==============================================================================\n",
       "Omnibus:                        1.953   Durbin-Watson:                   1.663\n",
       "Prob(Omnibus):                  0.377   Jarque-Bera (JB):                1.430\n",
       "Skew:                           0.436   Prob(JB):                        0.489\n",
       "Kurtosis:                       3.038   Cond. No.                         3.73\n",
       "==============================================================================\n",
       "\n",
       "Warnings:\n",
       "[1] Standard Errors assume that the covariance matrix of the errors is correctly specified.\n",
       "\"\"\""
      ]
     },
     "execution_count": 23,
     "metadata": {},
     "output_type": "execute_result"
    }
   ],
   "source": [
    "model = ols('Crecimiento_diametro ~ Zona', data=df2).fit()\n",
    "model.summary()\n"
   ]
  },
  {
   "cell_type": "markdown",
   "metadata": {},
   "source": [
    "#### Los coeficientes de de las Zona 2 y Zona 3 son menores que 0.05, por lo que se asume que existe un efecto significativo sobre el crecimiento en diametro"
   ]
  },
  {
   "cell_type": "code",
   "execution_count": 24,
   "metadata": {},
   "outputs": [
    {
     "data": {
      "text/html": [
       "<table class=\"simpletable\">\n",
       "<caption>OLS Regression Results</caption>\n",
       "<tr>\n",
       "  <th>Dep. Variable:</th>    <td>Crecimiento_diametro</td> <th>  R-squared:         </th> <td>   0.022</td>\n",
       "</tr>\n",
       "<tr>\n",
       "  <th>Model:</th>                     <td>OLS</td>         <th>  Adj. R-squared:    </th> <td>  -0.025</td>\n",
       "</tr>\n",
       "<tr>\n",
       "  <th>Method:</th>               <td>Least Squares</td>    <th>  F-statistic:       </th> <td>  0.4642</td>\n",
       "</tr>\n",
       "<tr>\n",
       "  <th>Date:</th>               <td>Tue, 13 Aug 2019</td>   <th>  Prob (F-statistic):</th>  <td> 0.632</td> \n",
       "</tr>\n",
       "<tr>\n",
       "  <th>Time:</th>                   <td>20:53:58</td>       <th>  Log-Likelihood:    </th> <td> -184.22</td>\n",
       "</tr>\n",
       "<tr>\n",
       "  <th>No. Observations:</th>        <td>    45</td>        <th>  AIC:               </th> <td>   374.4</td>\n",
       "</tr>\n",
       "<tr>\n",
       "  <th>Df Residuals:</th>            <td>    42</td>        <th>  BIC:               </th> <td>   379.9</td>\n",
       "</tr>\n",
       "<tr>\n",
       "  <th>Df Model:</th>                <td>     2</td>        <th>                     </th>     <td> </td>   \n",
       "</tr>\n",
       "<tr>\n",
       "  <th>Covariance Type:</th>        <td>nonrobust</td>      <th>                     </th>     <td> </td>   \n",
       "</tr>\n",
       "</table>\n",
       "<table class=\"simpletable\">\n",
       "<tr>\n",
       "           <td></td>             <th>coef</th>     <th>std err</th>      <th>t</th>      <th>P>|t|</th>  <th>[0.025</th>    <th>0.975]</th>  \n",
       "</tr>\n",
       "<tr>\n",
       "  <th>Intercept</th>          <td>   34.0000</td> <td>    3.878</td> <td>    8.768</td> <td> 0.000</td> <td>   26.175</td> <td>   41.825</td>\n",
       "</tr>\n",
       "<tr>\n",
       "  <th>Tratamiento[T.Tr2]</th> <td>   -2.2667</td> <td>    5.484</td> <td>   -0.413</td> <td> 0.681</td> <td>  -13.334</td> <td>    8.800</td>\n",
       "</tr>\n",
       "<tr>\n",
       "  <th>Tratamiento[T.Tr3]</th> <td>    3.0000</td> <td>    5.484</td> <td>    0.547</td> <td> 0.587</td> <td>   -8.067</td> <td>   14.067</td>\n",
       "</tr>\n",
       "</table>\n",
       "<table class=\"simpletable\">\n",
       "<tr>\n",
       "  <th>Omnibus:</th>       <td> 0.209</td> <th>  Durbin-Watson:     </th> <td>   1.026</td>\n",
       "</tr>\n",
       "<tr>\n",
       "  <th>Prob(Omnibus):</th> <td> 0.901</td> <th>  Jarque-Bera (JB):  </th> <td>   0.319</td>\n",
       "</tr>\n",
       "<tr>\n",
       "  <th>Skew:</th>          <td> 0.147</td> <th>  Prob(JB):          </th> <td>   0.853</td>\n",
       "</tr>\n",
       "<tr>\n",
       "  <th>Kurtosis:</th>      <td> 2.711</td> <th>  Cond. No.          </th> <td>    3.73</td>\n",
       "</tr>\n",
       "</table><br/><br/>Warnings:<br/>[1] Standard Errors assume that the covariance matrix of the errors is correctly specified."
      ],
      "text/plain": [
       "<class 'statsmodels.iolib.summary.Summary'>\n",
       "\"\"\"\n",
       "                             OLS Regression Results                             \n",
       "================================================================================\n",
       "Dep. Variable:     Crecimiento_diametro   R-squared:                       0.022\n",
       "Model:                              OLS   Adj. R-squared:                 -0.025\n",
       "Method:                   Least Squares   F-statistic:                    0.4642\n",
       "Date:                  Tue, 13 Aug 2019   Prob (F-statistic):              0.632\n",
       "Time:                          20:53:58   Log-Likelihood:                -184.22\n",
       "No. Observations:                    45   AIC:                             374.4\n",
       "Df Residuals:                        42   BIC:                             379.9\n",
       "Df Model:                             2                                         \n",
       "Covariance Type:              nonrobust                                         \n",
       "======================================================================================\n",
       "                         coef    std err          t      P>|t|      [0.025      0.975]\n",
       "--------------------------------------------------------------------------------------\n",
       "Intercept             34.0000      3.878      8.768      0.000      26.175      41.825\n",
       "Tratamiento[T.Tr2]    -2.2667      5.484     -0.413      0.681     -13.334       8.800\n",
       "Tratamiento[T.Tr3]     3.0000      5.484      0.547      0.587      -8.067      14.067\n",
       "==============================================================================\n",
       "Omnibus:                        0.209   Durbin-Watson:                   1.026\n",
       "Prob(Omnibus):                  0.901   Jarque-Bera (JB):                0.319\n",
       "Skew:                           0.147   Prob(JB):                        0.853\n",
       "Kurtosis:                       2.711   Cond. No.                         3.73\n",
       "==============================================================================\n",
       "\n",
       "Warnings:\n",
       "[1] Standard Errors assume that the covariance matrix of the errors is correctly specified.\n",
       "\"\"\""
      ]
     },
     "execution_count": 24,
     "metadata": {},
     "output_type": "execute_result"
    }
   ],
   "source": [
    "model = ols('Crecimiento_diametro ~ Tratamiento', data=df2).fit()\n",
    "model.summary()\n"
   ]
  },
  {
   "cell_type": "markdown",
   "metadata": {},
   "source": [
    "#### Los coeficientes son mayores a 0.05, no existiría efecto"
   ]
  }
 ],
 "metadata": {
  "kernelspec": {
   "display_name": "Python 3",
   "language": "python",
   "name": "python3"
  },
  "language_info": {
   "codemirror_mode": {
    "name": "ipython",
    "version": 3
   },
   "file_extension": ".py",
   "mimetype": "text/x-python",
   "name": "python",
   "nbconvert_exporter": "python",
   "pygments_lexer": "ipython3",
   "version": "3.7.3"
  }
 },
 "nbformat": 4,
 "nbformat_minor": 2
}
