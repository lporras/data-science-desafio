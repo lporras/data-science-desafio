{
 "cells": [
  {
   "cell_type": "markdown",
   "metadata": {},
   "source": [
    "# Desafío - Clasificación desde la econometría"
   ]
  },
  {
   "cell_type": "markdown",
   "metadata": {},
   "source": [
    "**Nombre:** Luis Porras"
   ]
  },
  {
   "cell_type": "markdown",
   "metadata": {},
   "source": [
    "## Desafio 1: Preparar el ambiente de trabajo"
   ]
  },
  {
   "cell_type": "markdown",
   "metadata": {},
   "source": [
    "* sbp: Presión Sanguínea Sistólica.\n",
    "* tobacco: Promedio tabaco consumido por día.\n",
    "* ldl: Lipoproteína de baja densidad.\n",
    "* adiposity: Adiposidad.\n",
    "* famhist: Antecedentes familiares de enfermedades cardiácas. (Binaria)\n",
    "* typea: Personalidad tipo A\n",
    "* obesity: Obesidad.\n",
    "* alcohol: Consumo actual de alcohol.\n",
    "* age: edad.\n",
    "* chd: Enfermedad coronaria. (dummy)"
   ]
  },
  {
   "cell_type": "code",
   "execution_count": 10,
   "metadata": {},
   "outputs": [],
   "source": [
    "import pandas as pd\n",
    "import numpy as np\n",
    "import matplotlib.pyplot as plt\n",
    "import seaborn as sns\n",
    "import scipy.stats as stats\n",
    "import statsmodels.api as sm\n",
    "import statsmodels.formula.api as smf\n",
    "plt.style.use('seaborn')\n",
    "plt.rcParams['figure.figsize'] = (6,3)"
   ]
  },
  {
   "cell_type": "code",
   "execution_count": 89,
   "metadata": {},
   "outputs": [],
   "source": [
    "df = pd.read_csv('southafricanheart.csv')"
   ]
  },
  {
   "cell_type": "code",
   "execution_count": 90,
   "metadata": {},
   "outputs": [
    {
     "data": {
      "text/html": [
       "<div>\n",
       "<style scoped>\n",
       "    .dataframe tbody tr th:only-of-type {\n",
       "        vertical-align: middle;\n",
       "    }\n",
       "\n",
       "    .dataframe tbody tr th {\n",
       "        vertical-align: top;\n",
       "    }\n",
       "\n",
       "    .dataframe thead th {\n",
       "        text-align: right;\n",
       "    }\n",
       "</style>\n",
       "<table border=\"1\" class=\"dataframe\">\n",
       "  <thead>\n",
       "    <tr style=\"text-align: right;\">\n",
       "      <th></th>\n",
       "      <th>Unnamed: 0</th>\n",
       "      <th>sbp</th>\n",
       "      <th>tobacco</th>\n",
       "      <th>ldl</th>\n",
       "      <th>adiposity</th>\n",
       "      <th>famhist</th>\n",
       "      <th>typea</th>\n",
       "      <th>obesity</th>\n",
       "      <th>alcohol</th>\n",
       "      <th>age</th>\n",
       "      <th>chd</th>\n",
       "    </tr>\n",
       "  </thead>\n",
       "  <tbody>\n",
       "    <tr>\n",
       "      <th>0</th>\n",
       "      <td>1</td>\n",
       "      <td>160</td>\n",
       "      <td>12.00</td>\n",
       "      <td>5.73</td>\n",
       "      <td>23.11</td>\n",
       "      <td>Present</td>\n",
       "      <td>49</td>\n",
       "      <td>25.30</td>\n",
       "      <td>97.20</td>\n",
       "      <td>52</td>\n",
       "      <td>1</td>\n",
       "    </tr>\n",
       "    <tr>\n",
       "      <th>1</th>\n",
       "      <td>2</td>\n",
       "      <td>144</td>\n",
       "      <td>0.01</td>\n",
       "      <td>4.41</td>\n",
       "      <td>28.61</td>\n",
       "      <td>Absent</td>\n",
       "      <td>55</td>\n",
       "      <td>28.87</td>\n",
       "      <td>2.06</td>\n",
       "      <td>63</td>\n",
       "      <td>1</td>\n",
       "    </tr>\n",
       "    <tr>\n",
       "      <th>2</th>\n",
       "      <td>3</td>\n",
       "      <td>118</td>\n",
       "      <td>0.08</td>\n",
       "      <td>3.48</td>\n",
       "      <td>32.28</td>\n",
       "      <td>Present</td>\n",
       "      <td>52</td>\n",
       "      <td>29.14</td>\n",
       "      <td>3.81</td>\n",
       "      <td>46</td>\n",
       "      <td>0</td>\n",
       "    </tr>\n",
       "    <tr>\n",
       "      <th>3</th>\n",
       "      <td>4</td>\n",
       "      <td>170</td>\n",
       "      <td>7.50</td>\n",
       "      <td>6.41</td>\n",
       "      <td>38.03</td>\n",
       "      <td>Present</td>\n",
       "      <td>51</td>\n",
       "      <td>31.99</td>\n",
       "      <td>24.26</td>\n",
       "      <td>58</td>\n",
       "      <td>1</td>\n",
       "    </tr>\n",
       "    <tr>\n",
       "      <th>4</th>\n",
       "      <td>5</td>\n",
       "      <td>134</td>\n",
       "      <td>13.60</td>\n",
       "      <td>3.50</td>\n",
       "      <td>27.78</td>\n",
       "      <td>Present</td>\n",
       "      <td>60</td>\n",
       "      <td>25.99</td>\n",
       "      <td>57.34</td>\n",
       "      <td>49</td>\n",
       "      <td>1</td>\n",
       "    </tr>\n",
       "  </tbody>\n",
       "</table>\n",
       "</div>"
      ],
      "text/plain": [
       "   Unnamed: 0  sbp  tobacco   ldl  adiposity  famhist  typea  obesity  \\\n",
       "0           1  160    12.00  5.73      23.11  Present     49    25.30   \n",
       "1           2  144     0.01  4.41      28.61   Absent     55    28.87   \n",
       "2           3  118     0.08  3.48      32.28  Present     52    29.14   \n",
       "3           4  170     7.50  6.41      38.03  Present     51    31.99   \n",
       "4           5  134    13.60  3.50      27.78  Present     60    25.99   \n",
       "\n",
       "   alcohol  age  chd  \n",
       "0    97.20   52    1  \n",
       "1     2.06   63    1  \n",
       "2     3.81   46    0  \n",
       "3    24.26   58    1  \n",
       "4    57.34   49    1  "
      ]
     },
     "execution_count": 90,
     "metadata": {},
     "output_type": "execute_result"
    }
   ],
   "source": [
    "df.head()"
   ]
  },
  {
   "cell_type": "markdown",
   "metadata": {},
   "source": [
    "## Desafío 2"
   ]
  },
  {
   "cell_type": "markdown",
   "metadata": {},
   "source": [
    "ejecute los siguientes pasos:"
   ]
  },
  {
   "cell_type": "markdown",
   "metadata": {},
   "source": [
    "1. Recodifique `famhist` a dummy, asignando 1 a la categoría minoritaria."
   ]
  },
  {
   "cell_type": "code",
   "execution_count": 93,
   "metadata": {},
   "outputs": [
    {
     "data": {
      "text/plain": [
       "Absent     270\n",
       "Present    192\n",
       "Name: famhist, dtype: int64"
      ]
     },
     "execution_count": 93,
     "metadata": {},
     "output_type": "execute_result"
    }
   ],
   "source": [
    "df['famhist'].value_counts()"
   ]
  },
  {
   "cell_type": "code",
   "execution_count": 94,
   "metadata": {},
   "outputs": [],
   "source": [
    "df['famhist_present'] = np.where(df['famhist'] == 'Present', 1, 0)"
   ]
  },
  {
   "cell_type": "code",
   "execution_count": 95,
   "metadata": {},
   "outputs": [
    {
     "data": {
      "text/plain": [
       "0    270\n",
       "1    192\n",
       "Name: famhist_present, dtype: int64"
      ]
     },
     "execution_count": 95,
     "metadata": {},
     "output_type": "execute_result"
    }
   ],
   "source": [
    "df['famhist_present'].value_counts()"
   ]
  },
  {
   "cell_type": "markdown",
   "metadata": {},
   "source": [
    "2. Utilice smf.logit para estimar el modelo."
   ]
  },
  {
   "cell_type": "code",
   "execution_count": 96,
   "metadata": {},
   "outputs": [],
   "source": [
    "var_dep = ['chd']\n",
    "var_indps = ['famhist_present', 'sbp', 'tobacco', 'ldl', 'adiposity', 'typea', 'obesity', 'alcohol', 'age']\n",
    "columns = var_dep + var_indps"
   ]
  },
  {
   "cell_type": "code",
   "execution_count": 97,
   "metadata": {},
   "outputs": [],
   "source": [
    "db_subset = df.loc[:, columns]"
   ]
  },
  {
   "cell_type": "code",
   "execution_count": 98,
   "metadata": {},
   "outputs": [
    {
     "data": {
      "text/html": [
       "<div>\n",
       "<style scoped>\n",
       "    .dataframe tbody tr th:only-of-type {\n",
       "        vertical-align: middle;\n",
       "    }\n",
       "\n",
       "    .dataframe tbody tr th {\n",
       "        vertical-align: top;\n",
       "    }\n",
       "\n",
       "    .dataframe thead th {\n",
       "        text-align: right;\n",
       "    }\n",
       "</style>\n",
       "<table border=\"1\" class=\"dataframe\">\n",
       "  <thead>\n",
       "    <tr style=\"text-align: right;\">\n",
       "      <th></th>\n",
       "      <th>chd</th>\n",
       "      <th>famhist_present</th>\n",
       "      <th>sbp</th>\n",
       "      <th>tobacco</th>\n",
       "      <th>ldl</th>\n",
       "      <th>adiposity</th>\n",
       "      <th>typea</th>\n",
       "      <th>obesity</th>\n",
       "      <th>alcohol</th>\n",
       "      <th>age</th>\n",
       "    </tr>\n",
       "  </thead>\n",
       "  <tbody>\n",
       "    <tr>\n",
       "      <th>0</th>\n",
       "      <td>1</td>\n",
       "      <td>1</td>\n",
       "      <td>160</td>\n",
       "      <td>12.00</td>\n",
       "      <td>5.73</td>\n",
       "      <td>23.11</td>\n",
       "      <td>49</td>\n",
       "      <td>25.30</td>\n",
       "      <td>97.20</td>\n",
       "      <td>52</td>\n",
       "    </tr>\n",
       "    <tr>\n",
       "      <th>1</th>\n",
       "      <td>1</td>\n",
       "      <td>0</td>\n",
       "      <td>144</td>\n",
       "      <td>0.01</td>\n",
       "      <td>4.41</td>\n",
       "      <td>28.61</td>\n",
       "      <td>55</td>\n",
       "      <td>28.87</td>\n",
       "      <td>2.06</td>\n",
       "      <td>63</td>\n",
       "    </tr>\n",
       "    <tr>\n",
       "      <th>2</th>\n",
       "      <td>0</td>\n",
       "      <td>1</td>\n",
       "      <td>118</td>\n",
       "      <td>0.08</td>\n",
       "      <td>3.48</td>\n",
       "      <td>32.28</td>\n",
       "      <td>52</td>\n",
       "      <td>29.14</td>\n",
       "      <td>3.81</td>\n",
       "      <td>46</td>\n",
       "    </tr>\n",
       "    <tr>\n",
       "      <th>3</th>\n",
       "      <td>1</td>\n",
       "      <td>1</td>\n",
       "      <td>170</td>\n",
       "      <td>7.50</td>\n",
       "      <td>6.41</td>\n",
       "      <td>38.03</td>\n",
       "      <td>51</td>\n",
       "      <td>31.99</td>\n",
       "      <td>24.26</td>\n",
       "      <td>58</td>\n",
       "    </tr>\n",
       "    <tr>\n",
       "      <th>4</th>\n",
       "      <td>1</td>\n",
       "      <td>1</td>\n",
       "      <td>134</td>\n",
       "      <td>13.60</td>\n",
       "      <td>3.50</td>\n",
       "      <td>27.78</td>\n",
       "      <td>60</td>\n",
       "      <td>25.99</td>\n",
       "      <td>57.34</td>\n",
       "      <td>49</td>\n",
       "    </tr>\n",
       "  </tbody>\n",
       "</table>\n",
       "</div>"
      ],
      "text/plain": [
       "   chd  famhist_present  sbp  tobacco   ldl  adiposity  typea  obesity  \\\n",
       "0    1                1  160    12.00  5.73      23.11     49    25.30   \n",
       "1    1                0  144     0.01  4.41      28.61     55    28.87   \n",
       "2    0                1  118     0.08  3.48      32.28     52    29.14   \n",
       "3    1                1  170     7.50  6.41      38.03     51    31.99   \n",
       "4    1                1  134    13.60  3.50      27.78     60    25.99   \n",
       "\n",
       "   alcohol  age  \n",
       "0    97.20   52  \n",
       "1     2.06   63  \n",
       "2     3.81   46  \n",
       "3    24.26   58  \n",
       "4    57.34   49  "
      ]
     },
     "execution_count": 98,
     "metadata": {},
     "output_type": "execute_result"
    }
   ],
   "source": [
    "db_subset.head()"
   ]
  },
  {
   "cell_type": "code",
   "execution_count": 99,
   "metadata": {},
   "outputs": [
    {
     "data": {
      "text/plain": [
       "0    302\n",
       "1    160\n",
       "Name: chd, dtype: int64"
      ]
     },
     "execution_count": 99,
     "metadata": {},
     "output_type": "execute_result"
    }
   ],
   "source": [
    "df['chd'].value_counts()"
   ]
  },
  {
   "cell_type": "code",
   "execution_count": 27,
   "metadata": {},
   "outputs": [
    {
     "name": "stdout",
     "output_type": "stream",
     "text": [
      "Optimization terminated successfully.\n",
      "         Current function value: 0.608111\n",
      "         Iterations 5\n"
     ]
    }
   ],
   "source": [
    "modelo_logit = smf.logit('chd ~ famhist_present', db_subset).fit()"
   ]
  },
  {
   "cell_type": "markdown",
   "metadata": {},
   "source": [
    "3. Implemente una función `inverse_logit` que realize el mapeo de log-odds a probabilidad."
   ]
  },
  {
   "cell_type": "code",
   "execution_count": 28,
   "metadata": {},
   "outputs": [],
   "source": [
    "def inverse_logit(x):\n",
    "    return 1 / (1 + np.exp(-x))"
   ]
  },
  {
   "cell_type": "markdown",
   "metadata": {},
   "source": [
    "4. Con el modelo estimado, responda lo siguiente:"
   ]
  },
  {
   "cell_type": "markdown",
   "metadata": {},
   "source": [
    "* ¿Cuál es la probabilidad de un individuo con antecedentes familiares de tener una enfermedad coronaria?"
   ]
  },
  {
   "cell_type": "code",
   "execution_count": 30,
   "metadata": {},
   "outputs": [
    {
     "data": {
      "text/html": [
       "<table class=\"simpletable\">\n",
       "<caption>Logit Regression Results</caption>\n",
       "<tr>\n",
       "  <th>Dep. Variable:</th>        <td>chd</td>       <th>  No. Observations:  </th>  <td>   462</td>  \n",
       "</tr>\n",
       "<tr>\n",
       "  <th>Model:</th>               <td>Logit</td>      <th>  Df Residuals:      </th>  <td>   460</td>  \n",
       "</tr>\n",
       "<tr>\n",
       "  <th>Method:</th>               <td>MLE</td>       <th>  Df Model:          </th>  <td>     1</td>  \n",
       "</tr>\n",
       "<tr>\n",
       "  <th>Date:</th>          <td>Tue, 27 Aug 2019</td> <th>  Pseudo R-squ.:     </th>  <td>0.05740</td> \n",
       "</tr>\n",
       "<tr>\n",
       "  <th>Time:</th>              <td>21:01:39</td>     <th>  Log-Likelihood:    </th> <td> -280.95</td> \n",
       "</tr>\n",
       "<tr>\n",
       "  <th>converged:</th>           <td>True</td>       <th>  LL-Null:           </th> <td> -298.05</td> \n",
       "</tr>\n",
       "<tr>\n",
       "  <th> </th>                      <td> </td>        <th>  LLR p-value:       </th> <td>4.937e-09</td>\n",
       "</tr>\n",
       "</table>\n",
       "<table class=\"simpletable\">\n",
       "<tr>\n",
       "         <td></td>            <th>coef</th>     <th>std err</th>      <th>z</th>      <th>P>|z|</th>  <th>[0.025</th>    <th>0.975]</th>  \n",
       "</tr>\n",
       "<tr>\n",
       "  <th>Intercept</th>       <td>   -1.1690</td> <td>    0.143</td> <td>   -8.169</td> <td> 0.000</td> <td>   -1.449</td> <td>   -0.889</td>\n",
       "</tr>\n",
       "<tr>\n",
       "  <th>famhist_present</th> <td>    1.1690</td> <td>    0.203</td> <td>    5.751</td> <td> 0.000</td> <td>    0.771</td> <td>    1.567</td>\n",
       "</tr>\n",
       "</table>"
      ],
      "text/plain": [
       "<class 'statsmodels.iolib.summary.Summary'>\n",
       "\"\"\"\n",
       "                           Logit Regression Results                           \n",
       "==============================================================================\n",
       "Dep. Variable:                    chd   No. Observations:                  462\n",
       "Model:                          Logit   Df Residuals:                      460\n",
       "Method:                           MLE   Df Model:                            1\n",
       "Date:                Tue, 27 Aug 2019   Pseudo R-squ.:                 0.05740\n",
       "Time:                        21:01:39   Log-Likelihood:                -280.95\n",
       "converged:                       True   LL-Null:                       -298.05\n",
       "                                        LLR p-value:                 4.937e-09\n",
       "===================================================================================\n",
       "                      coef    std err          z      P>|z|      [0.025      0.975]\n",
       "-----------------------------------------------------------------------------------\n",
       "Intercept          -1.1690      0.143     -8.169      0.000      -1.449      -0.889\n",
       "famhist_present     1.1690      0.203      5.751      0.000       0.771       1.567\n",
       "===================================================================================\n",
       "\"\"\""
      ]
     },
     "execution_count": 30,
     "metadata": {},
     "output_type": "execute_result"
    }
   ],
   "source": [
    "modelo_logit.summary()"
   ]
  },
  {
   "cell_type": "code",
   "execution_count": 52,
   "metadata": {},
   "outputs": [
    {
     "name": "stdout",
     "output_type": "stream",
     "text": [
      "El log odds estimado es de 0.0\n"
     ]
    }
   ],
   "source": [
    "estimate_chd_1 = modelo_logit.params['Intercept'] + modelo_logit.params['famhist_present']\n",
    "print(f\"El log odds estimado es de {estimate_chd_1}\")"
   ]
  },
  {
   "cell_type": "code",
   "execution_count": 58,
   "metadata": {},
   "outputs": [
    {
     "name": "stdout",
     "output_type": "stream",
     "text": [
      "La probabilidad de un individuo con antecedentes familiares de tener una enfermedad coronaria es de: 50.0%\n"
     ]
    }
   ],
   "source": [
    "prob_chd_1 = inverse_logit(estimate_chd_1) * 100\n",
    "print(f\"La probabilidad de un individuo con antecedentes familiares de tener una enfermedad coronaria es de: {prob_chd_1}%\")"
   ]
  },
  {
   "cell_type": "markdown",
   "metadata": {},
   "source": [
    "* ¿Cuál es la probabilidad de un individuo sin antecedentes familiares de tener una enfermedad coronaria?"
   ]
  },
  {
   "cell_type": "code",
   "execution_count": 54,
   "metadata": {},
   "outputs": [
    {
     "name": "stdout",
     "output_type": "stream",
     "text": [
      "El log odds estimado es de -1.1689930854299098\n"
     ]
    }
   ],
   "source": [
    "estimate_chd_2 = modelo_logit.params['Intercept']\n",
    "print(f\"El log odds estimado es de {estimate_chd_2}\")"
   ]
  },
  {
   "cell_type": "code",
   "execution_count": 57,
   "metadata": {},
   "outputs": [
    {
     "name": "stdout",
     "output_type": "stream",
     "text": [
      "La probabilidad de un individuo sin antecedentes familiares de tener una enfermedad coronaria es de: 23.7%\n"
     ]
    }
   ],
   "source": [
    "prob_chd_2 = inverse_logit(estimate_chd_2) * 100\n",
    "print(f\"La probabilidad de un individuo sin antecedentes familiares de tener una enfermedad coronaria es de: {round(prob_chd_2, 2)}%\")"
   ]
  },
  {
   "cell_type": "markdown",
   "metadata": {},
   "source": [
    "* ¿Cuál es la diferencia en la probabilidad entre un individuo con antecedentes y  otro sin antecedentes?"
   ]
  },
  {
   "cell_type": "code",
   "execution_count": 61,
   "metadata": {},
   "outputs": [
    {
     "name": "stdout",
     "output_type": "stream",
     "text": [
      "La diferencia en probabilidad entre un individuo con antecedentes y otro sin antecedentes es de: 26.3%\n"
     ]
    }
   ],
   "source": [
    "print(f\"La diferencia en probabilidad entre un individuo con antecedentes y otro sin antecedentes es de: {round(prob_chd_1 - prob_chd_2, 2)}%\")"
   ]
  },
  {
   "cell_type": "markdown",
   "metadata": {},
   "source": [
    "* Replique el modelo con smf.ols  y  comente las similitudes entre los coeficientes estimados."
   ]
  },
  {
   "cell_type": "code",
   "execution_count": 62,
   "metadata": {},
   "outputs": [],
   "source": [
    "modelo_ols = smf.ols('chd ~ famhist_present', db_subset).fit()"
   ]
  },
  {
   "cell_type": "code",
   "execution_count": 63,
   "metadata": {},
   "outputs": [
    {
     "data": {
      "text/html": [
       "<table class=\"simpletable\">\n",
       "<caption>OLS Regression Results</caption>\n",
       "<tr>\n",
       "  <th>Dep. Variable:</th>           <td>chd</td>       <th>  R-squared:         </th> <td>   0.074</td>\n",
       "</tr>\n",
       "<tr>\n",
       "  <th>Model:</th>                   <td>OLS</td>       <th>  Adj. R-squared:    </th> <td>   0.072</td>\n",
       "</tr>\n",
       "<tr>\n",
       "  <th>Method:</th>             <td>Least Squares</td>  <th>  F-statistic:       </th> <td>   36.86</td>\n",
       "</tr>\n",
       "<tr>\n",
       "  <th>Date:</th>             <td>Tue, 27 Aug 2019</td> <th>  Prob (F-statistic):</th> <td>2.66e-09</td>\n",
       "</tr>\n",
       "<tr>\n",
       "  <th>Time:</th>                 <td>21:32:12</td>     <th>  Log-Likelihood:    </th> <td> -294.59</td>\n",
       "</tr>\n",
       "<tr>\n",
       "  <th>No. Observations:</th>      <td>   462</td>      <th>  AIC:               </th> <td>   593.2</td>\n",
       "</tr>\n",
       "<tr>\n",
       "  <th>Df Residuals:</th>          <td>   460</td>      <th>  BIC:               </th> <td>   601.4</td>\n",
       "</tr>\n",
       "<tr>\n",
       "  <th>Df Model:</th>              <td>     1</td>      <th>                     </th>     <td> </td>   \n",
       "</tr>\n",
       "<tr>\n",
       "  <th>Covariance Type:</th>      <td>nonrobust</td>    <th>                     </th>     <td> </td>   \n",
       "</tr>\n",
       "</table>\n",
       "<table class=\"simpletable\">\n",
       "<tr>\n",
       "         <td></td>            <th>coef</th>     <th>std err</th>      <th>t</th>      <th>P>|t|</th>  <th>[0.025</th>    <th>0.975]</th>  \n",
       "</tr>\n",
       "<tr>\n",
       "  <th>Intercept</th>       <td>    0.2370</td> <td>    0.028</td> <td>    8.489</td> <td> 0.000</td> <td>    0.182</td> <td>    0.292</td>\n",
       "</tr>\n",
       "<tr>\n",
       "  <th>famhist_present</th> <td>    0.2630</td> <td>    0.043</td> <td>    6.071</td> <td> 0.000</td> <td>    0.178</td> <td>    0.348</td>\n",
       "</tr>\n",
       "</table>\n",
       "<table class=\"simpletable\">\n",
       "<tr>\n",
       "  <th>Omnibus:</th>       <td>768.898</td> <th>  Durbin-Watson:     </th> <td>   1.961</td>\n",
       "</tr>\n",
       "<tr>\n",
       "  <th>Prob(Omnibus):</th> <td> 0.000</td>  <th>  Jarque-Bera (JB):  </th> <td>  58.778</td>\n",
       "</tr>\n",
       "<tr>\n",
       "  <th>Skew:</th>          <td> 0.579</td>  <th>  Prob(JB):          </th> <td>1.72e-13</td>\n",
       "</tr>\n",
       "<tr>\n",
       "  <th>Kurtosis:</th>      <td> 1.692</td>  <th>  Cond. No.          </th> <td>    2.47</td>\n",
       "</tr>\n",
       "</table><br/><br/>Warnings:<br/>[1] Standard Errors assume that the covariance matrix of the errors is correctly specified."
      ],
      "text/plain": [
       "<class 'statsmodels.iolib.summary.Summary'>\n",
       "\"\"\"\n",
       "                            OLS Regression Results                            \n",
       "==============================================================================\n",
       "Dep. Variable:                    chd   R-squared:                       0.074\n",
       "Model:                            OLS   Adj. R-squared:                  0.072\n",
       "Method:                 Least Squares   F-statistic:                     36.86\n",
       "Date:                Tue, 27 Aug 2019   Prob (F-statistic):           2.66e-09\n",
       "Time:                        21:32:12   Log-Likelihood:                -294.59\n",
       "No. Observations:                 462   AIC:                             593.2\n",
       "Df Residuals:                     460   BIC:                             601.4\n",
       "Df Model:                           1                                         \n",
       "Covariance Type:            nonrobust                                         \n",
       "===================================================================================\n",
       "                      coef    std err          t      P>|t|      [0.025      0.975]\n",
       "-----------------------------------------------------------------------------------\n",
       "Intercept           0.2370      0.028      8.489      0.000       0.182       0.292\n",
       "famhist_present     0.2630      0.043      6.071      0.000       0.178       0.348\n",
       "==============================================================================\n",
       "Omnibus:                      768.898   Durbin-Watson:                   1.961\n",
       "Prob(Omnibus):                  0.000   Jarque-Bera (JB):               58.778\n",
       "Skew:                           0.579   Prob(JB):                     1.72e-13\n",
       "Kurtosis:                       1.692   Cond. No.                         2.47\n",
       "==============================================================================\n",
       "\n",
       "Warnings:\n",
       "[1] Standard Errors assume that the covariance matrix of the errors is correctly specified.\n",
       "\"\"\""
      ]
     },
     "execution_count": 63,
     "metadata": {},
     "output_type": "execute_result"
    }
   ],
   "source": [
    "modelo_ols.summary()"
   ]
  },
  {
   "cell_type": "code",
   "execution_count": 64,
   "metadata": {},
   "outputs": [
    {
     "name": "stdout",
     "output_type": "stream",
     "text": [
      "Segun el modelo de Regresion lineal, la probabilidad de un individuo sin antecedentes familiares de tener una enfermedad coronaria es de 23.7 %\n"
     ]
    }
   ],
   "source": [
    "print(f\"Segun el modelo de Regresion lineal, la probabilidad de un individuo sin antecedentes familiares de tener una enfermedad coronaria es de {0.2370 * 100} %\")\n",
    "      \n",
    "      "
   ]
  },
  {
   "cell_type": "markdown",
   "metadata": {},
   "source": [
    "La probabilidad dio exactamente igual a la del modelo logit!"
   ]
  },
  {
   "cell_type": "code",
   "execution_count": 66,
   "metadata": {},
   "outputs": [
    {
     "name": "stdout",
     "output_type": "stream",
     "text": [
      "Segun el modelo de Regresion linea, la probabilidad de un individuo con antecedentes familiares de tener nua enfermedad coronaria es de: 50.0 %\n"
     ]
    }
   ],
   "source": [
    "print(f\"Segun el modelo de Regresion linea, la probabilidad de un individuo con antecedentes familiares de tener nua enfermedad coronaria es de: {(0.2370 + 0.2630) * 100} %\")"
   ]
  },
  {
   "cell_type": "markdown",
   "metadata": {},
   "source": [
    "La probabilidad dio exactamente igual a la del modelo logit!"
   ]
  },
  {
   "cell_type": "markdown",
   "metadata": {},
   "source": [
    "* Estime el mismo modelo con LPM"
   ]
  },
  {
   "cell_type": "markdown",
   "metadata": {},
   "source": [
    "## Desafío 3: Estimación completa"
   ]
  },
  {
   "cell_type": "markdown",
   "metadata": {},
   "source": [
    "Implemente un modelo con más de una variable independiente"
   ]
  },
  {
   "cell_type": "code",
   "execution_count": 86,
   "metadata": {},
   "outputs": [
    {
     "data": {
      "text/plain": [
       "'chd ~ famhist_present + sbp + tobacco + ldl + adiposity + typea + obesity + alcohol + age'"
      ]
     },
     "execution_count": 86,
     "metadata": {},
     "output_type": "execute_result"
    }
   ],
   "source": [
    "model_rigth_term = ' + '.join(var_indps)\n",
    "model_formula = f\"chd ~ {model_rigth_term}\"\n",
    "model_formula"
   ]
  },
  {
   "cell_type": "code",
   "execution_count": 87,
   "metadata": {},
   "outputs": [
    {
     "name": "stdout",
     "output_type": "stream",
     "text": [
      "Optimization terminated successfully.\n",
      "         Current function value: 0.510974\n",
      "         Iterations 6\n"
     ]
    }
   ],
   "source": [
    "modelo2_logit = smf.logit(model_formula, db_subset).fit()"
   ]
  },
  {
   "cell_type": "code",
   "execution_count": 88,
   "metadata": {},
   "outputs": [
    {
     "data": {
      "text/html": [
       "<table class=\"simpletable\">\n",
       "<caption>Logit Regression Results</caption>\n",
       "<tr>\n",
       "  <th>Dep. Variable:</th>        <td>chd</td>       <th>  No. Observations:  </th>  <td>   462</td>  \n",
       "</tr>\n",
       "<tr>\n",
       "  <th>Model:</th>               <td>Logit</td>      <th>  Df Residuals:      </th>  <td>   452</td>  \n",
       "</tr>\n",
       "<tr>\n",
       "  <th>Method:</th>               <td>MLE</td>       <th>  Df Model:          </th>  <td>     9</td>  \n",
       "</tr>\n",
       "<tr>\n",
       "  <th>Date:</th>          <td>Tue, 27 Aug 2019</td> <th>  Pseudo R-squ.:     </th>  <td>0.2080</td>  \n",
       "</tr>\n",
       "<tr>\n",
       "  <th>Time:</th>              <td>21:58:50</td>     <th>  Log-Likelihood:    </th> <td> -236.07</td> \n",
       "</tr>\n",
       "<tr>\n",
       "  <th>converged:</th>           <td>True</td>       <th>  LL-Null:           </th> <td> -298.05</td> \n",
       "</tr>\n",
       "<tr>\n",
       "  <th> </th>                      <td> </td>        <th>  LLR p-value:       </th> <td>2.055e-22</td>\n",
       "</tr>\n",
       "</table>\n",
       "<table class=\"simpletable\">\n",
       "<tr>\n",
       "         <td></td>            <th>coef</th>     <th>std err</th>      <th>z</th>      <th>P>|z|</th>  <th>[0.025</th>    <th>0.975]</th>  \n",
       "</tr>\n",
       "<tr>\n",
       "  <th>Intercept</th>       <td>   -6.1507</td> <td>    1.308</td> <td>   -4.701</td> <td> 0.000</td> <td>   -8.715</td> <td>   -3.587</td>\n",
       "</tr>\n",
       "<tr>\n",
       "  <th>famhist_present</th> <td>    0.9254</td> <td>    0.228</td> <td>    4.061</td> <td> 0.000</td> <td>    0.479</td> <td>    1.372</td>\n",
       "</tr>\n",
       "<tr>\n",
       "  <th>sbp</th>             <td>    0.0065</td> <td>    0.006</td> <td>    1.135</td> <td> 0.256</td> <td>   -0.005</td> <td>    0.018</td>\n",
       "</tr>\n",
       "<tr>\n",
       "  <th>tobacco</th>         <td>    0.0794</td> <td>    0.027</td> <td>    2.984</td> <td> 0.003</td> <td>    0.027</td> <td>    0.132</td>\n",
       "</tr>\n",
       "<tr>\n",
       "  <th>ldl</th>             <td>    0.1739</td> <td>    0.060</td> <td>    2.915</td> <td> 0.004</td> <td>    0.057</td> <td>    0.291</td>\n",
       "</tr>\n",
       "<tr>\n",
       "  <th>adiposity</th>       <td>    0.0186</td> <td>    0.029</td> <td>    0.635</td> <td> 0.526</td> <td>   -0.039</td> <td>    0.076</td>\n",
       "</tr>\n",
       "<tr>\n",
       "  <th>typea</th>           <td>    0.0396</td> <td>    0.012</td> <td>    3.214</td> <td> 0.001</td> <td>    0.015</td> <td>    0.064</td>\n",
       "</tr>\n",
       "<tr>\n",
       "  <th>obesity</th>         <td>   -0.0629</td> <td>    0.044</td> <td>   -1.422</td> <td> 0.155</td> <td>   -0.150</td> <td>    0.024</td>\n",
       "</tr>\n",
       "<tr>\n",
       "  <th>alcohol</th>         <td>    0.0001</td> <td>    0.004</td> <td>    0.027</td> <td> 0.978</td> <td>   -0.009</td> <td>    0.009</td>\n",
       "</tr>\n",
       "<tr>\n",
       "  <th>age</th>             <td>    0.0452</td> <td>    0.012</td> <td>    3.728</td> <td> 0.000</td> <td>    0.021</td> <td>    0.069</td>\n",
       "</tr>\n",
       "</table>"
      ],
      "text/plain": [
       "<class 'statsmodels.iolib.summary.Summary'>\n",
       "\"\"\"\n",
       "                           Logit Regression Results                           \n",
       "==============================================================================\n",
       "Dep. Variable:                    chd   No. Observations:                  462\n",
       "Model:                          Logit   Df Residuals:                      452\n",
       "Method:                           MLE   Df Model:                            9\n",
       "Date:                Tue, 27 Aug 2019   Pseudo R-squ.:                  0.2080\n",
       "Time:                        21:58:50   Log-Likelihood:                -236.07\n",
       "converged:                       True   LL-Null:                       -298.05\n",
       "                                        LLR p-value:                 2.055e-22\n",
       "===================================================================================\n",
       "                      coef    std err          z      P>|z|      [0.025      0.975]\n",
       "-----------------------------------------------------------------------------------\n",
       "Intercept          -6.1507      1.308     -4.701      0.000      -8.715      -3.587\n",
       "famhist_present     0.9254      0.228      4.061      0.000       0.479       1.372\n",
       "sbp                 0.0065      0.006      1.135      0.256      -0.005       0.018\n",
       "tobacco             0.0794      0.027      2.984      0.003       0.027       0.132\n",
       "ldl                 0.1739      0.060      2.915      0.004       0.057       0.291\n",
       "adiposity           0.0186      0.029      0.635      0.526      -0.039       0.076\n",
       "typea               0.0396      0.012      3.214      0.001       0.015       0.064\n",
       "obesity            -0.0629      0.044     -1.422      0.155      -0.150       0.024\n",
       "alcohol             0.0001      0.004      0.027      0.978      -0.009       0.009\n",
       "age                 0.0452      0.012      3.728      0.000       0.021       0.069\n",
       "===================================================================================\n",
       "\"\"\""
      ]
     },
     "execution_count": 88,
     "metadata": {},
     "output_type": "execute_result"
    }
   ],
   "source": [
    "modelo2_logit.summary()"
   ]
  },
  {
   "cell_type": "markdown",
   "metadata": {},
   "source": [
    "* Depure el modelo manteniendo las variables con significancia estadística al 95%."
   ]
  },
  {
   "cell_type": "markdown",
   "metadata": {},
   "source": [
    "Las variables con significancia estadística al 95% son: `famhist_present`, `tobacco`, `ldl`, `typea`, `age`"
   ]
  },
  {
   "cell_type": "code",
   "execution_count": 101,
   "metadata": {},
   "outputs": [
    {
     "name": "stdout",
     "output_type": "stream",
     "text": [
      "Optimization terminated successfully.\n",
      "         Current function value: 0.514811\n",
      "         Iterations 6\n"
     ]
    }
   ],
   "source": [
    "modelo3_logit = smf.logit('chd ~ famhist_present + tobacco + ldl + typea + age', db_subset).fit()"
   ]
  },
  {
   "cell_type": "code",
   "execution_count": 102,
   "metadata": {},
   "outputs": [
    {
     "data": {
      "text/html": [
       "<table class=\"simpletable\">\n",
       "<caption>Logit Regression Results</caption>\n",
       "<tr>\n",
       "  <th>Dep. Variable:</th>        <td>chd</td>       <th>  No. Observations:  </th>  <td>   462</td>  \n",
       "</tr>\n",
       "<tr>\n",
       "  <th>Model:</th>               <td>Logit</td>      <th>  Df Residuals:      </th>  <td>   456</td>  \n",
       "</tr>\n",
       "<tr>\n",
       "  <th>Method:</th>               <td>MLE</td>       <th>  Df Model:          </th>  <td>     5</td>  \n",
       "</tr>\n",
       "<tr>\n",
       "  <th>Date:</th>          <td>Tue, 27 Aug 2019</td> <th>  Pseudo R-squ.:     </th>  <td>0.2020</td>  \n",
       "</tr>\n",
       "<tr>\n",
       "  <th>Time:</th>              <td>22:03:23</td>     <th>  Log-Likelihood:    </th> <td> -237.84</td> \n",
       "</tr>\n",
       "<tr>\n",
       "  <th>converged:</th>           <td>True</td>       <th>  LL-Null:           </th> <td> -298.05</td> \n",
       "</tr>\n",
       "<tr>\n",
       "  <th> </th>                      <td> </td>        <th>  LLR p-value:       </th> <td>2.554e-24</td>\n",
       "</tr>\n",
       "</table>\n",
       "<table class=\"simpletable\">\n",
       "<tr>\n",
       "         <td></td>            <th>coef</th>     <th>std err</th>      <th>z</th>      <th>P>|z|</th>  <th>[0.025</th>    <th>0.975]</th>  \n",
       "</tr>\n",
       "<tr>\n",
       "  <th>Intercept</th>       <td>   -6.4464</td> <td>    0.921</td> <td>   -7.000</td> <td> 0.000</td> <td>   -8.251</td> <td>   -4.642</td>\n",
       "</tr>\n",
       "<tr>\n",
       "  <th>famhist_present</th> <td>    0.9082</td> <td>    0.226</td> <td>    4.023</td> <td> 0.000</td> <td>    0.466</td> <td>    1.351</td>\n",
       "</tr>\n",
       "<tr>\n",
       "  <th>tobacco</th>         <td>    0.0804</td> <td>    0.026</td> <td>    3.106</td> <td> 0.002</td> <td>    0.030</td> <td>    0.131</td>\n",
       "</tr>\n",
       "<tr>\n",
       "  <th>ldl</th>             <td>    0.1620</td> <td>    0.055</td> <td>    2.947</td> <td> 0.003</td> <td>    0.054</td> <td>    0.270</td>\n",
       "</tr>\n",
       "<tr>\n",
       "  <th>typea</th>           <td>    0.0371</td> <td>    0.012</td> <td>    3.051</td> <td> 0.002</td> <td>    0.013</td> <td>    0.061</td>\n",
       "</tr>\n",
       "<tr>\n",
       "  <th>age</th>             <td>    0.0505</td> <td>    0.010</td> <td>    4.944</td> <td> 0.000</td> <td>    0.030</td> <td>    0.070</td>\n",
       "</tr>\n",
       "</table>"
      ],
      "text/plain": [
       "<class 'statsmodels.iolib.summary.Summary'>\n",
       "\"\"\"\n",
       "                           Logit Regression Results                           \n",
       "==============================================================================\n",
       "Dep. Variable:                    chd   No. Observations:                  462\n",
       "Model:                          Logit   Df Residuals:                      456\n",
       "Method:                           MLE   Df Model:                            5\n",
       "Date:                Tue, 27 Aug 2019   Pseudo R-squ.:                  0.2020\n",
       "Time:                        22:03:23   Log-Likelihood:                -237.84\n",
       "converged:                       True   LL-Null:                       -298.05\n",
       "                                        LLR p-value:                 2.554e-24\n",
       "===================================================================================\n",
       "                      coef    std err          z      P>|z|      [0.025      0.975]\n",
       "-----------------------------------------------------------------------------------\n",
       "Intercept          -6.4464      0.921     -7.000      0.000      -8.251      -4.642\n",
       "famhist_present     0.9082      0.226      4.023      0.000       0.466       1.351\n",
       "tobacco             0.0804      0.026      3.106      0.002       0.030       0.131\n",
       "ldl                 0.1620      0.055      2.947      0.003       0.054       0.270\n",
       "typea               0.0371      0.012      3.051      0.002       0.013       0.061\n",
       "age                 0.0505      0.010      4.944      0.000       0.030       0.070\n",
       "===================================================================================\n",
       "\"\"\""
      ]
     },
     "execution_count": 102,
     "metadata": {},
     "output_type": "execute_result"
    }
   ],
   "source": [
    "modelo3_logit.summary()"
   ]
  },
  {
   "cell_type": "markdown",
   "metadata": {},
   "source": [
    "* Compare los estadísticos de bondad de ajuste entre ambos."
   ]
  },
  {
   "cell_type": "code",
   "execution_count": 103,
   "metadata": {},
   "outputs": [
    {
     "data": {
      "text/plain": [
       "0.005999999999999978"
      ]
     },
     "execution_count": 103,
     "metadata": {},
     "output_type": "execute_result"
    }
   ],
   "source": [
    "0.2080 - 0.2020"
   ]
  },
  {
   "cell_type": "markdown",
   "metadata": {},
   "source": [
    "La diferencia entre los R Cuadrados es: 0.005, lo que significa que no hay diferencias significativas"
   ]
  },
  {
   "cell_type": "markdown",
   "metadata": {},
   "source": [
    "* Reporte de forma sucinta el efecto de las variables en el log-odds de tener una enfermedad coronaria.\n"
   ]
  },
  {
   "cell_type": "code",
   "execution_count": null,
   "metadata": {},
   "outputs": [],
   "source": []
  }
 ],
 "metadata": {
  "kernelspec": {
   "display_name": "Python 3",
   "language": "python",
   "name": "python3"
  },
  "language_info": {
   "codemirror_mode": {
    "name": "ipython",
    "version": 3
   },
   "file_extension": ".py",
   "mimetype": "text/x-python",
   "name": "python",
   "nbconvert_exporter": "python",
   "pygments_lexer": "ipython3",
   "version": "3.7.3"
  }
 },
 "nbformat": 4,
 "nbformat_minor": 2
}
