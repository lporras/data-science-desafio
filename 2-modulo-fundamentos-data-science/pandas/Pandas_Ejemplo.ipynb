{
 "cells": [
  {
   "cell_type": "code",
   "execution_count": 1,
   "metadata": {},
   "outputs": [],
   "source": [
    "import pandas as pd"
   ]
  },
  {
   "cell_type": "code",
   "execution_count": 87,
   "metadata": {},
   "outputs": [
    {
     "data": {
      "text/html": [
       "<div>\n",
       "<style scoped>\n",
       "    .dataframe tbody tr th:only-of-type {\n",
       "        vertical-align: middle;\n",
       "    }\n",
       "\n",
       "    .dataframe tbody tr th {\n",
       "        vertical-align: top;\n",
       "    }\n",
       "\n",
       "    .dataframe thead th {\n",
       "        text-align: right;\n",
       "    }\n",
       "</style>\n",
       "<table border=\"1\" class=\"dataframe\">\n",
       "  <thead>\n",
       "    <tr style=\"text-align: right;\">\n",
       "      <th></th>\n",
       "      <th>nombre</th>\n",
       "      <th>altura</th>\n",
       "      <th>peso</th>\n",
       "      <th>edad</th>\n",
       "      <th>sexo</th>\n",
       "    </tr>\n",
       "  </thead>\n",
       "  <tbody>\n",
       "    <tr>\n",
       "      <th>0</th>\n",
       "      <td>Hugo</td>\n",
       "      <td>1.67</td>\n",
       "      <td>60</td>\n",
       "      <td>23</td>\n",
       "      <td>h</td>\n",
       "    </tr>\n",
       "    <tr>\n",
       "      <th>1</th>\n",
       "      <td>Paco</td>\n",
       "      <td>1.73</td>\n",
       "      <td>83</td>\n",
       "      <td>25</td>\n",
       "      <td>h</td>\n",
       "    </tr>\n",
       "    <tr>\n",
       "      <th>2</th>\n",
       "      <td>Luis</td>\n",
       "      <td>1.62</td>\n",
       "      <td>70</td>\n",
       "      <td>28</td>\n",
       "      <td>h</td>\n",
       "    </tr>\n",
       "    <tr>\n",
       "      <th>3</th>\n",
       "      <td>Diana</td>\n",
       "      <td>1.58</td>\n",
       "      <td>58</td>\n",
       "      <td>21</td>\n",
       "      <td>m</td>\n",
       "    </tr>\n",
       "    <tr>\n",
       "      <th>4</th>\n",
       "      <td>Francisco</td>\n",
       "      <td>1.86</td>\n",
       "      <td>98</td>\n",
       "      <td>28</td>\n",
       "      <td>h</td>\n",
       "    </tr>\n",
       "    <tr>\n",
       "      <th>5</th>\n",
       "      <td>Felipe</td>\n",
       "      <td>1.79</td>\n",
       "      <td>100</td>\n",
       "      <td>26</td>\n",
       "      <td>h</td>\n",
       "    </tr>\n",
       "    <tr>\n",
       "      <th>6</th>\n",
       "      <td>Jacinta</td>\n",
       "      <td>1.69</td>\n",
       "      <td>62</td>\n",
       "      <td>20</td>\n",
       "      <td>m</td>\n",
       "    </tr>\n",
       "    <tr>\n",
       "      <th>7</th>\n",
       "      <td>Bernardo</td>\n",
       "      <td>1.60</td>\n",
       "      <td>83</td>\n",
       "      <td>31</td>\n",
       "      <td>h</td>\n",
       "    </tr>\n",
       "    <tr>\n",
       "      <th>8</th>\n",
       "      <td>Marisol</td>\n",
       "      <td>1.60</td>\n",
       "      <td>56</td>\n",
       "      <td>30</td>\n",
       "      <td>m</td>\n",
       "    </tr>\n",
       "    <tr>\n",
       "      <th>9</th>\n",
       "      <td>Facundo</td>\n",
       "      <td>1.98</td>\n",
       "      <td>112</td>\n",
       "      <td>36</td>\n",
       "      <td>h</td>\n",
       "    </tr>\n",
       "    <tr>\n",
       "      <th>10</th>\n",
       "      <td>Trinidad</td>\n",
       "      <td>1.72</td>\n",
       "      <td>72</td>\n",
       "      <td>21</td>\n",
       "      <td>m</td>\n",
       "    </tr>\n",
       "    <tr>\n",
       "      <th>11</th>\n",
       "      <td>Camila</td>\n",
       "      <td>1.63</td>\n",
       "      <td>57</td>\n",
       "      <td>26</td>\n",
       "      <td>m</td>\n",
       "    </tr>\n",
       "    <tr>\n",
       "      <th>12</th>\n",
       "      <td>Macarena</td>\n",
       "      <td>1.73</td>\n",
       "      <td>68</td>\n",
       "      <td>27</td>\n",
       "      <td>m</td>\n",
       "    </tr>\n",
       "    <tr>\n",
       "      <th>13</th>\n",
       "      <td>Diego</td>\n",
       "      <td>1.62</td>\n",
       "      <td>78</td>\n",
       "      <td>23</td>\n",
       "      <td>h</td>\n",
       "    </tr>\n",
       "    <tr>\n",
       "      <th>14</th>\n",
       "      <td>Gonzalo</td>\n",
       "      <td>1.58</td>\n",
       "      <td>67</td>\n",
       "      <td>22</td>\n",
       "      <td>h</td>\n",
       "    </tr>\n",
       "    <tr>\n",
       "      <th>15</th>\n",
       "      <td>Alejandra</td>\n",
       "      <td>1.86</td>\n",
       "      <td>74</td>\n",
       "      <td>21</td>\n",
       "      <td>m</td>\n",
       "    </tr>\n",
       "    <tr>\n",
       "      <th>16</th>\n",
       "      <td>Fernando</td>\n",
       "      <td>1.79</td>\n",
       "      <td>93</td>\n",
       "      <td>27</td>\n",
       "      <td>h</td>\n",
       "    </tr>\n",
       "    <tr>\n",
       "      <th>17</th>\n",
       "      <td>Carolina</td>\n",
       "      <td>1.60</td>\n",
       "      <td>63</td>\n",
       "      <td>28</td>\n",
       "      <td>m</td>\n",
       "    </tr>\n",
       "    <tr>\n",
       "      <th>18</th>\n",
       "      <td>Vicente</td>\n",
       "      <td>1.98</td>\n",
       "      <td>102</td>\n",
       "      <td>31</td>\n",
       "      <td>h</td>\n",
       "    </tr>\n",
       "    <tr>\n",
       "      <th>19</th>\n",
       "      <td>Benjamín</td>\n",
       "      <td>1.72</td>\n",
       "      <td>78</td>\n",
       "      <td>36</td>\n",
       "      <td>h</td>\n",
       "    </tr>\n",
       "    <tr>\n",
       "      <th>20</th>\n",
       "      <td>Gloria</td>\n",
       "      <td>1.58</td>\n",
       "      <td>65</td>\n",
       "      <td>23</td>\n",
       "      <td>m</td>\n",
       "    </tr>\n",
       "  </tbody>\n",
       "</table>\n",
       "</div>"
      ],
      "text/plain": [
       "       nombre  altura  peso  edad sexo\n",
       "0        Hugo    1.67    60    23    h\n",
       "1        Paco    1.73    83    25    h\n",
       "2        Luis    1.62    70    28    h\n",
       "3       Diana    1.58    58    21    m\n",
       "4   Francisco    1.86    98    28    h\n",
       "5      Felipe    1.79   100    26    h\n",
       "6     Jacinta    1.69    62    20    m\n",
       "7    Bernardo    1.60    83    31    h\n",
       "8     Marisol    1.60    56    30    m\n",
       "9     Facundo    1.98   112    36    h\n",
       "10   Trinidad    1.72    72    21    m\n",
       "11     Camila    1.63    57    26    m\n",
       "12   Macarena    1.73    68    27    m\n",
       "13      Diego    1.62    78    23    h\n",
       "14    Gonzalo    1.58    67    22    h\n",
       "15  Alejandra    1.86    74    21    m\n",
       "16   Fernando    1.79    93    27    h\n",
       "17   Carolina    1.60    63    28    m\n",
       "18    Vicente    1.98   102    31    h\n",
       "19   Benjamín    1.72    78    36    h\n",
       "20     Gloria    1.58    65    23    m"
      ]
     },
     "execution_count": 87,
     "metadata": {},
     "output_type": "execute_result"
    }
   ],
   "source": [
    "pd.read_csv('alumnos.csv')"
   ]
  },
  {
   "cell_type": "code",
   "execution_count": 88,
   "metadata": {},
   "outputs": [],
   "source": [
    "df = pd.read_csv('alumnos.csv')"
   ]
  },
  {
   "cell_type": "code",
   "execution_count": 89,
   "metadata": {},
   "outputs": [
    {
     "data": {
      "text/html": [
       "<div>\n",
       "<style scoped>\n",
       "    .dataframe tbody tr th:only-of-type {\n",
       "        vertical-align: middle;\n",
       "    }\n",
       "\n",
       "    .dataframe tbody tr th {\n",
       "        vertical-align: top;\n",
       "    }\n",
       "\n",
       "    .dataframe thead th {\n",
       "        text-align: right;\n",
       "    }\n",
       "</style>\n",
       "<table border=\"1\" class=\"dataframe\">\n",
       "  <thead>\n",
       "    <tr style=\"text-align: right;\">\n",
       "      <th></th>\n",
       "      <th>nombre</th>\n",
       "      <th>altura</th>\n",
       "      <th>peso</th>\n",
       "      <th>edad</th>\n",
       "      <th>sexo</th>\n",
       "    </tr>\n",
       "  </thead>\n",
       "  <tbody>\n",
       "    <tr>\n",
       "      <th>0</th>\n",
       "      <td>Hugo</td>\n",
       "      <td>1.67</td>\n",
       "      <td>60</td>\n",
       "      <td>23</td>\n",
       "      <td>h</td>\n",
       "    </tr>\n",
       "    <tr>\n",
       "      <th>1</th>\n",
       "      <td>Paco</td>\n",
       "      <td>1.73</td>\n",
       "      <td>83</td>\n",
       "      <td>25</td>\n",
       "      <td>h</td>\n",
       "    </tr>\n",
       "    <tr>\n",
       "      <th>2</th>\n",
       "      <td>Luis</td>\n",
       "      <td>1.62</td>\n",
       "      <td>70</td>\n",
       "      <td>28</td>\n",
       "      <td>h</td>\n",
       "    </tr>\n",
       "    <tr>\n",
       "      <th>3</th>\n",
       "      <td>Diana</td>\n",
       "      <td>1.58</td>\n",
       "      <td>58</td>\n",
       "      <td>21</td>\n",
       "      <td>m</td>\n",
       "    </tr>\n",
       "    <tr>\n",
       "      <th>4</th>\n",
       "      <td>Francisco</td>\n",
       "      <td>1.86</td>\n",
       "      <td>98</td>\n",
       "      <td>28</td>\n",
       "      <td>h</td>\n",
       "    </tr>\n",
       "  </tbody>\n",
       "</table>\n",
       "</div>"
      ],
      "text/plain": [
       "      nombre  altura  peso  edad sexo\n",
       "0       Hugo    1.67    60    23    h\n",
       "1       Paco    1.73    83    25    h\n",
       "2       Luis    1.62    70    28    h\n",
       "3      Diana    1.58    58    21    m\n",
       "4  Francisco    1.86    98    28    h"
      ]
     },
     "execution_count": 89,
     "metadata": {},
     "output_type": "execute_result"
    }
   ],
   "source": [
    "df.head()"
   ]
  },
  {
   "cell_type": "code",
   "execution_count": 90,
   "metadata": {},
   "outputs": [
    {
     "data": {
      "text/html": [
       "<div>\n",
       "<style scoped>\n",
       "    .dataframe tbody tr th:only-of-type {\n",
       "        vertical-align: middle;\n",
       "    }\n",
       "\n",
       "    .dataframe tbody tr th {\n",
       "        vertical-align: top;\n",
       "    }\n",
       "\n",
       "    .dataframe thead th {\n",
       "        text-align: right;\n",
       "    }\n",
       "</style>\n",
       "<table border=\"1\" class=\"dataframe\">\n",
       "  <thead>\n",
       "    <tr style=\"text-align: right;\">\n",
       "      <th></th>\n",
       "      <th>nombre</th>\n",
       "      <th>altura</th>\n",
       "      <th>peso</th>\n",
       "      <th>edad</th>\n",
       "      <th>sexo</th>\n",
       "    </tr>\n",
       "  </thead>\n",
       "  <tbody>\n",
       "    <tr>\n",
       "      <th>0</th>\n",
       "      <td>Hugo</td>\n",
       "      <td>1.67</td>\n",
       "      <td>60</td>\n",
       "      <td>23</td>\n",
       "      <td>h</td>\n",
       "    </tr>\n",
       "  </tbody>\n",
       "</table>\n",
       "</div>"
      ],
      "text/plain": [
       "  nombre  altura  peso  edad sexo\n",
       "0   Hugo    1.67    60    23    h"
      ]
     },
     "execution_count": 90,
     "metadata": {},
     "output_type": "execute_result"
    }
   ],
   "source": [
    "df.head(1)"
   ]
  },
  {
   "cell_type": "code",
   "execution_count": 91,
   "metadata": {},
   "outputs": [
    {
     "data": {
      "text/plain": [
       "Index(['nombre', 'altura', 'peso', 'edad', 'sexo'], dtype='object')"
      ]
     },
     "execution_count": 91,
     "metadata": {},
     "output_type": "execute_result"
    }
   ],
   "source": [
    "df.columns"
   ]
  },
  {
   "cell_type": "code",
   "execution_count": 92,
   "metadata": {},
   "outputs": [
    {
     "data": {
      "text/plain": [
       "0     1.67\n",
       "1     1.73\n",
       "2     1.62\n",
       "3     1.58\n",
       "4     1.86\n",
       "5     1.79\n",
       "6     1.69\n",
       "7     1.60\n",
       "8     1.60\n",
       "9     1.98\n",
       "10    1.72\n",
       "11    1.63\n",
       "12    1.73\n",
       "13    1.62\n",
       "14    1.58\n",
       "15    1.86\n",
       "16    1.79\n",
       "17    1.60\n",
       "18    1.98\n",
       "19    1.72\n",
       "20    1.58\n",
       "Name: altura, dtype: float64"
      ]
     },
     "execution_count": 92,
     "metadata": {},
     "output_type": "execute_result"
    }
   ],
   "source": [
    "df['altura']"
   ]
  },
  {
   "cell_type": "code",
   "execution_count": 93,
   "metadata": {},
   "outputs": [
    {
     "data": {
      "text/plain": [
       "pandas.core.series.Series"
      ]
     },
     "execution_count": 93,
     "metadata": {},
     "output_type": "execute_result"
    }
   ],
   "source": [
    "type(df['altura'])"
   ]
  },
  {
   "cell_type": "code",
   "execution_count": 94,
   "metadata": {},
   "outputs": [
    {
     "data": {
      "text/plain": [
       "pandas.core.frame.DataFrame"
      ]
     },
     "execution_count": 94,
     "metadata": {},
     "output_type": "execute_result"
    }
   ],
   "source": [
    "type(df)"
   ]
  },
  {
   "cell_type": "code",
   "execution_count": 95,
   "metadata": {},
   "outputs": [
    {
     "data": {
      "text/plain": [
       "nombre    Paco\n",
       "altura    1.73\n",
       "peso        83\n",
       "edad        25\n",
       "sexo         h\n",
       "Name: 1, dtype: object"
      ]
     },
     "execution_count": 95,
     "metadata": {},
     "output_type": "execute_result"
    }
   ],
   "source": [
    "df.iloc[1,:]"
   ]
  },
  {
   "cell_type": "code",
   "execution_count": 96,
   "metadata": {},
   "outputs": [
    {
     "data": {
      "text/plain": [
       "nombre    Paco\n",
       "altura    1.73\n",
       "peso        83\n",
       "edad        25\n",
       "sexo         h\n",
       "Name: 1, dtype: object"
      ]
     },
     "execution_count": 96,
     "metadata": {},
     "output_type": "execute_result"
    }
   ],
   "source": [
    "df.loc[1,:]"
   ]
  },
  {
   "cell_type": "code",
   "execution_count": 97,
   "metadata": {},
   "outputs": [
    {
     "data": {
      "text/plain": [
       "pandas.core.series.Series"
      ]
     },
     "execution_count": 97,
     "metadata": {},
     "output_type": "execute_result"
    }
   ],
   "source": [
    "type(df.loc[1,:])"
   ]
  },
  {
   "cell_type": "code",
   "execution_count": 98,
   "metadata": {},
   "outputs": [
    {
     "data": {
      "text/plain": [
       "RangeIndex(start=0, stop=21, step=1)"
      ]
     },
     "execution_count": 98,
     "metadata": {},
     "output_type": "execute_result"
    }
   ],
   "source": [
    "df['sexo'].index"
   ]
  },
  {
   "cell_type": "code",
   "execution_count": 99,
   "metadata": {},
   "outputs": [
    {
     "data": {
      "text/plain": [
       "array(['h', 'h', 'h', 'm', 'h', 'h', 'm', 'h', 'm', 'h', 'm', 'm', 'm',\n",
       "       'h', 'h', 'm', 'h', 'm', 'h', 'h', 'm'], dtype=object)"
      ]
     },
     "execution_count": 99,
     "metadata": {},
     "output_type": "execute_result"
    }
   ],
   "source": [
    "df['sexo'].values"
   ]
  },
  {
   "cell_type": "code",
   "execution_count": 100,
   "metadata": {},
   "outputs": [],
   "source": [
    "peso_alumnos = df['peso']"
   ]
  },
  {
   "cell_type": "code",
   "execution_count": 101,
   "metadata": {},
   "outputs": [
    {
     "data": {
      "text/plain": [
       "0      60\n",
       "1      83\n",
       "2      70\n",
       "3      58\n",
       "4      98\n",
       "5     100\n",
       "6      62\n",
       "7      83\n",
       "8      56\n",
       "9     112\n",
       "10     72\n",
       "11     57\n",
       "12     68\n",
       "13     78\n",
       "14     67\n",
       "15     74\n",
       "16     93\n",
       "17     63\n",
       "18    102\n",
       "19     78\n",
       "20     65\n",
       "Name: peso, dtype: int64"
      ]
     },
     "execution_count": 101,
     "metadata": {},
     "output_type": "execute_result"
    }
   ],
   "source": [
    "peso_alumnos"
   ]
  },
  {
   "cell_type": "code",
   "execution_count": 102,
   "metadata": {},
   "outputs": [
    {
     "data": {
      "text/plain": [
       "pandas.core.series.Series"
      ]
     },
     "execution_count": 102,
     "metadata": {},
     "output_type": "execute_result"
    }
   ],
   "source": [
    "type(peso_alumnos)"
   ]
  },
  {
   "cell_type": "code",
   "execution_count": 103,
   "metadata": {},
   "outputs": [
    {
     "data": {
      "text/plain": [
       "0    60\n",
       "1    83\n",
       "2    70\n",
       "Name: peso, dtype: int64"
      ]
     },
     "execution_count": 103,
     "metadata": {},
     "output_type": "execute_result"
    }
   ],
   "source": [
    "peso_alumnos[:3]"
   ]
  },
  {
   "cell_type": "code",
   "execution_count": 104,
   "metadata": {},
   "outputs": [
    {
     "data": {
      "text/plain": [
       "2     70\n",
       "3     58\n",
       "4     98\n",
       "5    100\n",
       "Name: peso, dtype: int64"
      ]
     },
     "execution_count": 104,
     "metadata": {},
     "output_type": "execute_result"
    }
   ],
   "source": [
    "peso_alumnos[2:6]"
   ]
  },
  {
   "cell_type": "code",
   "execution_count": 105,
   "metadata": {},
   "outputs": [],
   "source": [
    "media_nativa = sum(df['altura']) / len(df['altura'])"
   ]
  },
  {
   "cell_type": "code",
   "execution_count": 106,
   "metadata": {},
   "outputs": [],
   "source": [
    "media_pandas = df['altura'].mean()"
   ]
  },
  {
   "cell_type": "code",
   "execution_count": 107,
   "metadata": {},
   "outputs": [],
   "source": [
    "import numpy as np"
   ]
  },
  {
   "cell_type": "code",
   "execution_count": 108,
   "metadata": {},
   "outputs": [],
   "source": [
    "media_numpy = np.mean(df['altura'])"
   ]
  },
  {
   "cell_type": "code",
   "execution_count": 109,
   "metadata": {},
   "outputs": [
    {
     "name": "stdout",
     "output_type": "stream",
     "text": [
      "1.7109523809523806\n",
      "1.7109523809523806\n",
      "1.7109523809523806\n"
     ]
    }
   ],
   "source": [
    "for i in [media_nativa, media_pandas, media_numpy]:\n",
    "    print(i)"
   ]
  },
  {
   "cell_type": "code",
   "execution_count": 110,
   "metadata": {},
   "outputs": [
    {
     "data": {
      "text/plain": [
       "True"
      ]
     },
     "execution_count": 110,
     "metadata": {},
     "output_type": "execute_result"
    }
   ],
   "source": [
    "media_nativa == media_pandas"
   ]
  },
  {
   "cell_type": "code",
   "execution_count": 111,
   "metadata": {},
   "outputs": [
    {
     "data": {
      "text/plain": [
       "True"
      ]
     },
     "execution_count": 111,
     "metadata": {},
     "output_type": "execute_result"
    }
   ],
   "source": [
    "media_nativa == media_numpy"
   ]
  },
  {
   "cell_type": "code",
   "execution_count": 112,
   "metadata": {},
   "outputs": [],
   "source": [
    "from scipy import stats"
   ]
  },
  {
   "cell_type": "code",
   "execution_count": 113,
   "metadata": {},
   "outputs": [],
   "source": [
    "moda = stats.mode(df['altura'])"
   ]
  },
  {
   "cell_type": "code",
   "execution_count": 114,
   "metadata": {},
   "outputs": [
    {
     "data": {
      "text/plain": [
       "ModeResult(mode=array([1.58]), count=array([3]))"
      ]
     },
     "execution_count": 114,
     "metadata": {},
     "output_type": "execute_result"
    }
   ],
   "source": [
    "moda"
   ]
  },
  {
   "cell_type": "code",
   "execution_count": 115,
   "metadata": {},
   "outputs": [
    {
     "name": "stdout",
     "output_type": "stream",
     "text": [
      "1.69\n"
     ]
    }
   ],
   "source": [
    "mediana_pandas = df['altura'].median()\n",
    "print(mediana_pandas)"
   ]
  },
  {
   "cell_type": "code",
   "execution_count": 116,
   "metadata": {},
   "outputs": [
    {
     "name": "stdout",
     "output_type": "stream",
     "text": [
      "1.69\n"
     ]
    }
   ],
   "source": [
    "mediana_numpy = np.median(df['altura'])\n",
    "print(mediana_numpy)"
   ]
  },
  {
   "cell_type": "code",
   "execution_count": 117,
   "metadata": {},
   "outputs": [
    {
     "name": "stdout",
     "output_type": "stream",
     "text": [
      "0.01580904761904761\n"
     ]
    }
   ],
   "source": [
    "varianza_pandas = df['altura'].var()\n",
    "print(varianza_pandas)"
   ]
  },
  {
   "cell_type": "code",
   "execution_count": 118,
   "metadata": {},
   "outputs": [
    {
     "name": "stdout",
     "output_type": "stream",
     "text": [
      "0.015056235827664391\n"
     ]
    }
   ],
   "source": [
    "varianza_numpy = np.var(df['altura'])\n",
    "print(varianza_numpy)"
   ]
  },
  {
   "cell_type": "code",
   "execution_count": 119,
   "metadata": {},
   "outputs": [
    {
     "data": {
      "text/plain": [
       "False"
      ]
     },
     "execution_count": 119,
     "metadata": {},
     "output_type": "execute_result"
    }
   ],
   "source": [
    "varianza_pandas == varianza_numpy"
   ]
  },
  {
   "cell_type": "code",
   "execution_count": 120,
   "metadata": {},
   "outputs": [
    {
     "data": {
      "text/plain": [
       "0.015056235827664395"
      ]
     },
     "execution_count": 120,
     "metadata": {},
     "output_type": "execute_result"
    }
   ],
   "source": [
    "df['altura'].values.var()"
   ]
  },
  {
   "cell_type": "code",
   "execution_count": 121,
   "metadata": {},
   "outputs": [
    {
     "data": {
      "text/plain": [
       "False"
      ]
     },
     "execution_count": 121,
     "metadata": {},
     "output_type": "execute_result"
    }
   ],
   "source": [
    "df['altura'].values.var() == df['altura'].var()"
   ]
  },
  {
   "cell_type": "code",
   "execution_count": 122,
   "metadata": {},
   "outputs": [
    {
     "data": {
      "text/plain": [
       "False"
      ]
     },
     "execution_count": 122,
     "metadata": {},
     "output_type": "execute_result"
    }
   ],
   "source": [
    "df['altura'].var(ddof=0) == df['altura'].values.var(ddof=0)"
   ]
  },
  {
   "cell_type": "code",
   "execution_count": 123,
   "metadata": {},
   "outputs": [
    {
     "data": {
      "text/plain": [
       "False"
      ]
     },
     "execution_count": 123,
     "metadata": {},
     "output_type": "execute_result"
    }
   ],
   "source": [
    "df['altura'].values.var(ddof=1) == np.var(df['altura'], ddof=1)"
   ]
  },
  {
   "cell_type": "code",
   "execution_count": 124,
   "metadata": {},
   "outputs": [
    {
     "data": {
      "text/plain": [
       "0.01580904761904761"
      ]
     },
     "execution_count": 124,
     "metadata": {},
     "output_type": "execute_result"
    }
   ],
   "source": [
    "np.var(df['altura'], ddof=1)"
   ]
  },
  {
   "cell_type": "code",
   "execution_count": 125,
   "metadata": {},
   "outputs": [
    {
     "data": {
      "text/plain": [
       "0.015056235827664391"
      ]
     },
     "execution_count": 125,
     "metadata": {},
     "output_type": "execute_result"
    }
   ],
   "source": [
    "np.var(df['altura'])"
   ]
  },
  {
   "cell_type": "code",
   "execution_count": 126,
   "metadata": {},
   "outputs": [
    {
     "data": {
      "text/plain": [
       "0.1257340352452255"
      ]
     },
     "execution_count": 126,
     "metadata": {},
     "output_type": "execute_result"
    }
   ],
   "source": [
    "df['altura'].std()"
   ]
  },
  {
   "cell_type": "code",
   "execution_count": 127,
   "metadata": {},
   "outputs": [
    {
     "data": {
      "text/plain": [
       "0.12270385416792902"
      ]
     },
     "execution_count": 127,
     "metadata": {},
     "output_type": "execute_result"
    }
   ],
   "source": [
    "np.std(df['altura'])"
   ]
  },
  {
   "cell_type": "code",
   "execution_count": 128,
   "metadata": {},
   "outputs": [
    {
     "name": "stdout",
     "output_type": "stream",
     "text": [
      "1.67 es del tipo  <class 'float'>\n",
      "1.73 es del tipo  <class 'float'>\n",
      "1.62 es del tipo  <class 'float'>\n",
      "1.58 es del tipo  <class 'float'>\n",
      "1.86 es del tipo  <class 'float'>\n",
      "1.79 es del tipo  <class 'float'>\n",
      "1.69 es del tipo  <class 'float'>\n",
      "1.6 es del tipo  <class 'float'>\n",
      "1.6 es del tipo  <class 'float'>\n",
      "1.98 es del tipo  <class 'float'>\n",
      "1.72 es del tipo  <class 'float'>\n",
      "1.63 es del tipo  <class 'float'>\n",
      "1.73 es del tipo  <class 'float'>\n",
      "1.62 es del tipo  <class 'float'>\n",
      "1.58 es del tipo  <class 'float'>\n",
      "1.86 es del tipo  <class 'float'>\n",
      "1.79 es del tipo  <class 'float'>\n",
      "1.6 es del tipo  <class 'float'>\n",
      "1.98 es del tipo  <class 'float'>\n",
      "1.72 es del tipo  <class 'float'>\n",
      "1.58 es del tipo  <class 'float'>\n"
     ]
    }
   ],
   "source": [
    "for i in df['altura']:\n",
    "    print(i, 'es del tipo ', type(i))"
   ]
  },
  {
   "cell_type": "code",
   "execution_count": 129,
   "metadata": {},
   "outputs": [
    {
     "name": "stdout",
     "output_type": "stream",
     "text": [
      "2.67\n",
      "2.73\n",
      "2.62\n",
      "2.58\n",
      "2.8600000000000003\n",
      "2.79\n",
      "2.69\n",
      "2.6\n",
      "2.6\n",
      "2.98\n",
      "2.7199999999999998\n",
      "2.63\n",
      "2.73\n",
      "2.62\n",
      "2.58\n",
      "2.8600000000000003\n",
      "2.79\n",
      "2.6\n",
      "2.98\n",
      "2.7199999999999998\n",
      "2.58\n"
     ]
    }
   ],
   "source": [
    "for i in df['altura']:\n",
    "    print(i + 1.0)"
   ]
  },
  {
   "cell_type": "code",
   "execution_count": 130,
   "metadata": {},
   "outputs": [
    {
     "name": "stdout",
     "output_type": "stream",
     "text": [
      "0 1.67\n",
      "2 1.62\n",
      "4 1.86\n",
      "6 1.69\n",
      "8 1.6\n",
      "10 1.72\n",
      "12 1.73\n",
      "14 1.58\n",
      "16 1.79\n",
      "18 1.98\n",
      "20 1.58\n"
     ]
    }
   ],
   "source": [
    "for i in df['altura'].index:\n",
    "    if i % 2 == 0:\n",
    "        print(i, df['altura'][i])"
   ]
  },
  {
   "cell_type": "code",
   "execution_count": 131,
   "metadata": {},
   "outputs": [],
   "source": [
    "mean_peso = df['peso'].mean()"
   ]
  },
  {
   "cell_type": "code",
   "execution_count": 132,
   "metadata": {},
   "outputs": [
    {
     "name": "stdout",
     "output_type": "stream",
     "text": [
      "60 tiene un peso bajo el promedio\n",
      "83 tiene un peso sobre el promedio\n",
      "70 tiene un peso bajo el promedio\n",
      "58 tiene un peso bajo el promedio\n",
      "98 tiene un peso sobre el promedio\n",
      "100 tiene un peso sobre el promedio\n",
      "62 tiene un peso bajo el promedio\n",
      "83 tiene un peso sobre el promedio\n",
      "56 tiene un peso bajo el promedio\n",
      "112 tiene un peso sobre el promedio\n",
      "72 tiene un peso bajo el promedio\n",
      "57 tiene un peso bajo el promedio\n",
      "68 tiene un peso bajo el promedio\n",
      "78 tiene un peso sobre el promedio\n",
      "67 tiene un peso bajo el promedio\n",
      "74 tiene un peso bajo el promedio\n",
      "93 tiene un peso sobre el promedio\n",
      "63 tiene un peso bajo el promedio\n",
      "102 tiene un peso sobre el promedio\n",
      "78 tiene un peso sobre el promedio\n",
      "65 tiene un peso bajo el promedio\n"
     ]
    }
   ],
   "source": [
    "for i in df['peso']:\n",
    "    if i > mean_peso:\n",
    "        print(i, \"tiene un peso sobre el promedio\")\n",
    "    else:\n",
    "        print(i, \"tiene un peso bajo el promedio\")"
   ]
  },
  {
   "cell_type": "code",
   "execution_count": 133,
   "metadata": {},
   "outputs": [
    {
     "data": {
      "text/plain": [
       "76.14285714285714"
      ]
     },
     "execution_count": 133,
     "metadata": {},
     "output_type": "execute_result"
    }
   ],
   "source": [
    "mean_peso"
   ]
  },
  {
   "cell_type": "code",
   "execution_count": 134,
   "metadata": {},
   "outputs": [
    {
     "name": "stdout",
     "output_type": "stream",
     "text": [
      "nombre\n",
      "altura\n",
      "peso\n",
      "edad\n",
      "sexo\n"
     ]
    }
   ],
   "source": [
    "for i in df:\n",
    "    print(i)"
   ]
  },
  {
   "cell_type": "code",
   "execution_count": 135,
   "metadata": {},
   "outputs": [
    {
     "data": {
      "text/html": [
       "<div>\n",
       "<style scoped>\n",
       "    .dataframe tbody tr th:only-of-type {\n",
       "        vertical-align: middle;\n",
       "    }\n",
       "\n",
       "    .dataframe tbody tr th {\n",
       "        vertical-align: top;\n",
       "    }\n",
       "\n",
       "    .dataframe thead th {\n",
       "        text-align: right;\n",
       "    }\n",
       "</style>\n",
       "<table border=\"1\" class=\"dataframe\">\n",
       "  <thead>\n",
       "    <tr style=\"text-align: right;\">\n",
       "      <th></th>\n",
       "      <th>nombre</th>\n",
       "      <th>altura</th>\n",
       "      <th>peso</th>\n",
       "      <th>edad</th>\n",
       "      <th>sexo</th>\n",
       "    </tr>\n",
       "  </thead>\n",
       "  <tbody>\n",
       "    <tr>\n",
       "      <th>0</th>\n",
       "      <td>Hugo</td>\n",
       "      <td>1.67</td>\n",
       "      <td>60</td>\n",
       "      <td>23</td>\n",
       "      <td>h</td>\n",
       "    </tr>\n",
       "    <tr>\n",
       "      <th>1</th>\n",
       "      <td>Paco</td>\n",
       "      <td>1.73</td>\n",
       "      <td>83</td>\n",
       "      <td>25</td>\n",
       "      <td>h</td>\n",
       "    </tr>\n",
       "    <tr>\n",
       "      <th>2</th>\n",
       "      <td>Luis</td>\n",
       "      <td>1.62</td>\n",
       "      <td>70</td>\n",
       "      <td>28</td>\n",
       "      <td>h</td>\n",
       "    </tr>\n",
       "    <tr>\n",
       "      <th>3</th>\n",
       "      <td>Diana</td>\n",
       "      <td>1.58</td>\n",
       "      <td>58</td>\n",
       "      <td>21</td>\n",
       "      <td>m</td>\n",
       "    </tr>\n",
       "    <tr>\n",
       "      <th>4</th>\n",
       "      <td>Francisco</td>\n",
       "      <td>1.86</td>\n",
       "      <td>98</td>\n",
       "      <td>28</td>\n",
       "      <td>h</td>\n",
       "    </tr>\n",
       "  </tbody>\n",
       "</table>\n",
       "</div>"
      ],
      "text/plain": [
       "      nombre  altura  peso  edad sexo\n",
       "0       Hugo    1.67    60    23    h\n",
       "1       Paco    1.73    83    25    h\n",
       "2       Luis    1.62    70    28    h\n",
       "3      Diana    1.58    58    21    m\n",
       "4  Francisco    1.86    98    28    h"
      ]
     },
     "execution_count": 135,
     "metadata": {},
     "output_type": "execute_result"
    }
   ],
   "source": [
    "df.head()"
   ]
  },
  {
   "cell_type": "code",
   "execution_count": 136,
   "metadata": {},
   "outputs": [
    {
     "name": "stdout",
     "output_type": "stream",
     "text": [
      "nombre ['Hugo' 'Paco' 'Luis' 'Diana' 'Francisco' 'Felipe' 'Jacinta' 'Bernardo'\n",
      " 'Marisol' 'Facundo' 'Trinidad' 'Camila' 'Macarena' 'Diego' 'Gonzalo'\n",
      " 'Alejandra' 'Fernando' 'Carolina' 'Vicente' 'Benjamín' 'Gloria']\n",
      "altura [1.67 1.73 1.62 1.58 1.86 1.79 1.69 1.6  1.6  1.98 1.72 1.63 1.73 1.62\n",
      " 1.58 1.86 1.79 1.6  1.98 1.72 1.58]\n",
      "peso [ 60  83  70  58  98 100  62  83  56 112  72  57  68  78  67  74  93  63\n",
      " 102  78  65]\n",
      "edad [23 25 28 21 28 26 20 31 30 36 21 26 27 23 22 21 27 28 31 36 23]\n",
      "sexo ['h' 'h' 'h' 'm' 'h' 'h' 'm' 'h' 'm' 'h' 'm' 'm' 'm' 'h' 'h' 'm' 'h' 'm'\n",
      " 'h' 'h' 'm']\n"
     ]
    }
   ],
   "source": [
    "for colname, serie in df.iteritems():\n",
    "    print(colname, serie.values)"
   ]
  },
  {
   "cell_type": "code",
   "execution_count": 137,
   "metadata": {},
   "outputs": [
    {
     "name": "stdout",
     "output_type": "stream",
     "text": [
      "nombre es un objeto\n",
      "La media de altura es de 1.7109523809523806\n",
      "La media de peso es de 76.14285714285714\n",
      "La media de edad es de 26.333333333333332\n",
      "sexo es un objeto\n"
     ]
    }
   ],
   "source": [
    "for colname, serie in df.iteritems():\n",
    "    if serie.dtype == 'object':\n",
    "        print(colname, 'es un objeto')\n",
    "    else:\n",
    "        print('La media de', colname, 'es de', serie.mean())"
   ]
  },
  {
   "cell_type": "code",
   "execution_count": 138,
   "metadata": {},
   "outputs": [
    {
     "name": "stdout",
     "output_type": "stream",
     "text": [
      "Diana\n",
      "Jacinta\n",
      "Marisol\n",
      "Trinidad\n",
      "Camila\n",
      "Macarena\n",
      "Alejandra\n",
      "Carolina\n",
      "Gloria\n"
     ]
    }
   ],
   "source": [
    "for rowname, rowserie in df.iterrows():\n",
    "    if rowserie['sexo'] == 'm':\n",
    "        print(rowserie['nombre'])"
   ]
  },
  {
   "cell_type": "code",
   "execution_count": 140,
   "metadata": {},
   "outputs": [
    {
     "data": {
      "text/plain": [
       "array(['Hugo', 1.67, 60, 23, 'h'], dtype=object)"
      ]
     },
     "execution_count": 140,
     "metadata": {},
     "output_type": "execute_result"
    }
   ],
   "source": [
    "df.iloc[0].values"
   ]
  },
  {
   "cell_type": "code",
   "execution_count": 141,
   "metadata": {},
   "outputs": [
    {
     "data": {
      "text/plain": [
       "Index(['nombre', 'altura', 'peso', 'edad', 'sexo'], dtype='object')"
      ]
     },
     "execution_count": 141,
     "metadata": {},
     "output_type": "execute_result"
    }
   ],
   "source": [
    "df.iloc[0].index"
   ]
  },
  {
   "cell_type": "code",
   "execution_count": null,
   "metadata": {},
   "outputs": [],
   "source": []
  }
 ],
 "metadata": {
  "kernelspec": {
   "display_name": "Python 3",
   "language": "python",
   "name": "python3"
  },
  "language_info": {
   "codemirror_mode": {
    "name": "ipython",
    "version": 3
   },
   "file_extension": ".py",
   "mimetype": "text/x-python",
   "name": "python",
   "nbconvert_exporter": "python",
   "pygments_lexer": "ipython3",
   "version": "3.7.3"
  }
 },
 "nbformat": 4,
 "nbformat_minor": 2
}
