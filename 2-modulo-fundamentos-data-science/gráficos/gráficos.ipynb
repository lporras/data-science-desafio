{
 "cells": [
  {
   "cell_type": "code",
   "execution_count": 3,
   "metadata": {},
   "outputs": [],
   "source": [
    "import matplotlib.pyplot as plt\n",
    "import numpy as np"
   ]
  },
  {
   "cell_type": "code",
   "execution_count": 4,
   "metadata": {},
   "outputs": [],
   "source": [
    "x_axis = np.linspace(-3, 3)\n",
    "y_axis = x_axis ** 2"
   ]
  },
  {
   "cell_type": "code",
   "execution_count": 5,
   "metadata": {},
   "outputs": [
    {
     "data": {
      "text/plain": [
       "[<matplotlib.lines.Line2D at 0x11cf51cf8>]"
      ]
     },
     "execution_count": 5,
     "metadata": {},
     "output_type": "execute_result"
    },
    {
     "data": {
      "image/png": "[encoded data removed]",
      "text/plain": [
       "<Figure size 432x288 with 1 Axes>"
      ]
     },
     "metadata": {
      "needs_background": "light"
     },
     "output_type": "display_data"
    }
   ],
   "source": [
    "plt.plot(x_axis, y_axis)"
   ]
  },
  {
   "cell_type": "code",
   "execution_count": 6,
   "metadata": {},
   "outputs": [
    {
     "data": {
      "text/plain": [
       "array([-3.        , -2.87755102, -2.75510204, -2.63265306, -2.51020408,\n",
       "       -2.3877551 , -2.26530612, -2.14285714, -2.02040816, -1.89795918,\n",
       "       -1.7755102 , -1.65306122, -1.53061224, -1.40816327, -1.28571429,\n",
       "       -1.16326531, -1.04081633, -0.91836735, -0.79591837, -0.67346939,\n",
       "       -0.55102041, -0.42857143, -0.30612245, -0.18367347, -0.06122449,\n",
       "        0.06122449,  0.18367347,  0.30612245,  0.42857143,  0.55102041,\n",
       "        0.67346939,  0.79591837,  0.91836735,  1.04081633,  1.16326531,\n",
       "        1.28571429,  1.40816327,  1.53061224,  1.65306122,  1.7755102 ,\n",
       "        1.89795918,  2.02040816,  2.14285714,  2.26530612,  2.3877551 ,\n",
       "        2.51020408,  2.63265306,  2.75510204,  2.87755102,  3.        ])"
      ]
     },
     "execution_count": 6,
     "metadata": {},
     "output_type": "execute_result"
    }
   ],
   "source": [
    "x_axis"
   ]
  },
  {
   "cell_type": "code",
   "execution_count": 7,
   "metadata": {},
   "outputs": [
    {
     "data": {
      "text/plain": [
       "50"
      ]
     },
     "execution_count": 7,
     "metadata": {},
     "output_type": "execute_result"
    }
   ],
   "source": [
    "len(x_axis)"
   ]
  },
  {
   "cell_type": "code",
   "execution_count": 8,
   "metadata": {},
   "outputs": [
    {
     "data": {
      "text/plain": [
       "array([9.00000000e+00, 8.28029988e+00, 7.59058726e+00, 6.93086214e+00,\n",
       "       6.30112453e+00, 5.70137443e+00, 5.13161183e+00, 4.59183673e+00,\n",
       "       4.08204915e+00, 3.60224906e+00, 3.15243648e+00, 2.73261141e+00,\n",
       "       2.34277384e+00, 1.98292378e+00, 1.65306122e+00, 1.35318617e+00,\n",
       "       1.08329863e+00, 8.43398584e-01, 6.33486047e-01, 4.53561016e-01,\n",
       "       3.03623490e-01, 1.83673469e-01, 9.37109538e-02, 3.37359434e-02,\n",
       "       3.74843815e-03, 3.74843815e-03, 3.37359434e-02, 9.37109538e-02,\n",
       "       1.83673469e-01, 3.03623490e-01, 4.53561016e-01, 6.33486047e-01,\n",
       "       8.43398584e-01, 1.08329863e+00, 1.35318617e+00, 1.65306122e+00,\n",
       "       1.98292378e+00, 2.34277384e+00, 2.73261141e+00, 3.15243648e+00,\n",
       "       3.60224906e+00, 4.08204915e+00, 4.59183673e+00, 5.13161183e+00,\n",
       "       5.70137443e+00, 6.30112453e+00, 6.93086214e+00, 7.59058726e+00,\n",
       "       8.28029988e+00, 9.00000000e+00])"
      ]
     },
     "execution_count": 8,
     "metadata": {},
     "output_type": "execute_result"
    }
   ],
   "source": [
    "y_axis"
   ]
  },
  {
   "cell_type": "code",
   "execution_count": 11,
   "metadata": {},
   "outputs": [],
   "source": [
    "import pandas as pd"
   ]
  },
  {
   "cell_type": "code",
   "execution_count": 13,
   "metadata": {},
   "outputs": [
    {
     "data": {
      "text/html": [
       "<div>\n",
       "<style scoped>\n",
       "    .dataframe tbody tr th:only-of-type {\n",
       "        vertical-align: middle;\n",
       "    }\n",
       "\n",
       "    .dataframe tbody tr th {\n",
       "        vertical-align: top;\n",
       "    }\n",
       "\n",
       "    .dataframe thead th {\n",
       "        text-align: right;\n",
       "    }\n",
       "</style>\n",
       "<table border=\"1\" class=\"dataframe\">\n",
       "  <thead>\n",
       "    <tr style=\"text-align: right;\">\n",
       "      <th></th>\n",
       "      <th>ccode</th>\n",
       "      <th>cname</th>\n",
       "      <th>ccodealp</th>\n",
       "      <th>ccodecow</th>\n",
       "      <th>ccodewb</th>\n",
       "      <th>version</th>\n",
       "      <th>aid_cpnc</th>\n",
       "      <th>aid_cpsc</th>\n",
       "      <th>aid_crnc</th>\n",
       "      <th>aid_crnio</th>\n",
       "      <th>...</th>\n",
       "      <th>wvs_relacc</th>\n",
       "      <th>wvs_relsch</th>\n",
       "      <th>wvs_relsci</th>\n",
       "      <th>wvs_satfin</th>\n",
       "      <th>wvs_satlif</th>\n",
       "      <th>wvs_screl</th>\n",
       "      <th>wvs_subh</th>\n",
       "      <th>wvs_survself</th>\n",
       "      <th>wvs_tradrat</th>\n",
       "      <th>wvs_trust</th>\n",
       "    </tr>\n",
       "  </thead>\n",
       "  <tbody>\n",
       "    <tr>\n",
       "      <th>0</th>\n",
       "      <td>4</td>\n",
       "      <td>Afghanistan</td>\n",
       "      <td>AFG</td>\n",
       "      <td>700.0</td>\n",
       "      <td>4.0</td>\n",
       "      <td>QoGStdCSJan18</td>\n",
       "      <td>NaN</td>\n",
       "      <td>NaN</td>\n",
       "      <td>29.0</td>\n",
       "      <td>13.0</td>\n",
       "      <td>...</td>\n",
       "      <td>NaN</td>\n",
       "      <td>NaN</td>\n",
       "      <td>NaN</td>\n",
       "      <td>NaN</td>\n",
       "      <td>NaN</td>\n",
       "      <td>NaN</td>\n",
       "      <td>NaN</td>\n",
       "      <td>NaN</td>\n",
       "      <td>NaN</td>\n",
       "      <td>NaN</td>\n",
       "    </tr>\n",
       "    <tr>\n",
       "      <th>1</th>\n",
       "      <td>8</td>\n",
       "      <td>Albania</td>\n",
       "      <td>ALB</td>\n",
       "      <td>339.0</td>\n",
       "      <td>8.0</td>\n",
       "      <td>QoGStdCSJan18</td>\n",
       "      <td>NaN</td>\n",
       "      <td>NaN</td>\n",
       "      <td>26.0</td>\n",
       "      <td>13.0</td>\n",
       "      <td>...</td>\n",
       "      <td>NaN</td>\n",
       "      <td>NaN</td>\n",
       "      <td>NaN</td>\n",
       "      <td>NaN</td>\n",
       "      <td>NaN</td>\n",
       "      <td>NaN</td>\n",
       "      <td>NaN</td>\n",
       "      <td>NaN</td>\n",
       "      <td>NaN</td>\n",
       "      <td>NaN</td>\n",
       "    </tr>\n",
       "    <tr>\n",
       "      <th>2</th>\n",
       "      <td>12</td>\n",
       "      <td>Algeria</td>\n",
       "      <td>DZA</td>\n",
       "      <td>615.0</td>\n",
       "      <td>12.0</td>\n",
       "      <td>QoGStdCSJan18</td>\n",
       "      <td>NaN</td>\n",
       "      <td>NaN</td>\n",
       "      <td>21.0</td>\n",
       "      <td>6.0</td>\n",
       "      <td>...</td>\n",
       "      <td>3.710616</td>\n",
       "      <td>1.704692</td>\n",
       "      <td>3.681347</td>\n",
       "      <td>5.988125</td>\n",
       "      <td>6.301029</td>\n",
       "      <td>5.339371</td>\n",
       "      <td>3.805579</td>\n",
       "      <td>-0.409807</td>\n",
       "      <td>-0.498164</td>\n",
       "      <td>0.179286</td>\n",
       "    </tr>\n",
       "    <tr>\n",
       "      <th>3</th>\n",
       "      <td>20</td>\n",
       "      <td>Andorra</td>\n",
       "      <td>AND</td>\n",
       "      <td>232.0</td>\n",
       "      <td>20.0</td>\n",
       "      <td>QoGStdCSJan18</td>\n",
       "      <td>NaN</td>\n",
       "      <td>NaN</td>\n",
       "      <td>NaN</td>\n",
       "      <td>NaN</td>\n",
       "      <td>...</td>\n",
       "      <td>NaN</td>\n",
       "      <td>NaN</td>\n",
       "      <td>NaN</td>\n",
       "      <td>NaN</td>\n",
       "      <td>NaN</td>\n",
       "      <td>NaN</td>\n",
       "      <td>NaN</td>\n",
       "      <td>NaN</td>\n",
       "      <td>NaN</td>\n",
       "      <td>NaN</td>\n",
       "    </tr>\n",
       "    <tr>\n",
       "      <th>4</th>\n",
       "      <td>24</td>\n",
       "      <td>Angola</td>\n",
       "      <td>AGO</td>\n",
       "      <td>540.0</td>\n",
       "      <td>24.0</td>\n",
       "      <td>QoGStdCSJan18</td>\n",
       "      <td>NaN</td>\n",
       "      <td>NaN</td>\n",
       "      <td>22.0</td>\n",
       "      <td>13.0</td>\n",
       "      <td>...</td>\n",
       "      <td>NaN</td>\n",
       "      <td>NaN</td>\n",
       "      <td>NaN</td>\n",
       "      <td>NaN</td>\n",
       "      <td>NaN</td>\n",
       "      <td>NaN</td>\n",
       "      <td>NaN</td>\n",
       "      <td>NaN</td>\n",
       "      <td>NaN</td>\n",
       "      <td>NaN</td>\n",
       "    </tr>\n",
       "  </tbody>\n",
       "</table>\n",
       "<p>5 rows × 1882 columns</p>\n",
       "</div>"
      ],
      "text/plain": [
       "   ccode        cname ccodealp  ccodecow  ccodewb        version  aid_cpnc  \\\n",
       "0      4  Afghanistan      AFG     700.0      4.0  QoGStdCSJan18       NaN   \n",
       "1      8      Albania      ALB     339.0      8.0  QoGStdCSJan18       NaN   \n",
       "2     12      Algeria      DZA     615.0     12.0  QoGStdCSJan18       NaN   \n",
       "3     20      Andorra      AND     232.0     20.0  QoGStdCSJan18       NaN   \n",
       "4     24       Angola      AGO     540.0     24.0  QoGStdCSJan18       NaN   \n",
       "\n",
       "   aid_cpsc  aid_crnc  aid_crnio  ...  wvs_relacc  wvs_relsch  wvs_relsci  \\\n",
       "0       NaN      29.0       13.0  ...         NaN         NaN         NaN   \n",
       "1       NaN      26.0       13.0  ...         NaN         NaN         NaN   \n",
       "2       NaN      21.0        6.0  ...    3.710616    1.704692    3.681347   \n",
       "3       NaN       NaN        NaN  ...         NaN         NaN         NaN   \n",
       "4       NaN      22.0       13.0  ...         NaN         NaN         NaN   \n",
       "\n",
       "   wvs_satfin  wvs_satlif  wvs_screl  wvs_subh  wvs_survself  wvs_tradrat  \\\n",
       "0         NaN         NaN        NaN       NaN           NaN          NaN   \n",
       "1         NaN         NaN        NaN       NaN           NaN          NaN   \n",
       "2    5.988125    6.301029   5.339371  3.805579     -0.409807    -0.498164   \n",
       "3         NaN         NaN        NaN       NaN           NaN          NaN   \n",
       "4         NaN         NaN        NaN       NaN           NaN          NaN   \n",
       "\n",
       "   wvs_trust  \n",
       "0        NaN  \n",
       "1        NaN  \n",
       "2   0.179286  \n",
       "3        NaN  \n",
       "4        NaN  \n",
       "\n",
       "[5 rows x 1882 columns]"
      ]
     },
     "execution_count": 13,
     "metadata": {},
     "output_type": "execute_result"
    }
   ],
   "source": [
    "df = pd.read_csv('Apoyo_Lectura/qog_std_cs_jan18.csv')\n",
    "df.head()"
   ]
  },
  {
   "cell_type": "code",
   "execution_count": 15,
   "metadata": {},
   "outputs": [
    {
     "data": {
      "text/plain": [
       "(194, 1882)"
      ]
     },
     "execution_count": 15,
     "metadata": {},
     "output_type": "execute_result"
    }
   ],
   "source": [
    "df.shape"
   ]
  },
  {
   "cell_type": "code",
   "execution_count": 16,
   "metadata": {},
   "outputs": [
    {
     "data": {
      "text/html": [
       "<div>\n",
       "<style scoped>\n",
       "    .dataframe tbody tr th:only-of-type {\n",
       "        vertical-align: middle;\n",
       "    }\n",
       "\n",
       "    .dataframe tbody tr th {\n",
       "        vertical-align: top;\n",
       "    }\n",
       "\n",
       "    .dataframe thead th {\n",
       "        text-align: right;\n",
       "    }\n",
       "</style>\n",
       "<table border=\"1\" class=\"dataframe\">\n",
       "  <thead>\n",
       "    <tr style=\"text-align: right;\">\n",
       "      <th></th>\n",
       "      <th>ccode</th>\n",
       "      <th>cname</th>\n",
       "      <th>ccodealp</th>\n",
       "      <th>ccodecow</th>\n",
       "      <th>ccodewb</th>\n",
       "      <th>version</th>\n",
       "      <th>aid_cpnc</th>\n",
       "      <th>aid_cpsc</th>\n",
       "      <th>aid_crnc</th>\n",
       "      <th>aid_crnio</th>\n",
       "      <th>...</th>\n",
       "      <th>wvs_relacc</th>\n",
       "      <th>wvs_relsch</th>\n",
       "      <th>wvs_relsci</th>\n",
       "      <th>wvs_satfin</th>\n",
       "      <th>wvs_satlif</th>\n",
       "      <th>wvs_screl</th>\n",
       "      <th>wvs_subh</th>\n",
       "      <th>wvs_survself</th>\n",
       "      <th>wvs_tradrat</th>\n",
       "      <th>wvs_trust</th>\n",
       "    </tr>\n",
       "  </thead>\n",
       "  <tbody>\n",
       "    <tr>\n",
       "      <th>147</th>\n",
       "      <td>670</td>\n",
       "      <td>St Vincent and the Grenadines</td>\n",
       "      <td>VCT</td>\n",
       "      <td>57.0</td>\n",
       "      <td>670.0</td>\n",
       "      <td>QoGStdCSJan18</td>\n",
       "      <td>NaN</td>\n",
       "      <td>NaN</td>\n",
       "      <td>7.0</td>\n",
       "      <td>3.0</td>\n",
       "      <td>...</td>\n",
       "      <td>NaN</td>\n",
       "      <td>NaN</td>\n",
       "      <td>NaN</td>\n",
       "      <td>NaN</td>\n",
       "      <td>NaN</td>\n",
       "      <td>NaN</td>\n",
       "      <td>NaN</td>\n",
       "      <td>NaN</td>\n",
       "      <td>NaN</td>\n",
       "      <td>NaN</td>\n",
       "    </tr>\n",
       "  </tbody>\n",
       "</table>\n",
       "<p>1 rows × 1882 columns</p>\n",
       "</div>"
      ],
      "text/plain": [
       "     ccode                          cname ccodealp  ccodecow  ccodewb  \\\n",
       "147    670  St Vincent and the Grenadines      VCT      57.0    670.0   \n",
       "\n",
       "           version  aid_cpnc  aid_cpsc  aid_crnc  aid_crnio  ...  wvs_relacc  \\\n",
       "147  QoGStdCSJan18       NaN       NaN       7.0        3.0  ...         NaN   \n",
       "\n",
       "     wvs_relsch  wvs_relsci  wvs_satfin  wvs_satlif  wvs_screl  wvs_subh  \\\n",
       "147         NaN         NaN         NaN         NaN        NaN       NaN   \n",
       "\n",
       "     wvs_survself  wvs_tradrat  wvs_trust  \n",
       "147           NaN          NaN        NaN  \n",
       "\n",
       "[1 rows x 1882 columns]"
      ]
     },
     "execution_count": 16,
     "metadata": {},
     "output_type": "execute_result"
    }
   ],
   "source": [
    "df.sample()"
   ]
  },
  {
   "cell_type": "code",
   "execution_count": 17,
   "metadata": {},
   "outputs": [
    {
     "name": "stderr",
     "output_type": "stream",
     "text": [
      "/Users/luisalfredoporraspaez/anaconda3/lib/python3.7/site-packages/numpy/lib/histograms.py:824: RuntimeWarning: invalid value encountered in greater_equal\n",
      "  keep = (tmp_a >= first_edge)\n",
      "/Users/luisalfredoporraspaez/anaconda3/lib/python3.7/site-packages/numpy/lib/histograms.py:825: RuntimeWarning: invalid value encountered in less_equal\n",
      "  keep &= (tmp_a <= last_edge)\n"
     ]
    },
    {
     "data": {
      "text/plain": [
       "(array([ 5., 12., 21., 15., 14., 18., 31., 27., 19., 24.]),\n",
       " array([0.347     , 0.4071    , 0.4672    , 0.5273    , 0.5874    ,\n",
       "        0.6475    , 0.70760001, 0.76770001, 0.82780001, 0.88790001,\n",
       "        0.94800001]),\n",
       " <a list of 10 Patch objects>)"
      ]
     },
     "execution_count": 17,
     "metadata": {},
     "output_type": "execute_result"
    },
    {
     "data": {
      "image/png": "[encoded data removed]",
      "text/plain": [
       "<Figure size 432x288 with 1 Axes>"
      ]
     },
     "metadata": {
      "needs_background": "light"
     },
     "output_type": "display_data"
    }
   ],
   "source": [
    "plt.hist(df['undp_hdi'])"
   ]
  },
  {
   "cell_type": "code",
   "execution_count": 18,
   "metadata": {},
   "outputs": [
    {
     "data": {
      "text/plain": [
       "194"
      ]
     },
     "execution_count": 18,
     "metadata": {},
     "output_type": "execute_result"
    }
   ],
   "source": [
    "len(df['undp_hdi'])"
   ]
  },
  {
   "cell_type": "code",
   "execution_count": 19,
   "metadata": {},
   "outputs": [
    {
     "data": {
      "text/plain": [
       "186"
      ]
     },
     "execution_count": 19,
     "metadata": {},
     "output_type": "execute_result"
    }
   ],
   "source": [
    "len(df['undp_hdi'].dropna())"
   ]
  },
  {
   "cell_type": "code",
   "execution_count": 20,
   "metadata": {},
   "outputs": [
    {
     "data": {
      "text/plain": [
       "(array([ 5., 12., 21., 15., 14., 18., 31., 27., 19., 24.]),\n",
       " array([0.347     , 0.4071    , 0.4672    , 0.5273    , 0.5874    ,\n",
       "        0.6475    , 0.70760001, 0.76770001, 0.82780001, 0.88790001,\n",
       "        0.94800001]),\n",
       " <a list of 10 Patch objects>)"
      ]
     },
     "execution_count": 20,
     "metadata": {},
     "output_type": "execute_result"
    },
    {
     "data": {
      "image/png": "[encoded data removed]",
      "text/plain": [
       "<Figure size 432x288 with 1 Axes>"
      ]
     },
     "metadata": {
      "needs_background": "light"
     },
     "output_type": "display_data"
    }
   ],
   "source": [
    "plt.hist(df['undp_hdi'].dropna())"
   ]
  },
  {
   "cell_type": "code",
   "execution_count": 21,
   "metadata": {},
   "outputs": [
    {
     "data": {
      "text/plain": [
       "37               Taiwan\n",
       "89         Korea, North\n",
       "111              Monaco\n",
       "119               Nauru\n",
       "129    Marshall Islands\n",
       "148          San Marino\n",
       "159             Somalia\n",
       "179              Tuvalu\n",
       "Name: cname, dtype: object"
      ]
     },
     "execution_count": 21,
     "metadata": {},
     "output_type": "execute_result"
    }
   ],
   "source": [
    "df[df['undp_hdi'].isna()]['cname']"
   ]
  },
  {
   "cell_type": "code",
   "execution_count": 22,
   "metadata": {},
   "outputs": [],
   "source": [
    "hdi_drop = df['undp_hdi'].dropna()"
   ]
  },
  {
   "cell_type": "code",
   "execution_count": 28,
   "metadata": {},
   "outputs": [
    {
     "data": {
      "text/plain": [
       "Text(0, 0.5, 'Frecuencia')"
      ]
     },
     "execution_count": 28,
     "metadata": {},
     "output_type": "execute_result"
    },
    {
     "data": {
      "image/png": "[encoded data removed]",
      "text/plain": [
       "<Figure size 432x288 with 1 Axes>"
      ]
     },
     "metadata": {
      "needs_background": "light"
     },
     "output_type": "display_data"
    }
   ],
   "source": [
    "plt.hist(hdi_drop, color='lightgrey')\n",
    "plt.axvline(hdi_drop.mean(), lw=3, color='tomato', linestyle='--')\n",
    "plt.xlabel('IDH')\n",
    "plt.ylabel('Frecuencia')"
   ]
  },
  {
   "cell_type": "code",
   "execution_count": 29,
   "metadata": {},
   "outputs": [
    {
     "data": {
      "text/plain": [
       "0.6958010768279573"
      ]
     },
     "execution_count": 29,
     "metadata": {},
     "output_type": "execute_result"
    }
   ],
   "source": [
    "hdi_drop.mean()"
   ]
  },
  {
   "cell_type": "code",
   "execution_count": 30,
   "metadata": {},
   "outputs": [
    {
     "data": {
      "text/plain": [
       "0      0.479\n",
       "1      0.762\n",
       "2      0.743\n",
       "3      0.857\n",
       "4      0.531\n",
       "5      0.784\n",
       "6      0.758\n",
       "7      0.826\n",
       "8      0.937\n",
       "9      0.892\n",
       "10     0.790\n",
       "11     0.823\n",
       "12     0.575\n",
       "13     0.741\n",
       "14     0.794\n",
       "15     0.895\n",
       "16     0.604\n",
       "17     0.671\n",
       "18     0.747\n",
       "19     0.698\n",
       "20     0.754\n",
       "21     0.706\n",
       "22     0.514\n",
       "23     0.864\n",
       "24     0.792\n",
       "25     0.552\n",
       "26     0.406\n",
       "27     0.798\n",
       "28     0.558\n",
       "29     0.514\n",
       "       ...  \n",
       "163    0.421\n",
       "164    0.488\n",
       "165    0.723\n",
       "166    0.541\n",
       "167    0.909\n",
       "168    0.938\n",
       "169    0.553\n",
       "170    0.625\n",
       "171    0.738\n",
       "172    0.484\n",
       "173    0.718\n",
       "174    0.779\n",
       "175    0.836\n",
       "176    0.723\n",
       "177    0.764\n",
       "178    0.688\n",
       "180    0.488\n",
       "181    0.748\n",
       "182    0.746\n",
       "183    0.688\n",
       "184    0.908\n",
       "185    0.519\n",
       "186    0.918\n",
       "187    0.399\n",
       "188    0.794\n",
       "189    0.697\n",
       "190    0.769\n",
       "191    0.702\n",
       "192    0.499\n",
       "193    0.576\n",
       "Name: undp_hdi, Length: 186, dtype: float64"
      ]
     },
     "execution_count": 30,
     "metadata": {},
     "output_type": "execute_result"
    }
   ],
   "source": [
    "hdi_drop"
   ]
  },
  {
   "cell_type": "code",
   "execution_count": 31,
   "metadata": {},
   "outputs": [
    {
     "data": {
      "text/html": [
       "<div>\n",
       "<style scoped>\n",
       "    .dataframe tbody tr th:only-of-type {\n",
       "        vertical-align: middle;\n",
       "    }\n",
       "\n",
       "    .dataframe tbody tr th {\n",
       "        vertical-align: top;\n",
       "    }\n",
       "\n",
       "    .dataframe thead th {\n",
       "        text-align: right;\n",
       "    }\n",
       "</style>\n",
       "<table border=\"1\" class=\"dataframe\">\n",
       "  <thead>\n",
       "    <tr style=\"text-align: right;\">\n",
       "      <th></th>\n",
       "      <th>cname</th>\n",
       "      <th>ccode</th>\n",
       "      <th>undp_hdi</th>\n",
       "      <th>ht_region</th>\n",
       "    </tr>\n",
       "  </thead>\n",
       "  <tbody>\n",
       "    <tr>\n",
       "      <th>0</th>\n",
       "      <td>Afghanistan</td>\n",
       "      <td>4</td>\n",
       "      <td>0.479</td>\n",
       "      <td>8</td>\n",
       "    </tr>\n",
       "    <tr>\n",
       "      <th>1</th>\n",
       "      <td>Albania</td>\n",
       "      <td>8</td>\n",
       "      <td>0.762</td>\n",
       "      <td>1</td>\n",
       "    </tr>\n",
       "    <tr>\n",
       "      <th>2</th>\n",
       "      <td>Algeria</td>\n",
       "      <td>12</td>\n",
       "      <td>0.743</td>\n",
       "      <td>3</td>\n",
       "    </tr>\n",
       "    <tr>\n",
       "      <th>3</th>\n",
       "      <td>Andorra</td>\n",
       "      <td>20</td>\n",
       "      <td>0.857</td>\n",
       "      <td>5</td>\n",
       "    </tr>\n",
       "    <tr>\n",
       "      <th>4</th>\n",
       "      <td>Angola</td>\n",
       "      <td>24</td>\n",
       "      <td>0.531</td>\n",
       "      <td>4</td>\n",
       "    </tr>\n",
       "  </tbody>\n",
       "</table>\n",
       "</div>"
      ],
      "text/plain": [
       "         cname  ccode  undp_hdi  ht_region\n",
       "0  Afghanistan      4     0.479          8\n",
       "1      Albania      8     0.762          1\n",
       "2      Algeria     12     0.743          3\n",
       "3      Andorra     20     0.857          5\n",
       "4       Angola     24     0.531          4"
      ]
     },
     "execution_count": 31,
     "metadata": {},
     "output_type": "execute_result"
    }
   ],
   "source": [
    "hdi_group = df.loc[:, ['cname', 'ccode', 'undp_hdi', 'ht_region']]\n",
    "hdi_group.head()"
   ]
  },
  {
   "cell_type": "code",
   "execution_count": 33,
   "metadata": {},
   "outputs": [],
   "source": [
    "hdi_group['region_recod'] = hdi_group['ht_region'].replace(\n",
    "    [1, 2, 3, 4, 5, 6, 7, 8, 9, 10],\n",
    "    ['EastEurope', 'LatAm', 'NorthAfrica', 'SubSaharian',\n",
    "      'WesternDem', 'EastAsia', 'SouthEastAsia', 'SouthAsia', 'Pacific', 'Caribbean'\n",
    "    ]\n",
    ")"
   ]
  },
  {
   "cell_type": "code",
   "execution_count": 35,
   "metadata": {},
   "outputs": [
    {
     "data": {
      "text/html": [
       "<div>\n",
       "<style scoped>\n",
       "    .dataframe tbody tr th:only-of-type {\n",
       "        vertical-align: middle;\n",
       "    }\n",
       "\n",
       "    .dataframe tbody tr th {\n",
       "        vertical-align: top;\n",
       "    }\n",
       "\n",
       "    .dataframe thead th {\n",
       "        text-align: right;\n",
       "    }\n",
       "</style>\n",
       "<table border=\"1\" class=\"dataframe\">\n",
       "  <thead>\n",
       "    <tr style=\"text-align: right;\">\n",
       "      <th></th>\n",
       "      <th>cname</th>\n",
       "      <th>ccode</th>\n",
       "      <th>undp_hdi</th>\n",
       "      <th>ht_region</th>\n",
       "      <th>region_recod</th>\n",
       "    </tr>\n",
       "  </thead>\n",
       "  <tbody>\n",
       "    <tr>\n",
       "      <th>0</th>\n",
       "      <td>Afghanistan</td>\n",
       "      <td>4</td>\n",
       "      <td>0.479</td>\n",
       "      <td>8</td>\n",
       "      <td>SouthAsia</td>\n",
       "    </tr>\n",
       "    <tr>\n",
       "      <th>1</th>\n",
       "      <td>Albania</td>\n",
       "      <td>8</td>\n",
       "      <td>0.762</td>\n",
       "      <td>1</td>\n",
       "      <td>EastEurope</td>\n",
       "    </tr>\n",
       "    <tr>\n",
       "      <th>2</th>\n",
       "      <td>Algeria</td>\n",
       "      <td>12</td>\n",
       "      <td>0.743</td>\n",
       "      <td>3</td>\n",
       "      <td>NorthAfrica</td>\n",
       "    </tr>\n",
       "    <tr>\n",
       "      <th>3</th>\n",
       "      <td>Andorra</td>\n",
       "      <td>20</td>\n",
       "      <td>0.857</td>\n",
       "      <td>5</td>\n",
       "      <td>WesternDem</td>\n",
       "    </tr>\n",
       "    <tr>\n",
       "      <th>4</th>\n",
       "      <td>Angola</td>\n",
       "      <td>24</td>\n",
       "      <td>0.531</td>\n",
       "      <td>4</td>\n",
       "      <td>SubSaharian</td>\n",
       "    </tr>\n",
       "  </tbody>\n",
       "</table>\n",
       "</div>"
      ],
      "text/plain": [
       "         cname  ccode  undp_hdi  ht_region region_recod\n",
       "0  Afghanistan      4     0.479          8    SouthAsia\n",
       "1      Albania      8     0.762          1   EastEurope\n",
       "2      Algeria     12     0.743          3  NorthAfrica\n",
       "3      Andorra     20     0.857          5   WesternDem\n",
       "4       Angola     24     0.531          4  SubSaharian"
      ]
     },
     "execution_count": 35,
     "metadata": {},
     "output_type": "execute_result"
    }
   ],
   "source": [
    "hdi_group.head()"
   ]
  },
  {
   "cell_type": "code",
   "execution_count": 37,
   "metadata": {},
   "outputs": [
    {
     "data": {
      "text/plain": [
       "region_recod\n",
       "Caribbean        0.741154\n",
       "EastAsia         0.817000\n",
       "EastEurope       0.780679\n",
       "LatAm            0.721500\n",
       "NorthAfrica      0.748300\n",
       "Pacific          0.643000\n",
       "SouthAsia        0.605125\n",
       "SouthEastAsia    0.695545\n",
       "SubSaharian      0.508813\n",
       "WesternDem       0.902360\n",
       "Name: undp_hdi, dtype: float64"
      ]
     },
     "execution_count": 37,
     "metadata": {},
     "output_type": "execute_result"
    }
   ],
   "source": [
    "hdi_group.groupby('region_recod')['undp_hdi'].mean()"
   ]
  },
  {
   "cell_type": "code",
   "execution_count": 41,
   "metadata": {},
   "outputs": [
    {
     "name": "stdout",
     "output_type": "stream",
     "text": [
      "SouthAsia 0.6051249925\n",
      "EastEurope 0.7806785735714287\n",
      "NorthAfrica 0.7483000004999999\n",
      "WesternDem 0.9023600028000002\n",
      "SubSaharian 0.5088125012500001\n",
      "Caribbean 0.7411538446153847\n",
      "LatAm 0.7215000034999999\n",
      "Pacific 0.6430000066666666\n",
      "SouthEastAsia 0.6955454572727272\n",
      "EastAsia 0.8170000024999999\n"
     ]
    }
   ],
   "source": [
    "for i in hdi_group['region_recod'].unique():\n",
    "    print(i, hdi_group[hdi_group['region_recod'] == i]['undp_hdi'].mean())"
   ]
  },
  {
   "cell_type": "code",
   "execution_count": 42,
   "metadata": {},
   "outputs": [],
   "source": [
    "hdi_groupby_means = hdi_group.groupby('region_recod')['undp_hdi'].mean()"
   ]
  },
  {
   "cell_type": "code",
   "execution_count": 45,
   "metadata": {},
   "outputs": [
    {
     "data": {
      "text/plain": [
       "<matplotlib.lines.Line2D at 0x1246fd5f8>"
      ]
     },
     "execution_count": 45,
     "metadata": {},
     "output_type": "execute_result"
    },
    {
     "data": {
      "image/png": "[encoded data removed]",
      "text/plain": [
       "<Figure size 432x288 with 1 Axes>"
      ]
     },
     "metadata": {
      "needs_background": "light"
     },
     "output_type": "display_data"
    }
   ],
   "source": [
    "plt.plot(hdi_groupby_means.values, hdi_groupby_means.index, 'o')\n",
    "plt.axvline(hdi_group['undp_hdi'].mean(), color='tomato', linestyle='--')"
   ]
  },
  {
   "cell_type": "code",
   "execution_count": null,
   "metadata": {},
   "outputs": [],
   "source": []
  }
 ],
 "metadata": {
  "kernelspec": {
   "display_name": "Python 3",
   "language": "python",
   "name": "python3"
  },
  "language_info": {
   "codemirror_mode": {
    "name": "ipython",
    "version": 3
   },
   "file_extension": ".py",
   "mimetype": "text/x-python",
   "name": "python",
   "nbconvert_exporter": "python",
   "pygments_lexer": "ipython3",
   "version": "3.7.3"
  }
 },
 "nbformat": 4,
 "nbformat_minor": 2
}
