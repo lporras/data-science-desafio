{
 "cells": [
  {
   "cell_type": "markdown",
   "metadata": {},
   "source": [
    "# Desafío: Gráficos"
   ]
  },
  {
   "cell_type": "code",
   "execution_count": 1,
   "metadata": {},
   "outputs": [],
   "source": [
    "import numpy as np\n",
    "import pandas as pd\n",
    "import matplotlib.pyplot as plt\n",
    "\n",
    "df = pd.read_csv('qog_std_cs_jan18.csv')\n",
    "\n"
   ]
  },
  {
   "cell_type": "markdown",
   "metadata": {},
   "source": [
    "## 1. Genere una submuestra de casos"
   ]
  },
  {
   "cell_type": "markdown",
   "metadata": {},
   "source": [
    "* Utilice los últimos 4 dígitos de su rut como semilla pseudoaleatoria: 8947"
   ]
  },
  {
   "cell_type": "code",
   "execution_count": 2,
   "metadata": {},
   "outputs": [],
   "source": [
    "seed = 8947\n",
    "np.random.seed(seed)\n",
    "\n"
   ]
  },
  {
   "cell_type": "markdown",
   "metadata": {},
   "source": [
    "* Seleccione el 50% de los casos"
   ]
  },
  {
   "cell_type": "code",
   "execution_count": 3,
   "metadata": {},
   "outputs": [
    {
     "data": {
      "text/plain": [
       "(194, 1882)"
      ]
     },
     "execution_count": 3,
     "metadata": {},
     "output_type": "execute_result"
    }
   ],
   "source": [
    "df.shape\n",
    "\n"
   ]
  },
  {
   "cell_type": "code",
   "execution_count": 4,
   "metadata": {},
   "outputs": [
    {
     "name": "stdout",
     "output_type": "stream",
     "text": [
      "(97, 1882)\n"
     ]
    },
    {
     "data": {
      "text/html": [
       "<div>\n",
       "<style scoped>\n",
       "    .dataframe tbody tr th:only-of-type {\n",
       "        vertical-align: middle;\n",
       "    }\n",
       "\n",
       "    .dataframe tbody tr th {\n",
       "        vertical-align: top;\n",
       "    }\n",
       "\n",
       "    .dataframe thead th {\n",
       "        text-align: right;\n",
       "    }\n",
       "</style>\n",
       "<table border=\"1\" class=\"dataframe\">\n",
       "  <thead>\n",
       "    <tr style=\"text-align: right;\">\n",
       "      <th></th>\n",
       "      <th>ccode</th>\n",
       "      <th>cname</th>\n",
       "      <th>ccodealp</th>\n",
       "      <th>ccodecow</th>\n",
       "      <th>ccodewb</th>\n",
       "      <th>version</th>\n",
       "      <th>aid_cpnc</th>\n",
       "      <th>aid_cpsc</th>\n",
       "      <th>aid_crnc</th>\n",
       "      <th>aid_crnio</th>\n",
       "      <th>...</th>\n",
       "      <th>wvs_relacc</th>\n",
       "      <th>wvs_relsch</th>\n",
       "      <th>wvs_relsci</th>\n",
       "      <th>wvs_satfin</th>\n",
       "      <th>wvs_satlif</th>\n",
       "      <th>wvs_screl</th>\n",
       "      <th>wvs_subh</th>\n",
       "      <th>wvs_survself</th>\n",
       "      <th>wvs_tradrat</th>\n",
       "      <th>wvs_trust</th>\n",
       "    </tr>\n",
       "  </thead>\n",
       "  <tbody>\n",
       "    <tr>\n",
       "      <th>133</th>\n",
       "      <td>598</td>\n",
       "      <td>Papua New Guinea</td>\n",
       "      <td>PNG</td>\n",
       "      <td>910.0</td>\n",
       "      <td>598.0</td>\n",
       "      <td>QoGStdCSJan18</td>\n",
       "      <td>NaN</td>\n",
       "      <td>NaN</td>\n",
       "      <td>15.0</td>\n",
       "      <td>15.0</td>\n",
       "      <td>...</td>\n",
       "      <td>NaN</td>\n",
       "      <td>NaN</td>\n",
       "      <td>NaN</td>\n",
       "      <td>NaN</td>\n",
       "      <td>NaN</td>\n",
       "      <td>NaN</td>\n",
       "      <td>NaN</td>\n",
       "      <td>NaN</td>\n",
       "      <td>NaN</td>\n",
       "      <td>NaN</td>\n",
       "    </tr>\n",
       "    <tr>\n",
       "      <th>190</th>\n",
       "      <td>862</td>\n",
       "      <td>Venezuela</td>\n",
       "      <td>VEN</td>\n",
       "      <td>101.0</td>\n",
       "      <td>862.0</td>\n",
       "      <td>QoGStdCSJan18</td>\n",
       "      <td>NaN</td>\n",
       "      <td>NaN</td>\n",
       "      <td>20.0</td>\n",
       "      <td>6.0</td>\n",
       "      <td>...</td>\n",
       "      <td>NaN</td>\n",
       "      <td>NaN</td>\n",
       "      <td>NaN</td>\n",
       "      <td>NaN</td>\n",
       "      <td>NaN</td>\n",
       "      <td>NaN</td>\n",
       "      <td>NaN</td>\n",
       "      <td>NaN</td>\n",
       "      <td>NaN</td>\n",
       "      <td>NaN</td>\n",
       "    </tr>\n",
       "    <tr>\n",
       "      <th>34</th>\n",
       "      <td>148</td>\n",
       "      <td>Chad</td>\n",
       "      <td>TCD</td>\n",
       "      <td>483.0</td>\n",
       "      <td>148.0</td>\n",
       "      <td>QoGStdCSJan18</td>\n",
       "      <td>NaN</td>\n",
       "      <td>NaN</td>\n",
       "      <td>20.0</td>\n",
       "      <td>14.0</td>\n",
       "      <td>...</td>\n",
       "      <td>NaN</td>\n",
       "      <td>NaN</td>\n",
       "      <td>NaN</td>\n",
       "      <td>NaN</td>\n",
       "      <td>NaN</td>\n",
       "      <td>NaN</td>\n",
       "      <td>NaN</td>\n",
       "      <td>NaN</td>\n",
       "      <td>NaN</td>\n",
       "      <td>NaN</td>\n",
       "    </tr>\n",
       "    <tr>\n",
       "      <th>123</th>\n",
       "      <td>554</td>\n",
       "      <td>New Zealand</td>\n",
       "      <td>NZL</td>\n",
       "      <td>920.0</td>\n",
       "      <td>554.0</td>\n",
       "      <td>QoGStdCSJan18</td>\n",
       "      <td>60.0</td>\n",
       "      <td>209597120.0</td>\n",
       "      <td>NaN</td>\n",
       "      <td>NaN</td>\n",
       "      <td>...</td>\n",
       "      <td>1.70227</td>\n",
       "      <td>2.014865</td>\n",
       "      <td>1.81931</td>\n",
       "      <td>6.881995</td>\n",
       "      <td>7.648975</td>\n",
       "      <td>4.909091</td>\n",
       "      <td>4.146135</td>\n",
       "      <td>1.259925</td>\n",
       "      <td>0.371845</td>\n",
       "      <td>0.567766</td>\n",
       "    </tr>\n",
       "    <tr>\n",
       "      <th>88</th>\n",
       "      <td>404</td>\n",
       "      <td>Kenya</td>\n",
       "      <td>KEN</td>\n",
       "      <td>501.0</td>\n",
       "      <td>404.0</td>\n",
       "      <td>QoGStdCSJan18</td>\n",
       "      <td>NaN</td>\n",
       "      <td>NaN</td>\n",
       "      <td>27.0</td>\n",
       "      <td>17.0</td>\n",
       "      <td>...</td>\n",
       "      <td>NaN</td>\n",
       "      <td>NaN</td>\n",
       "      <td>NaN</td>\n",
       "      <td>NaN</td>\n",
       "      <td>NaN</td>\n",
       "      <td>NaN</td>\n",
       "      <td>NaN</td>\n",
       "      <td>NaN</td>\n",
       "      <td>NaN</td>\n",
       "      <td>NaN</td>\n",
       "    </tr>\n",
       "  </tbody>\n",
       "</table>\n",
       "<p>5 rows × 1882 columns</p>\n",
       "</div>"
      ],
      "text/plain": [
       "     ccode             cname ccodealp  ccodecow  ccodewb        version  \\\n",
       "133    598  Papua New Guinea      PNG     910.0    598.0  QoGStdCSJan18   \n",
       "190    862         Venezuela      VEN     101.0    862.0  QoGStdCSJan18   \n",
       "34     148              Chad      TCD     483.0    148.0  QoGStdCSJan18   \n",
       "123    554       New Zealand      NZL     920.0    554.0  QoGStdCSJan18   \n",
       "88     404             Kenya      KEN     501.0    404.0  QoGStdCSJan18   \n",
       "\n",
       "     aid_cpnc     aid_cpsc  aid_crnc  aid_crnio  ...  wvs_relacc  wvs_relsch  \\\n",
       "133       NaN          NaN      15.0       15.0  ...         NaN         NaN   \n",
       "190       NaN          NaN      20.0        6.0  ...         NaN         NaN   \n",
       "34        NaN          NaN      20.0       14.0  ...         NaN         NaN   \n",
       "123      60.0  209597120.0       NaN        NaN  ...     1.70227    2.014865   \n",
       "88        NaN          NaN      27.0       17.0  ...         NaN         NaN   \n",
       "\n",
       "     wvs_relsci  wvs_satfin  wvs_satlif  wvs_screl  wvs_subh  wvs_survself  \\\n",
       "133         NaN         NaN         NaN        NaN       NaN           NaN   \n",
       "190         NaN         NaN         NaN        NaN       NaN           NaN   \n",
       "34          NaN         NaN         NaN        NaN       NaN           NaN   \n",
       "123     1.81931    6.881995    7.648975   4.909091  4.146135      1.259925   \n",
       "88          NaN         NaN         NaN        NaN       NaN           NaN   \n",
       "\n",
       "     wvs_tradrat  wvs_trust  \n",
       "133          NaN        NaN  \n",
       "190          NaN        NaN  \n",
       "34           NaN        NaN  \n",
       "123     0.371845   0.567766  \n",
       "88           NaN        NaN  \n",
       "\n",
       "[5 rows x 1882 columns]"
      ]
     },
     "execution_count": 4,
     "metadata": {},
     "output_type": "execute_result"
    }
   ],
   "source": [
    "half_df = df.sample(frac=0.5, random_state=seed)\n",
    "print(half_df.shape)\n",
    "half_df.head()\n",
    "\n"
   ]
  },
  {
   "cell_type": "markdown",
   "metadata": {},
   "source": [
    "* Cada base generada debe contener los siguientes elementos:\n",
    "    * El índice de desarrollo humano (undp_hdi)\n",
    "    * El nombre del país (ccodealp)\n",
    "\t* La región a la que pertenece (ht_region)\n",
    "\t* El PIB per capita. (gle_cgdpc)\n",
    "\t* El total de la población (imf_pop)\n",
    "\n",
    "* Si su apellido está entre la N y la Z, escoja las siguientes variables del módulo Salud:\n",
    "\t* ``` wef_imort```: Infant mortality, deaths/1000 live births\n",
    "\t* ```who_alc2000```: Alcohol consumption per capita (2000-)\n",
    "\t* ```who_tobt```: Current smoking of any tobacco product (Total).\n",
    "\t* ```wdi_exph```: Government expenditure on health, total (% of GDP)\n",
    "\n",
    "* Guarde esta tabla procesada en un nuevo objecto\n",
    "* Renombre las categorías de la variable ```ht_region``` de números a regiones"
   ]
  },
  {
   "cell_type": "markdown",
   "metadata": {},
   "source": [
    "### Apellido: Porras"
   ]
  },
  {
   "cell_type": "code",
   "execution_count": 5,
   "metadata": {},
   "outputs": [
    {
     "data": {
      "text/html": [
       "<div>\n",
       "<style scoped>\n",
       "    .dataframe tbody tr th:only-of-type {\n",
       "        vertical-align: middle;\n",
       "    }\n",
       "\n",
       "    .dataframe tbody tr th {\n",
       "        vertical-align: top;\n",
       "    }\n",
       "\n",
       "    .dataframe thead th {\n",
       "        text-align: right;\n",
       "    }\n",
       "</style>\n",
       "<table border=\"1\" class=\"dataframe\">\n",
       "  <thead>\n",
       "    <tr style=\"text-align: right;\">\n",
       "      <th></th>\n",
       "      <th>undp_hdi</th>\n",
       "      <th>ccodealp</th>\n",
       "      <th>ht_region</th>\n",
       "      <th>gle_cgdpc</th>\n",
       "      <th>imf_pop</th>\n",
       "      <th>wef_imort</th>\n",
       "      <th>who_alc2000</th>\n",
       "      <th>who_tobt</th>\n",
       "      <th>wdi_exph</th>\n",
       "    </tr>\n",
       "  </thead>\n",
       "  <tbody>\n",
       "    <tr>\n",
       "      <th>133</th>\n",
       "      <td>0.515</td>\n",
       "      <td>PNG</td>\n",
       "      <td>9</td>\n",
       "      <td>1693.540</td>\n",
       "      <td>6.880000</td>\n",
       "      <td>NaN</td>\n",
       "      <td>0.88</td>\n",
       "      <td>NaN</td>\n",
       "      <td>4.263571</td>\n",
       "    </tr>\n",
       "    <tr>\n",
       "      <th>190</th>\n",
       "      <td>0.769</td>\n",
       "      <td>VEN</td>\n",
       "      <td>2</td>\n",
       "      <td>10513.960</td>\n",
       "      <td>NaN</td>\n",
       "      <td>13.100000</td>\n",
       "      <td>6.47</td>\n",
       "      <td>NaN</td>\n",
       "      <td>5.256702</td>\n",
       "    </tr>\n",
       "    <tr>\n",
       "      <th>34</th>\n",
       "      <td>0.394</td>\n",
       "      <td>TCD</td>\n",
       "      <td>4</td>\n",
       "      <td>1651.050</td>\n",
       "      <td>NaN</td>\n",
       "      <td>89.400002</td>\n",
       "      <td>0.64</td>\n",
       "      <td>NaN</td>\n",
       "      <td>3.621164</td>\n",
       "    </tr>\n",
       "    <tr>\n",
       "      <th>123</th>\n",
       "      <td>0.913</td>\n",
       "      <td>NZL</td>\n",
       "      <td>5</td>\n",
       "      <td>26481.369</td>\n",
       "      <td>4.555000</td>\n",
       "      <td>4.700000</td>\n",
       "      <td>9.07</td>\n",
       "      <td>17.6</td>\n",
       "      <td>11.029610</td>\n",
       "    </tr>\n",
       "    <tr>\n",
       "      <th>88</th>\n",
       "      <td>0.550</td>\n",
       "      <td>KEN</td>\n",
       "      <td>4</td>\n",
       "      <td>1494.630</td>\n",
       "      <td>40.700001</td>\n",
       "      <td>48.700001</td>\n",
       "      <td>1.84</td>\n",
       "      <td>13.6</td>\n",
       "      <td>5.720291</td>\n",
       "    </tr>\n",
       "  </tbody>\n",
       "</table>\n",
       "</div>"
      ],
      "text/plain": [
       "     undp_hdi ccodealp  ht_region  gle_cgdpc    imf_pop  wef_imort  \\\n",
       "133     0.515      PNG          9   1693.540   6.880000        NaN   \n",
       "190     0.769      VEN          2  10513.960        NaN  13.100000   \n",
       "34      0.394      TCD          4   1651.050        NaN  89.400002   \n",
       "123     0.913      NZL          5  26481.369   4.555000   4.700000   \n",
       "88      0.550      KEN          4   1494.630  40.700001  48.700001   \n",
       "\n",
       "     who_alc2000  who_tobt   wdi_exph  \n",
       "133         0.88       NaN   4.263571  \n",
       "190         6.47       NaN   5.256702  \n",
       "34          0.64       NaN   3.621164  \n",
       "123         9.07      17.6  11.029610  \n",
       "88          1.84      13.6   5.720291  "
      ]
     },
     "execution_count": 5,
     "metadata": {},
     "output_type": "execute_result"
    }
   ],
   "source": [
    "basic_columns = ['undp_hdi', 'ccodealp', 'ht_region', 'gle_cgdpc', 'imf_pop']\n",
    "group_columns =  ['wef_imort', 'who_alc2000', 'who_tobt', 'wdi_exph']\n",
    "columns = basic_columns + group_columns\n",
    "db_df = half_df.loc[:, columns].copy()\n",
    "db_df.head()\n",
    "\n",
    "\n"
   ]
  },
  {
   "cell_type": "code",
   "execution_count": 6,
   "metadata": {},
   "outputs": [
    {
     "data": {
      "text/html": [
       "<div>\n",
       "<style scoped>\n",
       "    .dataframe tbody tr th:only-of-type {\n",
       "        vertical-align: middle;\n",
       "    }\n",
       "\n",
       "    .dataframe tbody tr th {\n",
       "        vertical-align: top;\n",
       "    }\n",
       "\n",
       "    .dataframe thead th {\n",
       "        text-align: right;\n",
       "    }\n",
       "</style>\n",
       "<table border=\"1\" class=\"dataframe\">\n",
       "  <thead>\n",
       "    <tr style=\"text-align: right;\">\n",
       "      <th></th>\n",
       "      <th>undp_hdi</th>\n",
       "      <th>ccodealp</th>\n",
       "      <th>ht_region</th>\n",
       "      <th>gle_cgdpc</th>\n",
       "      <th>imf_pop</th>\n",
       "      <th>wef_imort</th>\n",
       "      <th>who_alc2000</th>\n",
       "      <th>who_tobt</th>\n",
       "      <th>wdi_exph</th>\n",
       "    </tr>\n",
       "  </thead>\n",
       "  <tbody>\n",
       "    <tr>\n",
       "      <th>133</th>\n",
       "      <td>0.515</td>\n",
       "      <td>PNG</td>\n",
       "      <td>Pacific</td>\n",
       "      <td>1693.540</td>\n",
       "      <td>6.880000</td>\n",
       "      <td>NaN</td>\n",
       "      <td>0.88</td>\n",
       "      <td>NaN</td>\n",
       "      <td>4.263571</td>\n",
       "    </tr>\n",
       "    <tr>\n",
       "      <th>190</th>\n",
       "      <td>0.769</td>\n",
       "      <td>VEN</td>\n",
       "      <td>LatAm</td>\n",
       "      <td>10513.960</td>\n",
       "      <td>NaN</td>\n",
       "      <td>13.100000</td>\n",
       "      <td>6.47</td>\n",
       "      <td>NaN</td>\n",
       "      <td>5.256702</td>\n",
       "    </tr>\n",
       "    <tr>\n",
       "      <th>34</th>\n",
       "      <td>0.394</td>\n",
       "      <td>TCD</td>\n",
       "      <td>SubSaharian</td>\n",
       "      <td>1651.050</td>\n",
       "      <td>NaN</td>\n",
       "      <td>89.400002</td>\n",
       "      <td>0.64</td>\n",
       "      <td>NaN</td>\n",
       "      <td>3.621164</td>\n",
       "    </tr>\n",
       "    <tr>\n",
       "      <th>123</th>\n",
       "      <td>0.913</td>\n",
       "      <td>NZL</td>\n",
       "      <td>WesternDem</td>\n",
       "      <td>26481.369</td>\n",
       "      <td>4.555000</td>\n",
       "      <td>4.700000</td>\n",
       "      <td>9.07</td>\n",
       "      <td>17.6</td>\n",
       "      <td>11.029610</td>\n",
       "    </tr>\n",
       "    <tr>\n",
       "      <th>88</th>\n",
       "      <td>0.550</td>\n",
       "      <td>KEN</td>\n",
       "      <td>SubSaharian</td>\n",
       "      <td>1494.630</td>\n",
       "      <td>40.700001</td>\n",
       "      <td>48.700001</td>\n",
       "      <td>1.84</td>\n",
       "      <td>13.6</td>\n",
       "      <td>5.720291</td>\n",
       "    </tr>\n",
       "  </tbody>\n",
       "</table>\n",
       "</div>"
      ],
      "text/plain": [
       "     undp_hdi ccodealp    ht_region  gle_cgdpc    imf_pop  wef_imort  \\\n",
       "133     0.515      PNG      Pacific   1693.540   6.880000        NaN   \n",
       "190     0.769      VEN        LatAm  10513.960        NaN  13.100000   \n",
       "34      0.394      TCD  SubSaharian   1651.050        NaN  89.400002   \n",
       "123     0.913      NZL   WesternDem  26481.369   4.555000   4.700000   \n",
       "88      0.550      KEN  SubSaharian   1494.630  40.700001  48.700001   \n",
       "\n",
       "     who_alc2000  who_tobt   wdi_exph  \n",
       "133         0.88       NaN   4.263571  \n",
       "190         6.47       NaN   5.256702  \n",
       "34          0.64       NaN   3.621164  \n",
       "123         9.07      17.6  11.029610  \n",
       "88          1.84      13.6   5.720291  "
      ]
     },
     "execution_count": 6,
     "metadata": {},
     "output_type": "execute_result"
    }
   ],
   "source": [
    "db_df['ht_region'] = db_df['ht_region'].replace(\n",
    "    [1, 2, 3, 4, 5, 6, 7, 8, 9, 10],\n",
    "    ['EastEurope', 'LatAm', 'NorthAfrica', 'SubSaharian',\n",
    "      'WesternDem', 'EastAsia', 'SouthEastAsia', 'SouthAsia', 'Pacific', 'Caribbean'\n",
    "    ]\n",
    ")\n",
    "db_df.head()\n",
    "\n"
   ]
  },
  {
   "cell_type": "markdown",
   "metadata": {},
   "source": [
    "##  2. Genere una función que ingrese su objeto y devuelva:"
   ]
  },
  {
   "cell_type": "markdown",
   "metadata": {},
   "source": [
    "* Por cada variable existente en su objeto, calcule las medidas descriptivas para los casos contínuos\n",
    "* Para cada variable discreta, que calcule la frecuencia.\n",
    "* Reporte las estadísticas descriptivas para ```gle_cgdpc```, ```undp_hdi```, ```imf_pop```.\n",
    "\n",
    "Compare las estadísticas con algún compañero. ¿Ve alguna diferencia substancial en alguna de ellas?"
   ]
  },
  {
   "cell_type": "code",
   "execution_count": 7,
   "metadata": {},
   "outputs": [],
   "source": [
    "def desafio_2(data_frame):\n",
    "    for label, serie in data_frame.iteritems():\n",
    "        print(\"********************************\")\n",
    "        print(label)\n",
    "        if serie.dtype == 'object':\n",
    "            print(serie.value_counts())\n",
    "        elif serie.dtype == 'float64':\n",
    "            print(serie.describe())\n",
    "            \n",
    "            "
   ]
  },
  {
   "cell_type": "code",
   "execution_count": 8,
   "metadata": {},
   "outputs": [
    {
     "name": "stdout",
     "output_type": "stream",
     "text": [
      "********************************\n",
      "undp_hdi\n",
      "count    93.000000\n",
      "mean      0.699839\n",
      "std       0.159257\n",
      "min       0.351000\n",
      "25%       0.565000\n",
      "50%       0.741000\n",
      "75%       0.805000\n",
      "max       0.948000\n",
      "Name: undp_hdi, dtype: float64\n",
      "********************************\n",
      "ccodealp\n",
      "TUR    1\n",
      "KAZ    1\n",
      "GEO    1\n",
      "THA    1\n",
      "PAN    1\n",
      "POL    1\n",
      "TCD    1\n",
      "SMR    1\n",
      "QAT    1\n",
      "HND    1\n",
      "IRN    1\n",
      "ROU    1\n",
      "IRQ    1\n",
      "TUV    1\n",
      "BEL    1\n",
      "SRB    1\n",
      "SYR    1\n",
      "NZL    1\n",
      "SAU    1\n",
      "TLS    1\n",
      "HRV    1\n",
      "SUR    1\n",
      "AND    1\n",
      "JPN    1\n",
      "VEN    1\n",
      "PNG    1\n",
      "BRN    1\n",
      "ITA    1\n",
      "CPV    1\n",
      "SGP    1\n",
      "      ..\n",
      "MKD    1\n",
      "BGD    1\n",
      "MDV    1\n",
      "GHA    1\n",
      "BTN    1\n",
      "AUS    1\n",
      "NER    1\n",
      "MCO    1\n",
      "MAR    1\n",
      "IRL    1\n",
      "NOR    1\n",
      "EST    1\n",
      "SOM    1\n",
      "WSM    1\n",
      "ECU    1\n",
      "BDI    1\n",
      "KEN    1\n",
      "CUB    1\n",
      "RWA    1\n",
      "MLI    1\n",
      "LBR    1\n",
      "MDA    1\n",
      "ARM    1\n",
      "ZAF    1\n",
      "ARE    1\n",
      "UKR    1\n",
      "BIH    1\n",
      "TZA    1\n",
      "LBN    1\n",
      "ISR    1\n",
      "Name: ccodealp, Length: 97, dtype: int64\n",
      "********************************\n",
      "ht_region\n",
      "SubSaharian      22\n",
      "EastEurope       17\n",
      "WesternDem       13\n",
      "NorthAfrica      13\n",
      "LatAm             8\n",
      "SouthEastAsia     7\n",
      "Caribbean         6\n",
      "SouthAsia         5\n",
      "Pacific           4\n",
      "EastAsia          2\n",
      "Name: ht_region, dtype: int64\n",
      "********************************\n",
      "gle_cgdpc\n",
      "count        97.000000\n",
      "mean      15661.311846\n",
      "std       20232.171833\n",
      "min         332.269990\n",
      "25%        2223.010000\n",
      "50%        8507.650400\n",
      "75%       19990.939000\n",
      "max      108481.130000\n",
      "Name: gle_cgdpc, dtype: float64\n",
      "********************************\n",
      "imf_pop\n",
      "count     74.000000\n",
      "mean      26.962365\n",
      "std       43.829726\n",
      "min        0.011000\n",
      "25%        3.077250\n",
      "50%        7.689500\n",
      "75%       32.125999\n",
      "max      252.164993\n",
      "Name: imf_pop, dtype: float64\n",
      "********************************\n",
      "wef_imort\n",
      "count    79.000000\n",
      "mean     22.064557\n",
      "std      21.256492\n",
      "min       1.700000\n",
      "25%       5.700000\n",
      "50%      14.200000\n",
      "75%      33.750000\n",
      "max      89.400002\n",
      "Name: wef_imort, dtype: float64\n",
      "********************************\n",
      "who_alc2000\n",
      "count    93.000000\n",
      "mean      4.497312\n",
      "std       3.821565\n",
      "min       0.000000\n",
      "25%       0.970000\n",
      "50%       3.820000\n",
      "75%       7.550000\n",
      "max      12.600000\n",
      "Name: who_alc2000, dtype: float64\n",
      "********************************\n",
      "who_tobt\n",
      "count    66.000000\n",
      "mean     22.978788\n",
      "std       8.995221\n",
      "min       4.700000\n",
      "25%      16.324999\n",
      "50%      23.100001\n",
      "75%      29.550000\n",
      "max      42.099998\n",
      "Name: who_tobt, dtype: float64\n",
      "********************************\n",
      "wdi_exph\n",
      "count    96.000000\n",
      "mean      6.620259\n",
      "std       2.655983\n",
      "min       1.475303\n",
      "25%       4.853159\n",
      "50%       6.364770\n",
      "75%       7.862662\n",
      "max      16.536638\n",
      "Name: wdi_exph, dtype: float64\n"
     ]
    }
   ],
   "source": [
    "desafio_2(db_df)\n",
    "\n",
    "\n"
   ]
  },
  {
   "cell_type": "code",
   "execution_count": 9,
   "metadata": {},
   "outputs": [
    {
     "data": {
      "text/html": [
       "<div>\n",
       "<style scoped>\n",
       "    .dataframe tbody tr th:only-of-type {\n",
       "        vertical-align: middle;\n",
       "    }\n",
       "\n",
       "    .dataframe tbody tr th {\n",
       "        vertical-align: top;\n",
       "    }\n",
       "\n",
       "    .dataframe thead th {\n",
       "        text-align: right;\n",
       "    }\n",
       "</style>\n",
       "<table border=\"1\" class=\"dataframe\">\n",
       "  <thead>\n",
       "    <tr style=\"text-align: right;\">\n",
       "      <th></th>\n",
       "      <th>undp_hdi</th>\n",
       "      <th>gle_cgdpc</th>\n",
       "      <th>imf_pop</th>\n",
       "      <th>wef_imort</th>\n",
       "      <th>who_alc2000</th>\n",
       "      <th>who_tobt</th>\n",
       "      <th>wdi_exph</th>\n",
       "    </tr>\n",
       "  </thead>\n",
       "  <tbody>\n",
       "    <tr>\n",
       "      <th>count</th>\n",
       "      <td>93.000000</td>\n",
       "      <td>97.000000</td>\n",
       "      <td>74.000000</td>\n",
       "      <td>79.000000</td>\n",
       "      <td>93.000000</td>\n",
       "      <td>66.000000</td>\n",
       "      <td>96.000000</td>\n",
       "    </tr>\n",
       "    <tr>\n",
       "      <th>mean</th>\n",
       "      <td>0.699839</td>\n",
       "      <td>15661.311846</td>\n",
       "      <td>26.962365</td>\n",
       "      <td>22.064557</td>\n",
       "      <td>4.497312</td>\n",
       "      <td>22.978788</td>\n",
       "      <td>6.620259</td>\n",
       "    </tr>\n",
       "    <tr>\n",
       "      <th>std</th>\n",
       "      <td>0.159257</td>\n",
       "      <td>20232.171833</td>\n",
       "      <td>43.829726</td>\n",
       "      <td>21.256492</td>\n",
       "      <td>3.821565</td>\n",
       "      <td>8.995221</td>\n",
       "      <td>2.655983</td>\n",
       "    </tr>\n",
       "    <tr>\n",
       "      <th>min</th>\n",
       "      <td>0.351000</td>\n",
       "      <td>332.269990</td>\n",
       "      <td>0.011000</td>\n",
       "      <td>1.700000</td>\n",
       "      <td>0.000000</td>\n",
       "      <td>4.700000</td>\n",
       "      <td>1.475303</td>\n",
       "    </tr>\n",
       "    <tr>\n",
       "      <th>25%</th>\n",
       "      <td>0.565000</td>\n",
       "      <td>2223.010000</td>\n",
       "      <td>3.077250</td>\n",
       "      <td>5.700000</td>\n",
       "      <td>0.970000</td>\n",
       "      <td>16.324999</td>\n",
       "      <td>4.853159</td>\n",
       "    </tr>\n",
       "    <tr>\n",
       "      <th>50%</th>\n",
       "      <td>0.741000</td>\n",
       "      <td>8507.650400</td>\n",
       "      <td>7.689500</td>\n",
       "      <td>14.200000</td>\n",
       "      <td>3.820000</td>\n",
       "      <td>23.100001</td>\n",
       "      <td>6.364770</td>\n",
       "    </tr>\n",
       "    <tr>\n",
       "      <th>75%</th>\n",
       "      <td>0.805000</td>\n",
       "      <td>19990.939000</td>\n",
       "      <td>32.125999</td>\n",
       "      <td>33.750000</td>\n",
       "      <td>7.550000</td>\n",
       "      <td>29.550000</td>\n",
       "      <td>7.862662</td>\n",
       "    </tr>\n",
       "    <tr>\n",
       "      <th>max</th>\n",
       "      <td>0.948000</td>\n",
       "      <td>108481.130000</td>\n",
       "      <td>252.164993</td>\n",
       "      <td>89.400002</td>\n",
       "      <td>12.600000</td>\n",
       "      <td>42.099998</td>\n",
       "      <td>16.536638</td>\n",
       "    </tr>\n",
       "  </tbody>\n",
       "</table>\n",
       "</div>"
      ],
      "text/plain": [
       "        undp_hdi      gle_cgdpc     imf_pop  wef_imort  who_alc2000  \\\n",
       "count  93.000000      97.000000   74.000000  79.000000    93.000000   \n",
       "mean    0.699839   15661.311846   26.962365  22.064557     4.497312   \n",
       "std     0.159257   20232.171833   43.829726  21.256492     3.821565   \n",
       "min     0.351000     332.269990    0.011000   1.700000     0.000000   \n",
       "25%     0.565000    2223.010000    3.077250   5.700000     0.970000   \n",
       "50%     0.741000    8507.650400    7.689500  14.200000     3.820000   \n",
       "75%     0.805000   19990.939000   32.125999  33.750000     7.550000   \n",
       "max     0.948000  108481.130000  252.164993  89.400002    12.600000   \n",
       "\n",
       "        who_tobt   wdi_exph  \n",
       "count  66.000000  96.000000  \n",
       "mean   22.978788   6.620259  \n",
       "std     8.995221   2.655983  \n",
       "min     4.700000   1.475303  \n",
       "25%    16.324999   4.853159  \n",
       "50%    23.100001   6.364770  \n",
       "75%    29.550000   7.862662  \n",
       "max    42.099998  16.536638  "
      ]
     },
     "execution_count": 9,
     "metadata": {},
     "output_type": "execute_result"
    }
   ],
   "source": [
    "db_df.describe()\n",
    "\n",
    "\n"
   ]
  },
  {
   "cell_type": "code",
   "execution_count": 10,
   "metadata": {},
   "outputs": [
    {
     "data": {
      "text/plain": [
       "count        97.000000\n",
       "mean      15661.311846\n",
       "std       20232.171833\n",
       "min         332.269990\n",
       "25%        2223.010000\n",
       "50%        8507.650400\n",
       "75%       19990.939000\n",
       "max      108481.130000\n",
       "Name: gle_cgdpc, dtype: float64"
      ]
     },
     "execution_count": 10,
     "metadata": {},
     "output_type": "execute_result"
    }
   ],
   "source": [
    "db_df['gle_cgdpc'].describe()\n",
    "\n"
   ]
  },
  {
   "cell_type": "code",
   "execution_count": 11,
   "metadata": {},
   "outputs": [
    {
     "data": {
      "text/plain": [
       "count    93.000000\n",
       "mean      0.699839\n",
       "std       0.159257\n",
       "min       0.351000\n",
       "25%       0.565000\n",
       "50%       0.741000\n",
       "75%       0.805000\n",
       "max       0.948000\n",
       "Name: undp_hdi, dtype: float64"
      ]
     },
     "execution_count": 11,
     "metadata": {},
     "output_type": "execute_result"
    }
   ],
   "source": [
    "db_df['undp_hdi'].describe()\n",
    "\n"
   ]
  },
  {
   "cell_type": "code",
   "execution_count": 12,
   "metadata": {},
   "outputs": [
    {
     "data": {
      "text/plain": [
       "count     74.000000\n",
       "mean      26.962365\n",
       "std       43.829726\n",
       "min        0.011000\n",
       "25%        3.077250\n",
       "50%        7.689500\n",
       "75%       32.125999\n",
       "max      252.164993\n",
       "Name: imf_pop, dtype: float64"
      ]
     },
     "execution_count": 12,
     "metadata": {},
     "output_type": "execute_result"
    }
   ],
   "source": [
    "db_df['imf_pop'].describe()\n",
    "\n"
   ]
  },
  {
   "cell_type": "markdown",
   "metadata": {},
   "source": [
    "Hice las comparaciones con un compañero y los valores varian un poco, en el caso de la media las variaciones son en la tercera decima."
   ]
  },
  {
   "cell_type": "markdown",
   "metadata": {},
   "source": [
    "## 3. Genere una función que liste las observaciones perdidas de una variable"
   ]
  },
  {
   "cell_type": "markdown",
   "metadata": {},
   "source": [
    "* La función debe contener los siguientes argumentos:\n",
    "\t* ```dataframe```: La función debe ingresar un objeto DataFrame.\n",
    "\t* ```var```: Variable a inspeccionar.\n",
    "\t* ```print_list```: Opción para imprimir la lista de observaciones perdidas en la variable.\n",
    "    \n",
    "    Debe ser ```False``` por defecto.\n",
    "* La función debe retornar la cantidad de casos perdidos y el porcentaje correspondiente.\n",
    "* Cuando ```print_list = True```, debe retornar la lista de casos.\n",
    "* Analice todas las variables y sus casos perdidos.\n",
    "\n",
    "    Para las 3 variables con un mayor porcentaje de casos perdidos, solicite la lista de países con ausencia de datos"
   ]
  },
  {
   "cell_type": "code",
   "execution_count": 13,
   "metadata": {},
   "outputs": [],
   "source": [
    "def desafio_3(dataframe, var, print_list=False):\n",
    "    if print_list :\n",
    "        return dataframe[dataframe[var].isna()]\n",
    "    else:\n",
    "        null_count = dataframe[var].isnull().sum()\n",
    "        dataframe_len = len(dataframe)\n",
    "        return (null_count, null_count/dataframe_len)\n",
    "    \n"
   ]
  },
  {
   "cell_type": "code",
   "execution_count": 14,
   "metadata": {},
   "outputs": [
    {
     "data": {
      "text/html": [
       "<div>\n",
       "<style scoped>\n",
       "    .dataframe tbody tr th:only-of-type {\n",
       "        vertical-align: middle;\n",
       "    }\n",
       "\n",
       "    .dataframe tbody tr th {\n",
       "        vertical-align: top;\n",
       "    }\n",
       "\n",
       "    .dataframe thead th {\n",
       "        text-align: right;\n",
       "    }\n",
       "</style>\n",
       "<table border=\"1\" class=\"dataframe\">\n",
       "  <thead>\n",
       "    <tr style=\"text-align: right;\">\n",
       "      <th></th>\n",
       "      <th>undp_hdi</th>\n",
       "      <th>ccodealp</th>\n",
       "      <th>ht_region</th>\n",
       "      <th>gle_cgdpc</th>\n",
       "      <th>imf_pop</th>\n",
       "      <th>wef_imort</th>\n",
       "      <th>who_alc2000</th>\n",
       "      <th>who_tobt</th>\n",
       "      <th>wdi_exph</th>\n",
       "    </tr>\n",
       "  </thead>\n",
       "  <tbody>\n",
       "    <tr>\n",
       "      <th>190</th>\n",
       "      <td>0.769</td>\n",
       "      <td>VEN</td>\n",
       "      <td>LatAm</td>\n",
       "      <td>10513.96000</td>\n",
       "      <td>NaN</td>\n",
       "      <td>13.100000</td>\n",
       "      <td>6.470000</td>\n",
       "      <td>NaN</td>\n",
       "      <td>5.256702</td>\n",
       "    </tr>\n",
       "    <tr>\n",
       "      <th>34</th>\n",
       "      <td>0.394</td>\n",
       "      <td>TCD</td>\n",
       "      <td>SubSaharian</td>\n",
       "      <td>1651.05000</td>\n",
       "      <td>NaN</td>\n",
       "      <td>89.400002</td>\n",
       "      <td>0.640000</td>\n",
       "      <td>NaN</td>\n",
       "      <td>3.621164</td>\n",
       "    </tr>\n",
       "    <tr>\n",
       "      <th>26</th>\n",
       "      <td>0.406</td>\n",
       "      <td>BDI</td>\n",
       "      <td>SubSaharian</td>\n",
       "      <td>663.57001</td>\n",
       "      <td>NaN</td>\n",
       "      <td>66.900002</td>\n",
       "      <td>4.160000</td>\n",
       "      <td>NaN</td>\n",
       "      <td>7.535565</td>\n",
       "    </tr>\n",
       "    <tr>\n",
       "      <th>139</th>\n",
       "      <td>0.421</td>\n",
       "      <td>GNB</td>\n",
       "      <td>SubSaharian</td>\n",
       "      <td>961.26001</td>\n",
       "      <td>NaN</td>\n",
       "      <td>NaN</td>\n",
       "      <td>3.570000</td>\n",
       "      <td>NaN</td>\n",
       "      <td>5.593137</td>\n",
       "    </tr>\n",
       "    <tr>\n",
       "      <th>97</th>\n",
       "      <td>0.427</td>\n",
       "      <td>LBR</td>\n",
       "      <td>SubSaharian</td>\n",
       "      <td>488.26999</td>\n",
       "      <td>NaN</td>\n",
       "      <td>53.599998</td>\n",
       "      <td>3.720000</td>\n",
       "      <td>14.200000</td>\n",
       "      <td>10.036333</td>\n",
       "    </tr>\n",
       "    <tr>\n",
       "      <th>175</th>\n",
       "      <td>0.836</td>\n",
       "      <td>ARE</td>\n",
       "      <td>NorthAfrica</td>\n",
       "      <td>20310.10900</td>\n",
       "      <td>NaN</td>\n",
       "      <td>7.200000</td>\n",
       "      <td>1.910000</td>\n",
       "      <td>NaN</td>\n",
       "      <td>3.643986</td>\n",
       "    </tr>\n",
       "    <tr>\n",
       "      <th>145</th>\n",
       "      <td>0.762</td>\n",
       "      <td>KNA</td>\n",
       "      <td>Caribbean</td>\n",
       "      <td>11237.75000</td>\n",
       "      <td>NaN</td>\n",
       "      <td>NaN</td>\n",
       "      <td>8.680000</td>\n",
       "      <td>NaN</td>\n",
       "      <td>5.080365</td>\n",
       "    </tr>\n",
       "    <tr>\n",
       "      <th>169</th>\n",
       "      <td>0.553</td>\n",
       "      <td>SYR</td>\n",
       "      <td>NorthAfrica</td>\n",
       "      <td>4284.41990</td>\n",
       "      <td>NaN</td>\n",
       "      <td>14.200000</td>\n",
       "      <td>0.760000</td>\n",
       "      <td>NaN</td>\n",
       "      <td>3.254531</td>\n",
       "    </tr>\n",
       "    <tr>\n",
       "      <th>3</th>\n",
       "      <td>0.857</td>\n",
       "      <td>AND</td>\n",
       "      <td>WesternDem</td>\n",
       "      <td>32367.33000</td>\n",
       "      <td>NaN</td>\n",
       "      <td>NaN</td>\n",
       "      <td>9.979999</td>\n",
       "      <td>33.099998</td>\n",
       "      <td>8.127135</td>\n",
       "    </tr>\n",
       "    <tr>\n",
       "      <th>72</th>\n",
       "      <td>0.490</td>\n",
       "      <td>HTI</td>\n",
       "      <td>LatAm</td>\n",
       "      <td>1024.93990</td>\n",
       "      <td>NaN</td>\n",
       "      <td>56.500000</td>\n",
       "      <td>5.680000</td>\n",
       "      <td>11.800000</td>\n",
       "      <td>7.555654</td>\n",
       "    </tr>\n",
       "    <tr>\n",
       "      <th>73</th>\n",
       "      <td>0.623</td>\n",
       "      <td>HND</td>\n",
       "      <td>LatAm</td>\n",
       "      <td>3303.13990</td>\n",
       "      <td>NaN</td>\n",
       "      <td>19.400000</td>\n",
       "      <td>2.870000</td>\n",
       "      <td>18.900000</td>\n",
       "      <td>8.722680</td>\n",
       "    </tr>\n",
       "    <tr>\n",
       "      <th>44</th>\n",
       "      <td>0.773</td>\n",
       "      <td>CUB</td>\n",
       "      <td>LatAm</td>\n",
       "      <td>5899.93990</td>\n",
       "      <td>NaN</td>\n",
       "      <td>NaN</td>\n",
       "      <td>4.370000</td>\n",
       "      <td>36.099998</td>\n",
       "      <td>11.058801</td>\n",
       "    </tr>\n",
       "    <tr>\n",
       "      <th>125</th>\n",
       "      <td>0.351</td>\n",
       "      <td>NER</td>\n",
       "      <td>SubSaharian</td>\n",
       "      <td>644.53998</td>\n",
       "      <td>NaN</td>\n",
       "      <td>NaN</td>\n",
       "      <td>0.150000</td>\n",
       "      <td>8.400000</td>\n",
       "      <td>5.821299</td>\n",
       "    </tr>\n",
       "    <tr>\n",
       "      <th>159</th>\n",
       "      <td>NaN</td>\n",
       "      <td>SOM</td>\n",
       "      <td>SubSaharian</td>\n",
       "      <td>1436.74000</td>\n",
       "      <td>NaN</td>\n",
       "      <td>NaN</td>\n",
       "      <td>0.000000</td>\n",
       "      <td>NaN</td>\n",
       "      <td>NaN</td>\n",
       "    </tr>\n",
       "    <tr>\n",
       "      <th>149</th>\n",
       "      <td>0.565</td>\n",
       "      <td>STP</td>\n",
       "      <td>SubSaharian</td>\n",
       "      <td>2150.55000</td>\n",
       "      <td>NaN</td>\n",
       "      <td>NaN</td>\n",
       "      <td>5.690000</td>\n",
       "      <td>NaN</td>\n",
       "      <td>8.353466</td>\n",
       "    </tr>\n",
       "    <tr>\n",
       "      <th>111</th>\n",
       "      <td>NaN</td>\n",
       "      <td>MCO</td>\n",
       "      <td>WesternDem</td>\n",
       "      <td>108481.13000</td>\n",
       "      <td>NaN</td>\n",
       "      <td>NaN</td>\n",
       "      <td>NaN</td>\n",
       "      <td>NaN</td>\n",
       "      <td>4.337683</td>\n",
       "    </tr>\n",
       "    <tr>\n",
       "      <th>63</th>\n",
       "      <td>0.450</td>\n",
       "      <td>GMB</td>\n",
       "      <td>SubSaharian</td>\n",
       "      <td>1601.88000</td>\n",
       "      <td>NaN</td>\n",
       "      <td>49.200001</td>\n",
       "      <td>3.410000</td>\n",
       "      <td>NaN</td>\n",
       "      <td>7.340401</td>\n",
       "    </tr>\n",
       "    <tr>\n",
       "      <th>65</th>\n",
       "      <td>0.575</td>\n",
       "      <td>GHA</td>\n",
       "      <td>SubSaharian</td>\n",
       "      <td>2584.60010</td>\n",
       "      <td>NaN</td>\n",
       "      <td>48.599998</td>\n",
       "      <td>1.640000</td>\n",
       "      <td>6.300000</td>\n",
       "      <td>3.557292</td>\n",
       "    </tr>\n",
       "    <tr>\n",
       "      <th>5</th>\n",
       "      <td>0.784</td>\n",
       "      <td>ATG</td>\n",
       "      <td>Caribbean</td>\n",
       "      <td>12257.71000</td>\n",
       "      <td>NaN</td>\n",
       "      <td>NaN</td>\n",
       "      <td>8.560000</td>\n",
       "      <td>NaN</td>\n",
       "      <td>5.541683</td>\n",
       "    </tr>\n",
       "    <tr>\n",
       "      <th>60</th>\n",
       "      <td>0.470</td>\n",
       "      <td>DJI</td>\n",
       "      <td>SubSaharian</td>\n",
       "      <td>2685.50000</td>\n",
       "      <td>NaN</td>\n",
       "      <td>NaN</td>\n",
       "      <td>0.380000</td>\n",
       "      <td>NaN</td>\n",
       "      <td>10.568256</td>\n",
       "    </tr>\n",
       "    <tr>\n",
       "      <th>36</th>\n",
       "      <td>0.734</td>\n",
       "      <td>CHN</td>\n",
       "      <td>EastAsia</td>\n",
       "      <td>9283.37990</td>\n",
       "      <td>NaN</td>\n",
       "      <td>12.100000</td>\n",
       "      <td>5.780000</td>\n",
       "      <td>25.900000</td>\n",
       "      <td>5.548228</td>\n",
       "    </tr>\n",
       "    <tr>\n",
       "      <th>151</th>\n",
       "      <td>0.491</td>\n",
       "      <td>SEN</td>\n",
       "      <td>SubSaharian</td>\n",
       "      <td>1527.99000</td>\n",
       "      <td>NaN</td>\n",
       "      <td>45.200001</td>\n",
       "      <td>0.260000</td>\n",
       "      <td>11.100000</td>\n",
       "      <td>4.664972</td>\n",
       "    </tr>\n",
       "    <tr>\n",
       "      <th>52</th>\n",
       "      <td>0.678</td>\n",
       "      <td>SLV</td>\n",
       "      <td>LatAm</td>\n",
       "      <td>332.26999</td>\n",
       "      <td>NaN</td>\n",
       "      <td>13.600000</td>\n",
       "      <td>2.520000</td>\n",
       "      <td>NaN</td>\n",
       "      <td>6.772403</td>\n",
       "    </tr>\n",
       "  </tbody>\n",
       "</table>\n",
       "</div>"
      ],
      "text/plain": [
       "     undp_hdi ccodealp    ht_region     gle_cgdpc  imf_pop  wef_imort  \\\n",
       "190     0.769      VEN        LatAm   10513.96000      NaN  13.100000   \n",
       "34      0.394      TCD  SubSaharian    1651.05000      NaN  89.400002   \n",
       "26      0.406      BDI  SubSaharian     663.57001      NaN  66.900002   \n",
       "139     0.421      GNB  SubSaharian     961.26001      NaN        NaN   \n",
       "97      0.427      LBR  SubSaharian     488.26999      NaN  53.599998   \n",
       "175     0.836      ARE  NorthAfrica   20310.10900      NaN   7.200000   \n",
       "145     0.762      KNA    Caribbean   11237.75000      NaN        NaN   \n",
       "169     0.553      SYR  NorthAfrica    4284.41990      NaN  14.200000   \n",
       "3       0.857      AND   WesternDem   32367.33000      NaN        NaN   \n",
       "72      0.490      HTI        LatAm    1024.93990      NaN  56.500000   \n",
       "73      0.623      HND        LatAm    3303.13990      NaN  19.400000   \n",
       "44      0.773      CUB        LatAm    5899.93990      NaN        NaN   \n",
       "125     0.351      NER  SubSaharian     644.53998      NaN        NaN   \n",
       "159       NaN      SOM  SubSaharian    1436.74000      NaN        NaN   \n",
       "149     0.565      STP  SubSaharian    2150.55000      NaN        NaN   \n",
       "111       NaN      MCO   WesternDem  108481.13000      NaN        NaN   \n",
       "63      0.450      GMB  SubSaharian    1601.88000      NaN  49.200001   \n",
       "65      0.575      GHA  SubSaharian    2584.60010      NaN  48.599998   \n",
       "5       0.784      ATG    Caribbean   12257.71000      NaN        NaN   \n",
       "60      0.470      DJI  SubSaharian    2685.50000      NaN        NaN   \n",
       "36      0.734      CHN     EastAsia    9283.37990      NaN  12.100000   \n",
       "151     0.491      SEN  SubSaharian    1527.99000      NaN  45.200001   \n",
       "52      0.678      SLV        LatAm     332.26999      NaN  13.600000   \n",
       "\n",
       "     who_alc2000   who_tobt   wdi_exph  \n",
       "190     6.470000        NaN   5.256702  \n",
       "34      0.640000        NaN   3.621164  \n",
       "26      4.160000        NaN   7.535565  \n",
       "139     3.570000        NaN   5.593137  \n",
       "97      3.720000  14.200000  10.036333  \n",
       "175     1.910000        NaN   3.643986  \n",
       "145     8.680000        NaN   5.080365  \n",
       "169     0.760000        NaN   3.254531  \n",
       "3       9.979999  33.099998   8.127135  \n",
       "72      5.680000  11.800000   7.555654  \n",
       "73      2.870000  18.900000   8.722680  \n",
       "44      4.370000  36.099998  11.058801  \n",
       "125     0.150000   8.400000   5.821299  \n",
       "159     0.000000        NaN        NaN  \n",
       "149     5.690000        NaN   8.353466  \n",
       "111          NaN        NaN   4.337683  \n",
       "63      3.410000        NaN   7.340401  \n",
       "65      1.640000   6.300000   3.557292  \n",
       "5       8.560000        NaN   5.541683  \n",
       "60      0.380000        NaN  10.568256  \n",
       "36      5.780000  25.900000   5.548228  \n",
       "151     0.260000  11.100000   4.664972  \n",
       "52      2.520000        NaN   6.772403  "
      ]
     },
     "execution_count": 14,
     "metadata": {},
     "output_type": "execute_result"
    }
   ],
   "source": [
    "desafio_3(db_df, 'imf_pop', True)\n",
    "\n",
    "\n"
   ]
  },
  {
   "cell_type": "code",
   "execution_count": 15,
   "metadata": {},
   "outputs": [
    {
     "data": {
      "text/plain": [
       "(23, 0.23711340206185566)"
      ]
     },
     "execution_count": 15,
     "metadata": {},
     "output_type": "execute_result"
    }
   ],
   "source": [
    "desafio_3(db_df, 'imf_pop')\n",
    "\n",
    "\n"
   ]
  },
  {
   "cell_type": "code",
   "execution_count": 16,
   "metadata": {},
   "outputs": [
    {
     "data": {
      "text/plain": [
       "['undp_hdi',\n",
       " 'ccodealp',\n",
       " 'ht_region',\n",
       " 'gle_cgdpc',\n",
       " 'imf_pop',\n",
       " 'wef_imort',\n",
       " 'who_alc2000',\n",
       " 'who_tobt',\n",
       " 'wdi_exph']"
      ]
     },
     "execution_count": 16,
     "metadata": {},
     "output_type": "execute_result"
    }
   ],
   "source": [
    "columns\n",
    "\n"
   ]
  },
  {
   "cell_type": "code",
   "execution_count": 17,
   "metadata": {},
   "outputs": [
    {
     "name": "stdout",
     "output_type": "stream",
     "text": [
      "undp_hdi\n",
      "(4, 0.041237113402061855)\n",
      "ccodealp\n",
      "(0, 0.0)\n",
      "ht_region\n",
      "(0, 0.0)\n",
      "gle_cgdpc\n",
      "(0, 0.0)\n",
      "imf_pop\n",
      "(23, 0.23711340206185566)\n",
      "wef_imort\n",
      "(18, 0.18556701030927836)\n",
      "who_alc2000\n",
      "(4, 0.041237113402061855)\n",
      "who_tobt\n",
      "(31, 0.31958762886597936)\n",
      "wdi_exph\n",
      "(1, 0.010309278350515464)\n"
     ]
    }
   ],
   "source": [
    "for variable in columns:\n",
    "    print(variable)\n",
    "    print(desafio_3(db_df, variable, False))\n",
    "    \n"
   ]
  },
  {
   "cell_type": "markdown",
   "metadata": {},
   "source": [
    "### Las variables con mayor porcentaje de datos perdidos son:\n",
    "* ```who_tobt```: con un ```31%``` de datos perdidos\n",
    "* ```imf_pop```: con un ```23%``` de datos perdidos\n",
    "* ```wef_imort```: con un ```18%``` de datos perdidos\n",
    "\n",
    "\n"
   ]
  },
  {
   "cell_type": "code",
   "execution_count": 18,
   "metadata": {},
   "outputs": [
    {
     "name": "stdout",
     "output_type": "stream",
     "text": [
      "Lista de paises con ausencia de datos de la variable who_tobt:\n"
     ]
    },
    {
     "data": {
      "text/plain": [
       "133    PNG\n",
       "190    VEN\n",
       "34     TCD\n",
       "9      AUT\n",
       "26     BDI\n",
       "139    GNB\n",
       "105    MDV\n",
       "174    TTO\n",
       "175    ARE\n",
       "114    MNE\n",
       "145    KNA\n",
       "169    SYR\n",
       "179    TUV\n",
       "144    RWA\n",
       "182    MKD\n",
       "165    SUR\n",
       "159    SOM\n",
       "141    QAT\n",
       "140    TLS\n",
       "79     IRQ\n",
       "149    STP\n",
       "111    MCO\n",
       "91     KWT\n",
       "146    LCA\n",
       "70     GIN\n",
       "148    SMR\n",
       "63     GMB\n",
       "5      ATG\n",
       "60     DJI\n",
       "16     BTN\n",
       "52     SLV\n",
       "Name: ccodealp, dtype: object"
      ]
     },
     "execution_count": 18,
     "metadata": {},
     "output_type": "execute_result"
    }
   ],
   "source": [
    "print(\"Lista de paises con ausencia de datos de la variable who_tobt:\")\n",
    "db_df[db_df['who_tobt'].isna()]['ccodealp']\n"
   ]
  },
  {
   "cell_type": "code",
   "execution_count": 19,
   "metadata": {},
   "outputs": [
    {
     "name": "stdout",
     "output_type": "stream",
     "text": [
      "Lista de paises con ausencia de datos de la variable imf_pop\n"
     ]
    },
    {
     "data": {
      "text/plain": [
       "190    VEN\n",
       "34     TCD\n",
       "26     BDI\n",
       "139    GNB\n",
       "97     LBR\n",
       "175    ARE\n",
       "145    KNA\n",
       "169    SYR\n",
       "3      AND\n",
       "72     HTI\n",
       "73     HND\n",
       "44     CUB\n",
       "125    NER\n",
       "159    SOM\n",
       "149    STP\n",
       "111    MCO\n",
       "63     GMB\n",
       "65     GHA\n",
       "5      ATG\n",
       "60     DJI\n",
       "36     CHN\n",
       "151    SEN\n",
       "52     SLV\n",
       "Name: ccodealp, dtype: object"
      ]
     },
     "execution_count": 19,
     "metadata": {},
     "output_type": "execute_result"
    }
   ],
   "source": [
    "print(\"Lista de paises con ausencia de datos de la variable imf_pop\")\n",
    "db_df[db_df['imf_pop'].isna()]['ccodealp']\n",
    "\n"
   ]
  },
  {
   "cell_type": "code",
   "execution_count": 20,
   "metadata": {},
   "outputs": [
    {
     "name": "stdout",
     "output_type": "stream",
     "text": [
      "Lista de paises con auscencia de datos de la variable wef_imort\n"
     ]
    },
    {
     "data": {
      "text/plain": [
       "133    PNG\n",
       "57     FJI\n",
       "139    GNB\n",
       "105    MDV\n",
       "145    KNA\n",
       "3      AND\n",
       "179    TUV\n",
       "44     CUB\n",
       "125    NER\n",
       "159    SOM\n",
       "191    WSM\n",
       "79     IRQ\n",
       "149    STP\n",
       "111    MCO\n",
       "146    LCA\n",
       "148    SMR\n",
       "5      ATG\n",
       "60     DJI\n",
       "Name: ccodealp, dtype: object"
      ]
     },
     "execution_count": 20,
     "metadata": {},
     "output_type": "execute_result"
    }
   ],
   "source": [
    "print(\"Lista de paises con auscencia de datos de la variable wef_imort\")\n",
    "db_df[db_df['wef_imort'].isna()]['ccodealp']\n",
    "\n"
   ]
  },
  {
   "cell_type": "markdown",
   "metadata": {},
   "source": [
    "## 4. Grafique los histogramas"
   ]
  },
  {
   "cell_type": "markdown",
   "metadata": {},
   "source": [
    "* Genere una función que grafique un histograma en conjunto y señale las medias.\n",
    "* La función debe incluír los siguientes argumentos:\n",
    "\t* ```dataframe```: La base de datos donde se encuentran los datos específicos.\n",
    "\t* ```var```: La variable a graficar.\n",
    "\t* ```sample_mean```: Booleano. Si es verdadero, debe generar una recta vertical indicando la media de la variable en la selección muestral. Por defecto debe ser ```False```.\n",
    "\t* ```true_mean```: Booleano. Si es verdadero, debe generar una recta vertical indicando la media de variable en la base de datos completa.\n",
    "* Implemente las funciones para las 4 variables seleccionadas según su grupo.\n",
    "  \n",
    "  ¿En qué variables la media de la submuestra es mayor a la de la muestra completa?"
   ]
  },
  {
   "cell_type": "code",
   "execution_count": 21,
   "metadata": {},
   "outputs": [],
   "source": [
    "def desafio_4(dataframe, var, sample_mean=False, true_mean=False):\n",
    "    var_drop = dataframe[var].dropna()\n",
    "    plt.hist(var_drop, color='lightgrey')\n",
    "    plt.xlabel(var)\n",
    "    plt.ylabel('Frecuencia')\n",
    "    if sample_mean:\n",
    "        sample_var_mean = var_drop.mean()\n",
    "        plt.axvline(sample_var_mean, lw=3, color='tomato', linestyle='--', label=f\"S. Mean ({round(sample_var_mean, 4)}%)\")\n",
    "    if true_mean:\n",
    "        true_var_mean = df[var].dropna().mean()\n",
    "        plt.axvline(true_var_mean, lw=3, color='blue', linestyle='--', label=f\"T. Mean ({round(true_var_mean, 4)}%)\")\n",
    "    if sample_mean or true_mean:\n",
    "        plt.legend()\n",
    "    plt.show()\n",
    "\n"
   ]
  },
  {
   "cell_type": "code",
   "execution_count": 22,
   "metadata": {},
   "outputs": [
    {
     "data": {
      "image/png": "[encoded data removed]",
      "text/plain": [
       "<Figure size 432x288 with 1 Axes>"
      ]
     },
     "metadata": {
      "needs_background": "light"
     },
     "output_type": "display_data"
    }
   ],
   "source": [
    "desafio_4(db_df, 'undp_hdi', True, True)\n",
    "\n"
   ]
  },
  {
   "cell_type": "code",
   "execution_count": 23,
   "metadata": {},
   "outputs": [
    {
     "data": {
      "text/markdown": [
       "### Histograma para la variable wef_imort"
      ],
      "text/plain": [
       "<IPython.core.display.Markdown object>"
      ]
     },
     "metadata": {},
     "output_type": "display_data"
    },
    {
     "data": {
      "image/png": "[encoded data removed]",
      "text/plain": [
       "<Figure size 432x288 with 1 Axes>"
      ]
     },
     "metadata": {
      "needs_background": "light"
     },
     "output_type": "display_data"
    },
    {
     "data": {
      "text/markdown": [
       "### Histograma para la variable who_alc2000"
      ],
      "text/plain": [
       "<IPython.core.display.Markdown object>"
      ]
     },
     "metadata": {},
     "output_type": "display_data"
    },
    {
     "data": {
      "image/png": "[encoded data removed]",
      "text/plain": [
       "<Figure size 432x288 with 1 Axes>"
      ]
     },
     "metadata": {
      "needs_background": "light"
     },
     "output_type": "display_data"
    },
    {
     "data": {
      "text/markdown": [
       "### Histograma para la variable who_tobt"
      ],
      "text/plain": [
       "<IPython.core.display.Markdown object>"
      ]
     },
     "metadata": {},
     "output_type": "display_data"
    },
    {
     "data": {
      "image/png": "[encoded data removed]",
      "text/plain": [
       "<Figure size 432x288 with 1 Axes>"
      ]
     },
     "metadata": {
      "needs_background": "light"
     },
     "output_type": "display_data"
    },
    {
     "data": {
      "text/markdown": [
       "### Histograma para la variable wdi_exph"
      ],
      "text/plain": [
       "<IPython.core.display.Markdown object>"
      ]
     },
     "metadata": {},
     "output_type": "display_data"
    },
    {
     "data": {
      "image/png": "[encoded data removed]",
      "text/plain": [
       "<Figure size 432x288 with 1 Axes>"
      ]
     },
     "metadata": {
      "needs_background": "light"
     },
     "output_type": "display_data"
    }
   ],
   "source": [
    "from IPython.display import display, Markdown\n",
    "for variable in group_columns:\n",
    "    display(Markdown(f\"### Histograma para la variable {variable}\"))\n",
    "    desafio_4(db_df, variable, True, True)\n"
   ]
  },
  {
   "cell_type": "code",
   "execution_count": 24,
   "metadata": {},
   "outputs": [
    {
     "data": {
      "text/markdown": [
       "**Conclusión:** Para ninguna de las 4 variables de mi grupo ```(wef_imort, who_alc2000, who_tobt, wdi_exph)``` la media de la muestra es mayor a la media poblacional"
      ],
      "text/plain": [
       "<IPython.core.display.Markdown object>"
      ]
     },
     "metadata": {},
     "output_type": "display_data"
    }
   ],
   "source": [
    "display(Markdown(f\"**Conclusión:** Para ninguna de las 4 variables de mi grupo ```({', '.join(map(str, group_columns))})``` la media de la muestra es mayor a la media poblacional\"))\n"
   ]
  },
  {
   "cell_type": "markdown",
   "metadata": {},
   "source": [
    "## 5. Genere una función que devuelva un dotplot"
   ]
  },
  {
   "cell_type": "markdown",
   "metadata": {},
   "source": [
    "* La función debe contener los siguientes argumentos como argumentos:\n",
    "\t* ```dataframe```: La tabla de datos donde buscar las variables.\n",
    "\t* ```plot_var```: La variable a analizar y extraer las medias.\n",
    "\t* ```plot_by```: La variable agrupadora.\n",
    "\t* ```global_stat```: Booleano. Si es True debe graficar la media global de la variable. Por defecto debe ser ```False```.\n",
    "\t* ```statistic```: Debe presentar dos opciones. mean para la media y median para la mediana.  Por defecto debe ser ```mean```.\n",
    "* Implemente la función en las 3 variables con una menor cantidad de datos perdidos."
   ]
  },
  {
   "cell_type": "code",
   "execution_count": 25,
   "metadata": {},
   "outputs": [],
   "source": [
    "def desafio_5(dataframe, plot_var, plot_by, global_stat=False, statistic=['mean']):\n",
    "    grouped_serie = dataframe.groupby(plot_by)[plot_var]\n",
    "    for stat in statistic:\n",
    "        if stat == 'mean':\n",
    "            var_mean = dataframe[plot_var].mean()\n",
    "            grouped_means = grouped_serie.mean()\n",
    "            plt.plot(grouped_means.values, grouped_means.index, 'o')\n",
    "            plt.axvline(var_mean, color='lightblue', linestyle='--', label=f\"Mean ({round(var_mean, 2)}%)\")\n",
    "        elif stat == 'median':\n",
    "            var_median = dataframe[plot_var].median()\n",
    "            grouped_medians = grouped_serie.median()\n",
    "            plt.plot(grouped_medians.values, grouped_medians.index, 'o')\n",
    "            plt.axvline(var_median, color='lightgreen', linestyle='--', label=f\"Median ({round(var_median, 2)}%)\")\n",
    "    if global_stat:\n",
    "        global_var_mean = df[plot_var].mean()\n",
    "        plt.axvline(global_var_mean, color='blue', linestyle='--', label=f\"Global Mean ({round(global_var_mean, 2)}%)\")\n",
    "        if 'median' in statistic:\n",
    "            global_var_median = df[plot_var].median()\n",
    "            plt.axvline(global_var_median, color='green', linestyle='--', label=f\"Global Median ({round(global_var_median, 2)}%)\")\n",
    "    plt.legend()\n",
    "    plt.show()\n",
    "\n"
   ]
  },
  {
   "cell_type": "markdown",
   "metadata": {},
   "source": [
    "Implemente la función en las 3 variables con una menor cantidad de datos perdidos."
   ]
  },
  {
   "cell_type": "code",
   "execution_count": 26,
   "metadata": {},
   "outputs": [
    {
     "name": "stdout",
     "output_type": "stream",
     "text": [
      "undp_hdi\n",
      "float64\n",
      "(4, 0.041237113402061855)\n",
      "\n",
      "\n",
      "ccodealp\n",
      "object\n",
      "(0, 0.0)\n",
      "\n",
      "\n",
      "ht_region\n",
      "object\n",
      "(0, 0.0)\n",
      "\n",
      "\n",
      "gle_cgdpc\n",
      "float64\n",
      "(0, 0.0)\n",
      "\n",
      "\n",
      "imf_pop\n",
      "float64\n",
      "(23, 0.23711340206185566)\n",
      "\n",
      "\n",
      "wef_imort\n",
      "float64\n",
      "(18, 0.18556701030927836)\n",
      "\n",
      "\n",
      "who_alc2000\n",
      "float64\n",
      "(4, 0.041237113402061855)\n",
      "\n",
      "\n",
      "who_tobt\n",
      "float64\n",
      "(31, 0.31958762886597936)\n",
      "\n",
      "\n",
      "wdi_exph\n",
      "float64\n",
      "(1, 0.010309278350515464)\n",
      "\n",
      "\n"
     ]
    }
   ],
   "source": [
    "for variable in columns:\n",
    "    print(variable)\n",
    "    print(db_df[variable].dtype)\n",
    "    print(desafio_3(db_df, variable, False))\n",
    "    print(\"\\n\")"
   ]
  },
  {
   "cell_type": "markdown",
   "metadata": {},
   "source": [
    "### Las variables con menor porcentaje de datos perdidos son:\n",
    "* ```gle_cgdpc```: con un ```0%``` de datos perdidos\n",
    "* ```wdi_exph```: con un ```1%``` de datos perdidos\n",
    "* ```undp_hdi```: con un ```4%``` de datos perdidos"
   ]
  },
  {
   "cell_type": "code",
   "execution_count": 36,
   "metadata": {},
   "outputs": [
    {
     "data": {
      "text/markdown": [
       "### Dotplot para la variable gle_cgdpc"
      ],
      "text/plain": [
       "<IPython.core.display.Markdown object>"
      ]
     },
     "metadata": {},
     "output_type": "display_data"
    },
    {
     "data": {
      "image/png": "[encoded data removed]",
      "text/plain": [
       "<Figure size 432x288 with 1 Axes>"
      ]
     },
     "metadata": {
      "needs_background": "light"
     },
     "output_type": "display_data"
    },
    {
     "data": {
      "text/markdown": [
       "### Dotplot para la variable wdi_exph"
      ],
      "text/plain": [
       "<IPython.core.display.Markdown object>"
      ]
     },
     "metadata": {},
     "output_type": "display_data"
    },
    {
     "data": {
      "image/png": "[encoded data removed]",
      "text/plain": [
       "<Figure size 432x288 with 1 Axes>"
      ]
     },
     "metadata": {
      "needs_background": "light"
     },
     "output_type": "display_data"
    },
    {
     "data": {
      "text/markdown": [
       "### Dotplot para la variable undp_hdi"
      ],
      "text/plain": [
       "<IPython.core.display.Markdown object>"
      ]
     },
     "metadata": {},
     "output_type": "display_data"
    },
    {
     "data": {
      "image/png": "[encoded data removed]",
      "text/plain": [
       "<Figure size 432x288 with 1 Axes>"
      ]
     },
     "metadata": {
      "needs_background": "light"
     },
     "output_type": "display_data"
    }
   ],
   "source": [
    "display(Markdown(f\"### Dotplot para la variable gle_cgdpc\"))\n",
    "desafio_5(db_df, 'gle_cgdpc', 'ht_region', True, ['mean', 'median'])\n",
    "\n",
    "display(Markdown(f\"### Dotplot para la variable wdi_exph\"))\n",
    "desafio_5(db_df, 'wdi_exph', 'ht_region', True, ['mean', 'median'])\n",
    "\n",
    "display(Markdown(f\"### Dotplot para la variable undp_hdi\"))\n",
    "desafio_5(db_df, 'undp_hdi', 'ht_region', True, ['mean', 'median'])\n"
   ]
  },
  {
   "cell_type": "markdown",
   "metadata": {},
   "source": [
    "## 6. Guarde la base de datos\n"
   ]
  },
  {
   "cell_type": "markdown",
   "metadata": {},
   "source": [
    "* La submuestra creada tiene un método llamado to_csv.\n",
    "\n",
    "  Acceda a éste y guarde la base de datos con la siguiente nomenclatura: ```subsample_<iniciales>_demo.csv```.\n",
    "\n",
    "  (Súbala a la plataforma, junto al desafío)"
   ]
  },
  {
   "cell_type": "code",
   "execution_count": 35,
   "metadata": {},
   "outputs": [],
   "source": [
    "db_df.to_csv('subsample_LAPP_demo.csv')"
   ]
  }
 ],
 "metadata": {
  "kernelspec": {
   "display_name": "Python 3",
   "language": "python",
   "name": "python3"
  },
  "language_info": {
   "codemirror_mode": {
    "name": "ipython",
    "version": 3
   },
   "file_extension": ".py",
   "mimetype": "text/x-python",
   "name": "python",
   "nbconvert_exporter": "python",
   "pygments_lexer": "ipython3",
   "version": "3.7.3"
  }
 },
 "nbformat": 4,
 "nbformat_minor": 2
}
