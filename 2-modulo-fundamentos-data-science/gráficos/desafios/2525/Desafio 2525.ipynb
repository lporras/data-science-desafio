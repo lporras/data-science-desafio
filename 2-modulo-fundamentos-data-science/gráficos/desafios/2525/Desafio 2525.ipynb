{
 "cells": [
  {
   "cell_type": "markdown",
   "metadata": {},
   "source": [
    "# Desafío - Estimando curvas normales"
   ]
  },
  {
   "cell_type": "markdown",
   "metadata": {},
   "source": [
    "## 1. Importe un csv"
   ]
  },
  {
   "cell_type": "markdown",
   "metadata": {},
   "source": [
    "* Utilice la base de datos de un compañero creada en la sesión pasada"
   ]
  },
  {
   "cell_type": "code",
   "execution_count": 74,
   "metadata": {},
   "outputs": [],
   "source": [
    "import pandas as pd\n",
    "import numpy as np\n",
    "import matplotlib.pyplot as plt\n",
    "import scipy.stats as ss\n",
    "from scipy.stats import norm"
   ]
  },
  {
   "cell_type": "code",
   "execution_count": 2,
   "metadata": {},
   "outputs": [
    {
     "data": {
      "text/html": [
       "<div>\n",
       "<style scoped>\n",
       "    .dataframe tbody tr th:only-of-type {\n",
       "        vertical-align: middle;\n",
       "    }\n",
       "\n",
       "    .dataframe tbody tr th {\n",
       "        vertical-align: top;\n",
       "    }\n",
       "\n",
       "    .dataframe thead th {\n",
       "        text-align: right;\n",
       "    }\n",
       "</style>\n",
       "<table border=\"1\" class=\"dataframe\">\n",
       "  <thead>\n",
       "    <tr style=\"text-align: right;\">\n",
       "      <th></th>\n",
       "      <th>Unnamed: 0</th>\n",
       "      <th>undp_hdi</th>\n",
       "      <th>ccodealp</th>\n",
       "      <th>ht_region</th>\n",
       "      <th>gle_cgdpc</th>\n",
       "      <th>imf_pop</th>\n",
       "      <th>ffp_hf</th>\n",
       "      <th>wef_qes</th>\n",
       "      <th>wdi_expedu</th>\n",
       "      <th>wdi_ners</th>\n",
       "    </tr>\n",
       "  </thead>\n",
       "  <tbody>\n",
       "    <tr>\n",
       "      <th>0</th>\n",
       "      <td>48</td>\n",
       "      <td>0.923</td>\n",
       "      <td>DNK</td>\n",
       "      <td>WesternDem</td>\n",
       "      <td>37406.762</td>\n",
       "      <td>5.627</td>\n",
       "      <td>1.9</td>\n",
       "      <td>4.812749</td>\n",
       "      <td>8.62711</td>\n",
       "      <td>89.817459</td>\n",
       "    </tr>\n",
       "    <tr>\n",
       "      <th>1</th>\n",
       "      <td>129</td>\n",
       "      <td>NaN</td>\n",
       "      <td>MHL</td>\n",
       "      <td>Pacific</td>\n",
       "      <td>2833.970</td>\n",
       "      <td>0.054</td>\n",
       "      <td>NaN</td>\n",
       "      <td>NaN</td>\n",
       "      <td>NaN</td>\n",
       "      <td>64.461304</td>\n",
       "    </tr>\n",
       "    <tr>\n",
       "      <th>2</th>\n",
       "      <td>10</td>\n",
       "      <td>0.790</td>\n",
       "      <td>BHS</td>\n",
       "      <td>Caribbean</td>\n",
       "      <td>21672.029</td>\n",
       "      <td>0.356</td>\n",
       "      <td>5.0</td>\n",
       "      <td>NaN</td>\n",
       "      <td>NaN</td>\n",
       "      <td>NaN</td>\n",
       "    </tr>\n",
       "    <tr>\n",
       "      <th>3</th>\n",
       "      <td>155</td>\n",
       "      <td>0.924</td>\n",
       "      <td>SGP</td>\n",
       "      <td>SouthEastAsia</td>\n",
       "      <td>54268.148</td>\n",
       "      <td>5.470</td>\n",
       "      <td>3.3</td>\n",
       "      <td>5.797279</td>\n",
       "      <td>2.91579</td>\n",
       "      <td>NaN</td>\n",
       "    </tr>\n",
       "    <tr>\n",
       "      <th>4</th>\n",
       "      <td>148</td>\n",
       "      <td>NaN</td>\n",
       "      <td>SMR</td>\n",
       "      <td>WesternDem</td>\n",
       "      <td>42664.211</td>\n",
       "      <td>0.034</td>\n",
       "      <td>NaN</td>\n",
       "      <td>NaN</td>\n",
       "      <td>2.38373</td>\n",
       "      <td>NaN</td>\n",
       "    </tr>\n",
       "  </tbody>\n",
       "</table>\n",
       "</div>"
      ],
      "text/plain": [
       "   Unnamed: 0  undp_hdi ccodealp      ht_region  gle_cgdpc  imf_pop  ffp_hf  \\\n",
       "0          48     0.923      DNK     WesternDem  37406.762    5.627     1.9   \n",
       "1         129       NaN      MHL        Pacific   2833.970    0.054     NaN   \n",
       "2          10     0.790      BHS      Caribbean  21672.029    0.356     5.0   \n",
       "3         155     0.924      SGP  SouthEastAsia  54268.148    5.470     3.3   \n",
       "4         148       NaN      SMR     WesternDem  42664.211    0.034     NaN   \n",
       "\n",
       "    wef_qes  wdi_expedu   wdi_ners  \n",
       "0  4.812749     8.62711  89.817459  \n",
       "1       NaN         NaN  64.461304  \n",
       "2       NaN         NaN        NaN  \n",
       "3  5.797279     2.91579        NaN  \n",
       "4       NaN     2.38373        NaN  "
      ]
     },
     "execution_count": 2,
     "metadata": {},
     "output_type": "execute_result"
    }
   ],
   "source": [
    "df = pd.read_csv('subsample_JFGP_demo.csv')\n",
    "df.head()"
   ]
  },
  {
   "cell_type": "markdown",
   "metadata": {},
   "source": [
    "## 2. Importe su conjunto de funciones"
   ]
  },
  {
   "cell_type": "markdown",
   "metadata": {},
   "source": [
    "* Genere un archivo ```ancilliary_funcs.py``` para guardar las funciones creadas en la sesión pasada e impórtelo.\n",
    "\n",
    "* Utilice las funciones creadas para inspeccionar la cantidad de casos perdidos de la muestra de su compañero."
   ]
  },
  {
   "cell_type": "code",
   "execution_count": 4,
   "metadata": {},
   "outputs": [],
   "source": [
    "import ancilliary_funcs"
   ]
  },
  {
   "cell_type": "code",
   "execution_count": 5,
   "metadata": {},
   "outputs": [
    {
     "data": {
      "text/plain": [
       "(21, 0.21649484536082475)"
      ]
     },
     "execution_count": 5,
     "metadata": {},
     "output_type": "execute_result"
    }
   ],
   "source": [
    "ancilliary_funcs.desafio_3(df, 'imf_pop', False)"
   ]
  },
  {
   "cell_type": "code",
   "execution_count": 6,
   "metadata": {},
   "outputs": [],
   "source": [
    "basic_columns = ['undp_hdi', 'ccodealp', 'ht_region', 'gle_cgdpc', 'imf_pop']"
   ]
  },
  {
   "cell_type": "code",
   "execution_count": 7,
   "metadata": {},
   "outputs": [],
   "source": [
    "partner_group_columns =  ['ffp_hf', 'wef_qes', 'wdi_expedu', 'wdi_ners']"
   ]
  },
  {
   "cell_type": "code",
   "execution_count": 8,
   "metadata": {},
   "outputs": [
    {
     "data": {
      "text/plain": [
       "['undp_hdi',\n",
       " 'ccodealp',\n",
       " 'ht_region',\n",
       " 'gle_cgdpc',\n",
       " 'imf_pop',\n",
       " 'ffp_hf',\n",
       " 'wef_qes',\n",
       " 'wdi_expedu',\n",
       " 'wdi_ners']"
      ]
     },
     "execution_count": 8,
     "metadata": {},
     "output_type": "execute_result"
    }
   ],
   "source": [
    "partner_columns = basic_columns + partner_group_columns\n",
    "partner_columns"
   ]
  },
  {
   "cell_type": "code",
   "execution_count": 9,
   "metadata": {},
   "outputs": [
    {
     "name": "stdout",
     "output_type": "stream",
     "text": [
      "undp_hdi\n",
      "(6, 0.061855670103092786)\n",
      "ccodealp\n",
      "(0, 0.0)\n",
      "ht_region\n",
      "(0, 0.0)\n",
      "gle_cgdpc\n",
      "(1, 0.010309278350515464)\n",
      "imf_pop\n",
      "(21, 0.21649484536082475)\n",
      "ffp_hf\n",
      "(9, 0.09278350515463918)\n",
      "wef_qes\n",
      "(24, 0.24742268041237114)\n",
      "wdi_expedu\n",
      "(22, 0.2268041237113402)\n",
      "wdi_ners\n",
      "(31, 0.31958762886597936)\n"
     ]
    }
   ],
   "source": [
    "for variable in partner_columns:\n",
    "    print(variable)\n",
    "    print(ancilliary_funcs.desafio_3(df, variable, False))"
   ]
  },
  {
   "cell_type": "markdown",
   "metadata": {},
   "source": [
    "Las 3 variables con menor cantidad de casos perdidos para mi compañero José Gomez fueron:\n",
    "* ```gle_cgdpc```: con un porcentaje de 0.010309278350515464\n",
    "* ```ffp_hf```: con un porcentaje de 0.09278350515463918\n",
    "* ```imf_pop```: con un porcentaje de 0.21649484536082475"
   ]
  },
  {
   "cell_type": "markdown",
   "metadata": {},
   "source": [
    "## 3. Estime el puntaje Z"
   ]
  },
  {
   "cell_type": "markdown",
   "metadata": {},
   "source": [
    "Estime el puntaze Z para las 10 primeras y últimas observaciones de las variables con una menor cantidad de datos perdidos\n",
    "\n",
    "* Genere una nueva columna en la tabla de datos mediante funciones vectorizadas.   Recuerde que para calcular el puntaje z de una observación se utiliza la fórmula: $Z_i=\\frac{ \\left(X_i - \\mu\\right) }{\\sigma}$.\n",
    "* Para ordenar los valores pueden utilzar la función ```sort_values``` del DataFrame analizado.\n",
    "\tLean la documentación asociada al argumento by.   Para evitar conflictos en la sobreescritura.\n",
    "* Asegúrense de eliminar las observaciones que tengan valores perdidos con dropna.   Lean la documentación asociada al método ```subset```.\n",
    "* Seleccionen las primeras y últimas 10 observaciones de la base reordenada.\n",
    "\t¿Qué características en común se encuentran?"
   ]
  },
  {
   "cell_type": "code",
   "execution_count": 10,
   "metadata": {},
   "outputs": [],
   "source": [
    "def get_zscore(df, col):\n",
    "    get_point = df[col]\n",
    "    preproc = df[col].dropna()\n",
    "    get_mean = preproc.mean()\n",
    "    get_std = preproc.std()\n",
    "    return (get_point - get_mean) / get_std"
   ]
  },
  {
   "cell_type": "code",
   "execution_count": 11,
   "metadata": {},
   "outputs": [
    {
     "data": {
      "text/plain": [
       "0    1.270988\n",
       "1   -0.697460\n",
       "2    0.375110\n",
       "3    2.231014\n",
       "4    1.570328\n",
       "5   -0.747345\n",
       "6   -0.756521\n",
       "7   -0.771817\n",
       "8   -0.840359\n",
       "9   -0.775570\n",
       "Name: gle_cgdpc, dtype: float64"
      ]
     },
     "execution_count": 11,
     "metadata": {},
     "output_type": "execute_result"
    }
   ],
   "source": [
    "get_zscore(df, 'gle_cgdpc').head(10)"
   ]
  },
  {
   "cell_type": "code",
   "execution_count": 12,
   "metadata": {},
   "outputs": [
    {
     "data": {
      "text/plain": [
       "87   -0.709412\n",
       "88   -0.798277\n",
       "89   -0.540071\n",
       "90    0.279395\n",
       "91   -0.782324\n",
       "92    1.361753\n",
       "93    0.140972\n",
       "94   -0.031799\n",
       "95    5.317702\n",
       "96   -0.696231\n",
       "Name: gle_cgdpc, dtype: float64"
      ]
     },
     "execution_count": 12,
     "metadata": {},
     "output_type": "execute_result"
    }
   ],
   "source": [
    "get_zscore(df, 'gle_cgdpc').tail(10)"
   ]
  },
  {
   "cell_type": "code",
   "execution_count": 13,
   "metadata": {},
   "outputs": [
    {
     "data": {
      "text/plain": [
       "0   -1.659149\n",
       "1         NaN\n",
       "2   -0.223640\n",
       "3   -1.010855\n",
       "4         NaN\n",
       "5    0.702494\n",
       "6    0.934028\n",
       "7    0.887721\n",
       "8    0.748801\n",
       "9    0.702494\n",
       "Name: ffp_hf, dtype: float64"
      ]
     },
     "execution_count": 13,
     "metadata": {},
     "output_type": "execute_result"
    }
   ],
   "source": [
    "get_zscore(df, 'ffp_hf').head(10)"
   ]
  },
  {
   "cell_type": "code",
   "execution_count": 14,
   "metadata": {},
   "outputs": [
    {
     "data": {
      "text/plain": [
       "87    1.628628\n",
       "88    1.350788\n",
       "89   -0.362561\n",
       "90   -0.501481\n",
       "91    0.841414\n",
       "92   -1.844376\n",
       "93   -0.594094\n",
       "94    0.007893\n",
       "95         NaN\n",
       "96    0.702494\n",
       "Name: ffp_hf, dtype: float64"
      ]
     },
     "execution_count": 14,
     "metadata": {},
     "output_type": "execute_result"
    }
   ],
   "source": [
    "get_zscore(df, 'ffp_hf').tail(10)"
   ]
  },
  {
   "cell_type": "code",
   "execution_count": 15,
   "metadata": {},
   "outputs": [
    {
     "data": {
      "text/plain": [
       "0   -0.423844\n",
       "1   -0.542887\n",
       "2   -0.536436\n",
       "3   -0.427198\n",
       "4   -0.543314\n",
       "5   -0.519561\n",
       "6    2.760347\n",
       "7         NaN\n",
       "8         NaN\n",
       "9    0.057796\n",
       "Name: imf_pop, dtype: float64"
      ]
     },
     "execution_count": 15,
     "metadata": {},
     "output_type": "execute_result"
    }
   ],
   "source": [
    "get_zscore(df, 'imf_pop').head(10)"
   ]
  },
  {
   "cell_type": "code",
   "execution_count": 16,
   "metadata": {},
   "outputs": [
    {
     "data": {
      "text/plain": [
       "87   -0.541862\n",
       "88   -0.226749\n",
       "89    1.307929\n",
       "90    0.268049\n",
       "91    0.259120\n",
       "92   -0.338017\n",
       "93   -0.481411\n",
       "94         NaN\n",
       "95         NaN\n",
       "96    3.433101\n",
       "Name: imf_pop, dtype: float64"
      ]
     },
     "execution_count": 16,
     "metadata": {},
     "output_type": "execute_result"
    }
   ],
   "source": [
    "get_zscore(df, 'imf_pop').tail(10)"
   ]
  },
  {
   "cell_type": "code",
   "execution_count": 17,
   "metadata": {},
   "outputs": [],
   "source": [
    "df['gle_cgdpc_z_score'] = get_zscore(df, 'gle_cgdpc')"
   ]
  },
  {
   "cell_type": "code",
   "execution_count": 18,
   "metadata": {},
   "outputs": [],
   "source": [
    "df['ffp_hf_z_score'] = get_zscore(df, 'ffp_hf')"
   ]
  },
  {
   "cell_type": "code",
   "execution_count": 19,
   "metadata": {},
   "outputs": [],
   "source": [
    "df['imf_pop_z_score'] = get_zscore(df, 'imf_pop')"
   ]
  },
  {
   "cell_type": "code",
   "execution_count": 20,
   "metadata": {},
   "outputs": [
    {
     "data": {
      "text/html": [
       "<div>\n",
       "<style scoped>\n",
       "    .dataframe tbody tr th:only-of-type {\n",
       "        vertical-align: middle;\n",
       "    }\n",
       "\n",
       "    .dataframe tbody tr th {\n",
       "        vertical-align: top;\n",
       "    }\n",
       "\n",
       "    .dataframe thead th {\n",
       "        text-align: right;\n",
       "    }\n",
       "</style>\n",
       "<table border=\"1\" class=\"dataframe\">\n",
       "  <thead>\n",
       "    <tr style=\"text-align: right;\">\n",
       "      <th></th>\n",
       "      <th>Unnamed: 0</th>\n",
       "      <th>undp_hdi</th>\n",
       "      <th>ccodealp</th>\n",
       "      <th>ht_region</th>\n",
       "      <th>gle_cgdpc</th>\n",
       "      <th>imf_pop</th>\n",
       "      <th>ffp_hf</th>\n",
       "      <th>wef_qes</th>\n",
       "      <th>wdi_expedu</th>\n",
       "      <th>wdi_ners</th>\n",
       "      <th>gle_cgdpc_z_score</th>\n",
       "      <th>ffp_hf_z_score</th>\n",
       "      <th>imf_pop_z_score</th>\n",
       "    </tr>\n",
       "  </thead>\n",
       "  <tbody>\n",
       "    <tr>\n",
       "      <th>29</th>\n",
       "      <td>54</td>\n",
       "      <td>0.441</td>\n",
       "      <td>ETH</td>\n",
       "      <td>SubSaharian</td>\n",
       "      <td>900.77002</td>\n",
       "      <td>88.347000</td>\n",
       "      <td>7.0</td>\n",
       "      <td>3.599252</td>\n",
       "      <td>4.50051</td>\n",
       "      <td>30.274250</td>\n",
       "      <td>-0.807529</td>\n",
       "      <td>0.702494</td>\n",
       "      <td>1.343110</td>\n",
       "    </tr>\n",
       "    <tr>\n",
       "      <th>88</th>\n",
       "      <td>106</td>\n",
       "      <td>0.438</td>\n",
       "      <td>MLI</td>\n",
       "      <td>SubSaharian</td>\n",
       "      <td>1063.26000</td>\n",
       "      <td>14.854000</td>\n",
       "      <td>8.4</td>\n",
       "      <td>3.003276</td>\n",
       "      <td>3.73929</td>\n",
       "      <td>34.616100</td>\n",
       "      <td>-0.798277</td>\n",
       "      <td>1.350788</td>\n",
       "      <td>-0.226749</td>\n",
       "    </tr>\n",
       "    <tr>\n",
       "      <th>18</th>\n",
       "      <td>47</td>\n",
       "      <td>0.481</td>\n",
       "      <td>BEN</td>\n",
       "      <td>SubSaharian</td>\n",
       "      <td>1413.05000</td>\n",
       "      <td>10.320000</td>\n",
       "      <td>6.8</td>\n",
       "      <td>2.393939</td>\n",
       "      <td>4.32068</td>\n",
       "      <td>44.969818</td>\n",
       "      <td>-0.778362</td>\n",
       "      <td>0.609881</td>\n",
       "      <td>-0.323599</td>\n",
       "    </tr>\n",
       "    <tr>\n",
       "      <th>9</th>\n",
       "      <td>120</td>\n",
       "      <td>0.555</td>\n",
       "      <td>NPL</td>\n",
       "      <td>SouthAsia</td>\n",
       "      <td>1462.08000</td>\n",
       "      <td>28.174999</td>\n",
       "      <td>7.0</td>\n",
       "      <td>3.591811</td>\n",
       "      <td>3.98130</td>\n",
       "      <td>59.679131</td>\n",
       "      <td>-0.775570</td>\n",
       "      <td>0.702494</td>\n",
       "      <td>0.057796</td>\n",
       "    </tr>\n",
       "    <tr>\n",
       "      <th>6</th>\n",
       "      <td>12</td>\n",
       "      <td>0.575</td>\n",
       "      <td>BGD</td>\n",
       "      <td>SouthAsia</td>\n",
       "      <td>1796.64000</td>\n",
       "      <td>154.695007</td>\n",
       "      <td>7.5</td>\n",
       "      <td>3.293150</td>\n",
       "      <td>1.95726</td>\n",
       "      <td>57.239899</td>\n",
       "      <td>-0.756521</td>\n",
       "      <td>0.934028</td>\n",
       "      <td>2.760347</td>\n",
       "    </tr>\n",
       "    <tr>\n",
       "      <th>5</th>\n",
       "      <td>140</td>\n",
       "      <td>0.603</td>\n",
       "      <td>TLS</td>\n",
       "      <td>SouthEastAsia</td>\n",
       "      <td>1957.81010</td>\n",
       "      <td>1.146000</td>\n",
       "      <td>7.0</td>\n",
       "      <td>2.449351</td>\n",
       "      <td>7.77500</td>\n",
       "      <td>51.849049</td>\n",
       "      <td>-0.747345</td>\n",
       "      <td>0.702494</td>\n",
       "      <td>-0.519561</td>\n",
       "    </tr>\n",
       "    <tr>\n",
       "      <th>65</th>\n",
       "      <td>71</td>\n",
       "      <td>0.638</td>\n",
       "      <td>GUY</td>\n",
       "      <td>Caribbean</td>\n",
       "      <td>2042.81990</td>\n",
       "      <td>0.756000</td>\n",
       "      <td>9.1</td>\n",
       "      <td>3.933675</td>\n",
       "      <td>3.19216</td>\n",
       "      <td>82.481056</td>\n",
       "      <td>-0.742505</td>\n",
       "      <td>1.674935</td>\n",
       "      <td>-0.527892</td>\n",
       "    </tr>\n",
       "    <tr>\n",
       "      <th>74</th>\n",
       "      <td>108</td>\n",
       "      <td>0.513</td>\n",
       "      <td>MRT</td>\n",
       "      <td>SubSaharian</td>\n",
       "      <td>2223.01000</td>\n",
       "      <td>3.369000</td>\n",
       "      <td>6.3</td>\n",
       "      <td>2.671668</td>\n",
       "      <td>2.93012</td>\n",
       "      <td>23.102320</td>\n",
       "      <td>-0.732245</td>\n",
       "      <td>0.378347</td>\n",
       "      <td>-0.472076</td>\n",
       "    </tr>\n",
       "    <tr>\n",
       "      <th>96</th>\n",
       "      <td>131</td>\n",
       "      <td>0.548</td>\n",
       "      <td>PAK</td>\n",
       "      <td>SouthAsia</td>\n",
       "      <td>2855.55000</td>\n",
       "      <td>186.190002</td>\n",
       "      <td>7.0</td>\n",
       "      <td>3.381112</td>\n",
       "      <td>2.46435</td>\n",
       "      <td>41.175350</td>\n",
       "      <td>-0.696231</td>\n",
       "      <td>0.702494</td>\n",
       "      <td>3.433101</td>\n",
       "    </tr>\n",
       "    <tr>\n",
       "      <th>73</th>\n",
       "      <td>93</td>\n",
       "      <td>0.582</td>\n",
       "      <td>LAO</td>\n",
       "      <td>SouthEastAsia</td>\n",
       "      <td>2926.77000</td>\n",
       "      <td>6.898000</td>\n",
       "      <td>7.4</td>\n",
       "      <td>3.834710</td>\n",
       "      <td>3.32011</td>\n",
       "      <td>50.828941</td>\n",
       "      <td>-0.692176</td>\n",
       "      <td>0.887721</td>\n",
       "      <td>-0.396695</td>\n",
       "    </tr>\n",
       "  </tbody>\n",
       "</table>\n",
       "</div>"
      ],
      "text/plain": [
       "    Unnamed: 0  undp_hdi ccodealp      ht_region   gle_cgdpc     imf_pop  \\\n",
       "29          54     0.441      ETH    SubSaharian   900.77002   88.347000   \n",
       "88         106     0.438      MLI    SubSaharian  1063.26000   14.854000   \n",
       "18          47     0.481      BEN    SubSaharian  1413.05000   10.320000   \n",
       "9          120     0.555      NPL      SouthAsia  1462.08000   28.174999   \n",
       "6           12     0.575      BGD      SouthAsia  1796.64000  154.695007   \n",
       "5          140     0.603      TLS  SouthEastAsia  1957.81010    1.146000   \n",
       "65          71     0.638      GUY      Caribbean  2042.81990    0.756000   \n",
       "74         108     0.513      MRT    SubSaharian  2223.01000    3.369000   \n",
       "96         131     0.548      PAK      SouthAsia  2855.55000  186.190002   \n",
       "73          93     0.582      LAO  SouthEastAsia  2926.77000    6.898000   \n",
       "\n",
       "    ffp_hf   wef_qes  wdi_expedu   wdi_ners  gle_cgdpc_z_score  \\\n",
       "29     7.0  3.599252     4.50051  30.274250          -0.807529   \n",
       "88     8.4  3.003276     3.73929  34.616100          -0.798277   \n",
       "18     6.8  2.393939     4.32068  44.969818          -0.778362   \n",
       "9      7.0  3.591811     3.98130  59.679131          -0.775570   \n",
       "6      7.5  3.293150     1.95726  57.239899          -0.756521   \n",
       "5      7.0  2.449351     7.77500  51.849049          -0.747345   \n",
       "65     9.1  3.933675     3.19216  82.481056          -0.742505   \n",
       "74     6.3  2.671668     2.93012  23.102320          -0.732245   \n",
       "96     7.0  3.381112     2.46435  41.175350          -0.696231   \n",
       "73     7.4  3.834710     3.32011  50.828941          -0.692176   \n",
       "\n",
       "    ffp_hf_z_score  imf_pop_z_score  \n",
       "29        0.702494         1.343110  \n",
       "88        1.350788        -0.226749  \n",
       "18        0.609881        -0.323599  \n",
       "9         0.702494         0.057796  \n",
       "6         0.934028         2.760347  \n",
       "5         0.702494        -0.519561  \n",
       "65        1.674935        -0.527892  \n",
       "74        0.378347        -0.472076  \n",
       "96        0.702494         3.433101  \n",
       "73        0.887721        -0.396695  "
      ]
     },
     "execution_count": 20,
     "metadata": {},
     "output_type": "execute_result"
    }
   ],
   "source": [
    "sorted_df = df.dropna().sort_values(by=['gle_cgdpc_z_score', 'ffp_hf_z_score', 'imf_pop_z_score'])\n",
    "sorted_df.head(10)"
   ]
  },
  {
   "cell_type": "code",
   "execution_count": 21,
   "metadata": {},
   "outputs": [
    {
     "data": {
      "text/html": [
       "<div>\n",
       "<style scoped>\n",
       "    .dataframe tbody tr th:only-of-type {\n",
       "        vertical-align: middle;\n",
       "    }\n",
       "\n",
       "    .dataframe tbody tr th {\n",
       "        vertical-align: top;\n",
       "    }\n",
       "\n",
       "    .dataframe thead th {\n",
       "        text-align: right;\n",
       "    }\n",
       "</style>\n",
       "<table border=\"1\" class=\"dataframe\">\n",
       "  <thead>\n",
       "    <tr style=\"text-align: right;\">\n",
       "      <th></th>\n",
       "      <th>Unnamed: 0</th>\n",
       "      <th>undp_hdi</th>\n",
       "      <th>ccodealp</th>\n",
       "      <th>ht_region</th>\n",
       "      <th>gle_cgdpc</th>\n",
       "      <th>imf_pop</th>\n",
       "      <th>ffp_hf</th>\n",
       "      <th>wef_qes</th>\n",
       "      <th>wdi_expedu</th>\n",
       "      <th>wdi_ners</th>\n",
       "      <th>gle_cgdpc_z_score</th>\n",
       "      <th>ffp_hf_z_score</th>\n",
       "      <th>imf_pop_z_score</th>\n",
       "    </tr>\n",
       "  </thead>\n",
       "  <tbody>\n",
       "    <tr>\n",
       "      <th>86</th>\n",
       "      <td>75</td>\n",
       "      <td>0.919</td>\n",
       "      <td>ISL</td>\n",
       "      <td>WesternDem</td>\n",
       "      <td>31313.609</td>\n",
       "      <td>0.329000</td>\n",
       "      <td>2.8</td>\n",
       "      <td>4.882655</td>\n",
       "      <td>7.80585</td>\n",
       "      <td>87.681770</td>\n",
       "      <td>0.924067</td>\n",
       "      <td>-1.242388</td>\n",
       "      <td>-0.537013</td>\n",
       "    </tr>\n",
       "    <tr>\n",
       "      <th>13</th>\n",
       "      <td>59</td>\n",
       "      <td>0.894</td>\n",
       "      <td>FRA</td>\n",
       "      <td>WesternDem</td>\n",
       "      <td>34007.898</td>\n",
       "      <td>64.028000</td>\n",
       "      <td>2.2</td>\n",
       "      <td>4.381113</td>\n",
       "      <td>5.49299</td>\n",
       "      <td>99.444328</td>\n",
       "      <td>1.077470</td>\n",
       "      <td>-1.520229</td>\n",
       "      <td>0.823640</td>\n",
       "    </tr>\n",
       "    <tr>\n",
       "      <th>41</th>\n",
       "      <td>184</td>\n",
       "      <td>0.908</td>\n",
       "      <td>GBR</td>\n",
       "      <td>WesternDem</td>\n",
       "      <td>34791.051</td>\n",
       "      <td>64.597000</td>\n",
       "      <td>2.1</td>\n",
       "      <td>4.633322</td>\n",
       "      <td>5.73449</td>\n",
       "      <td>98.279984</td>\n",
       "      <td>1.122059</td>\n",
       "      <td>-1.566535</td>\n",
       "      <td>0.835794</td>\n",
       "    </tr>\n",
       "    <tr>\n",
       "      <th>84</th>\n",
       "      <td>85</td>\n",
       "      <td>0.902</td>\n",
       "      <td>JPN</td>\n",
       "      <td>EastAsia</td>\n",
       "      <td>36123.770</td>\n",
       "      <td>127.120003</td>\n",
       "      <td>2.6</td>\n",
       "      <td>4.430102</td>\n",
       "      <td>3.59184</td>\n",
       "      <td>99.042671</td>\n",
       "      <td>1.197940</td>\n",
       "      <td>-1.335002</td>\n",
       "      <td>2.171327</td>\n",
       "    </tr>\n",
       "    <tr>\n",
       "      <th>83</th>\n",
       "      <td>58</td>\n",
       "      <td>0.893</td>\n",
       "      <td>FIN</td>\n",
       "      <td>WesternDem</td>\n",
       "      <td>36958.211</td>\n",
       "      <td>5.427000</td>\n",
       "      <td>2.3</td>\n",
       "      <td>5.859115</td>\n",
       "      <td>7.16810</td>\n",
       "      <td>94.003181</td>\n",
       "      <td>1.245450</td>\n",
       "      <td>-1.473922</td>\n",
       "      <td>-0.428116</td>\n",
       "    </tr>\n",
       "    <tr>\n",
       "      <th>0</th>\n",
       "      <td>48</td>\n",
       "      <td>0.923</td>\n",
       "      <td>DNK</td>\n",
       "      <td>WesternDem</td>\n",
       "      <td>37406.762</td>\n",
       "      <td>5.627000</td>\n",
       "      <td>1.9</td>\n",
       "      <td>4.812749</td>\n",
       "      <td>8.62711</td>\n",
       "      <td>89.817459</td>\n",
       "      <td>1.270988</td>\n",
       "      <td>-1.659149</td>\n",
       "      <td>-0.423844</td>\n",
       "    </tr>\n",
       "    <tr>\n",
       "      <th>92</th>\n",
       "      <td>167</td>\n",
       "      <td>0.909</td>\n",
       "      <td>SWE</td>\n",
       "      <td>WesternDem</td>\n",
       "      <td>39000.910</td>\n",
       "      <td>9.645000</td>\n",
       "      <td>1.5</td>\n",
       "      <td>4.577006</td>\n",
       "      <td>7.67509</td>\n",
       "      <td>96.651558</td>\n",
       "      <td>1.361753</td>\n",
       "      <td>-1.844376</td>\n",
       "      <td>-0.338017</td>\n",
       "    </tr>\n",
       "    <tr>\n",
       "      <th>63</th>\n",
       "      <td>80</td>\n",
       "      <td>0.920</td>\n",
       "      <td>IRL</td>\n",
       "      <td>WesternDem</td>\n",
       "      <td>46422.070</td>\n",
       "      <td>4.621000</td>\n",
       "      <td>2.8</td>\n",
       "      <td>5.434197</td>\n",
       "      <td>5.32457</td>\n",
       "      <td>99.573357</td>\n",
       "      <td>1.784287</td>\n",
       "      <td>-1.242388</td>\n",
       "      <td>-0.445333</td>\n",
       "    </tr>\n",
       "    <tr>\n",
       "      <th>36</th>\n",
       "      <td>168</td>\n",
       "      <td>0.938</td>\n",
       "      <td>CHE</td>\n",
       "      <td>WesternDem</td>\n",
       "      <td>50454.410</td>\n",
       "      <td>8.140000</td>\n",
       "      <td>2.1</td>\n",
       "      <td>5.986858</td>\n",
       "      <td>5.09608</td>\n",
       "      <td>84.246483</td>\n",
       "      <td>2.013874</td>\n",
       "      <td>-1.566535</td>\n",
       "      <td>-0.370165</td>\n",
       "    </tr>\n",
       "    <tr>\n",
       "      <th>23</th>\n",
       "      <td>127</td>\n",
       "      <td>0.948</td>\n",
       "      <td>NOR</td>\n",
       "      <td>WesternDem</td>\n",
       "      <td>57634.770</td>\n",
       "      <td>5.156000</td>\n",
       "      <td>1.6</td>\n",
       "      <td>5.048264</td>\n",
       "      <td>7.37329</td>\n",
       "      <td>95.201927</td>\n",
       "      <td>2.422697</td>\n",
       "      <td>-1.798069</td>\n",
       "      <td>-0.433905</td>\n",
       "    </tr>\n",
       "  </tbody>\n",
       "</table>\n",
       "</div>"
      ],
      "text/plain": [
       "    Unnamed: 0  undp_hdi ccodealp   ht_region  gle_cgdpc     imf_pop  ffp_hf  \\\n",
       "86          75     0.919      ISL  WesternDem  31313.609    0.329000     2.8   \n",
       "13          59     0.894      FRA  WesternDem  34007.898   64.028000     2.2   \n",
       "41         184     0.908      GBR  WesternDem  34791.051   64.597000     2.1   \n",
       "84          85     0.902      JPN    EastAsia  36123.770  127.120003     2.6   \n",
       "83          58     0.893      FIN  WesternDem  36958.211    5.427000     2.3   \n",
       "0           48     0.923      DNK  WesternDem  37406.762    5.627000     1.9   \n",
       "92         167     0.909      SWE  WesternDem  39000.910    9.645000     1.5   \n",
       "63          80     0.920      IRL  WesternDem  46422.070    4.621000     2.8   \n",
       "36         168     0.938      CHE  WesternDem  50454.410    8.140000     2.1   \n",
       "23         127     0.948      NOR  WesternDem  57634.770    5.156000     1.6   \n",
       "\n",
       "     wef_qes  wdi_expedu   wdi_ners  gle_cgdpc_z_score  ffp_hf_z_score  \\\n",
       "86  4.882655     7.80585  87.681770           0.924067       -1.242388   \n",
       "13  4.381113     5.49299  99.444328           1.077470       -1.520229   \n",
       "41  4.633322     5.73449  98.279984           1.122059       -1.566535   \n",
       "84  4.430102     3.59184  99.042671           1.197940       -1.335002   \n",
       "83  5.859115     7.16810  94.003181           1.245450       -1.473922   \n",
       "0   4.812749     8.62711  89.817459           1.270988       -1.659149   \n",
       "92  4.577006     7.67509  96.651558           1.361753       -1.844376   \n",
       "63  5.434197     5.32457  99.573357           1.784287       -1.242388   \n",
       "36  5.986858     5.09608  84.246483           2.013874       -1.566535   \n",
       "23  5.048264     7.37329  95.201927           2.422697       -1.798069   \n",
       "\n",
       "    imf_pop_z_score  \n",
       "86        -0.537013  \n",
       "13         0.823640  \n",
       "41         0.835794  \n",
       "84         2.171327  \n",
       "83        -0.428116  \n",
       "0         -0.423844  \n",
       "92        -0.338017  \n",
       "63        -0.445333  \n",
       "36        -0.370165  \n",
       "23        -0.433905  "
      ]
     },
     "execution_count": 21,
     "metadata": {},
     "output_type": "execute_result"
    }
   ],
   "source": [
    "sorted_df.tail(10)"
   ]
  },
  {
   "cell_type": "markdown",
   "metadata": {},
   "source": [
    "* Seleccionen las primeras y últimas 10 observaciones de la base reordenada. ¿Qué características en común se encuentran?"
   ]
  },
  {
   "cell_type": "markdown",
   "metadata": {},
   "source": [
    "Encontramos que despues de ordenar el dataset por las columnas ```['gle_cgdpc_z_score', 'ffp_hf_z_score', 'imf_pop_z_score']``` lo sgte:\n",
    "\n",
    "* En las primeras 10 observaciones se encuentran las regiones: ```['SubSaharian', 'SouthAsia','SouthEastAsia','Caribbean']```, estas regiones tienen un puntaje z de la variable gle_cgdpc en valores negativos, y mayores a -1 desviación estandar, lo que indica que se encuentran cerca de la media, y se encuentran dentro del 68% de la muestra"
   ]
  },
  {
   "cell_type": "markdown",
   "metadata": {},
   "source": [
    "* En las últimas 10 observaciones se encuentran las regiones ```['WesternDem', 'EastAsia']```. Estas regiones tienen un puntaje z de la variable gle_cgdpc en valores positivos, la mayoria tienen un puntaje z entre 1 (mayor a 1) y 2 desviaciones estandar de la media, estas se encuentran dentro del 95.5% de la muestra."
   ]
  },
  {
   "cell_type": "markdown",
   "metadata": {},
   "source": [
    "## 4. Estime el puntaje z de las regiones"
   ]
  },
  {
   "cell_type": "markdown",
   "metadata": {},
   "source": [
    "Para ello, modifique la función para generar dotplots de la semana pasada, donde deberá agregar una opción al argumento statistic para calcular el puntaje z."
   ]
  },
  {
   "cell_type": "code",
   "execution_count": 38,
   "metadata": {},
   "outputs": [
    {
     "data": {
      "image/png": "[encoded data removed]",
      "text/plain": [
       "<Figure size 432x288 with 1 Axes>"
      ]
     },
     "metadata": {
      "needs_background": "light"
     },
     "output_type": "display_data"
    }
   ],
   "source": [
    "ancilliary_funcs.desafio_5(sorted_df, 'gle_cgdpc', 'ht_region', False, ['z_score'])"
   ]
  },
  {
   "cell_type": "code",
   "execution_count": 39,
   "metadata": {},
   "outputs": [
    {
     "data": {
      "image/png": "[encoded data removed]",
      "text/plain": [
       "<Figure size 432x288 with 1 Axes>"
      ]
     },
     "metadata": {
      "needs_background": "light"
     },
     "output_type": "display_data"
    }
   ],
   "source": [
    "ancilliary_funcs.desafio_5(df, 'gle_cgdpc', 'ht_region', False, ['z_score'])"
   ]
  },
  {
   "cell_type": "code",
   "execution_count": 40,
   "metadata": {},
   "outputs": [
    {
     "data": {
      "image/png": "[encoded data removed]",
      "text/plain": [
       "<Figure size 432x288 with 1 Axes>"
      ]
     },
     "metadata": {
      "needs_background": "light"
     },
     "output_type": "display_data"
    }
   ],
   "source": [
    "ancilliary_funcs.desafio_5(df, 'ffp_hf', 'ht_region', False, ['z_score'])"
   ]
  },
  {
   "cell_type": "code",
   "execution_count": 42,
   "metadata": {},
   "outputs": [
    {
     "data": {
      "image/png": "[encoded data removed]",
      "text/plain": [
       "<Figure size 432x288 with 1 Axes>"
      ]
     },
     "metadata": {
      "needs_background": "light"
     },
     "output_type": "display_data"
    }
   ],
   "source": [
    "ancilliary_funcs.desafio_5(df, 'imf_pop', 'ht_region', False, ['z_score'])"
   ]
  },
  {
   "cell_type": "markdown",
   "metadata": {},
   "source": [
    "## 5. Genere un método que devuelva un gráfico comparando dos curvas de densidad"
   ]
  },
  {
   "cell_type": "markdown",
   "metadata": {},
   "source": [
    "* El método debe contener los siguientes argumentos:\n",
    "\t* ```df1```: Tabla de datos 1.\n",
    "\t* ```df2```: Tabla de datos 2.\n",
    "\t* ```variable```: Variable a contrastar.\n",
    "\t* ```log```: Booleano. Si es True transformar la variable al logaritmo.  Por defecto debe ser ```False```.\n",
    "*\tGrafique las curvas para ```imf_pop```, ```gle_cgdpc``` y ```undp_hdi```. ¿En qué casos es necesario utilizar logaritmos? ¿Por qué?"
   ]
  },
  {
   "cell_type": "code",
   "execution_count": 44,
   "metadata": {},
   "outputs": [
    {
     "data": {
      "text/html": [
       "<div>\n",
       "<style scoped>\n",
       "    .dataframe tbody tr th:only-of-type {\n",
       "        vertical-align: middle;\n",
       "    }\n",
       "\n",
       "    .dataframe tbody tr th {\n",
       "        vertical-align: top;\n",
       "    }\n",
       "\n",
       "    .dataframe thead th {\n",
       "        text-align: right;\n",
       "    }\n",
       "</style>\n",
       "<table border=\"1\" class=\"dataframe\">\n",
       "  <thead>\n",
       "    <tr style=\"text-align: right;\">\n",
       "      <th></th>\n",
       "      <th>Unnamed: 0</th>\n",
       "      <th>undp_hdi</th>\n",
       "      <th>ccodealp</th>\n",
       "      <th>ht_region</th>\n",
       "      <th>gle_cgdpc</th>\n",
       "      <th>imf_pop</th>\n",
       "      <th>wef_imort</th>\n",
       "      <th>who_alc2000</th>\n",
       "      <th>who_tobt</th>\n",
       "      <th>wdi_exph</th>\n",
       "    </tr>\n",
       "  </thead>\n",
       "  <tbody>\n",
       "    <tr>\n",
       "      <th>0</th>\n",
       "      <td>133</td>\n",
       "      <td>0.515</td>\n",
       "      <td>PNG</td>\n",
       "      <td>Pacific</td>\n",
       "      <td>1693.540</td>\n",
       "      <td>6.880000</td>\n",
       "      <td>NaN</td>\n",
       "      <td>0.88</td>\n",
       "      <td>NaN</td>\n",
       "      <td>4.263571</td>\n",
       "    </tr>\n",
       "    <tr>\n",
       "      <th>1</th>\n",
       "      <td>190</td>\n",
       "      <td>0.769</td>\n",
       "      <td>VEN</td>\n",
       "      <td>LatAm</td>\n",
       "      <td>10513.960</td>\n",
       "      <td>NaN</td>\n",
       "      <td>13.100000</td>\n",
       "      <td>6.47</td>\n",
       "      <td>NaN</td>\n",
       "      <td>5.256702</td>\n",
       "    </tr>\n",
       "    <tr>\n",
       "      <th>2</th>\n",
       "      <td>34</td>\n",
       "      <td>0.394</td>\n",
       "      <td>TCD</td>\n",
       "      <td>SubSaharian</td>\n",
       "      <td>1651.050</td>\n",
       "      <td>NaN</td>\n",
       "      <td>89.400002</td>\n",
       "      <td>0.64</td>\n",
       "      <td>NaN</td>\n",
       "      <td>3.621164</td>\n",
       "    </tr>\n",
       "    <tr>\n",
       "      <th>3</th>\n",
       "      <td>123</td>\n",
       "      <td>0.913</td>\n",
       "      <td>NZL</td>\n",
       "      <td>WesternDem</td>\n",
       "      <td>26481.369</td>\n",
       "      <td>4.555000</td>\n",
       "      <td>4.700000</td>\n",
       "      <td>9.07</td>\n",
       "      <td>17.6</td>\n",
       "      <td>11.029610</td>\n",
       "    </tr>\n",
       "    <tr>\n",
       "      <th>4</th>\n",
       "      <td>88</td>\n",
       "      <td>0.550</td>\n",
       "      <td>KEN</td>\n",
       "      <td>SubSaharian</td>\n",
       "      <td>1494.630</td>\n",
       "      <td>40.700001</td>\n",
       "      <td>48.700001</td>\n",
       "      <td>1.84</td>\n",
       "      <td>13.6</td>\n",
       "      <td>5.720291</td>\n",
       "    </tr>\n",
       "  </tbody>\n",
       "</table>\n",
       "</div>"
      ],
      "text/plain": [
       "   Unnamed: 0  undp_hdi ccodealp    ht_region  gle_cgdpc    imf_pop  \\\n",
       "0         133     0.515      PNG      Pacific   1693.540   6.880000   \n",
       "1         190     0.769      VEN        LatAm  10513.960        NaN   \n",
       "2          34     0.394      TCD  SubSaharian   1651.050        NaN   \n",
       "3         123     0.913      NZL   WesternDem  26481.369   4.555000   \n",
       "4          88     0.550      KEN  SubSaharian   1494.630  40.700001   \n",
       "\n",
       "   wef_imort  who_alc2000  who_tobt   wdi_exph  \n",
       "0        NaN         0.88       NaN   4.263571  \n",
       "1  13.100000         6.47       NaN   5.256702  \n",
       "2  89.400002         0.64       NaN   3.621164  \n",
       "3   4.700000         9.07      17.6  11.029610  \n",
       "4  48.700001         1.84      13.6   5.720291  "
      ]
     },
     "execution_count": 44,
     "metadata": {},
     "output_type": "execute_result"
    }
   ],
   "source": [
    "my_df = pd.read_csv('subsample_LAPP_demo.csv')\n",
    "my_df.head()"
   ]
  },
  {
   "cell_type": "code",
   "execution_count": 85,
   "metadata": {},
   "outputs": [
    {
     "data": {
      "text/html": [
       "<div>\n",
       "<style scoped>\n",
       "    .dataframe tbody tr th:only-of-type {\n",
       "        vertical-align: middle;\n",
       "    }\n",
       "\n",
       "    .dataframe tbody tr th {\n",
       "        vertical-align: top;\n",
       "    }\n",
       "\n",
       "    .dataframe thead th {\n",
       "        text-align: right;\n",
       "    }\n",
       "</style>\n",
       "<table border=\"1\" class=\"dataframe\">\n",
       "  <thead>\n",
       "    <tr style=\"text-align: right;\">\n",
       "      <th></th>\n",
       "      <th>imf_pop</th>\n",
       "      <th>gle_cgdpc</th>\n",
       "      <th>undp_hdi</th>\n",
       "    </tr>\n",
       "  </thead>\n",
       "  <tbody>\n",
       "    <tr>\n",
       "      <th>0</th>\n",
       "      <td>6.880000</td>\n",
       "      <td>1693.540</td>\n",
       "      <td>0.515</td>\n",
       "    </tr>\n",
       "    <tr>\n",
       "      <th>1</th>\n",
       "      <td>NaN</td>\n",
       "      <td>10513.960</td>\n",
       "      <td>0.769</td>\n",
       "    </tr>\n",
       "    <tr>\n",
       "      <th>2</th>\n",
       "      <td>NaN</td>\n",
       "      <td>1651.050</td>\n",
       "      <td>0.394</td>\n",
       "    </tr>\n",
       "    <tr>\n",
       "      <th>3</th>\n",
       "      <td>4.555000</td>\n",
       "      <td>26481.369</td>\n",
       "      <td>0.913</td>\n",
       "    </tr>\n",
       "    <tr>\n",
       "      <th>4</th>\n",
       "      <td>40.700001</td>\n",
       "      <td>1494.630</td>\n",
       "      <td>0.550</td>\n",
       "    </tr>\n",
       "  </tbody>\n",
       "</table>\n",
       "</div>"
      ],
      "text/plain": [
       "     imf_pop  gle_cgdpc  undp_hdi\n",
       "0   6.880000   1693.540     0.515\n",
       "1        NaN  10513.960     0.769\n",
       "2        NaN   1651.050     0.394\n",
       "3   4.555000  26481.369     0.913\n",
       "4  40.700001   1494.630     0.550"
      ]
     },
     "execution_count": 85,
     "metadata": {},
     "output_type": "execute_result"
    }
   ],
   "source": [
    "my_df[['imf_pop', 'gle_cgdpc', 'undp_hdi']].head()"
   ]
  },
  {
   "cell_type": "code",
   "execution_count": 84,
   "metadata": {},
   "outputs": [
    {
     "data": {
      "text/html": [
       "<div>\n",
       "<style scoped>\n",
       "    .dataframe tbody tr th:only-of-type {\n",
       "        vertical-align: middle;\n",
       "    }\n",
       "\n",
       "    .dataframe tbody tr th {\n",
       "        vertical-align: top;\n",
       "    }\n",
       "\n",
       "    .dataframe thead th {\n",
       "        text-align: right;\n",
       "    }\n",
       "</style>\n",
       "<table border=\"1\" class=\"dataframe\">\n",
       "  <thead>\n",
       "    <tr style=\"text-align: right;\">\n",
       "      <th></th>\n",
       "      <th>imf_pop</th>\n",
       "      <th>gle_cgdpc</th>\n",
       "      <th>undp_hdi</th>\n",
       "    </tr>\n",
       "  </thead>\n",
       "  <tbody>\n",
       "    <tr>\n",
       "      <th>0</th>\n",
       "      <td>5.627</td>\n",
       "      <td>37406.762</td>\n",
       "      <td>0.923</td>\n",
       "    </tr>\n",
       "    <tr>\n",
       "      <th>1</th>\n",
       "      <td>0.054</td>\n",
       "      <td>2833.970</td>\n",
       "      <td>NaN</td>\n",
       "    </tr>\n",
       "    <tr>\n",
       "      <th>2</th>\n",
       "      <td>0.356</td>\n",
       "      <td>21672.029</td>\n",
       "      <td>0.790</td>\n",
       "    </tr>\n",
       "    <tr>\n",
       "      <th>3</th>\n",
       "      <td>5.470</td>\n",
       "      <td>54268.148</td>\n",
       "      <td>0.924</td>\n",
       "    </tr>\n",
       "    <tr>\n",
       "      <th>4</th>\n",
       "      <td>0.034</td>\n",
       "      <td>42664.211</td>\n",
       "      <td>NaN</td>\n",
       "    </tr>\n",
       "  </tbody>\n",
       "</table>\n",
       "</div>"
      ],
      "text/plain": [
       "   imf_pop  gle_cgdpc  undp_hdi\n",
       "0    5.627  37406.762     0.923\n",
       "1    0.054   2833.970       NaN\n",
       "2    0.356  21672.029     0.790\n",
       "3    5.470  54268.148     0.924\n",
       "4    0.034  42664.211       NaN"
      ]
     },
     "execution_count": 84,
     "metadata": {},
     "output_type": "execute_result"
    }
   ],
   "source": [
    "df[['imf_pop', 'gle_cgdpc', 'undp_hdi']].head()"
   ]
  },
  {
   "cell_type": "code",
   "execution_count": 88,
   "metadata": {},
   "outputs": [],
   "source": [
    "def desafio_5(df1, df2, variable, log=False):\n",
    "    if log:\n",
    "        variable_serie = np.log(df1[variable].dropna())\n",
    "        variable_serie_2 = np.log(df2[variable].dropna()) \n",
    "    else:\n",
    "        variable_serie = df1[variable].dropna()\n",
    "        variable_serie_2 = df2[variable].dropna()    \n",
    "\n",
    "    x_axis = np.linspace(0, variable_serie.max(), 1000)\n",
    "    mu = variable_serie.mean()\n",
    "    sigma = variable_serie.var()\n",
    "    simulate_normal_pdf = norm.pdf(x_axis, mu, np.sqrt(sigma))\n",
    "    plt.plot(x_axis, simulate_normal_pdf, color='blue', lw=3)\n",
    "\n",
    "    x_axis_2 = np.linspace(0, variable_serie_2.max(), 1000)\n",
    "    mu_2 = variable_serie_2.mean()\n",
    "    sigma_2 = variable_serie_2.var()\n",
    "    simulate_normal_pdf_2 = norm.pdf(x_axis_2, mu_2, np.sqrt(sigma_2))\n",
    "    plt.plot(x_axis, simulate_normal_pdf_2, color='tomato', lw=3)\n",
    "\n",
    "    plt.figure(figsize=(10, 6))\n",
    "    plt.show()"
   ]
  },
  {
   "cell_type": "code",
   "execution_count": 94,
   "metadata": {},
   "outputs": [
    {
     "data": {
      "image/png": "[encoded data removed]",
      "text/plain": [
       "<Figure size 432x288 with 1 Axes>"
      ]
     },
     "metadata": {
      "needs_background": "light"
     },
     "output_type": "display_data"
    },
    {
     "data": {
      "text/plain": [
       "<Figure size 720x432 with 0 Axes>"
      ]
     },
     "metadata": {},
     "output_type": "display_data"
    },
    {
     "data": {
      "image/png": "[encoded data removed]",
      "text/plain": [
       "<Figure size 432x288 with 1 Axes>"
      ]
     },
     "metadata": {
      "needs_background": "light"
     },
     "output_type": "display_data"
    },
    {
     "data": {
      "text/plain": [
       "<Figure size 720x432 with 0 Axes>"
      ]
     },
     "metadata": {},
     "output_type": "display_data"
    }
   ],
   "source": [
    "desafio_5(my_df, df, 'imf_pop')\n",
    "desafio_5(my_df, df, 'imf_pop', True)"
   ]
  },
  {
   "cell_type": "code",
   "execution_count": 95,
   "metadata": {},
   "outputs": [
    {
     "data": {
      "image/png": "[encoded data removed]",
      "text/plain": [
       "<Figure size 432x288 with 1 Axes>"
      ]
     },
     "metadata": {
      "needs_background": "light"
     },
     "output_type": "display_data"
    },
    {
     "data": {
      "text/plain": [
       "<Figure size 720x432 with 0 Axes>"
      ]
     },
     "metadata": {},
     "output_type": "display_data"
    },
    {
     "data": {
      "image/png": "[encoded data removed]",
      "text/plain": [
       "<Figure size 432x288 with 1 Axes>"
      ]
     },
     "metadata": {
      "needs_background": "light"
     },
     "output_type": "display_data"
    },
    {
     "data": {
      "text/plain": [
       "<Figure size 720x432 with 0 Axes>"
      ]
     },
     "metadata": {},
     "output_type": "display_data"
    }
   ],
   "source": [
    "desafio_5(my_df, df, 'gle_cgdpc')\n",
    "desafio_5(my_df, df, 'gle_cgdpc', True)"
   ]
  },
  {
   "cell_type": "code",
   "execution_count": 96,
   "metadata": {},
   "outputs": [
    {
     "data": {
      "image/png": "[encoded data removed]",
      "text/plain": [
       "<Figure size 432x288 with 1 Axes>"
      ]
     },
     "metadata": {
      "needs_background": "light"
     },
     "output_type": "display_data"
    },
    {
     "data": {
      "text/plain": [
       "<Figure size 720x432 with 0 Axes>"
      ]
     },
     "metadata": {},
     "output_type": "display_data"
    },
    {
     "data": {
      "image/png": "[encoded data removed]",
      "text/plain": [
       "<Figure size 432x288 with 1 Axes>"
      ]
     },
     "metadata": {
      "needs_background": "light"
     },
     "output_type": "display_data"
    },
    {
     "data": {
      "text/plain": [
       "<Figure size 720x432 with 0 Axes>"
      ]
     },
     "metadata": {},
     "output_type": "display_data"
    }
   ],
   "source": [
    "desafio_5(my_df, df, 'undp_hdi')\n",
    "desafio_5(my_df, df, 'undp_hdi', True)"
   ]
  },
  {
   "cell_type": "markdown",
   "metadata": {},
   "source": [
    "### ¿En qué casos es necesario utilizar logaritmos? ¿Por qué?\n",
    "No es necesario utilizar logaritmo para el caso de la variable ```undp_hdi```, dado que al utilizar logaritmo\n",
    "la gráfica no da una distribución normal sino que arroja líneas rectas, dado que ya su distribución es muy similar a la normal"
   ]
  },
  {
   "cell_type": "code",
   "execution_count": null,
   "metadata": {},
   "outputs": [],
   "source": []
  }
 ],
 "metadata": {
  "kernelspec": {
   "display_name": "Python 3",
   "language": "python",
   "name": "python3"
  },
  "language_info": {
   "codemirror_mode": {
    "name": "ipython",
    "version": 3
   },
   "file_extension": ".py",
   "mimetype": "text/x-python",
   "name": "python",
   "nbconvert_exporter": "python",
   "pygments_lexer": "ipython3",
   "version": "3.7.3"
  }
 },
 "nbformat": 4,
 "nbformat_minor": 2
}
