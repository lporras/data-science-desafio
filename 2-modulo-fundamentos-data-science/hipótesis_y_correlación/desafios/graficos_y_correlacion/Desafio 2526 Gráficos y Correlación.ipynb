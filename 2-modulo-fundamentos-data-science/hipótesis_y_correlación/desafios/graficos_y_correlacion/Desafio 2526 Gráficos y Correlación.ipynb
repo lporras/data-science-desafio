{
 "cells": [
  {
   "cell_type": "markdown",
   "metadata": {},
   "source": [
    "# Desafio 2526 Gráficos y Correlación"
   ]
  },
  {
   "cell_type": "markdown",
   "metadata": {},
   "source": [
    "* Para poder realizar este desafío debes haber revisado la lectura y videos correspondiente a la unidad.\n",
    "* Crea una carpeta de trabajo y guarda todos los archivos correspondientes (notebook y csv).\n",
    "* Una vez terminado el desafío, comprime la carpeta y sube el .zip"
   ]
  },
  {
   "cell_type": "markdown",
   "metadata": {},
   "source": [
    "## 1. Importar librerías y .csv"
   ]
  },
  {
   "cell_type": "markdown",
   "metadata": {},
   "source": [
    "* Importe las librerías básicas para el análisis de datos\n",
    "* Descarge e importe el archivo nations.csv. warning: va a encontrar un error en el formato\n",
    "\n",
    "¿Cómo lo podemos solucionar?."
   ]
  },
  {
   "cell_type": "code",
   "execution_count": 1,
   "metadata": {},
   "outputs": [],
   "source": [
    "import pandas as pd\n",
    "import numpy as np\n",
    "import matplotlib.pyplot as plt\n",
    "from scipy import stats\n",
    "import seaborn as sns\n",
    "\n",
    "plt.style.use('seaborn')\n",
    "plt.rcParams['figure.figsize'] = (8, 6)"
   ]
  },
  {
   "cell_type": "code",
   "execution_count": 2,
   "metadata": {},
   "outputs": [],
   "source": [
    "df = pd.read_csv('nations.csv', encoding='latin-1')"
   ]
  },
  {
   "cell_type": "markdown",
   "metadata": {},
   "source": [
    "**¿Cómo lo podemos solucionar el error?**\n",
    "\n",
    "El archivo csv no está encodeado en UTF-8, sino que contiene caracteres en encoding latin-1, por lo tanto hay que\n",
    "indicar como opción ```encoding='latin-1'```"
   ]
  },
  {
   "cell_type": "code",
   "execution_count": 3,
   "metadata": {},
   "outputs": [
    {
     "data": {
      "text/plain": [
       "(194, 14)"
      ]
     },
     "execution_count": 3,
     "metadata": {},
     "output_type": "execute_result"
    }
   ],
   "source": [
    "df.shape"
   ]
  },
  {
   "cell_type": "code",
   "execution_count": 4,
   "metadata": {},
   "outputs": [
    {
     "data": {
      "text/html": [
       "<div>\n",
       "<style scoped>\n",
       "    .dataframe tbody tr th:only-of-type {\n",
       "        vertical-align: middle;\n",
       "    }\n",
       "\n",
       "    .dataframe tbody tr th {\n",
       "        vertical-align: top;\n",
       "    }\n",
       "\n",
       "    .dataframe thead th {\n",
       "        text-align: right;\n",
       "    }\n",
       "</style>\n",
       "<table border=\"1\" class=\"dataframe\">\n",
       "  <thead>\n",
       "    <tr style=\"text-align: right;\">\n",
       "      <th></th>\n",
       "      <th>Unnamed: 0</th>\n",
       "      <th>country</th>\n",
       "      <th>region</th>\n",
       "      <th>gdp</th>\n",
       "      <th>school</th>\n",
       "      <th>adfert</th>\n",
       "      <th>chldmort</th>\n",
       "      <th>life</th>\n",
       "      <th>pop</th>\n",
       "      <th>urban</th>\n",
       "      <th>femlab</th>\n",
       "      <th>literacy</th>\n",
       "      <th>co2</th>\n",
       "      <th>gini</th>\n",
       "    </tr>\n",
       "  </thead>\n",
       "  <tbody>\n",
       "    <tr>\n",
       "      <th>0</th>\n",
       "      <td>1</td>\n",
       "      <td>Algeria</td>\n",
       "      <td>Africa</td>\n",
       "      <td>7300.399902</td>\n",
       "      <td>6.716667</td>\n",
       "      <td>7.300000</td>\n",
       "      <td>34.75</td>\n",
       "      <td>72.316666</td>\n",
       "      <td>34172236</td>\n",
       "      <td>64.933334</td>\n",
       "      <td>0.4522</td>\n",
       "      <td>72.599998</td>\n",
       "      <td>15.0</td>\n",
       "      <td>NaN</td>\n",
       "    </tr>\n",
       "    <tr>\n",
       "      <th>1</th>\n",
       "      <td>2</td>\n",
       "      <td>Benin</td>\n",
       "      <td>Africa</td>\n",
       "      <td>1338.800049</td>\n",
       "      <td>3.100000</td>\n",
       "      <td>111.699997</td>\n",
       "      <td>122.75</td>\n",
       "      <td>54.733334</td>\n",
       "      <td>8237634</td>\n",
       "      <td>41.000000</td>\n",
       "      <td>0.8482</td>\n",
       "      <td>41.700001</td>\n",
       "      <td>1.2</td>\n",
       "      <td>NaN</td>\n",
       "    </tr>\n",
       "    <tr>\n",
       "      <th>2</th>\n",
       "      <td>3</td>\n",
       "      <td>Botswana</td>\n",
       "      <td>Africa</td>\n",
       "      <td>12307.400391</td>\n",
       "      <td>8.600000</td>\n",
       "      <td>52.099998</td>\n",
       "      <td>60.25</td>\n",
       "      <td>52.250000</td>\n",
       "      <td>1941233</td>\n",
       "      <td>59.250000</td>\n",
       "      <td>0.8870</td>\n",
       "      <td>84.099998</td>\n",
       "      <td>9.2</td>\n",
       "      <td>NaN</td>\n",
       "    </tr>\n",
       "    <tr>\n",
       "      <th>3</th>\n",
       "      <td>4</td>\n",
       "      <td>Burkina Faso</td>\n",
       "      <td>Africa</td>\n",
       "      <td>1063.400024</td>\n",
       "      <td>1.300000</td>\n",
       "      <td>124.800003</td>\n",
       "      <td>170.50</td>\n",
       "      <td>53.783333</td>\n",
       "      <td>15308383</td>\n",
       "      <td>23.583334</td>\n",
       "      <td>0.8584</td>\n",
       "      <td>23.600000</td>\n",
       "      <td>0.2</td>\n",
       "      <td>NaN</td>\n",
       "    </tr>\n",
       "    <tr>\n",
       "      <th>4</th>\n",
       "      <td>5</td>\n",
       "      <td>Burundi</td>\n",
       "      <td>Africa</td>\n",
       "      <td>349.200012</td>\n",
       "      <td>2.483333</td>\n",
       "      <td>18.600000</td>\n",
       "      <td>168.50</td>\n",
       "      <td>48.866665</td>\n",
       "      <td>7821783</td>\n",
       "      <td>10.250000</td>\n",
       "      <td>1.0344</td>\n",
       "      <td>66.599998</td>\n",
       "      <td>0.1</td>\n",
       "      <td>33.299999</td>\n",
       "    </tr>\n",
       "  </tbody>\n",
       "</table>\n",
       "</div>"
      ],
      "text/plain": [
       "   Unnamed: 0       country  region           gdp    school      adfert  \\\n",
       "0           1       Algeria  Africa   7300.399902  6.716667    7.300000   \n",
       "1           2         Benin  Africa   1338.800049  3.100000  111.699997   \n",
       "2           3      Botswana  Africa  12307.400391  8.600000   52.099998   \n",
       "3           4  Burkina Faso  Africa   1063.400024  1.300000  124.800003   \n",
       "4           5       Burundi  Africa    349.200012  2.483333   18.600000   \n",
       "\n",
       "   chldmort       life       pop      urban  femlab   literacy   co2  \\\n",
       "0     34.75  72.316666  34172236  64.933334  0.4522  72.599998  15.0   \n",
       "1    122.75  54.733334   8237634  41.000000  0.8482  41.700001   1.2   \n",
       "2     60.25  52.250000   1941233  59.250000  0.8870  84.099998   9.2   \n",
       "3    170.50  53.783333  15308383  23.583334  0.8584  23.600000   0.2   \n",
       "4    168.50  48.866665   7821783  10.250000  1.0344  66.599998   0.1   \n",
       "\n",
       "        gini  \n",
       "0        NaN  \n",
       "1        NaN  \n",
       "2        NaN  \n",
       "3        NaN  \n",
       "4  33.299999  "
      ]
     },
     "execution_count": 4,
     "metadata": {},
     "output_type": "execute_result"
    }
   ],
   "source": [
    "df.head()"
   ]
  },
  {
   "cell_type": "markdown",
   "metadata": {},
   "source": [
    "La base de datos contiene información a nivel mundial sobre demografía:\n",
    "\n",
    "* ```country```: País.\n",
    "* ```region```: Continente del país.\n",
    "* ```gdp```: Producto Interno Bruto per cápita, precios 2005.\n",
    "* ```school```: Promedio años de escolaridad.\n",
    "* ```adfert```: Fertilidad adolescente (Nacimientos 1:1000 en mujeres entre 15 y 19).\n",
    "* ```chldmort```: Probabilidad de muerte antes de los 5 años por cada 1000.\n",
    "* ```life```: Esperanza de vida al nacer.\n",
    "* ```pop```: Población total.\n",
    "* ```urban```: Porcentaje de población urbana.\n",
    "* ```femlab```: Tasa entre hombres y mujeres en el mercado laboral.\n",
    "* ```literacy```: Tasa de alfabetismo.\n",
    "* ```co2```: Toneladas de Co2 mitidas per cápita.\n",
    "* ```gini```: Coeficiente de desigualdad del ingreso.\n",
    "* Apellidos desde la M hasta la Z: Enfocarse en las variables ```femlab```, ```literacy``` y ```school```."
   ]
  },
  {
   "cell_type": "markdown",
   "metadata": {},
   "source": [
    "Apellido: Porras"
   ]
  },
  {
   "cell_type": "markdown",
   "metadata": {},
   "source": [
    "## 2. Refactor gráficos ```mathplotlib``` a ```seaborn```"
   ]
  },
  {
   "cell_type": "markdown",
   "metadata": {},
   "source": [
    "A  continuación se  presenta una  serie de  gráficos construídos con matplotlib.  Se  le  piderefactorizarlos utilizando seaborn."
   ]
  },
  {
   "cell_type": "markdown",
   "metadata": {},
   "source": [
    "* Se presenta la función que se utilizó para construírlos. Intente llegar al resultado con mayor similitud. Comente los principales resultados de los gráficos."
   ]
  },
  {
   "cell_type": "markdown",
   "metadata": {},
   "source": [
    "## A.)"
   ]
  },
  {
   "cell_type": "code",
   "execution_count": 13,
   "metadata": {},
   "outputs": [
    {
     "data": {
      "image/png": "[encoded data removed]",
      "text/plain": [
       "<Figure size 432x288 with 2 Axes>"
      ]
     },
     "metadata": {
      "needs_background": "light"
     },
     "output_type": "display_data"
    },
    {
     "data": {
      "image/png": "[encoded data removed]",
      "text/plain": [
       "<Figure size 432x288 with 2 Axes>"
      ]
     },
     "metadata": {
      "needs_background": "light"
     },
     "output_type": "display_data"
    },
    {
     "data": {
      "image/png": "[encoded data removed]",
      "text/plain": [
       "<Figure size 432x288 with 2 Axes>"
      ]
     },
     "metadata": {
      "needs_background": "light"
     },
     "output_type": "display_data"
    }
   ],
   "source": [
    "def binarize_histogram(dataframe, variable):\n",
    "    tmp = dataframe\n",
    "    binarize_col = f\"binarize_{variable}\"\n",
    "    tmp[binarize_col] = np.where(tmp[variable] > np.mean(tmp[variable]),\n",
    "                                              1,\n",
    "                                              0)\n",
    "    hist_1 = tmp[tmp[binarize_col] == 1][variable].dropna()\n",
    "    hist_0 = tmp[tmp[binarize_col] == 0][variable].dropna()\n",
    "    plt.subplot(1, 2, 1)\n",
    "    plt.hist(hist_0, alpha=.6, color='lightgrey')\n",
    "    plt.axvline(np.mean(hist_0))\n",
    "    plt.title(\"{0} <= {1}\".format(variable, round(np.mean(hist_0), 3)))\n",
    "    plt.subplot(1, 2, 2)\n",
    "    plt.hist(hist_1, alpha=.6, color='lightgrey')\n",
    "    plt.axvline(np.mean(hist_1))\n",
    "    plt.title(\"{0} >= {1}\".format(variable, round(np.mean(hist_0), 3)))\n",
    "    plt.show()\n",
    "\n",
    "binarize_histogram(df, 'femlab')\n",
    "binarize_histogram(df, 'literacy')\n",
    "binarize_histogram(df, 'school')\n"
   ]
  },
  {
   "cell_type": "code",
   "execution_count": 14,
   "metadata": {},
   "outputs": [
    {
     "data": {
      "image/png": "[encoded data removed]",
      "text/plain": [
       "<Figure size 432x216 with 2 Axes>"
      ]
     },
     "metadata": {
      "needs_background": "light"
     },
     "output_type": "display_data"
    },
    {
     "data": {
      "image/png": "[encoded data removed]",
      "text/plain": [
       "<Figure size 432x216 with 2 Axes>"
      ]
     },
     "metadata": {
      "needs_background": "light"
     },
     "output_type": "display_data"
    },
    {
     "data": {
      "image/png": "[encoded data removed]",
      "text/plain": [
       "<Figure size 432x216 with 2 Axes>"
      ]
     },
     "metadata": {
      "needs_background": "light"
     },
     "output_type": "display_data"
    }
   ],
   "source": [
    "def vertical_mean_line(x, **kwargs):\n",
    "    plt.axvline(x.mean(), **kwargs)\n",
    "\n",
    "def binarize_histogram_sns(dataframe, variable):\n",
    "    tmp = dataframe\n",
    "    binarize_col = f\"binarize_sns_{variable}\"\n",
    "    tmp[binarize_col] = np.where(tmp[variable] > np.mean(tmp[variable]),\n",
    "                                              1,\n",
    "                                              0)\n",
    "    grid = sns.FacetGrid(dataframe, col=binarize_col, col_wrap=2)\n",
    "    grid = grid.map(sns.distplot, variable, color='lightgray', kde=False, hist_kws={\"alpha\": 0.6})\n",
    "    grid = grid.map(vertical_mean_line, variable)\n",
    "\n",
    "binarize_histogram_sns(df, 'femlab')\n",
    "binarize_histogram_sns(df, 'literacy')\n",
    "binarize_histogram_sns(df, 'school')\n"
   ]
  },
  {
   "cell_type": "markdown",
   "metadata": {},
   "source": [
    "Los gráficos se diferencian porque los rangos de X varían"
   ]
  },
  {
   "cell_type": "code",
   "execution_count": 18,
   "metadata": {},
   "outputs": [
    {
     "data": {
      "image/png": "[encoded data removed]",
      "text/plain": [
       "<Figure size 432x288 with 5 Axes>"
      ]
     },
     "metadata": {
      "needs_background": "light"
     },
     "output_type": "display_data"
    }
   ],
   "source": [
    "def grouped_boxplot(dataframe, variable, group_by):\n",
    "    tmp = dataframe\n",
    "    stratify_by = tmp[group_by].unique()\n",
    "    \n",
    "    if len(stratify_by) /2 > 3:\n",
    "        fig, ax = plt.subplots(2, len(stratify_by),sharey=True)\n",
    "    else:\n",
    "        fig, ax = plt.subplots(1, len(stratify_by),sharey=True)\n",
    "    \n",
    "    for i, n in enumerate(stratify_by):\n",
    "        ax[i].boxplot(tmp[tmp[group_by] == n][variable])\n",
    "        ax[i].set_title(n)\n",
    "\n",
    "grouped_boxplot(df, 'adfert', 'region')"
   ]
  },
  {
   "cell_type": "code",
   "execution_count": 19,
   "metadata": {},
   "outputs": [
    {
     "data": {
      "image/png": "[encoded data removed]",
      "text/plain": [
       "<Figure size 432x288 with 5 Axes>"
      ]
     },
     "metadata": {
      "needs_background": "light"
     },
     "output_type": "display_data"
    }
   ],
   "source": [
    "def grouped_boxplot_sns(dataframe, variable, group_by):\n",
    "    tmp = dataframe\n",
    "    stratify_by = tmp[group_by].unique()\n",
    "    \n",
    "    if len(stratify_by) /2 > 3:\n",
    "        fig, ax = plt.subplots(2, len(stratify_by),sharey=True)\n",
    "    else:\n",
    "        fig, ax = plt.subplots(1, len(stratify_by),sharey=True)\n",
    "    \n",
    "    for i, n in enumerate(stratify_by):\n",
    "        ax[i].boxplot(tmp[tmp[group_by] == n][variable])\n",
    "        ax[i].set_title(n)\n",
    "\n",
    "grouped_boxplot_sns(df, 'adfert', 'region')"
   ]
  },
  {
   "cell_type": "code",
   "execution_count": 20,
   "metadata": {},
   "outputs": [
    {
     "data": {
      "text/plain": [
       "array(['Africa', 'Americas', 'Asia', 'Europe', 'Oceania'], dtype=object)"
      ]
     },
     "execution_count": 20,
     "metadata": {},
     "output_type": "execute_result"
    }
   ],
   "source": [
    "df['region'].unique()"
   ]
  },
  {
   "cell_type": "code",
   "execution_count": null,
   "metadata": {},
   "outputs": [],
   "source": []
  }
 ],
 "metadata": {
  "kernelspec": {
   "display_name": "Python 3",
   "language": "python",
   "name": "python3"
  },
  "language_info": {
   "codemirror_mode": {
    "name": "ipython",
    "version": 3
   },
   "file_extension": ".py",
   "mimetype": "text/x-python",
   "name": "python",
   "nbconvert_exporter": "python",
   "pygments_lexer": "ipython3",
   "version": "3.7.3"
  }
 },
 "nbformat": 4,
 "nbformat_minor": 2
}
