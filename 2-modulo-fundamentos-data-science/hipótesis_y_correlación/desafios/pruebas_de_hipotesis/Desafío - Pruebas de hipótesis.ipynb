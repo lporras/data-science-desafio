{
 "cells": [
  {
   "cell_type": "markdown",
   "metadata": {},
   "source": [
    "# Desafío - Pruebas de hipótesis"
   ]
  },
  {
   "cell_type": "markdown",
   "metadata": {},
   "source": [
    "**Nombre:** Luis Porras"
   ]
  },
  {
   "cell_type": "markdown",
   "metadata": {},
   "source": [
    "## 1. Evaluar juicios de hipótesis"
   ]
  },
  {
   "cell_type": "code",
   "execution_count": 1,
   "metadata": {},
   "outputs": [],
   "source": [
    "N = 150\n",
    "n1 = 75 # Hetero\n",
    "n2 = 75 # Homo\n",
    "p1 = 0.67 # La probabilidad de que un Hetero apruebe la adopcion homoparental es 67%\n",
    "p2 = 0.72 # La probabilidad de que un Homo apruebe la adopcion homoparental es 72%"
   ]
  },
  {
   "cell_type": "markdown",
   "metadata": {},
   "source": [
    "$ Ho : P1 = P2 $\n"
   ]
  },
  {
   "cell_type": "markdown",
   "metadata": {},
   "source": [
    "$ H1 : P1 != P2 $"
   ]
  },
  {
   "cell_type": "code",
   "execution_count": 2,
   "metadata": {},
   "outputs": [],
   "source": [
    "p = 11.83 # valor de prueba, Z\n",
    "p_score = 2.52 # Puntaje de corte"
   ]
  },
  {
   "cell_type": "markdown",
   "metadata": {},
   "source": [
    "### Pregunta: ¿qué se debe concluir?"
   ]
  },
  {
   "cell_type": "markdown",
   "metadata": {},
   "source": [
    "**Respuesta:** Dado que el valor Z de `11.83` es mayor al puntaje de corte `2.52`, tenemos que existe evidencia para rechazar\n",
    "la Hipótesis Nula.  Es decir que la probabilidad de que un Hetero apruebe la adopción hommoparental es distinta a la probabilidad de que un Homo apruebe la adopicón homoparental."
   ]
  },
  {
   "cell_type": "markdown",
   "metadata": {},
   "source": []
  },
  {
   "cell_type": "markdown",
   "metadata": {},
   "source": [
    "* Un  investigador de  la  Sociedad de  Abstemios de  Chile  sugiere que  los  hombres tienen mayores niveles de  consumo de  alcohol que  las  mujeres, siendo esta  diferencia estadísticamente significativa. Esto en base a su estudio realizado con 48 individuos, donde contrastó su puntaje de prueba a una distribución asintóticamente normal.\n"
   ]
  },
  {
   "cell_type": "markdown",
   "metadata": {},
   "source": [
    "### Pregunta: ¿Qué se puede decir sobre su estudio?"
   ]
  },
  {
   "cell_type": "markdown",
   "metadata": {},
   "source": [
    "**Respuesta:** Dado que la diferencia fue estadísticamente significativa, concluimmos que el Z calculado fue mayor al puntaje de corte, y se rechazo la hipótesis Nula que indica que las medias eran Iguales."
   ]
  },
  {
   "cell_type": "markdown",
   "metadata": {},
   "source": [
    "## 2. Importe la base de datos utilizada la sesión presencial anterior"
   ]
  },
  {
   "cell_type": "code",
   "execution_count": 3,
   "metadata": {},
   "outputs": [
    {
     "data": {
      "text/html": [
       "<div>\n",
       "<style scoped>\n",
       "    .dataframe tbody tr th:only-of-type {\n",
       "        vertical-align: middle;\n",
       "    }\n",
       "\n",
       "    .dataframe tbody tr th {\n",
       "        vertical-align: top;\n",
       "    }\n",
       "\n",
       "    .dataframe thead th {\n",
       "        text-align: right;\n",
       "    }\n",
       "</style>\n",
       "<table border=\"1\" class=\"dataframe\">\n",
       "  <thead>\n",
       "    <tr style=\"text-align: right;\">\n",
       "      <th></th>\n",
       "      <th>Unnamed: 0</th>\n",
       "      <th>country</th>\n",
       "      <th>region</th>\n",
       "      <th>gdp</th>\n",
       "      <th>school</th>\n",
       "      <th>adfert</th>\n",
       "      <th>chldmort</th>\n",
       "      <th>life</th>\n",
       "      <th>pop</th>\n",
       "      <th>urban</th>\n",
       "      <th>femlab</th>\n",
       "      <th>literacy</th>\n",
       "      <th>co2</th>\n",
       "      <th>gini</th>\n",
       "    </tr>\n",
       "  </thead>\n",
       "  <tbody>\n",
       "    <tr>\n",
       "      <th>0</th>\n",
       "      <td>1</td>\n",
       "      <td>Algeria</td>\n",
       "      <td>Africa</td>\n",
       "      <td>7300.399902</td>\n",
       "      <td>6.716667</td>\n",
       "      <td>7.300000</td>\n",
       "      <td>34.75</td>\n",
       "      <td>72.316666</td>\n",
       "      <td>34172236</td>\n",
       "      <td>64.933334</td>\n",
       "      <td>0.4522</td>\n",
       "      <td>72.599998</td>\n",
       "      <td>15.0</td>\n",
       "      <td>NaN</td>\n",
       "    </tr>\n",
       "    <tr>\n",
       "      <th>1</th>\n",
       "      <td>2</td>\n",
       "      <td>Benin</td>\n",
       "      <td>Africa</td>\n",
       "      <td>1338.800049</td>\n",
       "      <td>3.100000</td>\n",
       "      <td>111.699997</td>\n",
       "      <td>122.75</td>\n",
       "      <td>54.733334</td>\n",
       "      <td>8237634</td>\n",
       "      <td>41.000000</td>\n",
       "      <td>0.8482</td>\n",
       "      <td>41.700001</td>\n",
       "      <td>1.2</td>\n",
       "      <td>NaN</td>\n",
       "    </tr>\n",
       "    <tr>\n",
       "      <th>2</th>\n",
       "      <td>3</td>\n",
       "      <td>Botswana</td>\n",
       "      <td>Africa</td>\n",
       "      <td>12307.400391</td>\n",
       "      <td>8.600000</td>\n",
       "      <td>52.099998</td>\n",
       "      <td>60.25</td>\n",
       "      <td>52.250000</td>\n",
       "      <td>1941233</td>\n",
       "      <td>59.250000</td>\n",
       "      <td>0.8870</td>\n",
       "      <td>84.099998</td>\n",
       "      <td>9.2</td>\n",
       "      <td>NaN</td>\n",
       "    </tr>\n",
       "    <tr>\n",
       "      <th>3</th>\n",
       "      <td>4</td>\n",
       "      <td>Burkina Faso</td>\n",
       "      <td>Africa</td>\n",
       "      <td>1063.400024</td>\n",
       "      <td>1.300000</td>\n",
       "      <td>124.800003</td>\n",
       "      <td>170.50</td>\n",
       "      <td>53.783333</td>\n",
       "      <td>15308383</td>\n",
       "      <td>23.583334</td>\n",
       "      <td>0.8584</td>\n",
       "      <td>23.600000</td>\n",
       "      <td>0.2</td>\n",
       "      <td>NaN</td>\n",
       "    </tr>\n",
       "    <tr>\n",
       "      <th>4</th>\n",
       "      <td>5</td>\n",
       "      <td>Burundi</td>\n",
       "      <td>Africa</td>\n",
       "      <td>349.200012</td>\n",
       "      <td>2.483333</td>\n",
       "      <td>18.600000</td>\n",
       "      <td>168.50</td>\n",
       "      <td>48.866665</td>\n",
       "      <td>7821783</td>\n",
       "      <td>10.250000</td>\n",
       "      <td>1.0344</td>\n",
       "      <td>66.599998</td>\n",
       "      <td>0.1</td>\n",
       "      <td>33.299999</td>\n",
       "    </tr>\n",
       "  </tbody>\n",
       "</table>\n",
       "</div>"
      ],
      "text/plain": [
       "   Unnamed: 0       country  region           gdp    school      adfert  \\\n",
       "0           1       Algeria  Africa   7300.399902  6.716667    7.300000   \n",
       "1           2         Benin  Africa   1338.800049  3.100000  111.699997   \n",
       "2           3      Botswana  Africa  12307.400391  8.600000   52.099998   \n",
       "3           4  Burkina Faso  Africa   1063.400024  1.300000  124.800003   \n",
       "4           5       Burundi  Africa    349.200012  2.483333   18.600000   \n",
       "\n",
       "   chldmort       life       pop      urban  femlab   literacy   co2  \\\n",
       "0     34.75  72.316666  34172236  64.933334  0.4522  72.599998  15.0   \n",
       "1    122.75  54.733334   8237634  41.000000  0.8482  41.700001   1.2   \n",
       "2     60.25  52.250000   1941233  59.250000  0.8870  84.099998   9.2   \n",
       "3    170.50  53.783333  15308383  23.583334  0.8584  23.600000   0.2   \n",
       "4    168.50  48.866665   7821783  10.250000  1.0344  66.599998   0.1   \n",
       "\n",
       "        gini  \n",
       "0        NaN  \n",
       "1        NaN  \n",
       "2        NaN  \n",
       "3        NaN  \n",
       "4  33.299999  "
      ]
     },
     "execution_count": 3,
     "metadata": {},
     "output_type": "execute_result"
    }
   ],
   "source": [
    "import pandas as pd\n",
    "import numpy as np\n",
    "import seaborn as sns\n",
    "import matplotlib.pyplot as plt\n",
    "\n",
    "df = pd.read_csv('nations.csv', encoding='latin-1')\n",
    "df.head()"
   ]
  },
  {
   "cell_type": "markdown",
   "metadata": {},
   "source": [
    "* Agrege una serie de variables binarias por cada continente de la variable `region`."
   ]
  },
  {
   "cell_type": "code",
   "execution_count": 4,
   "metadata": {},
   "outputs": [
    {
     "data": {
      "text/plain": [
       "Africa      52\n",
       "Asia        49\n",
       "Europe      43\n",
       "Americas    35\n",
       "Oceania     15\n",
       "Name: region, dtype: int64"
      ]
     },
     "execution_count": 4,
     "metadata": {},
     "output_type": "execute_result"
    }
   ],
   "source": [
    "df['region'].value_counts()"
   ]
  },
  {
   "cell_type": "code",
   "execution_count": 5,
   "metadata": {},
   "outputs": [
    {
     "data": {
      "text/plain": [
       "array(['Africa', 'Americas', 'Asia', 'Europe', 'Oceania'], dtype=object)"
      ]
     },
     "execution_count": 5,
     "metadata": {},
     "output_type": "execute_result"
    }
   ],
   "source": [
    "regions = df['region'].unique()\n",
    "regions"
   ]
  },
  {
   "cell_type": "code",
   "execution_count": 24,
   "metadata": {},
   "outputs": [],
   "source": [
    "tmp_df = df.copy()"
   ]
  },
  {
   "cell_type": "code",
   "execution_count": 25,
   "metadata": {},
   "outputs": [],
   "source": [
    "for region in regions:\n",
    "    tmp_df[f\"is_from_{region}\"] = np.where(tmp_df['region'] == region, 1, 0)"
   ]
  },
  {
   "cell_type": "code",
   "execution_count": 26,
   "metadata": {},
   "outputs": [
    {
     "data": {
      "text/html": [
       "<div>\n",
       "<style scoped>\n",
       "    .dataframe tbody tr th:only-of-type {\n",
       "        vertical-align: middle;\n",
       "    }\n",
       "\n",
       "    .dataframe tbody tr th {\n",
       "        vertical-align: top;\n",
       "    }\n",
       "\n",
       "    .dataframe thead th {\n",
       "        text-align: right;\n",
       "    }\n",
       "</style>\n",
       "<table border=\"1\" class=\"dataframe\">\n",
       "  <thead>\n",
       "    <tr style=\"text-align: right;\">\n",
       "      <th></th>\n",
       "      <th>Unnamed: 0</th>\n",
       "      <th>country</th>\n",
       "      <th>region</th>\n",
       "      <th>gdp</th>\n",
       "      <th>school</th>\n",
       "      <th>adfert</th>\n",
       "      <th>chldmort</th>\n",
       "      <th>life</th>\n",
       "      <th>pop</th>\n",
       "      <th>urban</th>\n",
       "      <th>femlab</th>\n",
       "      <th>literacy</th>\n",
       "      <th>co2</th>\n",
       "      <th>gini</th>\n",
       "      <th>is_from_Africa</th>\n",
       "      <th>is_from_Americas</th>\n",
       "      <th>is_from_Asia</th>\n",
       "      <th>is_from_Europe</th>\n",
       "      <th>is_from_Oceania</th>\n",
       "    </tr>\n",
       "  </thead>\n",
       "  <tbody>\n",
       "    <tr>\n",
       "      <th>0</th>\n",
       "      <td>1</td>\n",
       "      <td>Algeria</td>\n",
       "      <td>Africa</td>\n",
       "      <td>7300.399902</td>\n",
       "      <td>6.716667</td>\n",
       "      <td>7.300000</td>\n",
       "      <td>34.75</td>\n",
       "      <td>72.316666</td>\n",
       "      <td>34172236</td>\n",
       "      <td>64.933334</td>\n",
       "      <td>0.4522</td>\n",
       "      <td>72.599998</td>\n",
       "      <td>15.0</td>\n",
       "      <td>NaN</td>\n",
       "      <td>1</td>\n",
       "      <td>0</td>\n",
       "      <td>0</td>\n",
       "      <td>0</td>\n",
       "      <td>0</td>\n",
       "    </tr>\n",
       "    <tr>\n",
       "      <th>1</th>\n",
       "      <td>2</td>\n",
       "      <td>Benin</td>\n",
       "      <td>Africa</td>\n",
       "      <td>1338.800049</td>\n",
       "      <td>3.100000</td>\n",
       "      <td>111.699997</td>\n",
       "      <td>122.75</td>\n",
       "      <td>54.733334</td>\n",
       "      <td>8237634</td>\n",
       "      <td>41.000000</td>\n",
       "      <td>0.8482</td>\n",
       "      <td>41.700001</td>\n",
       "      <td>1.2</td>\n",
       "      <td>NaN</td>\n",
       "      <td>1</td>\n",
       "      <td>0</td>\n",
       "      <td>0</td>\n",
       "      <td>0</td>\n",
       "      <td>0</td>\n",
       "    </tr>\n",
       "    <tr>\n",
       "      <th>2</th>\n",
       "      <td>3</td>\n",
       "      <td>Botswana</td>\n",
       "      <td>Africa</td>\n",
       "      <td>12307.400391</td>\n",
       "      <td>8.600000</td>\n",
       "      <td>52.099998</td>\n",
       "      <td>60.25</td>\n",
       "      <td>52.250000</td>\n",
       "      <td>1941233</td>\n",
       "      <td>59.250000</td>\n",
       "      <td>0.8870</td>\n",
       "      <td>84.099998</td>\n",
       "      <td>9.2</td>\n",
       "      <td>NaN</td>\n",
       "      <td>1</td>\n",
       "      <td>0</td>\n",
       "      <td>0</td>\n",
       "      <td>0</td>\n",
       "      <td>0</td>\n",
       "    </tr>\n",
       "    <tr>\n",
       "      <th>3</th>\n",
       "      <td>4</td>\n",
       "      <td>Burkina Faso</td>\n",
       "      <td>Africa</td>\n",
       "      <td>1063.400024</td>\n",
       "      <td>1.300000</td>\n",
       "      <td>124.800003</td>\n",
       "      <td>170.50</td>\n",
       "      <td>53.783333</td>\n",
       "      <td>15308383</td>\n",
       "      <td>23.583334</td>\n",
       "      <td>0.8584</td>\n",
       "      <td>23.600000</td>\n",
       "      <td>0.2</td>\n",
       "      <td>NaN</td>\n",
       "      <td>1</td>\n",
       "      <td>0</td>\n",
       "      <td>0</td>\n",
       "      <td>0</td>\n",
       "      <td>0</td>\n",
       "    </tr>\n",
       "    <tr>\n",
       "      <th>4</th>\n",
       "      <td>5</td>\n",
       "      <td>Burundi</td>\n",
       "      <td>Africa</td>\n",
       "      <td>349.200012</td>\n",
       "      <td>2.483333</td>\n",
       "      <td>18.600000</td>\n",
       "      <td>168.50</td>\n",
       "      <td>48.866665</td>\n",
       "      <td>7821783</td>\n",
       "      <td>10.250000</td>\n",
       "      <td>1.0344</td>\n",
       "      <td>66.599998</td>\n",
       "      <td>0.1</td>\n",
       "      <td>33.299999</td>\n",
       "      <td>1</td>\n",
       "      <td>0</td>\n",
       "      <td>0</td>\n",
       "      <td>0</td>\n",
       "      <td>0</td>\n",
       "    </tr>\n",
       "  </tbody>\n",
       "</table>\n",
       "</div>"
      ],
      "text/plain": [
       "   Unnamed: 0       country  region           gdp    school      adfert  \\\n",
       "0           1       Algeria  Africa   7300.399902  6.716667    7.300000   \n",
       "1           2         Benin  Africa   1338.800049  3.100000  111.699997   \n",
       "2           3      Botswana  Africa  12307.400391  8.600000   52.099998   \n",
       "3           4  Burkina Faso  Africa   1063.400024  1.300000  124.800003   \n",
       "4           5       Burundi  Africa    349.200012  2.483333   18.600000   \n",
       "\n",
       "   chldmort       life       pop      urban  femlab   literacy   co2  \\\n",
       "0     34.75  72.316666  34172236  64.933334  0.4522  72.599998  15.0   \n",
       "1    122.75  54.733334   8237634  41.000000  0.8482  41.700001   1.2   \n",
       "2     60.25  52.250000   1941233  59.250000  0.8870  84.099998   9.2   \n",
       "3    170.50  53.783333  15308383  23.583334  0.8584  23.600000   0.2   \n",
       "4    168.50  48.866665   7821783  10.250000  1.0344  66.599998   0.1   \n",
       "\n",
       "        gini  is_from_Africa  is_from_Americas  is_from_Asia  is_from_Europe  \\\n",
       "0        NaN               1                 0             0               0   \n",
       "1        NaN               1                 0             0               0   \n",
       "2        NaN               1                 0             0               0   \n",
       "3        NaN               1                 0             0               0   \n",
       "4  33.299999               1                 0             0               0   \n",
       "\n",
       "   is_from_Oceania  \n",
       "0                0  \n",
       "1                0  \n",
       "2                0  \n",
       "3                0  \n",
       "4                0  "
      ]
     },
     "execution_count": 26,
     "metadata": {},
     "output_type": "execute_result"
    }
   ],
   "source": [
    "tmp_df[tmp_df['region'] == 'Africa'].head()"
   ]
  },
  {
   "cell_type": "code",
   "execution_count": 27,
   "metadata": {},
   "outputs": [
    {
     "data": {
      "text/html": [
       "<div>\n",
       "<style scoped>\n",
       "    .dataframe tbody tr th:only-of-type {\n",
       "        vertical-align: middle;\n",
       "    }\n",
       "\n",
       "    .dataframe tbody tr th {\n",
       "        vertical-align: top;\n",
       "    }\n",
       "\n",
       "    .dataframe thead th {\n",
       "        text-align: right;\n",
       "    }\n",
       "</style>\n",
       "<table border=\"1\" class=\"dataframe\">\n",
       "  <thead>\n",
       "    <tr style=\"text-align: right;\">\n",
       "      <th></th>\n",
       "      <th>Unnamed: 0</th>\n",
       "      <th>country</th>\n",
       "      <th>region</th>\n",
       "      <th>gdp</th>\n",
       "      <th>school</th>\n",
       "      <th>adfert</th>\n",
       "      <th>chldmort</th>\n",
       "      <th>life</th>\n",
       "      <th>pop</th>\n",
       "      <th>urban</th>\n",
       "      <th>femlab</th>\n",
       "      <th>literacy</th>\n",
       "      <th>co2</th>\n",
       "      <th>gini</th>\n",
       "      <th>is_from_Africa</th>\n",
       "      <th>is_from_Americas</th>\n",
       "      <th>is_from_Asia</th>\n",
       "      <th>is_from_Europe</th>\n",
       "      <th>is_from_Oceania</th>\n",
       "    </tr>\n",
       "  </thead>\n",
       "  <tbody>\n",
       "    <tr>\n",
       "      <th>52</th>\n",
       "      <td>53</td>\n",
       "      <td>Antigua and Barbuda</td>\n",
       "      <td>Americas</td>\n",
       "      <td>17676.400391</td>\n",
       "      <td>8.900000</td>\n",
       "      <td>55.500000</td>\n",
       "      <td>13.00</td>\n",
       "      <td>72.166664</td>\n",
       "      <td>86367</td>\n",
       "      <td>30.466667</td>\n",
       "      <td>NaN</td>\n",
       "      <td>99.000000</td>\n",
       "      <td>18.299999</td>\n",
       "      <td>NaN</td>\n",
       "      <td>0</td>\n",
       "      <td>1</td>\n",
       "      <td>0</td>\n",
       "      <td>0</td>\n",
       "      <td>0</td>\n",
       "    </tr>\n",
       "    <tr>\n",
       "      <th>53</th>\n",
       "      <td>54</td>\n",
       "      <td>Argentina</td>\n",
       "      <td>Americas</td>\n",
       "      <td>12274.000000</td>\n",
       "      <td>9.083333</td>\n",
       "      <td>56.900002</td>\n",
       "      <td>15.25</td>\n",
       "      <td>75.283333</td>\n",
       "      <td>39543736</td>\n",
       "      <td>91.900002</td>\n",
       "      <td>0.6544</td>\n",
       "      <td>97.699997</td>\n",
       "      <td>15.650000</td>\n",
       "      <td>45.799999</td>\n",
       "      <td>0</td>\n",
       "      <td>1</td>\n",
       "      <td>0</td>\n",
       "      <td>0</td>\n",
       "      <td>0</td>\n",
       "    </tr>\n",
       "    <tr>\n",
       "      <th>54</th>\n",
       "      <td>55</td>\n",
       "      <td>Bahamas</td>\n",
       "      <td>Americas</td>\n",
       "      <td>NaN</td>\n",
       "      <td>8.500000</td>\n",
       "      <td>31.799999</td>\n",
       "      <td>13.75</td>\n",
       "      <td>74.599998</td>\n",
       "      <td>331233</td>\n",
       "      <td>83.599998</td>\n",
       "      <td>0.8656</td>\n",
       "      <td>NaN</td>\n",
       "      <td>23.950001</td>\n",
       "      <td>NaN</td>\n",
       "      <td>0</td>\n",
       "      <td>1</td>\n",
       "      <td>0</td>\n",
       "      <td>0</td>\n",
       "      <td>0</td>\n",
       "    </tr>\n",
       "    <tr>\n",
       "      <th>55</th>\n",
       "      <td>56</td>\n",
       "      <td>Barbados</td>\n",
       "      <td>Americas</td>\n",
       "      <td>19189.000000</td>\n",
       "      <td>9.250000</td>\n",
       "      <td>42.599998</td>\n",
       "      <td>11.50</td>\n",
       "      <td>76.300003</td>\n",
       "      <td>271917</td>\n",
       "      <td>42.900002</td>\n",
       "      <td>0.8430</td>\n",
       "      <td>NaN</td>\n",
       "      <td>16.650000</td>\n",
       "      <td>NaN</td>\n",
       "      <td>0</td>\n",
       "      <td>1</td>\n",
       "      <td>0</td>\n",
       "      <td>0</td>\n",
       "      <td>0</td>\n",
       "    </tr>\n",
       "    <tr>\n",
       "      <th>56</th>\n",
       "      <td>57</td>\n",
       "      <td>Belize</td>\n",
       "      <td>Americas</td>\n",
       "      <td>6208.799805</td>\n",
       "      <td>7.850000</td>\n",
       "      <td>78.699997</td>\n",
       "      <td>19.75</td>\n",
       "      <td>75.216667</td>\n",
       "      <td>296200</td>\n",
       "      <td>51.200001</td>\n",
       "      <td>0.5674</td>\n",
       "      <td>NaN</td>\n",
       "      <td>10.750000</td>\n",
       "      <td>NaN</td>\n",
       "      <td>0</td>\n",
       "      <td>1</td>\n",
       "      <td>0</td>\n",
       "      <td>0</td>\n",
       "      <td>0</td>\n",
       "    </tr>\n",
       "  </tbody>\n",
       "</table>\n",
       "</div>"
      ],
      "text/plain": [
       "    Unnamed: 0              country    region           gdp    school  \\\n",
       "52          53  Antigua and Barbuda  Americas  17676.400391  8.900000   \n",
       "53          54            Argentina  Americas  12274.000000  9.083333   \n",
       "54          55              Bahamas  Americas           NaN  8.500000   \n",
       "55          56             Barbados  Americas  19189.000000  9.250000   \n",
       "56          57               Belize  Americas   6208.799805  7.850000   \n",
       "\n",
       "       adfert  chldmort       life       pop      urban  femlab   literacy  \\\n",
       "52  55.500000     13.00  72.166664     86367  30.466667     NaN  99.000000   \n",
       "53  56.900002     15.25  75.283333  39543736  91.900002  0.6544  97.699997   \n",
       "54  31.799999     13.75  74.599998    331233  83.599998  0.8656        NaN   \n",
       "55  42.599998     11.50  76.300003    271917  42.900002  0.8430        NaN   \n",
       "56  78.699997     19.75  75.216667    296200  51.200001  0.5674        NaN   \n",
       "\n",
       "          co2       gini  is_from_Africa  is_from_Americas  is_from_Asia  \\\n",
       "52  18.299999        NaN               0                 1             0   \n",
       "53  15.650000  45.799999               0                 1             0   \n",
       "54  23.950001        NaN               0                 1             0   \n",
       "55  16.650000        NaN               0                 1             0   \n",
       "56  10.750000        NaN               0                 1             0   \n",
       "\n",
       "    is_from_Europe  is_from_Oceania  \n",
       "52               0                0  \n",
       "53               0                0  \n",
       "54               0                0  \n",
       "55               0                0  \n",
       "56               0                0  "
      ]
     },
     "execution_count": 27,
     "metadata": {},
     "output_type": "execute_result"
    }
   ],
   "source": [
    "tmp_df[tmp_df['region'] == 'Americas'].head()"
   ]
  },
  {
   "cell_type": "code",
   "execution_count": 28,
   "metadata": {},
   "outputs": [
    {
     "data": {
      "text/html": [
       "<div>\n",
       "<style scoped>\n",
       "    .dataframe tbody tr th:only-of-type {\n",
       "        vertical-align: middle;\n",
       "    }\n",
       "\n",
       "    .dataframe tbody tr th {\n",
       "        vertical-align: top;\n",
       "    }\n",
       "\n",
       "    .dataframe thead th {\n",
       "        text-align: right;\n",
       "    }\n",
       "</style>\n",
       "<table border=\"1\" class=\"dataframe\">\n",
       "  <thead>\n",
       "    <tr style=\"text-align: right;\">\n",
       "      <th></th>\n",
       "      <th>Unnamed: 0</th>\n",
       "      <th>country</th>\n",
       "      <th>region</th>\n",
       "      <th>gdp</th>\n",
       "      <th>school</th>\n",
       "      <th>adfert</th>\n",
       "      <th>chldmort</th>\n",
       "      <th>life</th>\n",
       "      <th>pop</th>\n",
       "      <th>urban</th>\n",
       "      <th>femlab</th>\n",
       "      <th>literacy</th>\n",
       "      <th>co2</th>\n",
       "      <th>gini</th>\n",
       "      <th>is_from_Africa</th>\n",
       "      <th>is_from_Americas</th>\n",
       "      <th>is_from_Asia</th>\n",
       "      <th>is_from_Europe</th>\n",
       "      <th>is_from_Oceania</th>\n",
       "    </tr>\n",
       "  </thead>\n",
       "  <tbody>\n",
       "    <tr>\n",
       "      <th>136</th>\n",
       "      <td>137</td>\n",
       "      <td>Albania</td>\n",
       "      <td>Europe</td>\n",
       "      <td>6832.600098</td>\n",
       "      <td>10.283333</td>\n",
       "      <td>17.9</td>\n",
       "      <td>17.0</td>\n",
       "      <td>76.400002</td>\n",
       "      <td>3174417</td>\n",
       "      <td>49.350002</td>\n",
       "      <td>0.6948</td>\n",
       "      <td>95.900002</td>\n",
       "      <td>5.150000</td>\n",
       "      <td>34.500000</td>\n",
       "      <td>0</td>\n",
       "      <td>0</td>\n",
       "      <td>0</td>\n",
       "      <td>1</td>\n",
       "      <td>0</td>\n",
       "    </tr>\n",
       "    <tr>\n",
       "      <th>137</th>\n",
       "      <td>138</td>\n",
       "      <td>Andorra</td>\n",
       "      <td>Europe</td>\n",
       "      <td>NaN</td>\n",
       "      <td>10.400000</td>\n",
       "      <td>8.4</td>\n",
       "      <td>4.0</td>\n",
       "      <td>80.516663</td>\n",
       "      <td>81733</td>\n",
       "      <td>89.116669</td>\n",
       "      <td>NaN</td>\n",
       "      <td>NaN</td>\n",
       "      <td>NaN</td>\n",
       "      <td>NaN</td>\n",
       "      <td>0</td>\n",
       "      <td>0</td>\n",
       "      <td>0</td>\n",
       "      <td>1</td>\n",
       "      <td>0</td>\n",
       "    </tr>\n",
       "    <tr>\n",
       "      <th>138</th>\n",
       "      <td>139</td>\n",
       "      <td>Austria</td>\n",
       "      <td>Europe</td>\n",
       "      <td>34838.398438</td>\n",
       "      <td>10.366667</td>\n",
       "      <td>12.8</td>\n",
       "      <td>4.5</td>\n",
       "      <td>80.183334</td>\n",
       "      <td>8320033</td>\n",
       "      <td>67.016663</td>\n",
       "      <td>0.7714</td>\n",
       "      <td>NaN</td>\n",
       "      <td>31.900002</td>\n",
       "      <td>NaN</td>\n",
       "      <td>0</td>\n",
       "      <td>0</td>\n",
       "      <td>0</td>\n",
       "      <td>1</td>\n",
       "      <td>0</td>\n",
       "    </tr>\n",
       "    <tr>\n",
       "      <th>139</th>\n",
       "      <td>140</td>\n",
       "      <td>Belarus</td>\n",
       "      <td>Europe</td>\n",
       "      <td>10391.799805</td>\n",
       "      <td>9.300000</td>\n",
       "      <td>22.1</td>\n",
       "      <td>13.0</td>\n",
       "      <td>69.466667</td>\n",
       "      <td>9707033</td>\n",
       "      <td>73.399994</td>\n",
       "      <td>0.8208</td>\n",
       "      <td>99.699997</td>\n",
       "      <td>25.000000</td>\n",
       "      <td>27.200001</td>\n",
       "      <td>0</td>\n",
       "      <td>0</td>\n",
       "      <td>0</td>\n",
       "      <td>1</td>\n",
       "      <td>0</td>\n",
       "    </tr>\n",
       "    <tr>\n",
       "      <th>140</th>\n",
       "      <td>141</td>\n",
       "      <td>Belgium</td>\n",
       "      <td>Europe</td>\n",
       "      <td>32868.800781</td>\n",
       "      <td>10.733334</td>\n",
       "      <td>14.2</td>\n",
       "      <td>5.0</td>\n",
       "      <td>79.566666</td>\n",
       "      <td>10567200</td>\n",
       "      <td>97.350006</td>\n",
       "      <td>0.7590</td>\n",
       "      <td>NaN</td>\n",
       "      <td>38.150002</td>\n",
       "      <td>NaN</td>\n",
       "      <td>0</td>\n",
       "      <td>0</td>\n",
       "      <td>0</td>\n",
       "      <td>1</td>\n",
       "      <td>0</td>\n",
       "    </tr>\n",
       "  </tbody>\n",
       "</table>\n",
       "</div>"
      ],
      "text/plain": [
       "     Unnamed: 0  country  region           gdp     school  adfert  chldmort  \\\n",
       "136         137  Albania  Europe   6832.600098  10.283333    17.9      17.0   \n",
       "137         138  Andorra  Europe           NaN  10.400000     8.4       4.0   \n",
       "138         139  Austria  Europe  34838.398438  10.366667    12.8       4.5   \n",
       "139         140  Belarus  Europe  10391.799805   9.300000    22.1      13.0   \n",
       "140         141  Belgium  Europe  32868.800781  10.733334    14.2       5.0   \n",
       "\n",
       "          life       pop      urban  femlab   literacy        co2       gini  \\\n",
       "136  76.400002   3174417  49.350002  0.6948  95.900002   5.150000  34.500000   \n",
       "137  80.516663     81733  89.116669     NaN        NaN        NaN        NaN   \n",
       "138  80.183334   8320033  67.016663  0.7714        NaN  31.900002        NaN   \n",
       "139  69.466667   9707033  73.399994  0.8208  99.699997  25.000000  27.200001   \n",
       "140  79.566666  10567200  97.350006  0.7590        NaN  38.150002        NaN   \n",
       "\n",
       "     is_from_Africa  is_from_Americas  is_from_Asia  is_from_Europe  \\\n",
       "136               0                 0             0               1   \n",
       "137               0                 0             0               1   \n",
       "138               0                 0             0               1   \n",
       "139               0                 0             0               1   \n",
       "140               0                 0             0               1   \n",
       "\n",
       "     is_from_Oceania  \n",
       "136                0  \n",
       "137                0  \n",
       "138                0  \n",
       "139                0  \n",
       "140                0  "
      ]
     },
     "execution_count": 28,
     "metadata": {},
     "output_type": "execute_result"
    }
   ],
   "source": [
    "tmp_df[tmp_df['region'] == 'Europe'].head()"
   ]
  },
  {
   "cell_type": "code",
   "execution_count": 29,
   "metadata": {},
   "outputs": [
    {
     "data": {
      "text/html": [
       "<div>\n",
       "<style scoped>\n",
       "    .dataframe tbody tr th:only-of-type {\n",
       "        vertical-align: middle;\n",
       "    }\n",
       "\n",
       "    .dataframe tbody tr th {\n",
       "        vertical-align: top;\n",
       "    }\n",
       "\n",
       "    .dataframe thead th {\n",
       "        text-align: right;\n",
       "    }\n",
       "</style>\n",
       "<table border=\"1\" class=\"dataframe\">\n",
       "  <thead>\n",
       "    <tr style=\"text-align: right;\">\n",
       "      <th></th>\n",
       "      <th>Unnamed: 0</th>\n",
       "      <th>country</th>\n",
       "      <th>region</th>\n",
       "      <th>gdp</th>\n",
       "      <th>school</th>\n",
       "      <th>adfert</th>\n",
       "      <th>chldmort</th>\n",
       "      <th>life</th>\n",
       "      <th>pop</th>\n",
       "      <th>urban</th>\n",
       "      <th>femlab</th>\n",
       "      <th>literacy</th>\n",
       "      <th>co2</th>\n",
       "      <th>gini</th>\n",
       "      <th>is_from_Africa</th>\n",
       "      <th>is_from_Americas</th>\n",
       "      <th>is_from_Asia</th>\n",
       "      <th>is_from_Europe</th>\n",
       "      <th>is_from_Oceania</th>\n",
       "    </tr>\n",
       "  </thead>\n",
       "  <tbody>\n",
       "    <tr>\n",
       "      <th>179</th>\n",
       "      <td>180</td>\n",
       "      <td>Angola</td>\n",
       "      <td>Oceania</td>\n",
       "      <td>4662.000000</td>\n",
       "      <td>4.400000</td>\n",
       "      <td>171.100006</td>\n",
       "      <td>170.00</td>\n",
       "      <td>49.666668</td>\n",
       "      <td>17783300</td>\n",
       "      <td>56.250000</td>\n",
       "      <td>0.8380</td>\n",
       "      <td>70.0</td>\n",
       "      <td>2.250000</td>\n",
       "      <td>NaN</td>\n",
       "      <td>0</td>\n",
       "      <td>0</td>\n",
       "      <td>0</td>\n",
       "      <td>0</td>\n",
       "      <td>1</td>\n",
       "    </tr>\n",
       "    <tr>\n",
       "      <th>180</th>\n",
       "      <td>181</td>\n",
       "      <td>Australia</td>\n",
       "      <td>Oceania</td>\n",
       "      <td>33707.199219</td>\n",
       "      <td>11.983334</td>\n",
       "      <td>16.500000</td>\n",
       "      <td>5.25</td>\n",
       "      <td>81.400002</td>\n",
       "      <td>21325382</td>\n",
       "      <td>88.666664</td>\n",
       "      <td>0.7994</td>\n",
       "      <td>NaN</td>\n",
       "      <td>66.199997</td>\n",
       "      <td>NaN</td>\n",
       "      <td>0</td>\n",
       "      <td>0</td>\n",
       "      <td>0</td>\n",
       "      <td>0</td>\n",
       "      <td>1</td>\n",
       "    </tr>\n",
       "    <tr>\n",
       "      <th>181</th>\n",
       "      <td>182</td>\n",
       "      <td>Fiji</td>\n",
       "      <td>Oceania</td>\n",
       "      <td>4259.600098</td>\n",
       "      <td>10.300000</td>\n",
       "      <td>45.200001</td>\n",
       "      <td>18.00</td>\n",
       "      <td>68.783333</td>\n",
       "      <td>840417</td>\n",
       "      <td>50.900002</td>\n",
       "      <td>0.4954</td>\n",
       "      <td>NaN</td>\n",
       "      <td>7.250000</td>\n",
       "      <td>NaN</td>\n",
       "      <td>0</td>\n",
       "      <td>0</td>\n",
       "      <td>0</td>\n",
       "      <td>0</td>\n",
       "      <td>1</td>\n",
       "    </tr>\n",
       "    <tr>\n",
       "      <th>182</th>\n",
       "      <td>183</td>\n",
       "      <td>Kiribati</td>\n",
       "      <td>Oceania</td>\n",
       "      <td>2294.199951</td>\n",
       "      <td>7.800000</td>\n",
       "      <td>22.200001</td>\n",
       "      <td>49.25</td>\n",
       "      <td>67.133331</td>\n",
       "      <td>95750</td>\n",
       "      <td>43.700001</td>\n",
       "      <td>NaN</td>\n",
       "      <td>NaN</td>\n",
       "      <td>1.050000</td>\n",
       "      <td>NaN</td>\n",
       "      <td>0</td>\n",
       "      <td>0</td>\n",
       "      <td>0</td>\n",
       "      <td>0</td>\n",
       "      <td>1</td>\n",
       "    </tr>\n",
       "    <tr>\n",
       "      <th>183</th>\n",
       "      <td>184</td>\n",
       "      <td>Marshall Is</td>\n",
       "      <td>Oceania</td>\n",
       "      <td>NaN</td>\n",
       "      <td>9.800000</td>\n",
       "      <td>53.500000</td>\n",
       "      <td>36.00</td>\n",
       "      <td>70.866669</td>\n",
       "      <td>52833</td>\n",
       "      <td>70.900002</td>\n",
       "      <td>NaN</td>\n",
       "      <td>NaN</td>\n",
       "      <td>5.650000</td>\n",
       "      <td>NaN</td>\n",
       "      <td>0</td>\n",
       "      <td>0</td>\n",
       "      <td>0</td>\n",
       "      <td>0</td>\n",
       "      <td>1</td>\n",
       "    </tr>\n",
       "  </tbody>\n",
       "</table>\n",
       "</div>"
      ],
      "text/plain": [
       "     Unnamed: 0      country   region           gdp     school      adfert  \\\n",
       "179         180       Angola  Oceania   4662.000000   4.400000  171.100006   \n",
       "180         181    Australia  Oceania  33707.199219  11.983334   16.500000   \n",
       "181         182         Fiji  Oceania   4259.600098  10.300000   45.200001   \n",
       "182         183     Kiribati  Oceania   2294.199951   7.800000   22.200001   \n",
       "183         184  Marshall Is  Oceania           NaN   9.800000   53.500000   \n",
       "\n",
       "     chldmort       life       pop      urban  femlab  literacy        co2  \\\n",
       "179    170.00  49.666668  17783300  56.250000  0.8380      70.0   2.250000   \n",
       "180      5.25  81.400002  21325382  88.666664  0.7994       NaN  66.199997   \n",
       "181     18.00  68.783333    840417  50.900002  0.4954       NaN   7.250000   \n",
       "182     49.25  67.133331     95750  43.700001     NaN       NaN   1.050000   \n",
       "183     36.00  70.866669     52833  70.900002     NaN       NaN   5.650000   \n",
       "\n",
       "     gini  is_from_Africa  is_from_Americas  is_from_Asia  is_from_Europe  \\\n",
       "179   NaN               0                 0             0               0   \n",
       "180   NaN               0                 0             0               0   \n",
       "181   NaN               0                 0             0               0   \n",
       "182   NaN               0                 0             0               0   \n",
       "183   NaN               0                 0             0               0   \n",
       "\n",
       "     is_from_Oceania  \n",
       "179                1  \n",
       "180                1  \n",
       "181                1  \n",
       "182                1  \n",
       "183                1  "
      ]
     },
     "execution_count": 29,
     "metadata": {},
     "output_type": "execute_result"
    }
   ],
   "source": [
    "tmp_df[tmp_df['region'] == 'Oceania'].head()"
   ]
  },
  {
   "cell_type": "markdown",
   "metadata": {},
   "source": [
    "* De manera similar a la sesión anterior, enfóquese en las siguientes variables:\n",
    "    * Apellidos desde la N hasta la Z: Enfocarse en las variables `femlab`, `literacy` y `school`."
   ]
  },
  {
   "cell_type": "code",
   "execution_count": 40,
   "metadata": {},
   "outputs": [],
   "source": [
    "tmp_2_df = tmp_df.loc[:, ['country', 'region', 'femlab', 'literacy', 'school', 'is_from_Africa', 'is_from_Americas', 'is_from_Asia', 'is_from_Europe', 'is_from_Oceania']]"
   ]
  },
  {
   "cell_type": "code",
   "execution_count": 41,
   "metadata": {},
   "outputs": [
    {
     "data": {
      "text/html": [
       "<div>\n",
       "<style scoped>\n",
       "    .dataframe tbody tr th:only-of-type {\n",
       "        vertical-align: middle;\n",
       "    }\n",
       "\n",
       "    .dataframe tbody tr th {\n",
       "        vertical-align: top;\n",
       "    }\n",
       "\n",
       "    .dataframe thead th {\n",
       "        text-align: right;\n",
       "    }\n",
       "</style>\n",
       "<table border=\"1\" class=\"dataframe\">\n",
       "  <thead>\n",
       "    <tr style=\"text-align: right;\">\n",
       "      <th></th>\n",
       "      <th>country</th>\n",
       "      <th>region</th>\n",
       "      <th>femlab</th>\n",
       "      <th>literacy</th>\n",
       "      <th>school</th>\n",
       "      <th>is_from_Africa</th>\n",
       "      <th>is_from_Americas</th>\n",
       "      <th>is_from_Asia</th>\n",
       "      <th>is_from_Europe</th>\n",
       "      <th>is_from_Oceania</th>\n",
       "    </tr>\n",
       "  </thead>\n",
       "  <tbody>\n",
       "    <tr>\n",
       "      <th>0</th>\n",
       "      <td>Algeria</td>\n",
       "      <td>Africa</td>\n",
       "      <td>0.4522</td>\n",
       "      <td>72.599998</td>\n",
       "      <td>6.716667</td>\n",
       "      <td>1</td>\n",
       "      <td>0</td>\n",
       "      <td>0</td>\n",
       "      <td>0</td>\n",
       "      <td>0</td>\n",
       "    </tr>\n",
       "    <tr>\n",
       "      <th>1</th>\n",
       "      <td>Benin</td>\n",
       "      <td>Africa</td>\n",
       "      <td>0.8482</td>\n",
       "      <td>41.700001</td>\n",
       "      <td>3.100000</td>\n",
       "      <td>1</td>\n",
       "      <td>0</td>\n",
       "      <td>0</td>\n",
       "      <td>0</td>\n",
       "      <td>0</td>\n",
       "    </tr>\n",
       "    <tr>\n",
       "      <th>2</th>\n",
       "      <td>Botswana</td>\n",
       "      <td>Africa</td>\n",
       "      <td>0.8870</td>\n",
       "      <td>84.099998</td>\n",
       "      <td>8.600000</td>\n",
       "      <td>1</td>\n",
       "      <td>0</td>\n",
       "      <td>0</td>\n",
       "      <td>0</td>\n",
       "      <td>0</td>\n",
       "    </tr>\n",
       "    <tr>\n",
       "      <th>3</th>\n",
       "      <td>Burkina Faso</td>\n",
       "      <td>Africa</td>\n",
       "      <td>0.8584</td>\n",
       "      <td>23.600000</td>\n",
       "      <td>1.300000</td>\n",
       "      <td>1</td>\n",
       "      <td>0</td>\n",
       "      <td>0</td>\n",
       "      <td>0</td>\n",
       "      <td>0</td>\n",
       "    </tr>\n",
       "    <tr>\n",
       "      <th>4</th>\n",
       "      <td>Burundi</td>\n",
       "      <td>Africa</td>\n",
       "      <td>1.0344</td>\n",
       "      <td>66.599998</td>\n",
       "      <td>2.483333</td>\n",
       "      <td>1</td>\n",
       "      <td>0</td>\n",
       "      <td>0</td>\n",
       "      <td>0</td>\n",
       "      <td>0</td>\n",
       "    </tr>\n",
       "  </tbody>\n",
       "</table>\n",
       "</div>"
      ],
      "text/plain": [
       "        country  region  femlab   literacy    school  is_from_Africa  \\\n",
       "0       Algeria  Africa  0.4522  72.599998  6.716667               1   \n",
       "1         Benin  Africa  0.8482  41.700001  3.100000               1   \n",
       "2      Botswana  Africa  0.8870  84.099998  8.600000               1   \n",
       "3  Burkina Faso  Africa  0.8584  23.600000  1.300000               1   \n",
       "4       Burundi  Africa  1.0344  66.599998  2.483333               1   \n",
       "\n",
       "   is_from_Americas  is_from_Asia  is_from_Europe  is_from_Oceania  \n",
       "0                 0             0               0                0  \n",
       "1                 0             0               0                0  \n",
       "2                 0             0               0                0  \n",
       "3                 0             0               0                0  \n",
       "4                 0             0               0                0  "
      ]
     },
     "execution_count": 41,
     "metadata": {},
     "output_type": "execute_result"
    }
   ],
   "source": [
    "tmp_2_df.head()"
   ]
  },
  {
   "cell_type": "markdown",
   "metadata": {},
   "source": [
    "## 3. Implemente una función de prueba de hipótesis a mano"
   ]
  },
  {
   "cell_type": "markdown",
   "metadata": {},
   "source": [
    "* La función debe ingresar los siguientes argumentos:\n",
    "    * `df`: La tabla de datos.\n",
    "    * `variable`: La variable a analizar\n",
    "    * `binarize`: El indicador binario a utilizar."
   ]
  },
  {
   "cell_type": "markdown",
   "metadata": {},
   "source": [
    "* tips:\n",
    "    * Separe la variable en dos, utilizando el indicador binario. Recuerde eliminar los perdidos con `dropna()`\n",
    "    * Implemente `ttest_ind` de `scipy.stats` y guarde el valor `t` y `pval`\n",
    "    * Reporte las medias para cada grupo (0 y 1)\n",
    "    * Reporte la diferencia de entre las medias.\n",
    "    * Reporte los valores `t` y `p`"
   ]
  },
  {
   "cell_type": "code",
   "execution_count": 45,
   "metadata": {},
   "outputs": [],
   "source": [
    "import scipy.stats as stats\n",
    "import matplotlib.pyplot as plt\n",
    "import seaborn as sns"
   ]
  },
  {
   "cell_type": "code",
   "execution_count": 58,
   "metadata": {},
   "outputs": [],
   "source": [
    "def desafio_3(df, variable, binarize):\n",
    "    region_variable_serie = df.query(f\"is_from_{binarize} == 1\")[variable].dropna()\n",
    "    no_region_variable_serie = df.query(f\"is_from_{binarize} == 0\")[variable].dropna()\n",
    "    mean_region_variable = region_variable_serie.mean()\n",
    "    mean_no_region_variable = no_region_variable_serie.mean()\n",
    "    print(f\"La media de la region {binarize} para la variable {variable} es: {round(mean_region_variable, 2)}\")\n",
    "    print(f\"La media de el resto de regiones para la variable {variable} es: {round(mean_no_region_variable, 2)}\")\n",
    "    print(f\"La diferencia de las medias de {variable} para la region {binarize} y el resto del mundo es: {round(mean_region_variable - mean_no_region_variable, 2)}\")\n",
    "\n",
    "    t, p = stats.ttest_ind(region_variable_serie, no_region_variable_serie)\n",
    "    print(f\"El valor t es: {t}\")\n",
    "    print(f\"El valor p es: {p}\")\n",
    "    \n",
    "    return None\n",
    "\n"
   ]
  },
  {
   "cell_type": "code",
   "execution_count": 59,
   "metadata": {},
   "outputs": [
    {
     "name": "stdout",
     "output_type": "stream",
     "text": [
      "La media de la region Africa para la variable femlab es: 0.73\n",
      "La media de el resto de regiones para la variable femlab es: 0.68\n",
      "La diferencia de las medias de femlab para la region Africa y el resto del mundo es: 0.05\n",
      "El valor t es: 1.783872878266046\n",
      "El valor p es: 0.0761771840435915\n"
     ]
    }
   ],
   "source": [
    "desafio_3(tmp_2_df, 'femlab', 'Africa')"
   ]
  },
  {
   "cell_type": "code",
   "execution_count": 60,
   "metadata": {},
   "outputs": [
    {
     "name": "stdout",
     "output_type": "stream",
     "text": [
      "La media de la region Africa para la variable literacy es: 65.31\n",
      "La media de el resto de regiones para la variable literacy es: 90.2\n",
      "La diferencia de las medias de literacy para la region Africa y el resto del mundo es: -24.89\n",
      "El valor t es: -8.909991173873896\n",
      "El valor p es: 3.3857112156459963e-15\n"
     ]
    }
   ],
   "source": [
    "desafio_3(tmp_2_df, 'literacy', 'Africa')"
   ]
  },
  {
   "cell_type": "code",
   "execution_count": 61,
   "metadata": {},
   "outputs": [
    {
     "name": "stdout",
     "output_type": "stream",
     "text": [
      "La media de la region Africa para la variable school es: 4.52\n",
      "La media de el resto de regiones para la variable school es: 8.55\n",
      "La diferencia de las medias de school para la region Africa y el resto del mundo es: -4.03\n",
      "El valor t es: -10.415811831777058\n",
      "El valor p es: 2.6352830456717332e-20\n"
     ]
    }
   ],
   "source": [
    "desafio_3(tmp_2_df, 'school', 'Africa')"
   ]
  },
  {
   "cell_type": "markdown",
   "metadata": {},
   "source": [
    "## 4. Implemente una función que grafique los histogramas paraambas muestras."
   ]
  },
  {
   "cell_type": "markdown",
   "metadata": {},
   "source": [
    "* Genere una función que devuelva un gráfico donde visualice las dos histogramas cuando la variable es 1 y 0, respectivamente.\n",
    "    * `tips`: Refactorize la función incluyendo el método hist de `matplotlib.pyplot`. Incluya los argumentos `alpha` y `label`"
   ]
  },
  {
   "cell_type": "markdown",
   "metadata": {},
   "source": [
    "* Para las tres variables de interés acorde a su grupo, analice las diferencias de medias por cada  continente, y  posteriormente grafique. Concluya con  los  principales resultados al respecto."
   ]
  },
  {
   "cell_type": "code",
   "execution_count": 126,
   "metadata": {},
   "outputs": [],
   "source": [
    "def desafio_4(df, variable, binarize):\n",
    "    region_variable_serie = df.query(f\"is_from_{binarize} == 1\")[variable].dropna()\n",
    "    no_region_variable_serie = df.query(f\"is_from_{binarize} == 0\")[variable].dropna()\n",
    "    mean_region_variable = region_variable_serie.mean()\n",
    "    mean_no_region_variable = no_region_variable_serie.mean()\n",
    "\n",
    "    print(f\"La media de la region {binarize} para la variable {variable} es: {round(mean_region_variable, 2)}\")\n",
    "    print(f\"La media de el resto de regiones para la variable {variable} es: {round(mean_no_region_variable, 2)}\")\n",
    "    print(f\"La diferencia de las medias de {variable} para la region {binarize} y el resto del mundo es: {round(mean_region_variable - mean_no_region_variable, 2)}\")\n",
    "\n",
    "    plt.subplot(1, 2, 1)\n",
    "    plt.hist(region_variable_serie, alpha=.6, color='blue', label=f\"{binarize} {variable}\")\n",
    "    plt.axvline(mean_region_variable, lw=3, color='lightblue', linestyle='--', label=f\"Mean group 1 ({round(mean_region_variable, 4)})\")\n",
    "    plt.legend()\n",
    "\n",
    "    plt.subplot(1,2,2)\n",
    "    plt.hist(no_region_variable_serie, alpha=.6, color='green', label=f\"NO {binarize} {variable}\")\n",
    "    plt.axvline(mean_no_region_variable, lw=3, color='lightgreen', linestyle='--', label=f\"Mean group 0 ({round(mean_no_region_variable, 4)})\")\n",
    "    plt.legend()\n",
    "    plt.show()\n",
    "    return None"
   ]
  },
  {
   "cell_type": "code",
   "execution_count": 127,
   "metadata": {},
   "outputs": [
    {
     "data": {
      "text/plain": [
       "array(['Africa', 'Americas', 'Asia', 'Europe', 'Oceania'], dtype=object)"
      ]
     },
     "execution_count": 127,
     "metadata": {},
     "output_type": "execute_result"
    }
   ],
   "source": [
    "regions"
   ]
  },
  {
   "cell_type": "markdown",
   "metadata": {},
   "source": [
    "### Histogramas para Africa:"
   ]
  },
  {
   "cell_type": "code",
   "execution_count": 128,
   "metadata": {},
   "outputs": [
    {
     "name": "stdout",
     "output_type": "stream",
     "text": [
      "La media de la region Africa para la variable femlab es: 0.73\n",
      "La media de el resto de regiones para la variable femlab es: 0.68\n",
      "La diferencia de las medias de femlab para la region Africa y el resto del mundo es: 0.05\n"
     ]
    },
    {
     "data": {
      "image/png": "[encoded data removed]",
      "text/plain": [
       "<Figure size 432x288 with 2 Axes>"
      ]
     },
     "metadata": {
      "needs_background": "light"
     },
     "output_type": "display_data"
    }
   ],
   "source": [
    "desafio_4(tmp_2_df, 'femlab', 'Africa')"
   ]
  },
  {
   "cell_type": "code",
   "execution_count": 129,
   "metadata": {},
   "outputs": [
    {
     "name": "stdout",
     "output_type": "stream",
     "text": [
      "La media de la region Africa para la variable literacy es: 65.31\n",
      "La media de el resto de regiones para la variable literacy es: 90.2\n",
      "La diferencia de las medias de literacy para la region Africa y el resto del mundo es: -24.89\n"
     ]
    },
    {
     "data": {
      "image/png": "[encoded data removed]",
      "text/plain": [
       "<Figure size 432x288 with 2 Axes>"
      ]
     },
     "metadata": {
      "needs_background": "light"
     },
     "output_type": "display_data"
    }
   ],
   "source": [
    "desafio_4(tmp_2_df, 'literacy', 'Africa')"
   ]
  },
  {
   "cell_type": "code",
   "execution_count": 130,
   "metadata": {},
   "outputs": [
    {
     "name": "stdout",
     "output_type": "stream",
     "text": [
      "La media de la region Africa para la variable school es: 4.52\n",
      "La media de el resto de regiones para la variable school es: 8.55\n",
      "La diferencia de las medias de school para la region Africa y el resto del mundo es: -4.03\n"
     ]
    },
    {
     "data": {
      "image/png": "[encoded data removed]",
      "text/plain": [
       "<Figure size 432x288 with 2 Axes>"
      ]
     },
     "metadata": {
      "needs_background": "light"
     },
     "output_type": "display_data"
    }
   ],
   "source": [
    "desafio_4(tmp_2_df, 'school', 'Africa')"
   ]
  },
  {
   "cell_type": "markdown",
   "metadata": {},
   "source": [
    "### Histogramas para Americas:"
   ]
  },
  {
   "cell_type": "code",
   "execution_count": 131,
   "metadata": {},
   "outputs": [
    {
     "name": "stdout",
     "output_type": "stream",
     "text": [
      "La media de la region Americas para la variable femlab es: 0.65\n",
      "La media de el resto de regiones para la variable femlab es: 0.7\n",
      "La diferencia de las medias de femlab para la region Americas y el resto del mundo es: -0.05\n"
     ]
    },
    {
     "data": {
      "image/png": "[encoded data removed]",
      "text/plain": [
       "<Figure size 432x288 with 2 Axes>"
      ]
     },
     "metadata": {
      "needs_background": "light"
     },
     "output_type": "display_data"
    }
   ],
   "source": [
    "desafio_4(tmp_2_df, 'femlab', 'Americas')"
   ]
  },
  {
   "cell_type": "code",
   "execution_count": 132,
   "metadata": {},
   "outputs": [
    {
     "name": "stdout",
     "output_type": "stream",
     "text": [
      "La media de la region Americas para la variable literacy es: 89.3\n",
      "La media de el resto de regiones para la variable literacy es: 80.18\n",
      "La diferencia de las medias de literacy para la region Americas y el resto del mundo es: 9.12\n"
     ]
    },
    {
     "data": {
      "image/png": "[encoded data removed]",
      "text/plain": [
       "<Figure size 432x288 with 2 Axes>"
      ]
     },
     "metadata": {
      "needs_background": "light"
     },
     "output_type": "display_data"
    }
   ],
   "source": [
    "desafio_4(tmp_2_df, 'literacy', 'Americas')"
   ]
  },
  {
   "cell_type": "code",
   "execution_count": 133,
   "metadata": {},
   "outputs": [
    {
     "name": "stdout",
     "output_type": "stream",
     "text": [
      "La media de la region Americas para la variable school es: 8.07\n",
      "La media de el resto de regiones para la variable school es: 7.32\n",
      "La diferencia de las medias de school para la region Americas y el resto del mundo es: 0.75\n"
     ]
    },
    {
     "data": {
      "image/png": "[encoded data removed]",
      "text/plain": [
       "<Figure size 432x288 with 2 Axes>"
      ]
     },
     "metadata": {
      "needs_background": "light"
     },
     "output_type": "display_data"
    }
   ],
   "source": [
    "desafio_4(tmp_2_df, 'school', 'Americas')"
   ]
  },
  {
   "cell_type": "markdown",
   "metadata": {},
   "source": [
    "### Histogramas para Asia:"
   ]
  },
  {
   "cell_type": "code",
   "execution_count": 134,
   "metadata": {},
   "outputs": [
    {
     "name": "stdout",
     "output_type": "stream",
     "text": [
      "La media de la region Asia para la variable femlab es: 0.61\n",
      "La media de el resto de regiones para la variable femlab es: 0.72\n",
      "La diferencia de las medias de femlab para la region Asia y el resto del mundo es: -0.11\n"
     ]
    },
    {
     "data": {
      "image/png": "[encoded data removed]",
      "text/plain": [
       "<Figure size 432x288 with 2 Axes>"
      ]
     },
     "metadata": {
      "needs_background": "light"
     },
     "output_type": "display_data"
    }
   ],
   "source": [
    "desafio_4(tmp_2_df, 'femlab', 'Asia')"
   ]
  },
  {
   "cell_type": "code",
   "execution_count": 135,
   "metadata": {},
   "outputs": [
    {
     "name": "stdout",
     "output_type": "stream",
     "text": [
      "La media de la region Asia para la variable literacy es: 87.36\n",
      "La media de el resto de regiones para la variable literacy es: 78.99\n",
      "La diferencia de las medias de literacy para la region Asia y el resto del mundo es: 8.36\n"
     ]
    },
    {
     "data": {
      "image/png": "[encoded data removed]",
      "text/plain": [
       "<Figure size 432x288 with 2 Axes>"
      ]
     },
     "metadata": {
      "needs_background": "light"
     },
     "output_type": "display_data"
    }
   ],
   "source": [
    "desafio_4(tmp_2_df, 'literacy', 'Asia')"
   ]
  },
  {
   "cell_type": "code",
   "execution_count": 136,
   "metadata": {},
   "outputs": [
    {
     "name": "stdout",
     "output_type": "stream",
     "text": [
      "La media de la region Asia para la variable school es: 7.26\n",
      "La media de el resto de regiones para la variable school es: 7.53\n",
      "La diferencia de las medias de school para la region Asia y el resto del mundo es: -0.27\n"
     ]
    },
    {
     "data": {
      "image/png": "[encoded data removed]",
      "text/plain": [
       "<Figure size 432x288 with 2 Axes>"
      ]
     },
     "metadata": {
      "needs_background": "light"
     },
     "output_type": "display_data"
    }
   ],
   "source": [
    "desafio_4(tmp_2_df, 'school', 'Asia')"
   ]
  },
  {
   "cell_type": "markdown",
   "metadata": {},
   "source": [
    "### Histogramas para Europe:"
   ]
  },
  {
   "cell_type": "code",
   "execution_count": 137,
   "metadata": {},
   "outputs": [
    {
     "name": "stdout",
     "output_type": "stream",
     "text": [
      "La media de la region Europe para la variable femlab es: 0.77\n",
      "La media de el resto de regiones para la variable femlab es: 0.67\n",
      "La diferencia de las medias de femlab para la region Europe y el resto del mundo es: 0.1\n"
     ]
    },
    {
     "data": {
      "image/png": "[encoded data removed]",
      "text/plain": [
       "<Figure size 432x288 with 2 Axes>"
      ]
     },
     "metadata": {
      "needs_background": "light"
     },
     "output_type": "display_data"
    }
   ],
   "source": [
    "desafio_4(tmp_2_df, 'femlab', 'Europe')"
   ]
  },
  {
   "cell_type": "code",
   "execution_count": 138,
   "metadata": {},
   "outputs": [
    {
     "name": "stdout",
     "output_type": "stream",
     "text": [
      "La media de la region Europe para la variable literacy es: 98.18\n",
      "La media de el resto de regiones para la variable literacy es: 78.29\n",
      "La diferencia de las medias de literacy para la region Europe y el resto del mundo es: 19.88\n"
     ]
    },
    {
     "data": {
      "image/png": "[encoded data removed]",
      "text/plain": [
       "<Figure size 432x288 with 2 Axes>"
      ]
     },
     "metadata": {
      "needs_background": "light"
     },
     "output_type": "display_data"
    }
   ],
   "source": [
    "desafio_4(tmp_2_df, 'literacy', 'Europe')"
   ]
  },
  {
   "cell_type": "code",
   "execution_count": 139,
   "metadata": {},
   "outputs": [
    {
     "name": "stdout",
     "output_type": "stream",
     "text": [
      "La media de la region Europe para la variable school es: 10.42\n",
      "La media de el resto de regiones para la variable school es: 6.63\n",
      "La diferencia de las medias de school para la region Europe y el resto del mundo es: 3.79\n"
     ]
    },
    {
     "data": {
      "image/png": "[encoded data removed]",
      "text/plain": [
       "<Figure size 432x288 with 2 Axes>"
      ]
     },
     "metadata": {
      "needs_background": "light"
     },
     "output_type": "display_data"
    }
   ],
   "source": [
    "desafio_4(tmp_2_df, 'school', 'Europe')"
   ]
  },
  {
   "cell_type": "markdown",
   "metadata": {},
   "source": [
    "### Histogramas para Oceania:"
   ]
  },
  {
   "cell_type": "code",
   "execution_count": 140,
   "metadata": {},
   "outputs": [
    {
     "name": "stdout",
     "output_type": "stream",
     "text": [
      "La media de la region Oceania para la variable femlab es: 0.72\n",
      "La media de el resto de regiones para la variable femlab es: 0.69\n",
      "La diferencia de las medias de femlab para la region Oceania y el resto del mundo es: 0.03\n"
     ]
    },
    {
     "data": {
      "image/png": "[encoded data removed]",
      "text/plain": [
       "<Figure size 432x288 with 2 Axes>"
      ]
     },
     "metadata": {
      "needs_background": "light"
     },
     "output_type": "display_data"
    }
   ],
   "source": [
    "desafio_4(tmp_2_df, 'femlab', 'Oceania')"
   ]
  },
  {
   "cell_type": "code",
   "execution_count": 141,
   "metadata": {},
   "outputs": [
    {
     "name": "stdout",
     "output_type": "stream",
     "text": [
      "La media de la region Oceania para la variable literacy es: 81.98\n",
      "La media de el resto de regiones para la variable literacy es: 81.52\n",
      "La diferencia de las medias de literacy para la region Oceania y el resto del mundo es: 0.46\n"
     ]
    },
    {
     "data": {
      "image/png": "[encoded data removed]",
      "text/plain": [
       "<Figure size 432x288 with 2 Axes>"
      ]
     },
     "metadata": {
      "needs_background": "light"
     },
     "output_type": "display_data"
    }
   ],
   "source": [
    "desafio_4(tmp_2_df, 'literacy', 'Oceania')"
   ]
  },
  {
   "cell_type": "code",
   "execution_count": 142,
   "metadata": {},
   "outputs": [
    {
     "name": "stdout",
     "output_type": "stream",
     "text": [
      "La media de la region Oceania para la variable school es: 8.72\n",
      "La media de el resto de regiones para la variable school es: 7.37\n",
      "La diferencia de las medias de school para la region Oceania y el resto del mundo es: 1.35\n"
     ]
    },
    {
     "data": {
      "image/png": "[encoded data removed]",
      "text/plain": [
       "<Figure size 432x288 with 2 Axes>"
      ]
     },
     "metadata": {
      "needs_background": "light"
     },
     "output_type": "display_data"
    }
   ],
   "source": [
    "desafio_4(tmp_2_df, 'school', 'Oceania')"
   ]
  },
  {
   "cell_type": "markdown",
   "metadata": {},
   "source": [
    "* Concluya con los principales resultados al respecto."
   ]
  },
  {
   "cell_type": "markdown",
   "metadata": {},
   "source": [
    "* `femlab`: La media de los continentes `Africa`, `Europe`, y `Oceania` es superior a la media del resto del mundo."
   ]
  },
  {
   "cell_type": "markdown",
   "metadata": {},
   "source": [
    "* `literact`: La media de `Africa` es inferior a la media del resto del mundo. Para el resto de continentes es superior."
   ]
  },
  {
   "cell_type": "markdown",
   "metadata": {},
   "source": [
    "* `school`: Para las regiones `Africa` y `Americas` su media es inferior con respecto a la media del mundo.  El resto de contiente presenta media superior."
   ]
  },
  {
   "cell_type": "code",
   "execution_count": null,
   "metadata": {},
   "outputs": [],
   "source": []
  }
 ],
 "metadata": {
  "kernelspec": {
   "display_name": "Python 3",
   "language": "python",
   "name": "python3"
  },
  "language_info": {
   "codemirror_mode": {
    "name": "ipython",
    "version": 3
   },
   "file_extension": ".py",
   "mimetype": "text/x-python",
   "name": "python",
   "nbconvert_exporter": "python",
   "pygments_lexer": "ipython3",
   "version": "3.7.3"
  }
 },
 "nbformat": 4,
 "nbformat_minor": 2
}
