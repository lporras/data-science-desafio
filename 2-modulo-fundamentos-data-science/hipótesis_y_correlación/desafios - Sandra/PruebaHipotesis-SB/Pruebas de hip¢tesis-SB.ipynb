{
 "cells": [
  {
   "cell_type": "markdown",
   "metadata": {},
   "source": [
    "<center>Desafío - Pruebas de hipótesis\n",
    "<center> Sandra Borotto"
   ]
  },
  {
   "cell_type": "markdown",
   "metadata": {},
   "source": [
    "Desafío 1"
   ]
  },
  {
   "cell_type": "markdown",
   "metadata": {},
   "source": [
    "A continuación se presenta una serie de enunciados de hipótesis. Usted debe discernir si es posible\n",
    "rechazar la hipótesis nula.\n",
    "75 individuos elegidos al azar fueron alcanzados por activistas pro-LGTB que se identificaron\n",
    "como homosexuales, y 75 alcanzados por activistas pro-LGTB que se identificaron como\n",
    "heterosexuales. El objetivo era medir actitudes frente a la adopción homoparentales. La\n",
    "organización encargada de procesar los datos obtuvo los siguientes resultados:\n",
    "El 67% de los encuestados por heterosexuales se mostró a favor de la adopción\n",
    "homoparental, mientras que un 72% de los encuestados por activistas que se identifaron\n",
    "como homosexuales se mostraron a favor de la adopción homoparental.\n",
    "Asumiendo que la hipótesis nula es que ambos porcentajes no son diferentes, y la\n",
    "hipótesis alternativa es que existe una diferencia substancial entre ambos.\n",
    "Con un valor de prueba P=11.83 y un puntaje de corte de 2.58, ¿qué se debe concluir?\n",
    "\n",
    "#Se puede concluir que  no podemos recharzar la hipotesis nula, por lo tanto, se concluyé con un 99% de significacia que a favor de la adopción homoparental ambos porcentajes no son diferentes (heteroesexual y Homosexual).\n",
    "\n",
    "\n",
    "Un investigador de la Sociedad de Abstemios de Chile sugiere que los hombres tienen\n",
    "mayores niveles de consumo de alcohol que las mujeres, siendo esta diferencia\n",
    "estadísticamente significativa. Esto en base a su estudio realizado con 48 individuos, donde\n",
    "contrastó su puntaje de prueba a una distribución asintóticamente normal. ¿Qué se puede\n",
    "decir sobre su estudio?\n",
    "\n",
    "#Como son más de 30 en la muestra puedo utilizar la distribución normal y contrastar con el estadistico zscore.\n",
    "\n"
   ]
  },
  {
   "cell_type": "markdown",
   "metadata": {},
   "source": [
    "Desafío 2"
   ]
  },
  {
   "cell_type": "code",
   "execution_count": 8,
   "metadata": {},
   "outputs": [
    {
     "data": {
      "text/html": [
       "<div>\n",
       "<style scoped>\n",
       "    .dataframe tbody tr th:only-of-type {\n",
       "        vertical-align: middle;\n",
       "    }\n",
       "\n",
       "    .dataframe tbody tr th {\n",
       "        vertical-align: top;\n",
       "    }\n",
       "\n",
       "    .dataframe thead th {\n",
       "        text-align: right;\n",
       "    }\n",
       "</style>\n",
       "<table border=\"1\" class=\"dataframe\">\n",
       "  <thead>\n",
       "    <tr style=\"text-align: right;\">\n",
       "      <th></th>\n",
       "      <th>Unnamed: 0</th>\n",
       "      <th>country</th>\n",
       "      <th>region</th>\n",
       "      <th>gdp</th>\n",
       "      <th>school</th>\n",
       "      <th>adfert</th>\n",
       "      <th>chldmort</th>\n",
       "      <th>life</th>\n",
       "      <th>pop</th>\n",
       "      <th>urban</th>\n",
       "      <th>femlab</th>\n",
       "      <th>literacy</th>\n",
       "      <th>co2</th>\n",
       "      <th>gini</th>\n",
       "    </tr>\n",
       "  </thead>\n",
       "  <tbody>\n",
       "    <tr>\n",
       "      <th>0</th>\n",
       "      <td>1</td>\n",
       "      <td>Algeria</td>\n",
       "      <td>Africa</td>\n",
       "      <td>7300.399902</td>\n",
       "      <td>6.716667</td>\n",
       "      <td>7.300000</td>\n",
       "      <td>34.75</td>\n",
       "      <td>72.316666</td>\n",
       "      <td>34172236</td>\n",
       "      <td>64.933334</td>\n",
       "      <td>0.4522</td>\n",
       "      <td>72.599998</td>\n",
       "      <td>15.00</td>\n",
       "      <td>NaN</td>\n",
       "    </tr>\n",
       "    <tr>\n",
       "      <th>1</th>\n",
       "      <td>2</td>\n",
       "      <td>Benin</td>\n",
       "      <td>Africa</td>\n",
       "      <td>1338.800049</td>\n",
       "      <td>3.100000</td>\n",
       "      <td>111.699997</td>\n",
       "      <td>122.75</td>\n",
       "      <td>54.733334</td>\n",
       "      <td>8237634</td>\n",
       "      <td>41.000000</td>\n",
       "      <td>0.8482</td>\n",
       "      <td>41.700001</td>\n",
       "      <td>1.20</td>\n",
       "      <td>NaN</td>\n",
       "    </tr>\n",
       "    <tr>\n",
       "      <th>2</th>\n",
       "      <td>3</td>\n",
       "      <td>Botswana</td>\n",
       "      <td>Africa</td>\n",
       "      <td>12307.400391</td>\n",
       "      <td>8.600000</td>\n",
       "      <td>52.099998</td>\n",
       "      <td>60.25</td>\n",
       "      <td>52.250000</td>\n",
       "      <td>1941233</td>\n",
       "      <td>59.250000</td>\n",
       "      <td>0.8870</td>\n",
       "      <td>84.099998</td>\n",
       "      <td>9.20</td>\n",
       "      <td>NaN</td>\n",
       "    </tr>\n",
       "    <tr>\n",
       "      <th>3</th>\n",
       "      <td>4</td>\n",
       "      <td>Burkina Faso</td>\n",
       "      <td>Africa</td>\n",
       "      <td>1063.400024</td>\n",
       "      <td>1.300000</td>\n",
       "      <td>124.800003</td>\n",
       "      <td>170.50</td>\n",
       "      <td>53.783333</td>\n",
       "      <td>15308383</td>\n",
       "      <td>23.583334</td>\n",
       "      <td>0.8584</td>\n",
       "      <td>23.600000</td>\n",
       "      <td>0.20</td>\n",
       "      <td>NaN</td>\n",
       "    </tr>\n",
       "    <tr>\n",
       "      <th>4</th>\n",
       "      <td>5</td>\n",
       "      <td>Burundi</td>\n",
       "      <td>Africa</td>\n",
       "      <td>349.200012</td>\n",
       "      <td>2.483333</td>\n",
       "      <td>18.600000</td>\n",
       "      <td>168.50</td>\n",
       "      <td>48.866665</td>\n",
       "      <td>7821783</td>\n",
       "      <td>10.250000</td>\n",
       "      <td>1.0344</td>\n",
       "      <td>66.599998</td>\n",
       "      <td>0.10</td>\n",
       "      <td>33.299999</td>\n",
       "    </tr>\n",
       "    <tr>\n",
       "      <th>5</th>\n",
       "      <td>6</td>\n",
       "      <td>Cameroon</td>\n",
       "      <td>Africa</td>\n",
       "      <td>1986.800049</td>\n",
       "      <td>5.650000</td>\n",
       "      <td>127.800003</td>\n",
       "      <td>155.00</td>\n",
       "      <td>50.116665</td>\n",
       "      <td>18564118</td>\n",
       "      <td>56.366665</td>\n",
       "      <td>0.6532</td>\n",
       "      <td>NaN</td>\n",
       "      <td>0.75</td>\n",
       "      <td>NaN</td>\n",
       "    </tr>\n",
       "    <tr>\n",
       "      <th>6</th>\n",
       "      <td>7</td>\n",
       "      <td>Cape Verde</td>\n",
       "      <td>Africa</td>\n",
       "      <td>3052.199951</td>\n",
       "      <td>3.500000</td>\n",
       "      <td>81.599998</td>\n",
       "      <td>30.00</td>\n",
       "      <td>73.333336</td>\n",
       "      <td>484867</td>\n",
       "      <td>59.283333</td>\n",
       "      <td>0.6358</td>\n",
       "      <td>84.800003</td>\n",
       "      <td>2.15</td>\n",
       "      <td>NaN</td>\n",
       "    </tr>\n",
       "    <tr>\n",
       "      <th>7</th>\n",
       "      <td>8</td>\n",
       "      <td>Central African Rep</td>\n",
       "      <td>Africa</td>\n",
       "      <td>677.000000</td>\n",
       "      <td>3.383333</td>\n",
       "      <td>106.599998</td>\n",
       "      <td>173.50</td>\n",
       "      <td>45.933334</td>\n",
       "      <td>4203917</td>\n",
       "      <td>38.466667</td>\n",
       "      <td>0.8222</td>\n",
       "      <td>55.200001</td>\n",
       "      <td>0.20</td>\n",
       "      <td>NaN</td>\n",
       "    </tr>\n",
       "    <tr>\n",
       "      <th>8</th>\n",
       "      <td>9</td>\n",
       "      <td>Chad</td>\n",
       "      <td>Africa</td>\n",
       "      <td>1266.199951</td>\n",
       "      <td>1.500000</td>\n",
       "      <td>164.500000</td>\n",
       "      <td>209.00</td>\n",
       "      <td>48.566666</td>\n",
       "      <td>10509983</td>\n",
       "      <td>26.400000</td>\n",
       "      <td>0.8006</td>\n",
       "      <td>33.599998</td>\n",
       "      <td>0.10</td>\n",
       "      <td>NaN</td>\n",
       "    </tr>\n",
       "    <tr>\n",
       "      <th>9</th>\n",
       "      <td>10</td>\n",
       "      <td>Comoros</td>\n",
       "      <td>Africa</td>\n",
       "      <td>1099.000000</td>\n",
       "      <td>2.800000</td>\n",
       "      <td>58.000000</td>\n",
       "      <td>105.75</td>\n",
       "      <td>59.783333</td>\n",
       "      <td>688300</td>\n",
       "      <td>28.000000</td>\n",
       "      <td>0.8554</td>\n",
       "      <td>74.199997</td>\n",
       "      <td>0.40</td>\n",
       "      <td>NaN</td>\n",
       "    </tr>\n",
       "  </tbody>\n",
       "</table>\n",
       "</div>"
      ],
      "text/plain": [
       "   Unnamed: 0              country  region           gdp    school  \\\n",
       "0           1              Algeria  Africa   7300.399902  6.716667   \n",
       "1           2                Benin  Africa   1338.800049  3.100000   \n",
       "2           3             Botswana  Africa  12307.400391  8.600000   \n",
       "3           4         Burkina Faso  Africa   1063.400024  1.300000   \n",
       "4           5              Burundi  Africa    349.200012  2.483333   \n",
       "5           6             Cameroon  Africa   1986.800049  5.650000   \n",
       "6           7           Cape Verde  Africa   3052.199951  3.500000   \n",
       "7           8  Central African Rep  Africa    677.000000  3.383333   \n",
       "8           9                 Chad  Africa   1266.199951  1.500000   \n",
       "9          10              Comoros  Africa   1099.000000  2.800000   \n",
       "\n",
       "       adfert  chldmort       life       pop      urban  femlab   literacy  \\\n",
       "0    7.300000     34.75  72.316666  34172236  64.933334  0.4522  72.599998   \n",
       "1  111.699997    122.75  54.733334   8237634  41.000000  0.8482  41.700001   \n",
       "2   52.099998     60.25  52.250000   1941233  59.250000  0.8870  84.099998   \n",
       "3  124.800003    170.50  53.783333  15308383  23.583334  0.8584  23.600000   \n",
       "4   18.600000    168.50  48.866665   7821783  10.250000  1.0344  66.599998   \n",
       "5  127.800003    155.00  50.116665  18564118  56.366665  0.6532        NaN   \n",
       "6   81.599998     30.00  73.333336    484867  59.283333  0.6358  84.800003   \n",
       "7  106.599998    173.50  45.933334   4203917  38.466667  0.8222  55.200001   \n",
       "8  164.500000    209.00  48.566666  10509983  26.400000  0.8006  33.599998   \n",
       "9   58.000000    105.75  59.783333    688300  28.000000  0.8554  74.199997   \n",
       "\n",
       "     co2       gini  \n",
       "0  15.00        NaN  \n",
       "1   1.20        NaN  \n",
       "2   9.20        NaN  \n",
       "3   0.20        NaN  \n",
       "4   0.10  33.299999  \n",
       "5   0.75        NaN  \n",
       "6   2.15        NaN  \n",
       "7   0.20        NaN  \n",
       "8   0.10        NaN  \n",
       "9   0.40        NaN  "
      ]
     },
     "execution_count": 8,
     "metadata": {},
     "output_type": "execute_result"
    }
   ],
   "source": [
    "\n",
    "import pandas as pd\n",
    "import numpy as np\n",
    "import scipy.stats as stats\n",
    "import matplotlib.pyplot as plt\n",
    "import seaborn as sns\n",
    "\n",
    "\n",
    "df=pd.read_csv('nations.csv', encoding = \"ISO-8859-1\")\n",
    "df.head(10)"
   ]
  },
  {
   "cell_type": "markdown",
   "metadata": {},
   "source": [
    "Desafío 2 y 3"
   ]
  },
  {
   "cell_type": "code",
   "execution_count": 98,
   "metadata": {},
   "outputs": [
    {
     "name": "stdout",
     "output_type": "stream",
     "text": [
      "Africa\n",
      "Ttest_indResult(statistic=-5.414966735645949, pvalue=1.9760893495724396e-07)\n",
      "Media Region Africa es 3699.900047607422\n",
      "Media NO Region Africa es 15381.855141336604\n",
      "Diferencia medias es-11681.955093729182\n",
      "Estadistico y p value Ttest_indResult(statistic=-5.414966735645949, pvalue=1.9760893495724396e-07)\n",
      "\n",
      "Americas\n",
      "Ttest_indResult(statistic=-0.6763126232164977, pvalue=0.49972496437556313)\n",
      "Media Region Americas es 10634.03789358428\n",
      "Media NO Region Americas es 12454.322363866519\n",
      "Diferencia medias es-1820.2844702822385\n",
      "Estadistico y p value Ttest_indResult(statistic=-0.6763126232164977, pvalue=0.49972496437556313)\n",
      "\n",
      "Asia\n",
      "Ttest_indResult(statistic=0.8787324917774894, pvalue=0.38073767828651894)\n",
      "Media Region Asia es 13676.823289954144\n",
      "Media NO Region Asia es 11579.85296447295\n",
      "Diferencia medias es2096.970325481194\n",
      "Estadistico y p value Ttest_indResult(statistic=0.8787324917774894, pvalue=0.38073767828651894)\n",
      "\n",
      "Europe\n",
      "Ttest_indResult(statistic=6.348595870306428, pvalue=1.770694793534393e-09)\n",
      "Media Region Europe es 23463.466471354168\n",
      "Media NO Region Europe es 8958.422308785575\n",
      "Diferencia medias es14505.044162568593\n",
      "Estadistico y p value Ttest_indResult(statistic=6.348595870306428, pvalue=1.770694793534393e-09)\n",
      "\n",
      "Oceania\n",
      "Ttest_indResult(statistic=-0.9861053995680915, pvalue=0.32542744838729976)\n",
      "Media Region Oceania es 8102.454456676136\n",
      "Media NO Region Oceania es 12381.710217793783\n",
      "Diferencia medias es-4279.255761117647\n",
      "Estadistico y p value Ttest_indResult(statistic=-0.9861053995680915, pvalue=0.32542744838729976)\n",
      "\n"
     ]
    }
   ],
   "source": [
    "\n",
    "listaregion=['Africa','Americas','Asia','Europe','Oceania']\n",
    "\n",
    "def funcion_v(df,variable,columna,binarize):\n",
    "    if binarize:\n",
    "        df['binarize']=np.where(df['region']==columna,True,False)    \n",
    "        df_v=df[(df['binarize']==True)]\n",
    "        df_f=df[(df['binarize']==False)]\n",
    "        a=stats.ttest_ind(df_v[variable].dropna(),df_f[variable].dropna())\n",
    "        print(a)\n",
    "        media_v=df_v[variable].mean()\n",
    "        media_f=df_f[variable].mean()\n",
    "        print(\"Media Region {} es {}\\nMedia NO Region {} es {}\".format(columna,media_v,columna,media_f))\n",
    "        diff=df_v[variable].mean()-df_f[variable].mean()\n",
    "        print(\"Diferencia medias es{}\".format(diff))\n",
    "        print(\"Estadistico y p value {}\\n\".format(a))\n",
    "        \n",
    "\n",
    "for i ,j  in enumerate (listaregion): \n",
    "    print(j)\n",
    "    funcion_v(df,'gdp',j,True)"
   ]
  },
  {
   "cell_type": "markdown",
   "metadata": {},
   "source": [
    "Desafío 4\n"
   ]
  },
  {
   "cell_type": "code",
   "execution_count": 84,
   "metadata": {},
   "outputs": [
    {
     "data": {
      "image/png": "[encoded data removed]",
      "text/plain": [
       "<Figure size 432x288 with 2 Axes>"
      ]
     },
     "metadata": {
      "needs_background": "light"
     },
     "output_type": "display_data"
    }
   ],
   "source": [
    "listaregion=['Africa','Americas','Asia','Europe','Oceania']\n",
    "listavariable=['chldmort','adfert','life']\n",
    "\n",
    "def funcion_v2(df,variable,columna,binarize):\n",
    "    if binarize:\n",
    "        df['binarize']=np.where(df['region']==columna,True,False)    \n",
    "        df_v=df[(df['binarize']==True)]\n",
    "        df_f=df[(df['binarize']==False)]\n",
    "        plt.subplot(1, 2, 1)\n",
    "        plt.hist(df_v[variable].dropna(), alpha=.6, color='green')\n",
    "        plt.title(columna + \" \"+variable)   \n",
    "        plt.subplot(1,2,2)\n",
    "        plt.hist(df_f[variable].dropna(), alpha=.6, color='green')\n",
    "        plt.title(\"NO {} {}\".format(columna, variable) )\n",
    "       \n",
    "      \n",
    "funcion_v2(df,'chldmort','Africa',True)\n",
    "        "
   ]
  },
  {
   "cell_type": "code",
   "execution_count": 85,
   "metadata": {},
   "outputs": [
    {
     "data": {
      "image/png": "[encoded data removed]",
      "text/plain": [
       "<Figure size 432x288 with 2 Axes>"
      ]
     },
     "metadata": {
      "needs_background": "light"
     },
     "output_type": "display_data"
    }
   ],
   "source": [
    "funcion_v2(df,'adfert','Africa',True)"
   ]
  },
  {
   "cell_type": "code",
   "execution_count": 86,
   "metadata": {},
   "outputs": [
    {
     "data": {
      "image/png": "[encoded data removed]",
      "text/plain": [
       "<Figure size 432x288 with 2 Axes>"
      ]
     },
     "metadata": {
      "needs_background": "light"
     },
     "output_type": "display_data"
    }
   ],
   "source": [
    "funcion_v2(df,'life','Africa',True)"
   ]
  },
  {
   "cell_type": "code",
   "execution_count": 87,
   "metadata": {},
   "outputs": [
    {
     "data": {
      "image/png": "[encoded data removed]",
      "text/plain": [
       "<Figure size 432x288 with 2 Axes>"
      ]
     },
     "metadata": {
      "needs_background": "light"
     },
     "output_type": "display_data"
    }
   ],
   "source": [
    "funcion_v2(df,'chldmort','Americas',True)\n",
    "        "
   ]
  },
  {
   "cell_type": "code",
   "execution_count": 67,
   "metadata": {},
   "outputs": [
    {
     "data": {
      "image/png": "[encoded data removed]",
      "text/plain": [
       "<Figure size 432x288 with 2 Axes>"
      ]
     },
     "metadata": {
      "needs_background": "light"
     },
     "output_type": "display_data"
    }
   ],
   "source": [
    "funcion_v2(df,'adfert','Americas',True)"
   ]
  },
  {
   "cell_type": "code",
   "execution_count": 88,
   "metadata": {},
   "outputs": [
    {
     "data": {
      "image/png": "[encoded data removed]",
      "text/plain": [
       "<Figure size 432x288 with 2 Axes>"
      ]
     },
     "metadata": {
      "needs_background": "light"
     },
     "output_type": "display_data"
    }
   ],
   "source": [
    "funcion_v2(df,'life','Americas',True)"
   ]
  },
  {
   "cell_type": "code",
   "execution_count": 89,
   "metadata": {},
   "outputs": [
    {
     "data": {
      "image/png": "[encoded data removed]",
      "text/plain": [
       "<Figure size 432x288 with 2 Axes>"
      ]
     },
     "metadata": {
      "needs_background": "light"
     },
     "output_type": "display_data"
    }
   ],
   "source": [
    "funcion_v2(df,'chldmort','Asia',True)     "
   ]
  },
  {
   "cell_type": "code",
   "execution_count": 90,
   "metadata": {},
   "outputs": [
    {
     "data": {
      "image/png": "[encoded data removed]",
      "text/plain": [
       "<Figure size 432x288 with 2 Axes>"
      ]
     },
     "metadata": {
      "needs_background": "light"
     },
     "output_type": "display_data"
    }
   ],
   "source": [
    "funcion_v2(df,'adfert','Asia',True)"
   ]
  },
  {
   "cell_type": "code",
   "execution_count": 91,
   "metadata": {},
   "outputs": [
    {
     "data": {
      "image/png": "[encoded data removed]",
      "text/plain": [
       "<Figure size 432x288 with 2 Axes>"
      ]
     },
     "metadata": {
      "needs_background": "light"
     },
     "output_type": "display_data"
    }
   ],
   "source": [
    "funcion_v2(df,'life','Asia',True)"
   ]
  },
  {
   "cell_type": "code",
   "execution_count": 72,
   "metadata": {},
   "outputs": [
    {
     "data": {
      "image/png": "[encoded data removed]",
      "text/plain": [
       "<Figure size 432x288 with 2 Axes>"
      ]
     },
     "metadata": {
      "needs_background": "light"
     },
     "output_type": "display_data"
    }
   ],
   "source": [
    "      \n",
    "funcion_v2(df,'chldmort','Europe',True)"
   ]
  },
  {
   "cell_type": "code",
   "execution_count": 92,
   "metadata": {},
   "outputs": [
    {
     "data": {
      "image/png": "[encoded data removed]",
      "text/plain": [
       "<Figure size 432x288 with 2 Axes>"
      ]
     },
     "metadata": {
      "needs_background": "light"
     },
     "output_type": "display_data"
    }
   ],
   "source": [
    "funcion_v2(df,'adfert','Europe',True)"
   ]
  },
  {
   "cell_type": "code",
   "execution_count": 93,
   "metadata": {},
   "outputs": [
    {
     "data": {
      "image/png": "[encoded data removed]",
      "text/plain": [
       "<Figure size 432x288 with 2 Axes>"
      ]
     },
     "metadata": {
      "needs_background": "light"
     },
     "output_type": "display_data"
    }
   ],
   "source": [
    "funcion_v2(df,'life','Europe',True)"
   ]
  },
  {
   "cell_type": "code",
   "execution_count": 94,
   "metadata": {},
   "outputs": [
    {
     "data": {
      "image/png": "[encoded data removed]",
      "text/plain": [
       "<Figure size 432x288 with 2 Axes>"
      ]
     },
     "metadata": {
      "needs_background": "light"
     },
     "output_type": "display_data"
    }
   ],
   "source": [
    "funcion_v2(df,'chldmort','Oceania',True)"
   ]
  },
  {
   "cell_type": "code",
   "execution_count": 95,
   "metadata": {},
   "outputs": [
    {
     "data": {
      "image/png": "[encoded data removed]",
      "text/plain": [
       "<Figure size 432x288 with 2 Axes>"
      ]
     },
     "metadata": {
      "needs_background": "light"
     },
     "output_type": "display_data"
    }
   ],
   "source": [
    "funcion_v2(df,'adfert','Oceania',True)"
   ]
  },
  {
   "cell_type": "code",
   "execution_count": 96,
   "metadata": {},
   "outputs": [
    {
     "data": {
      "image/png": "[encoded data removed]",
      "text/plain": [
       "<Figure size 432x288 with 2 Axes>"
      ]
     },
     "metadata": {
      "needs_background": "light"
     },
     "output_type": "display_data"
    }
   ],
   "source": [
    "funcion_v2(df,'life','Oceania',True)"
   ]
  },
  {
   "cell_type": "code",
   "execution_count": 97,
   "metadata": {},
   "outputs": [
    {
     "name": "stdout",
     "output_type": "stream",
     "text": [
      "Para la variable chldmort la Probabilidad de muerte antes de los 5 años por cada 1000 Africa tiene mayor frecuencia en los valores más altos.\n",
      "Para la variable adfert la Fertilidad adolescente Africa tiene mayor frecuencia en los valores más altos.\n",
      "Para la variable life Esperanza de vida al nacer Europa tiene mayor frecuencia en los valores más altos.\n"
     ]
    }
   ],
   "source": [
    "print(\"Para la variable chldmort la Probabilidad de muerte antes de los 5 años por cada 1000 Africa tiene mayor frecuencia en los valores más altos.\\nPara la variable adfert la Fertilidad adolescente Africa tiene mayor frecuencia en los valores más altos.\\nPara la variable life Esperanza de vida al nacer Europa tiene mayor frecuencia en los valores más altos.\")"
   ]
  },
  {
   "cell_type": "code",
   "execution_count": null,
   "metadata": {},
   "outputs": [],
   "source": []
  }
 ],
 "metadata": {
  "kernelspec": {
   "display_name": "Python 3",
   "language": "python",
   "name": "python3"
  },
  "language_info": {
   "codemirror_mode": {
    "name": "ipython",
    "version": 3
   },
   "file_extension": ".py",
   "mimetype": "text/x-python",
   "name": "python",
   "nbconvert_exporter": "python",
   "pygments_lexer": "ipython3",
   "version": "3.7.3"
  }
 },
 "nbformat": 4,
 "nbformat_minor": 2
}
